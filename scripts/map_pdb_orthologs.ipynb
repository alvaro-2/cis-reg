{
 "cells": [
  {
   "cell_type": "code",
   "execution_count": 1,
   "metadata": {},
   "outputs": [],
   "source": [
    "# this script is for mapping PDBs structures to MSAs of orthologs kinases proteins"
   ]
  },
  {
   "cell_type": "code",
   "execution_count": 2,
   "metadata": {},
   "outputs": [],
   "source": [
    "import pandas as pd\n",
    "import pyranges as pr"
   ]
  },
  {
   "cell_type": "code",
   "execution_count": 3,
   "metadata": {},
   "outputs": [],
   "source": [
    "# Load data\n",
    "# Sift dataset\n",
    "sift = pd.read_csv('../datasets/uniprot_segments_observed.tsv.gz', sep= '\\t', compression= 'gzip', skiprows= 1)\n",
    "sift.columns = sift.columns.str.lower()\n",
    "# Drop individual observed residues\n",
    "sift = sift[sift.sp_beg != sift.sp_end]\n",
    "\n",
    "# dataset with KD and CRE region coordinates\n",
    "kd = pd.read_csv('../datasets/kd.tsv', sep= '\\t')\n",
    "cre = pd.read_csv('../datasets/cre.tsv', sep= '\\t')\n",
    "regions = kd.merge(cre, on= 'uniprot_acc', suffixes= [\"_kd\", \"_cre\"])"
   ]
  },
  {
   "cell_type": "code",
   "execution_count": 4,
   "metadata": {},
   "outputs": [
    {
     "data": {
      "text/html": [
       "<div>\n",
       "<style scoped>\n",
       "    .dataframe tbody tr th:only-of-type {\n",
       "        vertical-align: middle;\n",
       "    }\n",
       "\n",
       "    .dataframe tbody tr th {\n",
       "        vertical-align: top;\n",
       "    }\n",
       "\n",
       "    .dataframe thead th {\n",
       "        text-align: right;\n",
       "    }\n",
       "</style>\n",
       "<table border=\"1\" class=\"dataframe\">\n",
       "  <thead>\n",
       "    <tr style=\"text-align: right;\">\n",
       "      <th></th>\n",
       "      <th>sp_primary</th>\n",
       "      <th>pdb</th>\n",
       "      <th>sp_beg</th>\n",
       "      <th>sp_end</th>\n",
       "    </tr>\n",
       "  </thead>\n",
       "  <tbody>\n",
       "    <tr>\n",
       "      <th>37784</th>\n",
       "      <td>A0A003</td>\n",
       "      <td>6kvc</td>\n",
       "      <td>13</td>\n",
       "      <td>48</td>\n",
       "    </tr>\n",
       "    <tr>\n",
       "      <th>37751</th>\n",
       "      <td>A0A003</td>\n",
       "      <td>6kv9</td>\n",
       "      <td>13</td>\n",
       "      <td>49</td>\n",
       "    </tr>\n",
       "    <tr>\n",
       "      <th>37752</th>\n",
       "      <td>A0A003</td>\n",
       "      <td>6kv9</td>\n",
       "      <td>59</td>\n",
       "      <td>320</td>\n",
       "    </tr>\n",
       "    <tr>\n",
       "      <th>37785</th>\n",
       "      <td>A0A003</td>\n",
       "      <td>6kvc</td>\n",
       "      <td>59</td>\n",
       "      <td>321</td>\n",
       "    </tr>\n",
       "    <tr>\n",
       "      <th>112426</th>\n",
       "      <td>A0A009I821</td>\n",
       "      <td>7ryg</td>\n",
       "      <td>1</td>\n",
       "      <td>109</td>\n",
       "    </tr>\n",
       "    <tr>\n",
       "      <th>...</th>\n",
       "      <td>...</td>\n",
       "      <td>...</td>\n",
       "      <td>...</td>\n",
       "      <td>...</td>\n",
       "    </tr>\n",
       "    <tr>\n",
       "      <th>204109</th>\n",
       "      <td>X7YCN8</td>\n",
       "      <td>5vba</td>\n",
       "      <td>16</td>\n",
       "      <td>46</td>\n",
       "    </tr>\n",
       "    <tr>\n",
       "      <th>204111</th>\n",
       "      <td>X7YCN8</td>\n",
       "      <td>5vba</td>\n",
       "      <td>107</td>\n",
       "      <td>170</td>\n",
       "    </tr>\n",
       "    <tr>\n",
       "      <th>204110</th>\n",
       "      <td>X7YCN8</td>\n",
       "      <td>5vba</td>\n",
       "      <td>51</td>\n",
       "      <td>104</td>\n",
       "    </tr>\n",
       "    <tr>\n",
       "      <th>78144</th>\n",
       "      <td>X8CHM4</td>\n",
       "      <td>5o5k</td>\n",
       "      <td>210</td>\n",
       "      <td>425</td>\n",
       "    </tr>\n",
       "    <tr>\n",
       "      <th>327159</th>\n",
       "      <td>X8CHM4</td>\n",
       "      <td>5o5l</td>\n",
       "      <td>205</td>\n",
       "      <td>428</td>\n",
       "    </tr>\n",
       "  </tbody>\n",
       "</table>\n",
       "<p>664584 rows × 4 columns</p>\n",
       "</div>"
      ],
      "text/plain": [
       "        sp_primary   pdb  sp_beg  sp_end\n",
       "37784       A0A003  6kvc      13      48\n",
       "37751       A0A003  6kv9      13      49\n",
       "37752       A0A003  6kv9      59     320\n",
       "37785       A0A003  6kvc      59     321\n",
       "112426  A0A009I821  7ryg       1     109\n",
       "...            ...   ...     ...     ...\n",
       "204109      X7YCN8  5vba      16      46\n",
       "204111      X7YCN8  5vba     107     170\n",
       "204110      X7YCN8  5vba      51     104\n",
       "78144       X8CHM4  5o5k     210     425\n",
       "327159      X8CHM4  5o5l     205     428\n",
       "\n",
       "[664584 rows x 4 columns]"
      ]
     },
     "execution_count": 4,
     "metadata": {},
     "output_type": "execute_result"
    }
   ],
   "source": [
    "# sift data with start and end in uniprot sequence\n",
    "sift_ = sift[['sp_primary', 'pdb','sp_beg', 'sp_end']].drop_duplicates()\n",
    "sift_ = sift_.sort_values(\"sp_primary\")\n",
    "sift_"
   ]
  },
  {
   "cell_type": "code",
   "execution_count": 5,
   "metadata": {},
   "outputs": [],
   "source": [
    "# Create a unique range for each PDB (instead of splited by segments)\n",
    "# Get the min value of coordinates for each pdb\n",
    "pdb_min = sift_.groupby(['sp_primary', 'pdb']).min().reset_index().drop(columns= 'sp_end')\n",
    "# Get the max value of coordinates for each pdb\n",
    "pdb_max = sift_.groupby(['sp_primary', 'pdb']).max().reset_index().drop(columns= 'sp_beg')\n",
    "pdb_coord = pdb_min.merge(pdb_max) # ok!!"
   ]
  },
  {
   "cell_type": "code",
   "execution_count": 6,
   "metadata": {},
   "outputs": [
    {
     "name": "stderr",
     "output_type": "stream",
     "text": [
      "/home/alvaro/miniconda3/envs/alvenv/lib/python3.7/site-packages/ipykernel_launcher.py:8: SettingWithCopyWarning: \n",
      "A value is trying to be set on a copy of a slice from a DataFrame\n",
      "\n",
      "See the caveats in the documentation: https://pandas.pydata.org/pandas-docs/stable/user_guide/indexing.html#returning-a-view-versus-a-copy\n",
      "  \n",
      "/home/alvaro/miniconda3/envs/alvenv/lib/python3.7/site-packages/ipykernel_launcher.py:9: SettingWithCopyWarning: \n",
      "A value is trying to be set on a copy of a slice from a DataFrame\n",
      "\n",
      "See the caveats in the documentation: https://pandas.pydata.org/pandas-docs/stable/user_guide/indexing.html#returning-a-view-versus-a-copy\n",
      "  if __name__ == \"__main__\":\n"
     ]
    }
   ],
   "source": [
    "# Regions \"global range\", start and end including both KD and CRE\n",
    "regions_gl = regions[['uniprot_acc', 'term_id_kd', 'term_id_cre']].copy()\n",
    "regions_gl[\"start\"] = regions_gl['end'] = 0\n",
    "for i in regions.index:\n",
    "    coords = [regions.start_cre[i], regions.end_cre[i], regions.start_kd[i], regions.end_kd[i]]\n",
    "    start = min(coords)\n",
    "    end = max(coords)\n",
    "    regions_gl['start'][i] = start\n",
    "    regions_gl['end'][i] = end"
   ]
  },
  {
   "cell_type": "code",
   "execution_count": 7,
   "metadata": {},
   "outputs": [
    {
     "data": {
      "text/plain": [
       "uniprot_acc    280\n",
       "term_id_kd     286\n",
       "term_id_cre    286\n",
       "start          135\n",
       "end            169\n",
       "dtype: int64"
      ]
     },
     "execution_count": 7,
     "metadata": {},
     "output_type": "execute_result"
    }
   ],
   "source": [
    "regions_gl.nunique() # Ok"
   ]
  },
  {
   "cell_type": "code",
   "execution_count": 8,
   "metadata": {},
   "outputs": [],
   "source": [
    "# Convert regions df to pyranges object\n",
    "regions_gl.rename(columns= {'uniprot_acc': 'Chromosome' }, inplace= True)\n",
    "regions_gl.columns = regions_gl.columns.str.capitalize()\n",
    "regions_gl[\"length\"] = regions_gl.End - regions_gl.Start + 1\n",
    "# As pyranges object\n",
    "regions_gl_pr = pr.PyRanges(regions_gl)\n",
    "\n",
    "# PDBs coordinates as pyranges object\n",
    "pdb_pr = pr.PyRanges(pdb_coord.rename(\n",
    "    columns= {\n",
    "        'sp_primary': 'Chromosome',\n",
    "        'sp_beg': 'Start',\n",
    "        'sp_end': 'End'\n",
    "    }\n",
    ")\n",
    ")"
   ]
  },
  {
   "cell_type": "code",
   "execution_count": 9,
   "metadata": {},
   "outputs": [],
   "source": [
    "# # With intersect the returned intervals are the intersection \n",
    "# # of the overlapping intervals in self and other. All overlaps are returned by default\n",
    "# regions_pdb_both = regions_gl_pr.intersect(pdb_pr)\n",
    "# regions_pdb_both = regions_pdb_both.as_df()\n",
    "# regions_pdb_both.columns = regions_pdb_both.columns.str.lower()\n",
    "# regions_pdb_both.rename(columns= {'chromosome': 'uniprot'}, inplace= True)\n",
    "# regions_pdb_both"
   ]
  },
  {
   "cell_type": "code",
   "execution_count": 10,
   "metadata": {},
   "outputs": [
    {
     "data": {
      "text/html": [
       "<div>\n",
       "<style scoped>\n",
       "    .dataframe tbody tr th:only-of-type {\n",
       "        vertical-align: middle;\n",
       "    }\n",
       "\n",
       "    .dataframe tbody tr th {\n",
       "        vertical-align: top;\n",
       "    }\n",
       "\n",
       "    .dataframe thead th {\n",
       "        text-align: right;\n",
       "    }\n",
       "</style>\n",
       "<table border=\"1\" class=\"dataframe\">\n",
       "  <thead>\n",
       "    <tr style=\"text-align: right;\">\n",
       "      <th></th>\n",
       "      <th>uniprot</th>\n",
       "      <th>term_id_kd</th>\n",
       "      <th>term_id_cre</th>\n",
       "      <th>start</th>\n",
       "      <th>end</th>\n",
       "      <th>length</th>\n",
       "      <th>pdb</th>\n",
       "      <th>start_pdb</th>\n",
       "      <th>end_pdb</th>\n",
       "      <th>overlap</th>\n",
       "    </tr>\n",
       "  </thead>\n",
       "  <tbody>\n",
       "    <tr>\n",
       "      <th>0</th>\n",
       "      <td>A5K0N4</td>\n",
       "      <td>kd10</td>\n",
       "      <td>cre10</td>\n",
       "      <td>1</td>\n",
       "      <td>791</td>\n",
       "      <td>791</td>\n",
       "      <td>5f0a</td>\n",
       "      <td>1</td>\n",
       "      <td>846</td>\n",
       "      <td>791</td>\n",
       "    </tr>\n",
       "    <tr>\n",
       "      <th>1</th>\n",
       "      <td>A5K0N4</td>\n",
       "      <td>kd10</td>\n",
       "      <td>cre10</td>\n",
       "      <td>1</td>\n",
       "      <td>791</td>\n",
       "      <td>791</td>\n",
       "      <td>5dzc</td>\n",
       "      <td>1</td>\n",
       "      <td>843</td>\n",
       "      <td>791</td>\n",
       "    </tr>\n",
       "    <tr>\n",
       "      <th>2</th>\n",
       "      <td>A5K0N4</td>\n",
       "      <td>kd10</td>\n",
       "      <td>cre10</td>\n",
       "      <td>1</td>\n",
       "      <td>791</td>\n",
       "      <td>791</td>\n",
       "      <td>5dyl</td>\n",
       "      <td>1</td>\n",
       "      <td>816</td>\n",
       "      <td>791</td>\n",
       "    </tr>\n",
       "    <tr>\n",
       "      <th>3</th>\n",
       "      <td>A5K0N4</td>\n",
       "      <td>kd10</td>\n",
       "      <td>cre10</td>\n",
       "      <td>1</td>\n",
       "      <td>791</td>\n",
       "      <td>791</td>\n",
       "      <td>4rz7</td>\n",
       "      <td>1</td>\n",
       "      <td>815</td>\n",
       "      <td>791</td>\n",
       "    </tr>\n",
       "    <tr>\n",
       "      <th>4</th>\n",
       "      <td>A5K0N4</td>\n",
       "      <td>kd10</td>\n",
       "      <td>cre10</td>\n",
       "      <td>1</td>\n",
       "      <td>791</td>\n",
       "      <td>791</td>\n",
       "      <td>5fet</td>\n",
       "      <td>2</td>\n",
       "      <td>816</td>\n",
       "      <td>790</td>\n",
       "    </tr>\n",
       "    <tr>\n",
       "      <th>...</th>\n",
       "      <td>...</td>\n",
       "      <td>...</td>\n",
       "      <td>...</td>\n",
       "      <td>...</td>\n",
       "      <td>...</td>\n",
       "      <td>...</td>\n",
       "      <td>...</td>\n",
       "      <td>...</td>\n",
       "      <td>...</td>\n",
       "      <td>...</td>\n",
       "    </tr>\n",
       "    <tr>\n",
       "      <th>2114</th>\n",
       "      <td>Q99683</td>\n",
       "      <td>kd247</td>\n",
       "      <td>cre247</td>\n",
       "      <td>1</td>\n",
       "      <td>938</td>\n",
       "      <td>938</td>\n",
       "      <td>6e2o</td>\n",
       "      <td>670</td>\n",
       "      <td>939</td>\n",
       "      <td>269</td>\n",
       "    </tr>\n",
       "    <tr>\n",
       "      <th>2115</th>\n",
       "      <td>Q99683</td>\n",
       "      <td>kd247</td>\n",
       "      <td>cre247</td>\n",
       "      <td>1</td>\n",
       "      <td>938</td>\n",
       "      <td>938</td>\n",
       "      <td>4bf2</td>\n",
       "      <td>671</td>\n",
       "      <td>940</td>\n",
       "      <td>268</td>\n",
       "    </tr>\n",
       "    <tr>\n",
       "      <th>2116</th>\n",
       "      <td>Q99683</td>\n",
       "      <td>kd247</td>\n",
       "      <td>cre247</td>\n",
       "      <td>1</td>\n",
       "      <td>938</td>\n",
       "      <td>938</td>\n",
       "      <td>6oyw</td>\n",
       "      <td>671</td>\n",
       "      <td>940</td>\n",
       "      <td>268</td>\n",
       "    </tr>\n",
       "    <tr>\n",
       "      <th>2117</th>\n",
       "      <td>Q99683</td>\n",
       "      <td>kd247</td>\n",
       "      <td>cre247</td>\n",
       "      <td>1</td>\n",
       "      <td>938</td>\n",
       "      <td>938</td>\n",
       "      <td>6xih</td>\n",
       "      <td>671</td>\n",
       "      <td>940</td>\n",
       "      <td>268</td>\n",
       "    </tr>\n",
       "    <tr>\n",
       "      <th>2118</th>\n",
       "      <td>Q99683</td>\n",
       "      <td>kd247</td>\n",
       "      <td>cre247</td>\n",
       "      <td>1</td>\n",
       "      <td>938</td>\n",
       "      <td>938</td>\n",
       "      <td>3vw6</td>\n",
       "      <td>671</td>\n",
       "      <td>939</td>\n",
       "      <td>268</td>\n",
       "    </tr>\n",
       "  </tbody>\n",
       "</table>\n",
       "<p>2119 rows × 10 columns</p>\n",
       "</div>"
      ],
      "text/plain": [
       "     uniprot term_id_kd term_id_cre  start  end  length   pdb  start_pdb  \\\n",
       "0     A5K0N4       kd10       cre10      1  791     791  5f0a          1   \n",
       "1     A5K0N4       kd10       cre10      1  791     791  5dzc          1   \n",
       "2     A5K0N4       kd10       cre10      1  791     791  5dyl          1   \n",
       "3     A5K0N4       kd10       cre10      1  791     791  4rz7          1   \n",
       "4     A5K0N4       kd10       cre10      1  791     791  5fet          2   \n",
       "...      ...        ...         ...    ...  ...     ...   ...        ...   \n",
       "2114  Q99683      kd247      cre247      1  938     938  6e2o        670   \n",
       "2115  Q99683      kd247      cre247      1  938     938  4bf2        671   \n",
       "2116  Q99683      kd247      cre247      1  938     938  6oyw        671   \n",
       "2117  Q99683      kd247      cre247      1  938     938  6xih        671   \n",
       "2118  Q99683      kd247      cre247      1  938     938  3vw6        671   \n",
       "\n",
       "      end_pdb  overlap  \n",
       "0         846      791  \n",
       "1         843      791  \n",
       "2         816      791  \n",
       "3         815      791  \n",
       "4         816      790  \n",
       "...       ...      ...  \n",
       "2114      939      269  \n",
       "2115      940      268  \n",
       "2116      940      268  \n",
       "2117      940      268  \n",
       "2118      939      268  \n",
       "\n",
       "[2119 rows x 10 columns]"
      ]
     },
     "execution_count": 10,
     "metadata": {},
     "output_type": "execute_result"
    }
   ],
   "source": [
    "# Join pyranges method\n",
    "regions_pdb_both = regions_gl_pr.join(pdb_pr, slack= 1, suffix= \"_pdb\", report_overlap= True) # slack= 1 includes sequence edges\n",
    "regions_pdb_both = regions_pdb_both.as_df()\n",
    "regions_pdb_both.columns = regions_pdb_both.columns.str.lower()\n",
    "regions_pdb_both.rename(columns= {'chromosome': 'uniprot'}, inplace= True)\n",
    "regions_pdb_both"
   ]
  },
  {
   "cell_type": "code",
   "execution_count": 11,
   "metadata": {},
   "outputs": [],
   "source": [
    "del(pdb_pr, regions_gl_pr)"
   ]
  },
  {
   "cell_type": "code",
   "execution_count": 16,
   "metadata": {},
   "outputs": [
    {
     "data": {
      "text/plain": [
       "uniprot         102\n",
       "term_id_kd      105\n",
       "term_id_cre     108\n",
       "start            75\n",
       "end              88\n",
       "length           86\n",
       "pdb            1904\n",
       "start_pdb       300\n",
       "end_pdb         357\n",
       "overlap         213\n",
       "dtype: int64"
      ]
     },
     "execution_count": 16,
     "metadata": {},
     "output_type": "execute_result"
    }
   ],
   "source": [
    "regions_pdb_both.nunique() # 102 out of 280 proteins have 1904 PDB structures"
   ]
  },
  {
   "cell_type": "code",
   "execution_count": 13,
   "metadata": {},
   "outputs": [
    {
     "data": {
      "text/plain": [
       "77"
      ]
     },
     "execution_count": 13,
     "metadata": {},
     "output_type": "execute_result"
    }
   ],
   "source": [
    "# Cuantos PDB cubren totalmente ambas regiones?\n",
    "regions_pdb_both[regions_pdb_both.length == regions_pdb_both.overlap].pdb.nunique()"
   ]
  },
  {
   "cell_type": "code",
   "execution_count": 14,
   "metadata": {},
   "outputs": [
    {
     "data": {
      "text/plain": [
       "1895"
      ]
     },
     "execution_count": 14,
     "metadata": {},
     "output_type": "execute_result"
    }
   ],
   "source": [
    "# Cuantos cubren parcialmente\n",
    "regions_pdb_both[regions_pdb_both.length != regions_pdb_both.overlap].pdb.nunique()"
   ]
  },
  {
   "cell_type": "code",
   "execution_count": 14,
   "metadata": {},
   "outputs": [
    {
     "data": {
      "text/plain": [
       "102"
      ]
     },
     "execution_count": 14,
     "metadata": {},
     "output_type": "execute_result"
    }
   ],
   "source": [
    "# No. of unique proteins\n",
    "regions_pdb_both.uniprot.nunique()"
   ]
  },
  {
   "cell_type": "code",
   "execution_count": 15,
   "metadata": {},
   "outputs": [
    {
     "data": {
      "text/plain": [
       "1904"
      ]
     },
     "execution_count": 15,
     "metadata": {},
     "output_type": "execute_result"
    }
   ],
   "source": [
    "# No. of unique pdbs\n",
    "regions_pdb_both.pdb.nunique()"
   ]
  },
  {
   "cell_type": "code",
   "execution_count": 32,
   "metadata": {},
   "outputs": [],
   "source": [
    "# Add which MSA belongs each pdb\n",
    "all_msa = pd.read_csv('../datasets/all_msas.tsv', sep= '\\t')\n",
    "# only 60% identity\n",
    "all_msa = all_msa[all_msa.msa.str.endswith(\"60\")]"
   ]
  },
  {
   "cell_type": "code",
   "execution_count": 27,
   "metadata": {},
   "outputs": [],
   "source": [
    "# Mapping MSA - uniprot\n",
    "to_add = all_msa.drop(columns= 'length_msa')#.uniprot.nunique()"
   ]
  },
  {
   "cell_type": "code",
   "execution_count": 45,
   "metadata": {},
   "outputs": [],
   "source": [
    "msa_regions_pdbs = regions_pdb_both.merge(to_add, how= 'left') #left_on='uniprot', right_on= 'uniprot'"
   ]
  },
  {
   "cell_type": "code",
   "execution_count": 46,
   "metadata": {},
   "outputs": [
    {
     "data": {
      "text/plain": [
       "uniprot        False\n",
       "term_id_kd     False\n",
       "term_id_cre    False\n",
       "start          False\n",
       "end            False\n",
       "length         False\n",
       "pdb            False\n",
       "start_pdb      False\n",
       "end_pdb        False\n",
       "overlap        False\n",
       "msa             True\n",
       "dtype: bool"
      ]
     },
     "execution_count": 46,
     "metadata": {},
     "output_type": "execute_result"
    }
   ],
   "source": [
    "msa_regions_pdbs.isna().any()"
   ]
  },
  {
   "cell_type": "code",
   "execution_count": 47,
   "metadata": {},
   "outputs": [
    {
     "data": {
      "text/plain": [
       "3"
      ]
     },
     "execution_count": 47,
     "metadata": {},
     "output_type": "execute_result"
    }
   ],
   "source": [
    "msa_regions_pdbs[msa_regions_pdbs.msa.isna()].uniprot.nunique()"
   ]
  },
  {
   "cell_type": "code",
   "execution_count": 48,
   "metadata": {},
   "outputs": [
    {
     "data": {
      "text/plain": [
       "Index(['uniprot', 'term_id_kd', 'term_id_cre', 'start', 'end', 'length', 'pdb',\n",
       "       'start_pdb', 'end_pdb', 'overlap', 'msa'],\n",
       "      dtype='object')"
      ]
     },
     "execution_count": 48,
     "metadata": {},
     "output_type": "execute_result"
    }
   ],
   "source": [
    "msa_regions_pdbs.columns"
   ]
  },
  {
   "cell_type": "code",
   "execution_count": 49,
   "metadata": {},
   "outputs": [
    {
     "data": {
      "text/html": [
       "<div>\n",
       "<style scoped>\n",
       "    .dataframe tbody tr th:only-of-type {\n",
       "        vertical-align: middle;\n",
       "    }\n",
       "\n",
       "    .dataframe tbody tr th {\n",
       "        vertical-align: top;\n",
       "    }\n",
       "\n",
       "    .dataframe thead th {\n",
       "        text-align: right;\n",
       "    }\n",
       "</style>\n",
       "<table border=\"1\" class=\"dataframe\">\n",
       "  <thead>\n",
       "    <tr style=\"text-align: right;\">\n",
       "      <th></th>\n",
       "      <th>msa</th>\n",
       "      <th>uniprot</th>\n",
       "      <th>term_id_kd</th>\n",
       "      <th>term_id_cre</th>\n",
       "      <th>start</th>\n",
       "      <th>end</th>\n",
       "      <th>length</th>\n",
       "      <th>pdb</th>\n",
       "      <th>start_pdb</th>\n",
       "      <th>end_pdb</th>\n",
       "      <th>overlap</th>\n",
       "    </tr>\n",
       "  </thead>\n",
       "  <tbody>\n",
       "    <tr>\n",
       "      <th>0</th>\n",
       "      <td>Q8I719_60</td>\n",
       "      <td>A5K0N4</td>\n",
       "      <td>kd10</td>\n",
       "      <td>cre10</td>\n",
       "      <td>1</td>\n",
       "      <td>791</td>\n",
       "      <td>791</td>\n",
       "      <td>5f0a</td>\n",
       "      <td>1</td>\n",
       "      <td>846</td>\n",
       "      <td>791</td>\n",
       "    </tr>\n",
       "    <tr>\n",
       "      <th>1</th>\n",
       "      <td>A5K0N4_60</td>\n",
       "      <td>A5K0N4</td>\n",
       "      <td>kd10</td>\n",
       "      <td>cre10</td>\n",
       "      <td>1</td>\n",
       "      <td>791</td>\n",
       "      <td>791</td>\n",
       "      <td>5f0a</td>\n",
       "      <td>1</td>\n",
       "      <td>846</td>\n",
       "      <td>791</td>\n",
       "    </tr>\n",
       "    <tr>\n",
       "      <th>2</th>\n",
       "      <td>Q8I719_60</td>\n",
       "      <td>A5K0N4</td>\n",
       "      <td>kd10</td>\n",
       "      <td>cre10</td>\n",
       "      <td>1</td>\n",
       "      <td>791</td>\n",
       "      <td>791</td>\n",
       "      <td>5dzc</td>\n",
       "      <td>1</td>\n",
       "      <td>843</td>\n",
       "      <td>791</td>\n",
       "    </tr>\n",
       "    <tr>\n",
       "      <th>3</th>\n",
       "      <td>A5K0N4_60</td>\n",
       "      <td>A5K0N4</td>\n",
       "      <td>kd10</td>\n",
       "      <td>cre10</td>\n",
       "      <td>1</td>\n",
       "      <td>791</td>\n",
       "      <td>791</td>\n",
       "      <td>5dzc</td>\n",
       "      <td>1</td>\n",
       "      <td>843</td>\n",
       "      <td>791</td>\n",
       "    </tr>\n",
       "    <tr>\n",
       "      <th>4</th>\n",
       "      <td>Q8I719_60</td>\n",
       "      <td>A5K0N4</td>\n",
       "      <td>kd10</td>\n",
       "      <td>cre10</td>\n",
       "      <td>1</td>\n",
       "      <td>791</td>\n",
       "      <td>791</td>\n",
       "      <td>5dyl</td>\n",
       "      <td>1</td>\n",
       "      <td>816</td>\n",
       "      <td>791</td>\n",
       "    </tr>\n",
       "    <tr>\n",
       "      <th>...</th>\n",
       "      <td>...</td>\n",
       "      <td>...</td>\n",
       "      <td>...</td>\n",
       "      <td>...</td>\n",
       "      <td>...</td>\n",
       "      <td>...</td>\n",
       "      <td>...</td>\n",
       "      <td>...</td>\n",
       "      <td>...</td>\n",
       "      <td>...</td>\n",
       "      <td>...</td>\n",
       "    </tr>\n",
       "    <tr>\n",
       "      <th>2757</th>\n",
       "      <td>Q99683_60</td>\n",
       "      <td>Q99683</td>\n",
       "      <td>kd247</td>\n",
       "      <td>cre247</td>\n",
       "      <td>1</td>\n",
       "      <td>938</td>\n",
       "      <td>938</td>\n",
       "      <td>6e2o</td>\n",
       "      <td>670</td>\n",
       "      <td>939</td>\n",
       "      <td>269</td>\n",
       "    </tr>\n",
       "    <tr>\n",
       "      <th>2758</th>\n",
       "      <td>Q99683_60</td>\n",
       "      <td>Q99683</td>\n",
       "      <td>kd247</td>\n",
       "      <td>cre247</td>\n",
       "      <td>1</td>\n",
       "      <td>938</td>\n",
       "      <td>938</td>\n",
       "      <td>4bf2</td>\n",
       "      <td>671</td>\n",
       "      <td>940</td>\n",
       "      <td>268</td>\n",
       "    </tr>\n",
       "    <tr>\n",
       "      <th>2759</th>\n",
       "      <td>Q99683_60</td>\n",
       "      <td>Q99683</td>\n",
       "      <td>kd247</td>\n",
       "      <td>cre247</td>\n",
       "      <td>1</td>\n",
       "      <td>938</td>\n",
       "      <td>938</td>\n",
       "      <td>6oyw</td>\n",
       "      <td>671</td>\n",
       "      <td>940</td>\n",
       "      <td>268</td>\n",
       "    </tr>\n",
       "    <tr>\n",
       "      <th>2760</th>\n",
       "      <td>Q99683_60</td>\n",
       "      <td>Q99683</td>\n",
       "      <td>kd247</td>\n",
       "      <td>cre247</td>\n",
       "      <td>1</td>\n",
       "      <td>938</td>\n",
       "      <td>938</td>\n",
       "      <td>6xih</td>\n",
       "      <td>671</td>\n",
       "      <td>940</td>\n",
       "      <td>268</td>\n",
       "    </tr>\n",
       "    <tr>\n",
       "      <th>2761</th>\n",
       "      <td>Q99683_60</td>\n",
       "      <td>Q99683</td>\n",
       "      <td>kd247</td>\n",
       "      <td>cre247</td>\n",
       "      <td>1</td>\n",
       "      <td>938</td>\n",
       "      <td>938</td>\n",
       "      <td>3vw6</td>\n",
       "      <td>671</td>\n",
       "      <td>939</td>\n",
       "      <td>268</td>\n",
       "    </tr>\n",
       "  </tbody>\n",
       "</table>\n",
       "<p>2663 rows × 11 columns</p>\n",
       "</div>"
      ],
      "text/plain": [
       "            msa uniprot term_id_kd term_id_cre  start  end  length   pdb  \\\n",
       "0     Q8I719_60  A5K0N4       kd10       cre10      1  791     791  5f0a   \n",
       "1     A5K0N4_60  A5K0N4       kd10       cre10      1  791     791  5f0a   \n",
       "2     Q8I719_60  A5K0N4       kd10       cre10      1  791     791  5dzc   \n",
       "3     A5K0N4_60  A5K0N4       kd10       cre10      1  791     791  5dzc   \n",
       "4     Q8I719_60  A5K0N4       kd10       cre10      1  791     791  5dyl   \n",
       "...         ...     ...        ...         ...    ...  ...     ...   ...   \n",
       "2757  Q99683_60  Q99683      kd247      cre247      1  938     938  6e2o   \n",
       "2758  Q99683_60  Q99683      kd247      cre247      1  938     938  4bf2   \n",
       "2759  Q99683_60  Q99683      kd247      cre247      1  938     938  6oyw   \n",
       "2760  Q99683_60  Q99683      kd247      cre247      1  938     938  6xih   \n",
       "2761  Q99683_60  Q99683      kd247      cre247      1  938     938  3vw6   \n",
       "\n",
       "      start_pdb  end_pdb  overlap  \n",
       "0             1      846      791  \n",
       "1             1      846      791  \n",
       "2             1      843      791  \n",
       "3             1      843      791  \n",
       "4             1      816      791  \n",
       "...         ...      ...      ...  \n",
       "2757        670      939      269  \n",
       "2758        671      940      268  \n",
       "2759        671      940      268  \n",
       "2760        671      940      268  \n",
       "2761        671      939      268  \n",
       "\n",
       "[2663 rows x 11 columns]"
      ]
     },
     "execution_count": 49,
     "metadata": {},
     "output_type": "execute_result"
    }
   ],
   "source": [
    "msa_regions_pdbs = msa_regions_pdbs.dropna()\n",
    "msa_regions_pdbs = msa_regions_pdbs.loc[:, ['msa', 'uniprot', 'term_id_kd', 'term_id_cre', 'start', 'end', 'length', 'pdb',\n",
    "       'start_pdb', 'end_pdb', 'overlap']]\n",
    "msa_regions_pdbs"
   ]
  },
  {
   "cell_type": "code",
   "execution_count": 50,
   "metadata": {},
   "outputs": [],
   "source": [
    "#msa_regions_pdbs.to_csv('../datasets/msa_regions_pdbs.tsv', sep= '\\t', index= False)"
   ]
  }
 ],
 "metadata": {
  "kernelspec": {
   "display_name": "Python 3.7.9 ('alvenv')",
   "language": "python",
   "name": "python3"
  },
  "language_info": {
   "codemirror_mode": {
    "name": "ipython",
    "version": 3
   },
   "file_extension": ".py",
   "mimetype": "text/x-python",
   "name": "python",
   "nbconvert_exporter": "python",
   "pygments_lexer": "ipython3",
   "version": "3.7.9"
  },
  "orig_nbformat": 4,
  "vscode": {
   "interpreter": {
    "hash": "a4c2436a14b1b6c4426c49ec4e5513a6c0b8423d7af09657c6d1b41bc595cc3b"
   }
  }
 },
 "nbformat": 4,
 "nbformat_minor": 2
}
