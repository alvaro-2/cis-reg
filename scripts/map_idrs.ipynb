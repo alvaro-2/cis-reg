{
 "cells": [
  {
   "cell_type": "markdown",
   "metadata": {},
   "source": [
    "map all the IDRs from disprot to the CRE dataset  \n",
    "Disprot info:\n",
    "Version: 9.2\n",
    "Release: 2022_06\n",
    "Number of entries: 2419"
   ]
  },
  {
   "cell_type": "code",
   "execution_count": 1,
   "metadata": {},
   "outputs": [],
   "source": [
    "import pandas as pd\n",
    "import re\n",
    "import pyranges as pr\n",
    "import matplotlib.pyplot as plt"
   ]
  },
  {
   "cell_type": "code",
   "execution_count": 2,
   "metadata": {},
   "outputs": [],
   "source": [
    "cre_dataset = pd.read_csv('../datasets/cre_dataset.csv')"
   ]
  },
  {
   "cell_type": "code",
   "execution_count": 3,
   "metadata": {},
   "outputs": [
    {
     "data": {
      "text/html": [
       "<div>\n",
       "<style scoped>\n",
       "    .dataframe tbody tr th:only-of-type {\n",
       "        vertical-align: middle;\n",
       "    }\n",
       "\n",
       "    .dataframe tbody tr th {\n",
       "        vertical-align: top;\n",
       "    }\n",
       "\n",
       "    .dataframe thead th {\n",
       "        text-align: right;\n",
       "    }\n",
       "</style>\n",
       "<table border=\"1\" class=\"dataframe\">\n",
       "  <thead>\n",
       "    <tr style=\"text-align: right;\">\n",
       "      <th></th>\n",
       "      <th>name</th>\n",
       "      <th>uniprot_acc</th>\n",
       "      <th>species</th>\n",
       "      <th>references</th>\n",
       "      <th>module</th>\n",
       "      <th>start_aa</th>\n",
       "      <th>end_aa</th>\n",
       "      <th>dataset</th>\n",
       "      <th>id_cre</th>\n",
       "    </tr>\n",
       "  </thead>\n",
       "  <tbody>\n",
       "    <tr>\n",
       "      <th>0</th>\n",
       "      <td>DNMT1</td>\n",
       "      <td>P13864</td>\n",
       "      <td>M. musculus</td>\n",
       "      <td>(Song et al., 2011; Trudeau et al., 2013)</td>\n",
       "      <td>d</td>\n",
       "      <td>699</td>\n",
       "      <td>733</td>\n",
       "      <td>train</td>\n",
       "      <td>1</td>\n",
       "    </tr>\n",
       "    <tr>\n",
       "      <th>1</th>\n",
       "      <td>TBP</td>\n",
       "      <td>P20226</td>\n",
       "      <td>H. sapiens</td>\n",
       "      <td>(Kuddus and Schmidt, 1993; Trudeau et al., 2013)</td>\n",
       "      <td>d</td>\n",
       "      <td>1</td>\n",
       "      <td>55</td>\n",
       "      <td>train</td>\n",
       "      <td>2</td>\n",
       "    </tr>\n",
       "    <tr>\n",
       "      <th>2</th>\n",
       "      <td>TAK1</td>\n",
       "      <td>Q62073</td>\n",
       "      <td>M. musculus</td>\n",
       "      <td>(Yamaguchi et al., 1995)</td>\n",
       "      <td>d</td>\n",
       "      <td>1</td>\n",
       "      <td>22</td>\n",
       "      <td>train</td>\n",
       "      <td>3</td>\n",
       "    </tr>\n",
       "    <tr>\n",
       "      <th>3</th>\n",
       "      <td>SNF1</td>\n",
       "      <td>P06782</td>\n",
       "      <td>S. crevisiae</td>\n",
       "      <td>(Jiang and Carlson, 1997; Trudeau et al., 2013)</td>\n",
       "      <td>d</td>\n",
       "      <td>392</td>\n",
       "      <td>495</td>\n",
       "      <td>train</td>\n",
       "      <td>4</td>\n",
       "    </tr>\n",
       "    <tr>\n",
       "      <th>4</th>\n",
       "      <td>TSE1</td>\n",
       "      <td>P10644</td>\n",
       "      <td>H. sapiens</td>\n",
       "      <td>(Francis et al., 2002)</td>\n",
       "      <td>d</td>\n",
       "      <td>1</td>\n",
       "      <td>98</td>\n",
       "      <td>train</td>\n",
       "      <td>5</td>\n",
       "    </tr>\n",
       "    <tr>\n",
       "      <th>...</th>\n",
       "      <td>...</td>\n",
       "      <td>...</td>\n",
       "      <td>...</td>\n",
       "      <td>...</td>\n",
       "      <td>...</td>\n",
       "      <td>...</td>\n",
       "      <td>...</td>\n",
       "      <td>...</td>\n",
       "      <td>...</td>\n",
       "    </tr>\n",
       "    <tr>\n",
       "      <th>163</th>\n",
       "      <td>NLRC4</td>\n",
       "      <td>Q3UP24</td>\n",
       "      <td>M. musculus</td>\n",
       "      <td>(Hu et al., 2013)</td>\n",
       "      <td>s</td>\n",
       "      <td>299</td>\n",
       "      <td>355</td>\n",
       "      <td>test</td>\n",
       "      <td>164</td>\n",
       "    </tr>\n",
       "    <tr>\n",
       "      <th>164</th>\n",
       "      <td>Park2</td>\n",
       "      <td>Q9JK66</td>\n",
       "      <td>R. norvegicus</td>\n",
       "      <td>(Byrd and Weissman, 2013)</td>\n",
       "      <td>s</td>\n",
       "      <td>410</td>\n",
       "      <td>465</td>\n",
       "      <td>test</td>\n",
       "      <td>165</td>\n",
       "    </tr>\n",
       "    <tr>\n",
       "      <th>165</th>\n",
       "      <td>EB1</td>\n",
       "      <td>Q15691</td>\n",
       "      <td>H. sapiens</td>\n",
       "      <td>(Kanaba et al., 2013)</td>\n",
       "      <td>s</td>\n",
       "      <td>189</td>\n",
       "      <td>268</td>\n",
       "      <td>test</td>\n",
       "      <td>166</td>\n",
       "    </tr>\n",
       "    <tr>\n",
       "      <th>166</th>\n",
       "      <td>gp47</td>\n",
       "      <td>P04521</td>\n",
       "      <td>Enterobacteria phage T4</td>\n",
       "      <td>(Gao and Nelson, 2014)</td>\n",
       "      <td>s</td>\n",
       "      <td>303</td>\n",
       "      <td>320</td>\n",
       "      <td>test</td>\n",
       "      <td>167</td>\n",
       "    </tr>\n",
       "    <tr>\n",
       "      <th>167</th>\n",
       "      <td>nPKC-iota</td>\n",
       "      <td>P41743</td>\n",
       "      <td>H. sapiens</td>\n",
       "      <td>(Ivey et al., 2014)</td>\n",
       "      <td>s</td>\n",
       "      <td>123</td>\n",
       "      <td>140</td>\n",
       "      <td>test</td>\n",
       "      <td>168</td>\n",
       "    </tr>\n",
       "  </tbody>\n",
       "</table>\n",
       "<p>168 rows × 9 columns</p>\n",
       "</div>"
      ],
      "text/plain": [
       "          name uniprot_acc                  species  \\\n",
       "0        DNMT1      P13864              M. musculus   \n",
       "1          TBP      P20226               H. sapiens   \n",
       "2         TAK1      Q62073              M. musculus   \n",
       "3         SNF1      P06782             S. crevisiae   \n",
       "4         TSE1      P10644               H. sapiens   \n",
       "..         ...         ...                      ...   \n",
       "163      NLRC4      Q3UP24              M. musculus   \n",
       "164      Park2      Q9JK66            R. norvegicus   \n",
       "165        EB1      Q15691               H. sapiens   \n",
       "166       gp47      P04521  Enterobacteria phage T4   \n",
       "167  nPKC-iota      P41743               H. sapiens   \n",
       "\n",
       "                                           references module  start_aa  \\\n",
       "0           (Song et al., 2011; Trudeau et al., 2013)      d       699   \n",
       "1    (Kuddus and Schmidt, 1993; Trudeau et al., 2013)      d         1   \n",
       "2                            (Yamaguchi et al., 1995)      d         1   \n",
       "3     (Jiang and Carlson, 1997; Trudeau et al., 2013)      d       392   \n",
       "4                              (Francis et al., 2002)      d         1   \n",
       "..                                                ...    ...       ...   \n",
       "163                                 (Hu et al., 2013)      s       299   \n",
       "164                         (Byrd and Weissman, 2013)      s       410   \n",
       "165                             (Kanaba et al., 2013)      s       189   \n",
       "166                            (Gao and Nelson, 2014)      s       303   \n",
       "167                               (Ivey et al., 2014)      s       123   \n",
       "\n",
       "     end_aa dataset  id_cre  \n",
       "0       733   train       1  \n",
       "1        55   train       2  \n",
       "2        22   train       3  \n",
       "3       495   train       4  \n",
       "4        98   train       5  \n",
       "..      ...     ...     ...  \n",
       "163     355    test     164  \n",
       "164     465    test     165  \n",
       "165     268    test     166  \n",
       "166     320    test     167  \n",
       "167     140    test     168  \n",
       "\n",
       "[168 rows x 9 columns]"
      ]
     },
     "execution_count": 3,
     "metadata": {},
     "output_type": "execute_result"
    }
   ],
   "source": [
    "cre_dataset"
   ]
  },
  {
   "cell_type": "code",
   "execution_count": 7,
   "metadata": {},
   "outputs": [
    {
     "data": {
      "text/plain": [
       "Text(0.5, 1.0, 'distribution of Length of CREs')"
      ]
     },
     "execution_count": 7,
     "metadata": {},
     "output_type": "execute_result"
    },
    {
     "data": {
      "image/png": "[encoded data removed]",
      "text/plain": [
       "<Figure size 432x288 with 1 Axes>"
      ]
     },
     "metadata": {
      "needs_background": "light"
     },
     "output_type": "display_data"
    }
   ],
   "source": [
    "(cre_dataset.end_aa - cre_dataset.start_aa).plot.box()\n",
    "plt.title(\"distribution of Length of CREs\")"
   ]
  },
  {
   "cell_type": "code",
   "execution_count": 6,
   "metadata": {},
   "outputs": [
    {
     "data": {
      "text/plain": [
       "0      False\n",
       "1      False\n",
       "2      False\n",
       "3       True\n",
       "4      False\n",
       "       ...  \n",
       "163    False\n",
       "164    False\n",
       "165    False\n",
       "166    False\n",
       "167    False\n",
       "Length: 168, dtype: bool"
      ]
     },
     "execution_count": 6,
     "metadata": {},
     "output_type": "execute_result"
    }
   ],
   "source": [
    "(cre_dataset.end_aa - cre_dataset.start_aa) > 100"
   ]
  },
  {
   "cell_type": "code",
   "execution_count": 7,
   "metadata": {},
   "outputs": [
    {
     "name": "stdout",
     "output_type": "stream",
     "text": [
      "<class 'pandas.core.frame.DataFrame'>\n",
      "RangeIndex: 10337 entries, 0 to 10336\n",
      "Data columns (total 15 columns):\n",
      " #   Column           Non-Null Count  Dtype  \n",
      "---  ------           --------------  -----  \n",
      " 0   acc              10337 non-null  object \n",
      " 1   name             10337 non-null  object \n",
      " 2   organism         10337 non-null  object \n",
      " 3   ncbi_taxon_id    10337 non-null  int64  \n",
      " 4   disprot_id       10337 non-null  object \n",
      " 5   region_id        10337 non-null  object \n",
      " 6   start            10337 non-null  int64  \n",
      " 7   end              10337 non-null  int64  \n",
      " 8   term_namespace   10337 non-null  object \n",
      " 9   term             10337 non-null  object \n",
      " 10  ec               10337 non-null  object \n",
      " 11  reference        10337 non-null  object \n",
      " 12  region_sequence  10337 non-null  object \n",
      " 13  confidence       511 non-null    object \n",
      " 14  obsolete         0 non-null      float64\n",
      "dtypes: float64(1), int64(3), object(11)\n",
      "memory usage: 1.2+ MB\n"
     ]
    }
   ],
   "source": [
    "disprot_raw = pd.read_csv('../raw_data/DisProt release_2022_06 with_ambiguous_evidences.tsv', sep= '\\t')\n",
    "disprot_raw.info()"
   ]
  },
  {
   "cell_type": "code",
   "execution_count": 8,
   "metadata": {},
   "outputs": [
    {
     "data": {
      "text/plain": [
       "2419"
      ]
     },
     "execution_count": 8,
     "metadata": {},
     "output_type": "execute_result"
    }
   ],
   "source": [
    "# unique entries\n",
    "disprot_raw.acc.nunique()"
   ]
  },
  {
   "cell_type": "code",
   "execution_count": 9,
   "metadata": {},
   "outputs": [
    {
     "data": {
      "text/html": [
       "<div>\n",
       "<style scoped>\n",
       "    .dataframe tbody tr th:only-of-type {\n",
       "        vertical-align: middle;\n",
       "    }\n",
       "\n",
       "    .dataframe tbody tr th {\n",
       "        vertical-align: top;\n",
       "    }\n",
       "\n",
       "    .dataframe thead th {\n",
       "        text-align: right;\n",
       "    }\n",
       "</style>\n",
       "<table border=\"1\" class=\"dataframe\">\n",
       "  <thead>\n",
       "    <tr style=\"text-align: right;\">\n",
       "      <th></th>\n",
       "      <th>acc</th>\n",
       "      <th>name</th>\n",
       "      <th>start</th>\n",
       "      <th>end</th>\n",
       "    </tr>\n",
       "  </thead>\n",
       "  <tbody>\n",
       "    <tr>\n",
       "      <th>0</th>\n",
       "      <td>P03265</td>\n",
       "      <td>DNA-binding protein</td>\n",
       "      <td>294</td>\n",
       "      <td>334</td>\n",
       "    </tr>\n",
       "    <tr>\n",
       "      <th>1</th>\n",
       "      <td>P03265</td>\n",
       "      <td>DNA-binding protein</td>\n",
       "      <td>454</td>\n",
       "      <td>464</td>\n",
       "    </tr>\n",
       "    <tr>\n",
       "      <th>2</th>\n",
       "      <td>P49913</td>\n",
       "      <td>Cathelicidin antimicrobial peptide</td>\n",
       "      <td>134</td>\n",
       "      <td>170</td>\n",
       "    </tr>\n",
       "    <tr>\n",
       "      <th>3</th>\n",
       "      <td>P49913</td>\n",
       "      <td>Cathelicidin antimicrobial peptide</td>\n",
       "      <td>134</td>\n",
       "      <td>170</td>\n",
       "    </tr>\n",
       "    <tr>\n",
       "      <th>4</th>\n",
       "      <td>P49913</td>\n",
       "      <td>Cathelicidin antimicrobial peptide</td>\n",
       "      <td>134</td>\n",
       "      <td>170</td>\n",
       "    </tr>\n",
       "    <tr>\n",
       "      <th>...</th>\n",
       "      <td>...</td>\n",
       "      <td>...</td>\n",
       "      <td>...</td>\n",
       "      <td>...</td>\n",
       "    </tr>\n",
       "    <tr>\n",
       "      <th>10332</th>\n",
       "      <td>P40939</td>\n",
       "      <td>Trifunctional enzyme subunit alpha, mitochondrial</td>\n",
       "      <td>637</td>\n",
       "      <td>647</td>\n",
       "    </tr>\n",
       "    <tr>\n",
       "      <th>10333</th>\n",
       "      <td>Q6CSX2</td>\n",
       "      <td>Serine/threonine-protein kinase ATG1</td>\n",
       "      <td>562</td>\n",
       "      <td>831</td>\n",
       "    </tr>\n",
       "    <tr>\n",
       "      <th>10334</th>\n",
       "      <td>Q6CSX2</td>\n",
       "      <td>Serine/threonine-protein kinase ATG1</td>\n",
       "      <td>562</td>\n",
       "      <td>831</td>\n",
       "    </tr>\n",
       "    <tr>\n",
       "      <th>10335</th>\n",
       "      <td>Q8IYT8</td>\n",
       "      <td>Serine/threonine-protein kinase ULK2</td>\n",
       "      <td>168</td>\n",
       "      <td>177</td>\n",
       "    </tr>\n",
       "    <tr>\n",
       "      <th>10336</th>\n",
       "      <td>Q9UHK0</td>\n",
       "      <td>Nuclear fragile X mental retardation-interacti...</td>\n",
       "      <td>486</td>\n",
       "      <td>495</td>\n",
       "    </tr>\n",
       "  </tbody>\n",
       "</table>\n",
       "<p>10337 rows × 4 columns</p>\n",
       "</div>"
      ],
      "text/plain": [
       "          acc                                               name  start  end\n",
       "0      P03265                                DNA-binding protein    294  334\n",
       "1      P03265                                DNA-binding protein    454  464\n",
       "2      P49913                 Cathelicidin antimicrobial peptide    134  170\n",
       "3      P49913                 Cathelicidin antimicrobial peptide    134  170\n",
       "4      P49913                 Cathelicidin antimicrobial peptide    134  170\n",
       "...       ...                                                ...    ...  ...\n",
       "10332  P40939  Trifunctional enzyme subunit alpha, mitochondrial    637  647\n",
       "10333  Q6CSX2               Serine/threonine-protein kinase ATG1    562  831\n",
       "10334  Q6CSX2               Serine/threonine-protein kinase ATG1    562  831\n",
       "10335  Q8IYT8               Serine/threonine-protein kinase ULK2    168  177\n",
       "10336  Q9UHK0  Nuclear fragile X mental retardation-interacti...    486  495\n",
       "\n",
       "[10337 rows x 4 columns]"
      ]
     },
     "execution_count": 9,
     "metadata": {},
     "output_type": "execute_result"
    }
   ],
   "source": [
    "disprot = disprot_raw[['acc', 'name', 'start', 'end']]\n",
    "disprot"
   ]
  },
  {
   "cell_type": "code",
   "execution_count": 10,
   "metadata": {},
   "outputs": [
    {
     "data": {
      "text/plain": [
       "39"
      ]
     },
     "execution_count": 10,
     "metadata": {},
     "output_type": "execute_result"
    }
   ],
   "source": [
    "disprot[disprot.acc.isin(cre_dataset.uniprot_acc)].acc.nunique()"
   ]
  },
  {
   "cell_type": "code",
   "execution_count": 11,
   "metadata": {},
   "outputs": [
    {
     "data": {
      "text/plain": [
       "151"
      ]
     },
     "execution_count": 11,
     "metadata": {},
     "output_type": "execute_result"
    }
   ],
   "source": [
    "cre_dataset.uniprot_acc.nunique()"
   ]
  },
  {
   "cell_type": "code",
   "execution_count": 12,
   "metadata": {},
   "outputs": [],
   "source": [
    "uniprots = [ str(i)+\",\" for i in cre_dataset.uniprot_acc.unique()]\n",
    "#\"\".join(uniprots)"
   ]
  },
  {
   "cell_type": "markdown",
   "metadata": {},
   "source": [
    "API search in mobidb for CRE proteins  \n",
    "https://mobidb.bio.unipd.it/api/download?acc=P13864,P20226,Q62073,P06782,P10644,P15498,Q63450,P00523,P10105,P28829,P45442,P49674,Q93107,C8ZE58,O76360,P63328,O88933,O94532,P26038,P32851,P42768,Q13153,Q60591,Q60437,Q5VT25,P52293,Q6FI27,Q9PUQ1,P33339,P06401,P11308,P27577,P31323,P31751,A8KAM8,P15336,P19419,P28324,P41971,P43403,Q07960,Q9H2X6,O08967,O96013,Q9NR80,P35968,Q08050,Q8VDP3,P17948,P35916,Q00722,Q13625,Q9Y613,O14974,Q8NQJ3,Q8Y842,P97360,Q08499,O08808,O14745,O43639,Q07912,Q8WUM4,Q9Y4D1,Q06413,P00579,P11799,P05129,P00782,Q64287,Q94527,P36956,Q63622,Q00422,Q12851,Q8IVH8,P17606,P26663,P29475,P31007,Q9UKW6,P55957,P04629,Q16620,P12814,Q01705,P53041,P10911,P29323,P35520,P50586,Q96RG2,Q62120,P00519,P70336,O15146,P06213,P10721,P12003,P14633,P36888,P19174,P78545,Q00944,Q04721,Q9Y2X7,P70208,O08722,O74536,Q99N57,Q9NP95,P11142,Q9Y4K3,Q07889,P08191,Q9Z0R4,Q5EGY4,Q92985,O76074,Q96RR4,Q9P246,P14598,P17210,P04637,P13508,P22607,Q15027,Q86WV6,Q06263,P32527,Q04206,Q15942,Q01970,Q9UR24,O97143,P46108,Q06124,Q3KK31,Q96B97,Q9H7B4,Q9HAU4,Q01974,P22681,P32917,Q15418,Q9BY11,Q3UP24,Q9JK66,Q15691,P04521,P41743&format=tsv&projection=prediction-disorder-mobidb_lite"
   ]
  },
  {
   "cell_type": "code",
   "execution_count": 13,
   "metadata": {},
   "outputs": [
    {
     "name": "stdout",
     "output_type": "stream",
     "text": [
      "(115, 6)\n",
      "<class 'pandas.core.frame.DataFrame'>\n",
      "RangeIndex: 115 entries, 0 to 114\n",
      "Data columns (total 6 columns):\n",
      " #   Column            Non-Null Count  Dtype  \n",
      "---  ------            --------------  -----  \n",
      " 0   acc               115 non-null    object \n",
      " 1   feature           115 non-null    object \n",
      " 2   start..end        115 non-null    object \n",
      " 3   content_fraction  115 non-null    float64\n",
      " 4   content_count     115 non-null    int64  \n",
      " 5   length            115 non-null    int64  \n",
      "dtypes: float64(1), int64(2), object(3)\n",
      "memory usage: 5.5+ KB\n"
     ]
    }
   ],
   "source": [
    "mobidb_lite = pd.read_csv('../raw_data/mobidb_result_2022-09-05T15_04_47.929Z.tsv', sep= '\\t')\n",
    "print(mobidb_lite.shape)\n",
    "mobidb_lite.info()"
   ]
  },
  {
   "cell_type": "code",
   "execution_count": 14,
   "metadata": {},
   "outputs": [],
   "source": [
    "# Format start and end cols\n",
    "mobidb_lite[\"start..end\"] = mobidb_lite[\"start..end\"].str.split(\",\")\n",
    "mobidb_lite = mobidb_lite.explode('start..end')\n",
    "mobidb_lite[\"start..end\"] = mobidb_lite[\"start..end\"].apply(lambda x: re.findall('^(\\d+)\\..(\\d+)$', x))\n",
    "mobidb_lite[\"start..end\"] = mobidb_lite[\"start..end\"].str[0]\n",
    "mobidb_lite[\"start\"] = mobidb_lite[\"start..end\"].str[0].astype(int)\n",
    "mobidb_lite[\"end\"] = mobidb_lite[\"start..end\"].str[1].astype(int)"
   ]
  },
  {
   "cell_type": "code",
   "execution_count": 15,
   "metadata": {},
   "outputs": [
    {
     "name": "stdout",
     "output_type": "stream",
     "text": [
      "<class 'pandas.core.frame.DataFrame'>\n",
      "Int64Index: 270 entries, 0 to 114\n",
      "Data columns (total 8 columns):\n",
      " #   Column            Non-Null Count  Dtype  \n",
      "---  ------            --------------  -----  \n",
      " 0   acc               270 non-null    object \n",
      " 1   feature           270 non-null    object \n",
      " 2   start..end        270 non-null    object \n",
      " 3   content_fraction  270 non-null    float64\n",
      " 4   content_count     270 non-null    int64  \n",
      " 5   length            270 non-null    int64  \n",
      " 6   start             270 non-null    int32  \n",
      " 7   end               270 non-null    int32  \n",
      "dtypes: float64(1), int32(2), int64(2), object(3)\n",
      "memory usage: 16.9+ KB\n"
     ]
    }
   ],
   "source": [
    "mobidb_lite.info()"
   ]
  },
  {
   "cell_type": "code",
   "execution_count": 16,
   "metadata": {},
   "outputs": [
    {
     "data": {
      "text/plain": [
       "151"
      ]
     },
     "execution_count": 16,
     "metadata": {},
     "output_type": "execute_result"
    }
   ],
   "source": [
    "cre_dataset.uniprot_acc.nunique()"
   ]
  },
  {
   "cell_type": "code",
   "execution_count": 17,
   "metadata": {},
   "outputs": [
    {
     "data": {
      "text/plain": [
       "115"
      ]
     },
     "execution_count": 17,
     "metadata": {},
     "output_type": "execute_result"
    }
   ],
   "source": [
    "mobidb_lite.acc.nunique()"
   ]
  },
  {
   "cell_type": "code",
   "execution_count": 18,
   "metadata": {},
   "outputs": [],
   "source": [
    "mobidb_lite.drop(columns= [\"feature\", \"start..end\"], inplace= True)"
   ]
  },
  {
   "cell_type": "code",
   "execution_count": 19,
   "metadata": {},
   "outputs": [
    {
     "data": {
      "text/plain": [
       "<AxesSubplot:>"
      ]
     },
     "execution_count": 19,
     "metadata": {},
     "output_type": "execute_result"
    },
    {
     "data": {
      "image/png": "[encoded data removed]",
      "text/plain": [
       "<Figure size 432x288 with 1 Axes>"
      ]
     },
     "metadata": {
      "needs_background": "light"
     },
     "output_type": "display_data"
    }
   ],
   "source": [
    "mobidb_lite.content_fraction.plot.box()"
   ]
  },
  {
   "cell_type": "markdown",
   "metadata": {},
   "source": [
    "---"
   ]
  },
  {
   "cell_type": "markdown",
   "metadata": {},
   "source": [
    "# Evaluate overlap between CREs and MobiDB-lite IDRs"
   ]
  },
  {
   "cell_type": "code",
   "execution_count": 20,
   "metadata": {},
   "outputs": [],
   "source": [
    "# Check overlaps between CREs and IDRs\n",
    "cre = cre_dataset[['uniprot_acc', 'id_cre', 'start_aa', 'end_aa']].copy()\n",
    "cre.rename(columns= {'uniprot_acc': 'Chromosome', 'start_aa': 'Start', 'end_aa': 'End'}, inplace= True)\n",
    "cre = cre.sort_values('id_cre')\n",
    "cre = pr.PyRanges(cre)"
   ]
  },
  {
   "cell_type": "code",
   "execution_count": 21,
   "metadata": {},
   "outputs": [],
   "source": [
    "idr = mobidb_lite[['acc', 'start', 'end']].copy()\n",
    "idr.rename(columns= {\n",
    "        'acc': 'Chromosome',\n",
    "        'start': 'Start',\n",
    "        'end': 'End'}, inplace= True\n",
    ")\n",
    "idr = pr.PyRanges(idr)"
   ]
  },
  {
   "cell_type": "code",
   "execution_count": 22,
   "metadata": {},
   "outputs": [
    {
     "data": {
      "text/html": [
       "<div>\n",
       "<style scoped>\n",
       "    .dataframe tbody tr th:only-of-type {\n",
       "        vertical-align: middle;\n",
       "    }\n",
       "\n",
       "    .dataframe tbody tr th {\n",
       "        vertical-align: top;\n",
       "    }\n",
       "\n",
       "    .dataframe thead th {\n",
       "        text-align: right;\n",
       "    }\n",
       "</style>\n",
       "<table border=\"1\" class=\"dataframe\">\n",
       "  <thead>\n",
       "    <tr style=\"text-align: right;\">\n",
       "      <th></th>\n",
       "      <th>Chromosome</th>\n",
       "      <th>id_cre</th>\n",
       "      <th>Start</th>\n",
       "      <th>End</th>\n",
       "      <th>Count_mobidb</th>\n",
       "    </tr>\n",
       "  </thead>\n",
       "  <tbody>\n",
       "    <tr>\n",
       "      <th>0</th>\n",
       "      <td>A8KAM8</td>\n",
       "      <td>43</td>\n",
       "      <td>1006</td>\n",
       "      <td>1106</td>\n",
       "      <td>1</td>\n",
       "    </tr>\n",
       "    <tr>\n",
       "      <th>1</th>\n",
       "      <td>C8ZE58</td>\n",
       "      <td>15</td>\n",
       "      <td>604</td>\n",
       "      <td>741</td>\n",
       "      <td>2</td>\n",
       "    </tr>\n",
       "    <tr>\n",
       "      <th>2</th>\n",
       "      <td>O08722</td>\n",
       "      <td>124</td>\n",
       "      <td>544</td>\n",
       "      <td>688</td>\n",
       "      <td>0</td>\n",
       "    </tr>\n",
       "    <tr>\n",
       "      <th>3</th>\n",
       "      <td>O08808</td>\n",
       "      <td>72</td>\n",
       "      <td>1180</td>\n",
       "      <td>1199</td>\n",
       "      <td>0</td>\n",
       "    </tr>\n",
       "    <tr>\n",
       "      <th>4</th>\n",
       "      <td>O08967</td>\n",
       "      <td>54</td>\n",
       "      <td>251</td>\n",
       "      <td>266</td>\n",
       "      <td>0</td>\n",
       "    </tr>\n",
       "    <tr>\n",
       "      <th>...</th>\n",
       "      <td>...</td>\n",
       "      <td>...</td>\n",
       "      <td>...</td>\n",
       "      <td>...</td>\n",
       "      <td>...</td>\n",
       "    </tr>\n",
       "    <tr>\n",
       "      <th>163</th>\n",
       "      <td>Q63622</td>\n",
       "      <td>86</td>\n",
       "      <td>158</td>\n",
       "      <td>408</td>\n",
       "      <td>0</td>\n",
       "    </tr>\n",
       "    <tr>\n",
       "      <th>164</th>\n",
       "      <td>Q64287</td>\n",
       "      <td>83</td>\n",
       "      <td>410</td>\n",
       "      <td>439</td>\n",
       "      <td>0</td>\n",
       "    </tr>\n",
       "    <tr>\n",
       "      <th>165</th>\n",
       "      <td>Q92985</td>\n",
       "      <td>134</td>\n",
       "      <td>404</td>\n",
       "      <td>466</td>\n",
       "      <td>0</td>\n",
       "    </tr>\n",
       "    <tr>\n",
       "      <th>166</th>\n",
       "      <td>Q93107</td>\n",
       "      <td>14</td>\n",
       "      <td>91</td>\n",
       "      <td>157</td>\n",
       "      <td>2</td>\n",
       "    </tr>\n",
       "    <tr>\n",
       "      <th>167</th>\n",
       "      <td>Q94527</td>\n",
       "      <td>84</td>\n",
       "      <td>640</td>\n",
       "      <td>738</td>\n",
       "      <td>0</td>\n",
       "    </tr>\n",
       "  </tbody>\n",
       "</table>\n",
       "<p>168 rows × 5 columns</p>\n",
       "</div>"
      ],
      "text/plain": [
       "+--------------+-----------+-----------+-----------+----------------+\n",
       "| Chromosome   | id_cre    | Start     | End       | Count_mobidb   |\n",
       "| (category)   | (int64)   | (int32)   | (int32)   | (int64)        |\n",
       "|--------------+-----------+-----------+-----------+----------------|\n",
       "| A8KAM8       | 43        | 1006      | 1106      | 1              |\n",
       "| C8ZE58       | 15        | 604       | 741       | 2              |\n",
       "| O08722       | 124       | 544       | 688       | 0              |\n",
       "| O08808       | 72        | 1180      | 1199      | 0              |\n",
       "| ...          | ...       | ...       | ...       | ...            |\n",
       "| Q64287       | 83        | 410       | 439       | 0              |\n",
       "| Q92985       | 134       | 404       | 466       | 0              |\n",
       "| Q93107       | 14        | 91        | 157       | 2              |\n",
       "| Q94527       | 84        | 640       | 738       | 0              |\n",
       "+--------------+-----------+-----------+-----------+----------------+\n",
       "Unstranded PyRanges object has 168 rows and 5 columns from 151 chromosomes.\n",
       "For printing, the PyRanges was sorted on Chromosome."
      ]
     },
     "execution_count": 22,
     "metadata": {},
     "output_type": "execute_result"
    }
   ],
   "source": [
    "cre = cre.count_overlaps(idr, overlap_col=\"Count_mobidb\")\n",
    "#cre = cre.as_df()\n",
    "cre"
   ]
  },
  {
   "cell_type": "code",
   "execution_count": 23,
   "metadata": {},
   "outputs": [
    {
     "data": {
      "image/png": "[encoded data removed]",
      "text/plain": [
       "<Figure size 432x288 with 1 Axes>"
      ]
     },
     "metadata": {
      "needs_background": "light"
     },
     "output_type": "display_data"
    }
   ],
   "source": [
    "cre.Count_mobidb.value_counts().plot(kind='barh')\n",
    "plt.title(\"Overlap between CREs and Mobidb-lite\")\n",
    "plt.show()"
   ]
  },
  {
   "cell_type": "code",
   "execution_count": 64,
   "metadata": {},
   "outputs": [
    {
     "ename": "TypeError",
     "evalue": "'int' object is not callable",
     "output_type": "error",
     "traceback": [
      "\u001b[1;31m---------------------------------------------------------------------------\u001b[0m",
      "\u001b[1;31mTypeError\u001b[0m                                 Traceback (most recent call last)",
      "\u001b[1;32m<ipython-input-64-a0bf9b940bcf>\u001b[0m in \u001b[0;36m<module>\u001b[1;34m\u001b[0m\n\u001b[1;32m----> 1\u001b[1;33m \u001b[0mprint\u001b[0m\u001b[1;33m(\u001b[0m\u001b[1;34mf\"matching overlap is {cre[cre.Count_mobidb != 0].length()}\"\u001b[0m\u001b[1;33m)\u001b[0m\u001b[1;33m\u001b[0m\u001b[1;33m\u001b[0m\u001b[0m\n\u001b[0m",
      "\u001b[1;31mTypeError\u001b[0m: 'int' object is not callable"
     ]
    }
   ],
   "source": [
    "print(f\"matching overlap is {cre[cre.Count_mobidb != 0]}\")"
   ]
  },
  {
   "cell_type": "code",
   "execution_count": 68,
   "metadata": {},
   "outputs": [
    {
     "data": {
      "text/plain": [
       "0.39"
      ]
     },
     "execution_count": 68,
     "metadata": {},
     "output_type": "execute_result"
    }
   ],
   "source": [
    "round(66/168, 2)"
   ]
  },
  {
   "cell_type": "code",
   "execution_count": 61,
   "metadata": {},
   "outputs": [
    {
     "data": {
      "image/png": "[encoded data removed]",
      "text/plain": [
       "<Figure size 432x288 with 1 Axes>"
      ]
     },
     "metadata": {
      "needs_background": "light"
     },
     "output_type": "display_data"
    }
   ],
   "source": [
    "cre[cre.Count_mobidb != 0].as_df().Count_mobidb.value_counts().plot(kind='barh')\n",
    "plt.title(\"Only overlapping intervals\")\n",
    "plt.show()"
   ]
  },
  {
   "cell_type": "markdown",
   "metadata": {},
   "source": [
    "## Overlapping intervals"
   ]
  },
  {
   "cell_type": "code",
   "execution_count": 53,
   "metadata": {},
   "outputs": [
    {
     "data": {
      "text/html": [
       "<div>\n",
       "<style scoped>\n",
       "    .dataframe tbody tr th:only-of-type {\n",
       "        vertical-align: middle;\n",
       "    }\n",
       "\n",
       "    .dataframe tbody tr th {\n",
       "        vertical-align: top;\n",
       "    }\n",
       "\n",
       "    .dataframe thead th {\n",
       "        text-align: right;\n",
       "    }\n",
       "</style>\n",
       "<table border=\"1\" class=\"dataframe\">\n",
       "  <thead>\n",
       "    <tr style=\"text-align: right;\">\n",
       "      <th></th>\n",
       "      <th>Chromosome</th>\n",
       "      <th>id_cre</th>\n",
       "      <th>Start</th>\n",
       "      <th>End</th>\n",
       "      <th>Count_mobidb</th>\n",
       "    </tr>\n",
       "  </thead>\n",
       "  <tbody>\n",
       "    <tr>\n",
       "      <th>0</th>\n",
       "      <td>A8KAM8</td>\n",
       "      <td>43</td>\n",
       "      <td>1006</td>\n",
       "      <td>1106</td>\n",
       "      <td>1</td>\n",
       "    </tr>\n",
       "    <tr>\n",
       "      <th>1</th>\n",
       "      <td>C8ZE58</td>\n",
       "      <td>15</td>\n",
       "      <td>604</td>\n",
       "      <td>741</td>\n",
       "      <td>2</td>\n",
       "    </tr>\n",
       "    <tr>\n",
       "      <th>2</th>\n",
       "      <td>O14745</td>\n",
       "      <td>73</td>\n",
       "      <td>242</td>\n",
       "      <td>328</td>\n",
       "      <td>1</td>\n",
       "    </tr>\n",
       "    <tr>\n",
       "      <th>3</th>\n",
       "      <td>O14974</td>\n",
       "      <td>66</td>\n",
       "      <td>654</td>\n",
       "      <td>714</td>\n",
       "      <td>1</td>\n",
       "    </tr>\n",
       "    <tr>\n",
       "      <th>4</th>\n",
       "      <td>O43639</td>\n",
       "      <td>74</td>\n",
       "      <td>60</td>\n",
       "      <td>109</td>\n",
       "      <td>1</td>\n",
       "    </tr>\n",
       "    <tr>\n",
       "      <th>...</th>\n",
       "      <td>...</td>\n",
       "      <td>...</td>\n",
       "      <td>...</td>\n",
       "      <td>...</td>\n",
       "      <td>...</td>\n",
       "    </tr>\n",
       "    <tr>\n",
       "      <th>61</th>\n",
       "      <td>Q13625</td>\n",
       "      <td>64</td>\n",
       "      <td>693</td>\n",
       "      <td>901</td>\n",
       "      <td>3</td>\n",
       "    </tr>\n",
       "    <tr>\n",
       "      <th>62</th>\n",
       "      <td>Q15027</td>\n",
       "      <td>143</td>\n",
       "      <td>525</td>\n",
       "      <td>568</td>\n",
       "      <td>1</td>\n",
       "    </tr>\n",
       "    <tr>\n",
       "      <th>63</th>\n",
       "      <td>Q15942</td>\n",
       "      <td>148</td>\n",
       "      <td>1</td>\n",
       "      <td>130</td>\n",
       "      <td>1</td>\n",
       "    </tr>\n",
       "    <tr>\n",
       "      <th>64</th>\n",
       "      <td>Q60437</td>\n",
       "      <td>27</td>\n",
       "      <td>180</td>\n",
       "      <td>317</td>\n",
       "      <td>1</td>\n",
       "    </tr>\n",
       "    <tr>\n",
       "      <th>65</th>\n",
       "      <td>Q93107</td>\n",
       "      <td>14</td>\n",
       "      <td>91</td>\n",
       "      <td>157</td>\n",
       "      <td>2</td>\n",
       "    </tr>\n",
       "  </tbody>\n",
       "</table>\n",
       "<p>66 rows × 5 columns</p>\n",
       "</div>"
      ],
      "text/plain": [
       "+--------------+-----------+-----------+-----------+----------------+\n",
       "| Chromosome   | id_cre    | Start     | End       | Count_mobidb   |\n",
       "| (category)   | (int64)   | (int32)   | (int32)   | (int64)        |\n",
       "|--------------+-----------+-----------+-----------+----------------|\n",
       "| A8KAM8       | 43        | 1006      | 1106      | 1              |\n",
       "| C8ZE58       | 15        | 604       | 741       | 2              |\n",
       "| O14745       | 73        | 242       | 328       | 1              |\n",
       "| O14974       | 66        | 654       | 714       | 1              |\n",
       "| ...          | ...       | ...       | ...       | ...            |\n",
       "| Q15027       | 143       | 525       | 568       | 1              |\n",
       "| Q15942       | 148       | 1         | 130       | 1              |\n",
       "| Q60437       | 27        | 180       | 317       | 1              |\n",
       "| Q93107       | 14        | 91        | 157       | 2              |\n",
       "+--------------+-----------+-----------+-----------+----------------+\n",
       "Unstranded PyRanges object has 66 rows and 5 columns from 64 chromosomes.\n",
       "For printing, the PyRanges was sorted on Chromosome."
      ]
     },
     "execution_count": 53,
     "metadata": {},
     "output_type": "execute_result"
    }
   ],
   "source": [
    "cre.overlap(idr) # how=“containment” reports all intervals where the overlapping is contained within it."
   ]
  },
  {
   "cell_type": "code",
   "execution_count": 54,
   "metadata": {},
   "outputs": [
    {
     "data": {
      "text/html": [
       "<div>\n",
       "<style scoped>\n",
       "    .dataframe tbody tr th:only-of-type {\n",
       "        vertical-align: middle;\n",
       "    }\n",
       "\n",
       "    .dataframe tbody tr th {\n",
       "        vertical-align: top;\n",
       "    }\n",
       "\n",
       "    .dataframe thead th {\n",
       "        text-align: right;\n",
       "    }\n",
       "</style>\n",
       "<table border=\"1\" class=\"dataframe\">\n",
       "  <thead>\n",
       "    <tr style=\"text-align: right;\">\n",
       "      <th></th>\n",
       "      <th>acc</th>\n",
       "      <th>content_fraction</th>\n",
       "      <th>content_count</th>\n",
       "      <th>length</th>\n",
       "      <th>start</th>\n",
       "      <th>end</th>\n",
       "    </tr>\n",
       "  </thead>\n",
       "  <tbody>\n",
       "    <tr>\n",
       "      <th>1</th>\n",
       "      <td>C8ZE58</td>\n",
       "      <td>0.095</td>\n",
       "      <td>84</td>\n",
       "      <td>886</td>\n",
       "      <td>1</td>\n",
       "      <td>28</td>\n",
       "    </tr>\n",
       "    <tr>\n",
       "      <th>1</th>\n",
       "      <td>C8ZE58</td>\n",
       "      <td>0.095</td>\n",
       "      <td>84</td>\n",
       "      <td>886</td>\n",
       "      <td>673</td>\n",
       "      <td>705</td>\n",
       "    </tr>\n",
       "    <tr>\n",
       "      <th>1</th>\n",
       "      <td>C8ZE58</td>\n",
       "      <td>0.095</td>\n",
       "      <td>84</td>\n",
       "      <td>886</td>\n",
       "      <td>734</td>\n",
       "      <td>756</td>\n",
       "    </tr>\n",
       "  </tbody>\n",
       "</table>\n",
       "</div>"
      ],
      "text/plain": [
       "      acc  content_fraction  content_count  length  start  end\n",
       "1  C8ZE58             0.095             84     886      1   28\n",
       "1  C8ZE58             0.095             84     886    673  705\n",
       "1  C8ZE58             0.095             84     886    734  756"
      ]
     },
     "execution_count": 54,
     "metadata": {},
     "output_type": "execute_result"
    }
   ],
   "source": [
    "mobidb_lite[mobidb_lite.acc == 'C8ZE58']"
   ]
  },
  {
   "cell_type": "code",
   "execution_count": null,
   "metadata": {},
   "outputs": [],
   "source": []
  },
  {
   "cell_type": "code",
   "execution_count": null,
   "metadata": {},
   "outputs": [],
   "source": []
  },
  {
   "cell_type": "markdown",
   "metadata": {},
   "source": [
    "## Evaluate overlap between CREs and Disprot IDRs"
   ]
  },
  {
   "cell_type": "code",
   "execution_count": 72,
   "metadata": {},
   "outputs": [
    {
     "name": "stderr",
     "output_type": "stream",
     "text": [
      "c:\\Users\\User\\AppData\\Local\\Programs\\Python\\Python37\\lib\\site-packages\\pandas\\core\\frame.py:4449: SettingWithCopyWarning: \n",
      "A value is trying to be set on a copy of a slice from a DataFrame\n",
      "\n",
      "See the caveats in the documentation: https://pandas.pydata.org/pandas-docs/stable/user_guide/indexing.html#returning-a-view-versus-a-copy\n",
      "  errors=errors,\n"
     ]
    }
   ],
   "source": [
    "disprot.rename(\n",
    "    columns= {\n",
    "        'acc': 'Chromosome'\n",
    "    },\n",
    "    inplace= True\n",
    ")\n",
    "disprot.columns = disprot.columns.str.capitalize()"
   ]
  },
  {
   "cell_type": "code",
   "execution_count": 74,
   "metadata": {},
   "outputs": [],
   "source": [
    "disprot = pr.PyRanges(disprot)"
   ]
  },
  {
   "cell_type": "code",
   "execution_count": 81,
   "metadata": {},
   "outputs": [
    {
     "data": {
      "text/html": [
       "<div>\n",
       "<style scoped>\n",
       "    .dataframe tbody tr th:only-of-type {\n",
       "        vertical-align: middle;\n",
       "    }\n",
       "\n",
       "    .dataframe tbody tr th {\n",
       "        vertical-align: top;\n",
       "    }\n",
       "\n",
       "    .dataframe thead th {\n",
       "        text-align: right;\n",
       "    }\n",
       "</style>\n",
       "<table border=\"1\" class=\"dataframe\">\n",
       "  <thead>\n",
       "    <tr style=\"text-align: right;\">\n",
       "      <th></th>\n",
       "      <th>Chromosome</th>\n",
       "      <th>id_cre</th>\n",
       "      <th>Start</th>\n",
       "      <th>End</th>\n",
       "      <th>Count_mobidb</th>\n",
       "      <th>Count_disprot</th>\n",
       "    </tr>\n",
       "  </thead>\n",
       "  <tbody>\n",
       "    <tr>\n",
       "      <th>0</th>\n",
       "      <td>A8KAM8</td>\n",
       "      <td>43</td>\n",
       "      <td>1006</td>\n",
       "      <td>1106</td>\n",
       "      <td>1</td>\n",
       "      <td>0</td>\n",
       "    </tr>\n",
       "    <tr>\n",
       "      <th>1</th>\n",
       "      <td>C8ZE58</td>\n",
       "      <td>15</td>\n",
       "      <td>604</td>\n",
       "      <td>741</td>\n",
       "      <td>2</td>\n",
       "      <td>0</td>\n",
       "    </tr>\n",
       "    <tr>\n",
       "      <th>2</th>\n",
       "      <td>O08722</td>\n",
       "      <td>124</td>\n",
       "      <td>544</td>\n",
       "      <td>688</td>\n",
       "      <td>0</td>\n",
       "      <td>0</td>\n",
       "    </tr>\n",
       "    <tr>\n",
       "      <th>3</th>\n",
       "      <td>O08808</td>\n",
       "      <td>72</td>\n",
       "      <td>1180</td>\n",
       "      <td>1199</td>\n",
       "      <td>0</td>\n",
       "      <td>0</td>\n",
       "    </tr>\n",
       "    <tr>\n",
       "      <th>4</th>\n",
       "      <td>O08967</td>\n",
       "      <td>54</td>\n",
       "      <td>251</td>\n",
       "      <td>266</td>\n",
       "      <td>0</td>\n",
       "      <td>0</td>\n",
       "    </tr>\n",
       "    <tr>\n",
       "      <th>...</th>\n",
       "      <td>...</td>\n",
       "      <td>...</td>\n",
       "      <td>...</td>\n",
       "      <td>...</td>\n",
       "      <td>...</td>\n",
       "      <td>...</td>\n",
       "    </tr>\n",
       "    <tr>\n",
       "      <th>163</th>\n",
       "      <td>Q63622</td>\n",
       "      <td>86</td>\n",
       "      <td>158</td>\n",
       "      <td>408</td>\n",
       "      <td>0</td>\n",
       "      <td>0</td>\n",
       "    </tr>\n",
       "    <tr>\n",
       "      <th>164</th>\n",
       "      <td>Q64287</td>\n",
       "      <td>83</td>\n",
       "      <td>410</td>\n",
       "      <td>439</td>\n",
       "      <td>0</td>\n",
       "      <td>0</td>\n",
       "    </tr>\n",
       "    <tr>\n",
       "      <th>165</th>\n",
       "      <td>Q92985</td>\n",
       "      <td>134</td>\n",
       "      <td>404</td>\n",
       "      <td>466</td>\n",
       "      <td>0</td>\n",
       "      <td>0</td>\n",
       "    </tr>\n",
       "    <tr>\n",
       "      <th>166</th>\n",
       "      <td>Q93107</td>\n",
       "      <td>14</td>\n",
       "      <td>91</td>\n",
       "      <td>157</td>\n",
       "      <td>2</td>\n",
       "      <td>0</td>\n",
       "    </tr>\n",
       "    <tr>\n",
       "      <th>167</th>\n",
       "      <td>Q94527</td>\n",
       "      <td>84</td>\n",
       "      <td>640</td>\n",
       "      <td>738</td>\n",
       "      <td>0</td>\n",
       "      <td>0</td>\n",
       "    </tr>\n",
       "  </tbody>\n",
       "</table>\n",
       "<p>168 rows × 6 columns</p>\n",
       "</div>"
      ],
      "text/plain": [
       "+--------------+-----------+-----------+-----------+----------------+-------+\n",
       "| Chromosome   | id_cre    | Start     | End       | Count_mobidb   | +1    |\n",
       "| (category)   | (int64)   | (int32)   | (int32)   | (int64)        | ...   |\n",
       "|--------------+-----------+-----------+-----------+----------------+-------|\n",
       "| A8KAM8       | 43        | 1006      | 1106      | 1              | ...   |\n",
       "| C8ZE58       | 15        | 604       | 741       | 2              | ...   |\n",
       "| O08722       | 124       | 544       | 688       | 0              | ...   |\n",
       "| O08808       | 72        | 1180      | 1199      | 0              | ...   |\n",
       "| ...          | ...       | ...       | ...       | ...            | ...   |\n",
       "| Q64287       | 83        | 410       | 439       | 0              | ...   |\n",
       "| Q92985       | 134       | 404       | 466       | 0              | ...   |\n",
       "| Q93107       | 14        | 91        | 157       | 2              | ...   |\n",
       "| Q94527       | 84        | 640       | 738       | 0              | ...   |\n",
       "+--------------+-----------+-----------+-----------+----------------+-------+\n",
       "Unstranded PyRanges object has 168 rows and 6 columns from 151 chromosomes.\n",
       "For printing, the PyRanges was sorted on Chromosome.\n",
       "1 hidden columns: Count_disprot"
      ]
     },
     "execution_count": 81,
     "metadata": {},
     "output_type": "execute_result"
    }
   ],
   "source": [
    "cre = cre.count_overlaps(disprot, overlap_col=\"Count_disprot\")\n",
    "#cre = cre.as_df()\n",
    "cre"
   ]
  },
  {
   "cell_type": "code",
   "execution_count": 91,
   "metadata": {},
   "outputs": [
    {
     "data": {
      "text/plain": [
       "Text(0.5, 1.0, 'Overlap between CREs and Disprot')"
      ]
     },
     "execution_count": 91,
     "metadata": {},
     "output_type": "execute_result"
    },
    {
     "data": {
      "image/png": "[encoded data removed]",
      "text/plain": [
       "<Figure size 432x288 with 1 Axes>"
      ]
     },
     "metadata": {
      "needs_background": "light"
     },
     "output_type": "display_data"
    }
   ],
   "source": [
    "cre.Count_disprot.value_counts().plot(kind= 'barh')\n",
    "plt.title(\"Overlap between CREs and Disprot\")"
   ]
  },
  {
   "cell_type": "code",
   "execution_count": 4,
   "metadata": {},
   "outputs": [],
   "source": [
    "#cre[cre.Count_disprot == 22]"
   ]
  },
  {
   "cell_type": "code",
   "execution_count": 3,
   "metadata": {},
   "outputs": [],
   "source": [
    "# df = disprot_raw[disprot_raw.term_namespace == \"Structural state\"]\n",
    "# df[df.acc == 'P04637']"
   ]
  },
  {
   "cell_type": "code",
   "execution_count": 1,
   "metadata": {},
   "outputs": [],
   "source": [
    "#disprot[disprot.Chromosome == 'P04637']"
   ]
  },
  {
   "cell_type": "code",
   "execution_count": 2,
   "metadata": {},
   "outputs": [],
   "source": [
    "#cre_dataset[cre_dataset.uniprot_acc == 'P04637']"
   ]
  },
  {
   "cell_type": "markdown",
   "metadata": {},
   "source": [
    "---"
   ]
  },
  {
   "cell_type": "code",
   "execution_count": null,
   "metadata": {},
   "outputs": [],
   "source": []
  },
  {
   "cell_type": "markdown",
   "metadata": {},
   "source": [
    "---"
   ]
  },
  {
   "cell_type": "markdown",
   "metadata": {},
   "source": [
    "# Evaluate the percentage of coverage between CREs and IDRs (from mobidb)"
   ]
  },
  {
   "cell_type": "code",
   "execution_count": 40,
   "metadata": {},
   "outputs": [],
   "source": [
    "cre_coord = cre_dataset[['uniprot_acc', 'id_cre', 'start_aa', 'end_aa']].sort_values('uniprot_acc')"
   ]
  },
  {
   "cell_type": "code",
   "execution_count": 41,
   "metadata": {},
   "outputs": [
    {
     "data": {
      "text/plain": [
       "151"
      ]
     },
     "execution_count": 41,
     "metadata": {},
     "output_type": "execute_result"
    }
   ],
   "source": [
    "cre_coord.uniprot_acc.nunique()"
   ]
  },
  {
   "cell_type": "code",
   "execution_count": 29,
   "metadata": {},
   "outputs": [],
   "source": [
    "mobidb_coord = mobidb_lite[['acc', 'start', 'end']].rename(columns= {'acc': 'uniprot_acc', 'start': 'start_idr', 'end': 'end_idr'})"
   ]
  },
  {
   "cell_type": "code",
   "execution_count": 34,
   "metadata": {},
   "outputs": [
    {
     "data": {
      "text/plain": [
       "115"
      ]
     },
     "execution_count": 34,
     "metadata": {},
     "output_type": "execute_result"
    }
   ],
   "source": [
    "mobidb_coord.uniprot_acc.nunique()"
   ]
  },
  {
   "cell_type": "code",
   "execution_count": 44,
   "metadata": {},
   "outputs": [
    {
     "data": {
      "text/html": [
       "<div>\n",
       "<style scoped>\n",
       "    .dataframe tbody tr th:only-of-type {\n",
       "        vertical-align: middle;\n",
       "    }\n",
       "\n",
       "    .dataframe tbody tr th {\n",
       "        vertical-align: top;\n",
       "    }\n",
       "\n",
       "    .dataframe thead th {\n",
       "        text-align: right;\n",
       "    }\n",
       "</style>\n",
       "<table border=\"1\" class=\"dataframe\">\n",
       "  <thead>\n",
       "    <tr style=\"text-align: right;\">\n",
       "      <th></th>\n",
       "      <th>uniprot_acc</th>\n",
       "      <th>id_cre</th>\n",
       "      <th>start_aa</th>\n",
       "      <th>end_aa</th>\n",
       "      <th>start_idr</th>\n",
       "      <th>end_idr</th>\n",
       "    </tr>\n",
       "  </thead>\n",
       "  <tbody>\n",
       "    <tr>\n",
       "      <th>0</th>\n",
       "      <td>A8KAM8</td>\n",
       "      <td>43</td>\n",
       "      <td>1006</td>\n",
       "      <td>1106</td>\n",
       "      <td>1019.0</td>\n",
       "      <td>1106.0</td>\n",
       "    </tr>\n",
       "    <tr>\n",
       "      <th>1</th>\n",
       "      <td>C8ZE58</td>\n",
       "      <td>15</td>\n",
       "      <td>604</td>\n",
       "      <td>741</td>\n",
       "      <td>1.0</td>\n",
       "      <td>28.0</td>\n",
       "    </tr>\n",
       "    <tr>\n",
       "      <th>2</th>\n",
       "      <td>C8ZE58</td>\n",
       "      <td>15</td>\n",
       "      <td>604</td>\n",
       "      <td>741</td>\n",
       "      <td>673.0</td>\n",
       "      <td>705.0</td>\n",
       "    </tr>\n",
       "    <tr>\n",
       "      <th>3</th>\n",
       "      <td>C8ZE58</td>\n",
       "      <td>15</td>\n",
       "      <td>604</td>\n",
       "      <td>741</td>\n",
       "      <td>734.0</td>\n",
       "      <td>756.0</td>\n",
       "    </tr>\n",
       "    <tr>\n",
       "      <th>4</th>\n",
       "      <td>O08722</td>\n",
       "      <td>124</td>\n",
       "      <td>544</td>\n",
       "      <td>688</td>\n",
       "      <td>NaN</td>\n",
       "      <td>NaN</td>\n",
       "    </tr>\n",
       "    <tr>\n",
       "      <th>...</th>\n",
       "      <td>...</td>\n",
       "      <td>...</td>\n",
       "      <td>...</td>\n",
       "      <td>...</td>\n",
       "      <td>...</td>\n",
       "      <td>...</td>\n",
       "    </tr>\n",
       "    <tr>\n",
       "      <th>331</th>\n",
       "      <td>Q9Y613</td>\n",
       "      <td>65</td>\n",
       "      <td>1081</td>\n",
       "      <td>1145</td>\n",
       "      <td>566.0</td>\n",
       "      <td>619.0</td>\n",
       "    </tr>\n",
       "    <tr>\n",
       "      <th>332</th>\n",
       "      <td>Q9Y613</td>\n",
       "      <td>65</td>\n",
       "      <td>1081</td>\n",
       "      <td>1145</td>\n",
       "      <td>1020.0</td>\n",
       "      <td>1143.0</td>\n",
       "    </tr>\n",
       "    <tr>\n",
       "      <th>333</th>\n",
       "      <td>Q9Z0R4</td>\n",
       "      <td>132</td>\n",
       "      <td>1151</td>\n",
       "      <td>1205</td>\n",
       "      <td>310.0</td>\n",
       "      <td>356.0</td>\n",
       "    </tr>\n",
       "    <tr>\n",
       "      <th>334</th>\n",
       "      <td>Q9Z0R4</td>\n",
       "      <td>132</td>\n",
       "      <td>1151</td>\n",
       "      <td>1205</td>\n",
       "      <td>614.0</td>\n",
       "      <td>706.0</td>\n",
       "    </tr>\n",
       "    <tr>\n",
       "      <th>335</th>\n",
       "      <td>Q9Z0R4</td>\n",
       "      <td>132</td>\n",
       "      <td>1151</td>\n",
       "      <td>1205</td>\n",
       "      <td>827.0</td>\n",
       "      <td>863.0</td>\n",
       "    </tr>\n",
       "  </tbody>\n",
       "</table>\n",
       "<p>336 rows × 6 columns</p>\n",
       "</div>"
      ],
      "text/plain": [
       "    uniprot_acc  id_cre  start_aa  end_aa  start_idr  end_idr\n",
       "0        A8KAM8      43      1006    1106     1019.0   1106.0\n",
       "1        C8ZE58      15       604     741        1.0     28.0\n",
       "2        C8ZE58      15       604     741      673.0    705.0\n",
       "3        C8ZE58      15       604     741      734.0    756.0\n",
       "4        O08722     124       544     688        NaN      NaN\n",
       "..          ...     ...       ...     ...        ...      ...\n",
       "331      Q9Y613      65      1081    1145      566.0    619.0\n",
       "332      Q9Y613      65      1081    1145     1020.0   1143.0\n",
       "333      Q9Z0R4     132      1151    1205      310.0    356.0\n",
       "334      Q9Z0R4     132      1151    1205      614.0    706.0\n",
       "335      Q9Z0R4     132      1151    1205      827.0    863.0\n",
       "\n",
       "[336 rows x 6 columns]"
      ]
     },
     "execution_count": 44,
     "metadata": {},
     "output_type": "execute_result"
    }
   ],
   "source": [
    "df = cre_coord.merge(mobidb_coord, how= 'left')\n",
    "df"
   ]
  },
  {
   "cell_type": "code",
   "execution_count": 46,
   "metadata": {},
   "outputs": [
    {
     "data": {
      "text/html": [
       "<div>\n",
       "<style scoped>\n",
       "    .dataframe tbody tr th:only-of-type {\n",
       "        vertical-align: middle;\n",
       "    }\n",
       "\n",
       "    .dataframe tbody tr th {\n",
       "        vertical-align: top;\n",
       "    }\n",
       "\n",
       "    .dataframe thead th {\n",
       "        text-align: right;\n",
       "    }\n",
       "</style>\n",
       "<table border=\"1\" class=\"dataframe\">\n",
       "  <thead>\n",
       "    <tr style=\"text-align: right;\">\n",
       "      <th></th>\n",
       "      <th>uniprot_acc</th>\n",
       "      <th>start_idr</th>\n",
       "      <th>end_idr</th>\n",
       "    </tr>\n",
       "  </thead>\n",
       "  <tbody>\n",
       "    <tr>\n",
       "      <th>114</th>\n",
       "      <td>Q9Z0R4</td>\n",
       "      <td>310</td>\n",
       "      <td>356</td>\n",
       "    </tr>\n",
       "    <tr>\n",
       "      <th>114</th>\n",
       "      <td>Q9Z0R4</td>\n",
       "      <td>614</td>\n",
       "      <td>706</td>\n",
       "    </tr>\n",
       "    <tr>\n",
       "      <th>114</th>\n",
       "      <td>Q9Z0R4</td>\n",
       "      <td>827</td>\n",
       "      <td>863</td>\n",
       "    </tr>\n",
       "  </tbody>\n",
       "</table>\n",
       "</div>"
      ],
      "text/plain": [
       "    uniprot_acc  start_idr  end_idr\n",
       "114      Q9Z0R4        310      356\n",
       "114      Q9Z0R4        614      706\n",
       "114      Q9Z0R4        827      863"
      ]
     },
     "execution_count": 46,
     "metadata": {},
     "output_type": "execute_result"
    }
   ],
   "source": [
    "mobidb_coord[mobidb_coord.uniprot_acc == 'Q9Z0R4']"
   ]
  },
  {
   "cell_type": "code",
   "execution_count": 47,
   "metadata": {},
   "outputs": [
    {
     "data": {
      "text/html": [
       "<div>\n",
       "<style scoped>\n",
       "    .dataframe tbody tr th:only-of-type {\n",
       "        vertical-align: middle;\n",
       "    }\n",
       "\n",
       "    .dataframe tbody tr th {\n",
       "        vertical-align: top;\n",
       "    }\n",
       "\n",
       "    .dataframe thead th {\n",
       "        text-align: right;\n",
       "    }\n",
       "</style>\n",
       "<table border=\"1\" class=\"dataframe\">\n",
       "  <thead>\n",
       "    <tr style=\"text-align: right;\">\n",
       "      <th></th>\n",
       "      <th>uniprot_acc</th>\n",
       "      <th>id_cre</th>\n",
       "      <th>start_aa</th>\n",
       "      <th>end_aa</th>\n",
       "    </tr>\n",
       "  </thead>\n",
       "  <tbody>\n",
       "    <tr>\n",
       "      <th>131</th>\n",
       "      <td>Q9Z0R4</td>\n",
       "      <td>132</td>\n",
       "      <td>1151</td>\n",
       "      <td>1205</td>\n",
       "    </tr>\n",
       "  </tbody>\n",
       "</table>\n",
       "</div>"
      ],
      "text/plain": [
       "    uniprot_acc  id_cre  start_aa  end_aa\n",
       "131      Q9Z0R4     132      1151    1205"
      ]
     },
     "execution_count": 47,
     "metadata": {},
     "output_type": "execute_result"
    }
   ],
   "source": [
    "cre_coord[cre_coord.uniprot_acc == 'Q9Z0R4']"
   ]
  },
  {
   "cell_type": "code",
   "execution_count": 48,
   "metadata": {},
   "outputs": [
    {
     "data": {
      "text/html": [
       "<div>\n",
       "<style scoped>\n",
       "    .dataframe tbody tr th:only-of-type {\n",
       "        vertical-align: middle;\n",
       "    }\n",
       "\n",
       "    .dataframe tbody tr th {\n",
       "        vertical-align: top;\n",
       "    }\n",
       "\n",
       "    .dataframe thead th {\n",
       "        text-align: right;\n",
       "    }\n",
       "</style>\n",
       "<table border=\"1\" class=\"dataframe\">\n",
       "  <thead>\n",
       "    <tr style=\"text-align: right;\">\n",
       "      <th></th>\n",
       "      <th>uniprot_acc</th>\n",
       "      <th>id_cre</th>\n",
       "      <th>start_aa</th>\n",
       "      <th>end_aa</th>\n",
       "      <th>start_idr</th>\n",
       "      <th>end_idr</th>\n",
       "    </tr>\n",
       "  </thead>\n",
       "  <tbody>\n",
       "    <tr>\n",
       "      <th>333</th>\n",
       "      <td>Q9Z0R4</td>\n",
       "      <td>132</td>\n",
       "      <td>1151</td>\n",
       "      <td>1205</td>\n",
       "      <td>310.0</td>\n",
       "      <td>356.0</td>\n",
       "    </tr>\n",
       "    <tr>\n",
       "      <th>334</th>\n",
       "      <td>Q9Z0R4</td>\n",
       "      <td>132</td>\n",
       "      <td>1151</td>\n",
       "      <td>1205</td>\n",
       "      <td>614.0</td>\n",
       "      <td>706.0</td>\n",
       "    </tr>\n",
       "    <tr>\n",
       "      <th>335</th>\n",
       "      <td>Q9Z0R4</td>\n",
       "      <td>132</td>\n",
       "      <td>1151</td>\n",
       "      <td>1205</td>\n",
       "      <td>827.0</td>\n",
       "      <td>863.0</td>\n",
       "    </tr>\n",
       "  </tbody>\n",
       "</table>\n",
       "</div>"
      ],
      "text/plain": [
       "    uniprot_acc  id_cre  start_aa  end_aa  start_idr  end_idr\n",
       "333      Q9Z0R4     132      1151    1205      310.0    356.0\n",
       "334      Q9Z0R4     132      1151    1205      614.0    706.0\n",
       "335      Q9Z0R4     132      1151    1205      827.0    863.0"
      ]
     },
     "execution_count": 48,
     "metadata": {},
     "output_type": "execute_result"
    }
   ],
   "source": [
    "df[df.uniprot_acc == 'Q9Z0R4']"
   ]
  }
 ],
 "metadata": {
  "kernelspec": {
   "display_name": "Python 3.7.9 64-bit",
   "language": "python",
   "name": "python3"
  },
  "language_info": {
   "codemirror_mode": {
    "name": "ipython",
    "version": 3
   },
   "file_extension": ".py",
   "mimetype": "text/x-python",
   "name": "python",
   "nbconvert_exporter": "python",
   "pygments_lexer": "ipython3",
   "version": "3.7.9"
  },
  "orig_nbformat": 4,
  "vscode": {
   "interpreter": {
    "hash": "82d4c6f819cf47785f735f902f00da8643513d08dab4f4c7470bccf934b8d2d6"
   }
  }
 },
 "nbformat": 4,
 "nbformat_minor": 2
}
