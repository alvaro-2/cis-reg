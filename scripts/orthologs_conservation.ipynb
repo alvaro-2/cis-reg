{
 "cells": [
  {
   "cell_type": "code",
   "execution_count": 7,
   "metadata": {},
   "outputs": [],
   "source": [
    "from xi_covutils import conservation\n",
    "from Bio import AlignIO\n",
    "#from xi_covutils.conservation import BackgroundFreq, entropy"
   ]
  },
  {
   "cell_type": "code",
   "execution_count": 5,
   "metadata": {},
   "outputs": [],
   "source": [
    "seqs = []\n",
    "msa = open('../homology_transfer/pipeline_MSA_uniprot/A0A2I0BVG8_clustalO_full_gapstrip', 'r')\n",
    "lines = msa.readlines()\n",
    "for seq in lines:\n",
    "    seqs.append(seq)"
   ]
  },
  {
   "cell_type": "code",
   "execution_count": 11,
   "metadata": {},
   "outputs": [],
   "source": [
    "align = AlignIO.read(open('../homology_transfer/pipeline_MSA_uniprot/A0A2I0BVG8_clustalO_full_gapstrip'), format = 'fasta')"
   ]
  },
  {
   "cell_type": "code",
   "execution_count": 14,
   "metadata": {},
   "outputs": [],
   "source": [
    "ids = []\n",
    "seqs = []\n",
    "for record in align:\n",
    "    ids.append(record.id)\n",
    "    seqs.append(record.seq)"
   ]
  },
  {
   "cell_type": "code",
   "execution_count": 15,
   "metadata": {},
   "outputs": [
    {
     "data": {
      "text/plain": [
       "['A0A2I0BVG8',\n",
       " 'A0A023B173',\n",
       " 'A0A0C2IKB7',\n",
       " 'A0A0D9QJY8',\n",
       " 'A0A0F7V4V1',\n",
       " 'A0A0I9N7S6',\n",
       " 'A0A0L7M8D5',\n",
       " 'A0A0M3QYS8',\n",
       " 'A0A1Y3DU95',\n",
       " 'A0A2H1A7H9',\n",
       " 'A0A3B0K4D0',\n",
       " 'A0A3P8V2H6',\n",
       " 'A0A484AWS4',\n",
       " 'A0A663MUB0',\n",
       " 'A0A669QE76',\n",
       " 'A0A671V988',\n",
       " 'A0A672TAA4',\n",
       " 'A0A672U516',\n",
       " 'A0A6I8W1A5',\n",
       " 'A0A6J1LRD7',\n",
       " 'A0A6P3EUQ4',\n",
       " 'A5DH79',\n",
       " 'A5KBU9',\n",
       " 'A9GF00',\n",
       " 'B3MY55',\n",
       " 'B4H883',\n",
       " 'B4L7C2',\n",
       " 'B4MF09',\n",
       " 'D4A165',\n",
       " 'D5CLG6',\n",
       " 'E1EVZ2',\n",
       " 'E3LES8',\n",
       " 'F8CEZ6',\n",
       " 'G1N6P4',\n",
       " 'G8BU96',\n",
       " 'Q3HNM6',\n",
       " 'Q4N737',\n",
       " 'Q4UIH6',\n",
       " 'Q758Z8',\n",
       " 'T1G0Q3',\n",
       " 'T1JEX2',\n",
       " 'U3JZ10',\n",
       " 'U6GJP5',\n",
       " 'W1Q785',\n",
       " 'W4J6J2']"
      ]
     },
     "execution_count": 15,
     "metadata": {},
     "output_type": "execute_result"
    }
   ],
   "source": [
    "ids"
   ]
  },
  {
   "cell_type": "code",
   "execution_count": 20,
   "metadata": {},
   "outputs": [
    {
     "data": {
      "text/plain": [
       "Bio.Seq.Seq"
      ]
     },
     "execution_count": 20,
     "metadata": {},
     "output_type": "execute_result"
    }
   ],
   "source": [
    "type(seqs[0])"
   ]
  },
  {
   "cell_type": "code",
   "execution_count": 3,
   "metadata": {},
   "outputs": [
    {
     "ename": "TypeError",
     "evalue": "entropy() missing 1 required positional argument: 'seq_data'",
     "output_type": "error",
     "traceback": [
      "\u001b[0;31m---------------------------------------------------------------------------\u001b[0m",
      "\u001b[0;31mTypeError\u001b[0m                                 Traceback (most recent call last)",
      "\u001b[0;32m/tmp/ipykernel_138515/2103776563.py\u001b[0m in \u001b[0;36m<module>\u001b[0;34m\u001b[0m\n\u001b[0;32m----> 1\u001b[0;31m \u001b[0mconservation\u001b[0m\u001b[0;34m.\u001b[0m\u001b[0mentropy\u001b[0m\u001b[0;34m(\u001b[0m\u001b[0;34m)\u001b[0m\u001b[0;34m\u001b[0m\u001b[0;34m\u001b[0m\u001b[0m\n\u001b[0m",
      "\u001b[0;31mTypeError\u001b[0m: entropy() missing 1 required positional argument: 'seq_data'"
     ]
    }
   ],
   "source": [
    "conservation.entropy()"
   ]
  }
 ],
 "metadata": {
  "kernelspec": {
   "display_name": "Python 3.7.9 ('alvenv')",
   "language": "python",
   "name": "python3"
  },
  "language_info": {
   "codemirror_mode": {
    "name": "ipython",
    "version": 3
   },
   "file_extension": ".py",
   "mimetype": "text/x-python",
   "name": "python",
   "nbconvert_exporter": "python",
   "pygments_lexer": "ipython3",
   "version": "3.7.9"
  },
  "orig_nbformat": 4,
  "vscode": {
   "interpreter": {
    "hash": "a4c2436a14b1b6c4426c49ec4e5513a6c0b8423d7af09657c6d1b41bc595cc3b"
   }
  }
 },
 "nbformat": 4,
 "nbformat_minor": 2
}
