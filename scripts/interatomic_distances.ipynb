{
 "cells": [
  {
   "cell_type": "code",
   "execution_count": 5,
   "metadata": {},
   "outputs": [],
   "source": [
    "import pandas as pd\n",
    "import distances\n",
    "from Bio.PDB import *\n",
    "import os"
   ]
  },
  {
   "cell_type": "code",
   "execution_count": 6,
   "metadata": {},
   "outputs": [],
   "source": [
    "# Dataset with all the PDB structures for all kinases (123 out of 280)\n",
    "uniprot_pdb = pd.read_csv('../datasets/uniprot_pdb.tsv', sep= '\\t')\n",
    "# cre = pd.read_csv('../datasets/cre_dataset.csv')"
   ]
  },
  {
   "cell_type": "code",
   "execution_count": 7,
   "metadata": {},
   "outputs": [
    {
     "data": {
      "text/plain": [
       "123"
      ]
     },
     "execution_count": 7,
     "metadata": {},
     "output_type": "execute_result"
    }
   ],
   "source": [
    "uniprot_pdb.uniprot_acc.nunique()"
   ]
  },
  {
   "cell_type": "code",
   "execution_count": 8,
   "metadata": {},
   "outputs": [
    {
     "data": {
      "text/html": [
       "<div>\n",
       "<style scoped>\n",
       "    .dataframe tbody tr th:only-of-type {\n",
       "        vertical-align: middle;\n",
       "    }\n",
       "\n",
       "    .dataframe tbody tr th {\n",
       "        vertical-align: top;\n",
       "    }\n",
       "\n",
       "    .dataframe thead th {\n",
       "        text-align: right;\n",
       "    }\n",
       "</style>\n",
       "<table border=\"1\" class=\"dataframe\">\n",
       "  <thead>\n",
       "    <tr style=\"text-align: right;\">\n",
       "      <th></th>\n",
       "      <th>uniprot</th>\n",
       "      <th>pdb</th>\n",
       "    </tr>\n",
       "  </thead>\n",
       "  <tbody>\n",
       "    <tr>\n",
       "      <th>0</th>\n",
       "      <td>O08722</td>\n",
       "      <td>3g5b</td>\n",
       "    </tr>\n",
       "    <tr>\n",
       "      <th>1</th>\n",
       "      <td>O08808</td>\n",
       "      <td>4uwx</td>\n",
       "    </tr>\n",
       "    <tr>\n",
       "      <th>2</th>\n",
       "      <td>O08808</td>\n",
       "      <td>1z2c</td>\n",
       "    </tr>\n",
       "    <tr>\n",
       "      <th>3</th>\n",
       "      <td>O08808</td>\n",
       "      <td>3eg5</td>\n",
       "    </tr>\n",
       "    <tr>\n",
       "      <th>4</th>\n",
       "      <td>O08808</td>\n",
       "      <td>2bnx</td>\n",
       "    </tr>\n",
       "    <tr>\n",
       "      <th>...</th>\n",
       "      <td>...</td>\n",
       "      <td>...</td>\n",
       "    </tr>\n",
       "    <tr>\n",
       "      <th>2481</th>\n",
       "      <td>Q9Y613</td>\n",
       "      <td>6xf1</td>\n",
       "    </tr>\n",
       "    <tr>\n",
       "      <th>2482</th>\n",
       "      <td>Q9Y613</td>\n",
       "      <td>3dad</td>\n",
       "    </tr>\n",
       "    <tr>\n",
       "      <th>2483</th>\n",
       "      <td>Q9Y613</td>\n",
       "      <td>6xf2</td>\n",
       "    </tr>\n",
       "    <tr>\n",
       "      <th>2484</th>\n",
       "      <td>Q9Z0R4</td>\n",
       "      <td>3jv3</td>\n",
       "    </tr>\n",
       "    <tr>\n",
       "      <th>2485</th>\n",
       "      <td>Q9Z0R4</td>\n",
       "      <td>3hs8</td>\n",
       "    </tr>\n",
       "  </tbody>\n",
       "</table>\n",
       "<p>2486 rows × 2 columns</p>\n",
       "</div>"
      ],
      "text/plain": [
       "     uniprot   pdb\n",
       "0     O08722  3g5b\n",
       "1     O08808  4uwx\n",
       "2     O08808  1z2c\n",
       "3     O08808  3eg5\n",
       "4     O08808  2bnx\n",
       "...      ...   ...\n",
       "2481  Q9Y613  6xf1\n",
       "2482  Q9Y613  3dad\n",
       "2483  Q9Y613  6xf2\n",
       "2484  Q9Z0R4  3jv3\n",
       "2485  Q9Z0R4  3hs8\n",
       "\n",
       "[2486 rows x 2 columns]"
      ]
     },
     "execution_count": 8,
     "metadata": {},
     "output_type": "execute_result"
    }
   ],
   "source": [
    "# Mapping all pdbs for the proteins\n",
    "uniprot_pdb = uniprot_pdb[['uniprot_acc', 'pdb']].drop_duplicates()\n",
    "uniprot_pdb.rename(columns= {'uniprot_acc': 'uniprot'}, inplace= True)\n",
    "uniprot_pdb"
   ]
  },
  {
   "cell_type": "code",
   "execution_count": 9,
   "metadata": {},
   "outputs": [
    {
     "data": {
      "text/plain": [
       "2470"
      ]
     },
     "execution_count": 9,
     "metadata": {},
     "output_type": "execute_result"
    }
   ],
   "source": [
    "uniprot_pdb.pdb.nunique()"
   ]
  },
  {
   "cell_type": "code",
   "execution_count": 10,
   "metadata": {},
   "outputs": [],
   "source": [
    "kinases = pd.read_csv('../datasets/kinases.tsv', sep= '\\t')\n",
    "kinases.columns = kinases.columns.str.lower().str.replace(\" \", \"_\")\n",
    "kinases.rename(columns= {'kd_(start)': 'kd_start', 'kd_(end)': 'kd_end'}, inplace= True)"
   ]
  },
  {
   "cell_type": "code",
   "execution_count": 44,
   "metadata": {},
   "outputs": [],
   "source": [
    "# list with unique kinases uniprot accessions\n",
    "# kl = kinases.uniprot.unique().tolist()\n",
    "# with open('../datasets/uniprot_acc_kinases.txt', 'w', encoding= 'utf-8') as fp:\n",
    "#     for uniprot in kl:\n",
    "#         # write each accession on a new line\n",
    "#         fp.write(\"%s\\n\" % uniprot)"
   ]
  },
  {
   "cell_type": "code",
   "execution_count": 13,
   "metadata": {},
   "outputs": [],
   "source": [
    "kd = kinases[['uniprot', 'kd_start', 'kd_end']]"
   ]
  },
  {
   "cell_type": "code",
   "execution_count": 9,
   "metadata": {},
   "outputs": [],
   "source": [
    "# # Table with pdb ids of kinases containing CREs dataset\n",
    "# pdbs_kd_cre = pd.read_csv('../datasets/pdbs_kd_cre.tsv', sep= '\\t')\n",
    "# pdbs_kd_cre"
   ]
  },
  {
   "cell_type": "code",
   "execution_count": 10,
   "metadata": {},
   "outputs": [],
   "source": [
    "#pdbs_kd_cre.uniprot_acc.nunique() # 42 proteins with structure that includes KD and CRE"
   ]
  },
  {
   "cell_type": "code",
   "execution_count": 50,
   "metadata": {},
   "outputs": [
    {
     "data": {
      "text/html": [
       "<div>\n",
       "<style scoped>\n",
       "    .dataframe tbody tr th:only-of-type {\n",
       "        vertical-align: middle;\n",
       "    }\n",
       "\n",
       "    .dataframe tbody tr th {\n",
       "        vertical-align: top;\n",
       "    }\n",
       "\n",
       "    .dataframe thead th {\n",
       "        text-align: right;\n",
       "    }\n",
       "</style>\n",
       "<table border=\"1\" class=\"dataframe\">\n",
       "  <thead>\n",
       "    <tr style=\"text-align: right;\">\n",
       "      <th></th>\n",
       "      <th>uniprot</th>\n",
       "      <th>cs</th>\n",
       "      <th>kd_start</th>\n",
       "      <th>kd_end</th>\n",
       "    </tr>\n",
       "  </thead>\n",
       "  <tbody>\n",
       "    <tr>\n",
       "      <th>0</th>\n",
       "      <td>A0A2I0BVG8</td>\n",
       "      <td>191</td>\n",
       "      <td>56</td>\n",
       "      <td>325</td>\n",
       "    </tr>\n",
       "    <tr>\n",
       "      <th>1</th>\n",
       "      <td>A0A509AFG4</td>\n",
       "      <td>230</td>\n",
       "      <td>110</td>\n",
       "      <td>365</td>\n",
       "    </tr>\n",
       "    <tr>\n",
       "      <th>2</th>\n",
       "      <td>A0A509AHB6</td>\n",
       "      <td>190</td>\n",
       "      <td>57</td>\n",
       "      <td>324</td>\n",
       "    </tr>\n",
       "    <tr>\n",
       "      <th>3</th>\n",
       "      <td>A0A509AKL0</td>\n",
       "      <td>668</td>\n",
       "      <td>545</td>\n",
       "      <td>802</td>\n",
       "    </tr>\n",
       "    <tr>\n",
       "      <th>4</th>\n",
       "      <td>A0A509AQE6</td>\n",
       "      <td>238</td>\n",
       "      <td>118</td>\n",
       "      <td>372</td>\n",
       "    </tr>\n",
       "    <tr>\n",
       "      <th>...</th>\n",
       "      <td>...</td>\n",
       "      <td>...</td>\n",
       "      <td>...</td>\n",
       "      <td>...</td>\n",
       "    </tr>\n",
       "    <tr>\n",
       "      <th>305</th>\n",
       "      <td>Q9ZSA4</td>\n",
       "      <td>156</td>\n",
       "      <td>28</td>\n",
       "      <td>290</td>\n",
       "    </tr>\n",
       "    <tr>\n",
       "      <th>306</th>\n",
       "      <td>Q9ZUZ2</td>\n",
       "      <td>271</td>\n",
       "      <td>143</td>\n",
       "      <td>405</td>\n",
       "    </tr>\n",
       "    <tr>\n",
       "      <th>307</th>\n",
       "      <td>Q9ZV15</td>\n",
       "      <td>258</td>\n",
       "      <td>134</td>\n",
       "      <td>392</td>\n",
       "    </tr>\n",
       "    <tr>\n",
       "      <th>308</th>\n",
       "      <td>W0LYS5</td>\n",
       "      <td>153</td>\n",
       "      <td>31</td>\n",
       "      <td>287</td>\n",
       "    </tr>\n",
       "    <tr>\n",
       "      <th>309</th>\n",
       "      <td>W7JX98</td>\n",
       "      <td>664</td>\n",
       "      <td>541</td>\n",
       "      <td>798</td>\n",
       "    </tr>\n",
       "  </tbody>\n",
       "</table>\n",
       "<p>310 rows × 4 columns</p>\n",
       "</div>"
      ],
      "text/plain": [
       "        uniprot   cs  kd_start  kd_end\n",
       "0    A0A2I0BVG8  191        56     325\n",
       "1    A0A509AFG4  230       110     365\n",
       "2    A0A509AHB6  190        57     324\n",
       "3    A0A509AKL0  668       545     802\n",
       "4    A0A509AQE6  238       118     372\n",
       "..          ...  ...       ...     ...\n",
       "305      Q9ZSA4  156        28     290\n",
       "306      Q9ZUZ2  271       143     405\n",
       "307      Q9ZV15  258       134     392\n",
       "308      W0LYS5  153        31     287\n",
       "309      W7JX98  664       541     798\n",
       "\n",
       "[310 rows x 4 columns]"
      ]
     },
     "execution_count": 50,
     "metadata": {},
     "output_type": "execute_result"
    }
   ],
   "source": [
    "# Catalitic sites brought from uniprot\n",
    "cat_sites = pd.read_csv('../datasets/cat_sites_uniprot.tsv', sep= '\\t')\n",
    "cat_sites.rename(columns= {'pos': 'cs'}, inplace= True)\n",
    "# mapear el sitio catalitico al rango de la kinasa\n",
    "cat_sites = cat_sites.merge(kd)\n",
    "cat_sites"
   ]
  },
  {
   "cell_type": "code",
   "execution_count": 51,
   "metadata": {},
   "outputs": [
    {
     "name": "stderr",
     "output_type": "stream",
     "text": [
      "C:\\Users\\User\\AppData\\Roaming\\Python\\Python37\\site-packages\\ipykernel_launcher.py:5: SettingWithCopyWarning: \n",
      "A value is trying to be set on a copy of a slice from a DataFrame\n",
      "\n",
      "See the caveats in the documentation: https://pandas.pydata.org/pandas-docs/stable/user_guide/indexing.html#returning-a-view-versus-a-copy\n",
      "  \"\"\"\n"
     ]
    }
   ],
   "source": [
    "cat_sites['ctrl'] = False\n",
    "for i in cat_sites.index:\n",
    "    rg = range(cat_sites.kd_start[i], cat_sites.kd_end[i])\n",
    "    if cat_sites.cs[i] in rg:\n",
    "        cat_sites['ctrl'][i] = True"
   ]
  },
  {
   "cell_type": "code",
   "execution_count": 52,
   "metadata": {},
   "outputs": [
    {
     "data": {
      "text/plain": [
       "298"
      ]
     },
     "execution_count": 52,
     "metadata": {},
     "output_type": "execute_result"
    }
   ],
   "source": [
    "cat_sites.ctrl.sum()"
   ]
  },
  {
   "cell_type": "code",
   "execution_count": 56,
   "metadata": {},
   "outputs": [],
   "source": [
    "cat_sites = cat_sites[cat_sites.ctrl == True]"
   ]
  },
  {
   "cell_type": "code",
   "execution_count": 57,
   "metadata": {},
   "outputs": [
    {
     "data": {
      "text/plain": [
       "278"
      ]
     },
     "execution_count": 57,
     "metadata": {},
     "output_type": "execute_result"
    }
   ],
   "source": [
    "cat_sites.uniprot.nunique()"
   ]
  },
  {
   "cell_type": "code",
   "execution_count": 64,
   "metadata": {},
   "outputs": [
    {
     "data": {
      "text/html": [
       "<div>\n",
       "<style scoped>\n",
       "    .dataframe tbody tr th:only-of-type {\n",
       "        vertical-align: middle;\n",
       "    }\n",
       "\n",
       "    .dataframe tbody tr th {\n",
       "        vertical-align: top;\n",
       "    }\n",
       "\n",
       "    .dataframe thead th {\n",
       "        text-align: right;\n",
       "    }\n",
       "</style>\n",
       "<table border=\"1\" class=\"dataframe\">\n",
       "  <thead>\n",
       "    <tr style=\"text-align: right;\">\n",
       "      <th></th>\n",
       "      <th>uniprot</th>\n",
       "      <th>pdb</th>\n",
       "      <th>cs</th>\n",
       "    </tr>\n",
       "  </thead>\n",
       "  <tbody>\n",
       "    <tr>\n",
       "      <th>0</th>\n",
       "      <td>O08722</td>\n",
       "      <td>3g5b</td>\n",
       "      <td>NaN</td>\n",
       "    </tr>\n",
       "    <tr>\n",
       "      <th>1</th>\n",
       "      <td>O08808</td>\n",
       "      <td>4uwx</td>\n",
       "      <td>NaN</td>\n",
       "    </tr>\n",
       "    <tr>\n",
       "      <th>2</th>\n",
       "      <td>O08808</td>\n",
       "      <td>1z2c</td>\n",
       "      <td>NaN</td>\n",
       "    </tr>\n",
       "    <tr>\n",
       "      <th>3</th>\n",
       "      <td>O08808</td>\n",
       "      <td>3eg5</td>\n",
       "      <td>NaN</td>\n",
       "    </tr>\n",
       "    <tr>\n",
       "      <th>4</th>\n",
       "      <td>O08808</td>\n",
       "      <td>2bnx</td>\n",
       "      <td>NaN</td>\n",
       "    </tr>\n",
       "    <tr>\n",
       "      <th>...</th>\n",
       "      <td>...</td>\n",
       "      <td>...</td>\n",
       "      <td>...</td>\n",
       "    </tr>\n",
       "    <tr>\n",
       "      <th>2722</th>\n",
       "      <td>Q9Y613</td>\n",
       "      <td>6xf1</td>\n",
       "      <td>NaN</td>\n",
       "    </tr>\n",
       "    <tr>\n",
       "      <th>2723</th>\n",
       "      <td>Q9Y613</td>\n",
       "      <td>3dad</td>\n",
       "      <td>NaN</td>\n",
       "    </tr>\n",
       "    <tr>\n",
       "      <th>2724</th>\n",
       "      <td>Q9Y613</td>\n",
       "      <td>6xf2</td>\n",
       "      <td>NaN</td>\n",
       "    </tr>\n",
       "    <tr>\n",
       "      <th>2725</th>\n",
       "      <td>Q9Z0R4</td>\n",
       "      <td>3jv3</td>\n",
       "      <td>NaN</td>\n",
       "    </tr>\n",
       "    <tr>\n",
       "      <th>2726</th>\n",
       "      <td>Q9Z0R4</td>\n",
       "      <td>3hs8</td>\n",
       "      <td>NaN</td>\n",
       "    </tr>\n",
       "  </tbody>\n",
       "</table>\n",
       "<p>2727 rows × 3 columns</p>\n",
       "</div>"
      ],
      "text/plain": [
       "     uniprot   pdb  cs\n",
       "0     O08722  3g5b NaN\n",
       "1     O08808  4uwx NaN\n",
       "2     O08808  1z2c NaN\n",
       "3     O08808  3eg5 NaN\n",
       "4     O08808  2bnx NaN\n",
       "...      ...   ...  ..\n",
       "2722  Q9Y613  6xf1 NaN\n",
       "2723  Q9Y613  3dad NaN\n",
       "2724  Q9Y613  6xf2 NaN\n",
       "2725  Q9Z0R4  3jv3 NaN\n",
       "2726  Q9Z0R4  3hs8 NaN\n",
       "\n",
       "[2727 rows x 3 columns]"
      ]
     },
     "execution_count": 64,
     "metadata": {},
     "output_type": "execute_result"
    }
   ],
   "source": [
    "# Map catalytic sites to the proteins\n",
    "uniprot_pdb_cat = uniprot_pdb.merge(cat_sites[['uniprot', 'cs']], how= 'left')\n",
    "uniprot_pdb_cat"
   ]
  },
  {
   "cell_type": "markdown",
   "metadata": {},
   "source": [
    "---"
   ]
  },
  {
   "cell_type": "markdown",
   "metadata": {},
   "source": [
    "## Measure interatomic distances\n",
    "use all heavy atoms"
   ]
  },
  {
   "cell_type": "markdown",
   "metadata": {},
   "source": [
    "### Download PDBs files"
   ]
  },
  {
   "cell_type": "code",
   "execution_count": 8,
   "metadata": {},
   "outputs": [],
   "source": [
    "#parser = PDBParser()"
   ]
  },
  {
   "cell_type": "code",
   "execution_count": 17,
   "metadata": {},
   "outputs": [],
   "source": [
    "def download_pdb(pdbs, pdir, file_format= 'pdb'):\n",
    "    \"\"\"\n",
    "    download a pdb file from web using PDB package from biopython\n",
    "    pdbs: list of PDBs accesion\n",
    "    pdir: output folder\n",
    "    file_format: format to download PDB structure\n",
    "    \"\"\"\n",
    "    from Bio.PDB import PDBList\n",
    "    #parser = PDBParser()\n",
    "    pdbl = PDBList()\n",
    "    for pdb in pdbs:\n",
    "        pdbl.retrieve_pdb_file(pdb, file_format= 'pdb', pdir= pdir)"
   ]
  },
  {
   "cell_type": "code",
   "execution_count": 12,
   "metadata": {},
   "outputs": [],
   "source": [
    "pdbs = uniprot_pdb.pdb.unique().tolist()"
   ]
  },
  {
   "cell_type": "code",
   "execution_count": 18,
   "metadata": {},
   "outputs": [
    {
     "name": "stdout",
     "output_type": "stream",
     "text": [
      "Downloading PDB structure '3g5b'...\n"
     ]
    },
    {
     "ename": "KeyboardInterrupt",
     "evalue": "",
     "output_type": "error",
     "traceback": [
      "\u001b[1;31m---------------------------------------------------------------------------\u001b[0m",
      "\u001b[1;31mKeyboardInterrupt\u001b[0m                         Traceback (most recent call last)",
      "\u001b[1;32m<ipython-input-18-a50672accc73>\u001b[0m in \u001b[0;36m<module>\u001b[1;34m\u001b[0m\n\u001b[1;32m----> 1\u001b[1;33m \u001b[0mdownload_pdb\u001b[0m\u001b[1;33m(\u001b[0m\u001b[0ml\u001b[0m\u001b[1;33m,\u001b[0m \u001b[1;34m'../raw_data/'\u001b[0m\u001b[1;33m)\u001b[0m\u001b[1;33m\u001b[0m\u001b[1;33m\u001b[0m\u001b[0m\n\u001b[0m",
      "\u001b[1;32m<ipython-input-17-46fe1e8ba037>\u001b[0m in \u001b[0;36mdownload_pdb\u001b[1;34m(pdbs, pdir, file_format)\u001b[0m\n\u001b[0;32m     10\u001b[0m     \u001b[0mpdbl\u001b[0m \u001b[1;33m=\u001b[0m \u001b[0mPDBList\u001b[0m\u001b[1;33m(\u001b[0m\u001b[1;33m)\u001b[0m\u001b[1;33m\u001b[0m\u001b[1;33m\u001b[0m\u001b[0m\n\u001b[0;32m     11\u001b[0m     \u001b[1;32mfor\u001b[0m \u001b[0mpdb\u001b[0m \u001b[1;32min\u001b[0m \u001b[0mpdbs\u001b[0m\u001b[1;33m:\u001b[0m\u001b[1;33m\u001b[0m\u001b[1;33m\u001b[0m\u001b[0m\n\u001b[1;32m---> 12\u001b[1;33m         \u001b[0mpdbl\u001b[0m\u001b[1;33m.\u001b[0m\u001b[0mretrieve_pdb_file\u001b[0m\u001b[1;33m(\u001b[0m\u001b[0mpdb\u001b[0m\u001b[1;33m,\u001b[0m \u001b[0mfile_format\u001b[0m\u001b[1;33m=\u001b[0m \u001b[1;34m'pdb'\u001b[0m\u001b[1;33m,\u001b[0m \u001b[0mpdir\u001b[0m\u001b[1;33m=\u001b[0m \u001b[0mpdir\u001b[0m\u001b[1;33m)\u001b[0m\u001b[1;33m\u001b[0m\u001b[1;33m\u001b[0m\u001b[0m\n\u001b[0m",
      "\u001b[1;32mc:\\Users\\User\\AppData\\Local\\Programs\\Python\\Python37\\lib\\site-packages\\Bio\\PDB\\PDBList.py\u001b[0m in \u001b[0;36mretrieve_pdb_file\u001b[1;34m(self, pdb_code, obsolete, pdir, file_format, overwrite)\u001b[0m\n\u001b[0;32m    336\u001b[0m         \u001b[1;32mtry\u001b[0m\u001b[1;33m:\u001b[0m\u001b[1;33m\u001b[0m\u001b[1;33m\u001b[0m\u001b[0m\n\u001b[0;32m    337\u001b[0m             \u001b[0murlcleanup\u001b[0m\u001b[1;33m(\u001b[0m\u001b[1;33m)\u001b[0m\u001b[1;33m\u001b[0m\u001b[1;33m\u001b[0m\u001b[0m\n\u001b[1;32m--> 338\u001b[1;33m             \u001b[0murlretrieve\u001b[0m\u001b[1;33m(\u001b[0m\u001b[0murl\u001b[0m\u001b[1;33m,\u001b[0m \u001b[0mfilename\u001b[0m\u001b[1;33m)\u001b[0m\u001b[1;33m\u001b[0m\u001b[1;33m\u001b[0m\u001b[0m\n\u001b[0m\u001b[0;32m    339\u001b[0m         \u001b[1;32mexcept\u001b[0m \u001b[0mOSError\u001b[0m\u001b[1;33m:\u001b[0m\u001b[1;33m\u001b[0m\u001b[1;33m\u001b[0m\u001b[0m\n\u001b[0;32m    340\u001b[0m             \u001b[0mprint\u001b[0m\u001b[1;33m(\u001b[0m\u001b[1;34m\"Desired structure doesn't exists\"\u001b[0m\u001b[1;33m)\u001b[0m\u001b[1;33m\u001b[0m\u001b[1;33m\u001b[0m\u001b[0m\n",
      "\u001b[1;32mc:\\Users\\User\\AppData\\Local\\Programs\\Python\\Python37\\lib\\urllib\\request.py\u001b[0m in \u001b[0;36murlretrieve\u001b[1;34m(url, filename, reporthook, data)\u001b[0m\n\u001b[0;32m    245\u001b[0m     \u001b[0murl_type\u001b[0m\u001b[1;33m,\u001b[0m \u001b[0mpath\u001b[0m \u001b[1;33m=\u001b[0m \u001b[0msplittype\u001b[0m\u001b[1;33m(\u001b[0m\u001b[0murl\u001b[0m\u001b[1;33m)\u001b[0m\u001b[1;33m\u001b[0m\u001b[1;33m\u001b[0m\u001b[0m\n\u001b[0;32m    246\u001b[0m \u001b[1;33m\u001b[0m\u001b[0m\n\u001b[1;32m--> 247\u001b[1;33m     \u001b[1;32mwith\u001b[0m \u001b[0mcontextlib\u001b[0m\u001b[1;33m.\u001b[0m\u001b[0mclosing\u001b[0m\u001b[1;33m(\u001b[0m\u001b[0murlopen\u001b[0m\u001b[1;33m(\u001b[0m\u001b[0murl\u001b[0m\u001b[1;33m,\u001b[0m \u001b[0mdata\u001b[0m\u001b[1;33m)\u001b[0m\u001b[1;33m)\u001b[0m \u001b[1;32mas\u001b[0m \u001b[0mfp\u001b[0m\u001b[1;33m:\u001b[0m\u001b[1;33m\u001b[0m\u001b[1;33m\u001b[0m\u001b[0m\n\u001b[0m\u001b[0;32m    248\u001b[0m         \u001b[0mheaders\u001b[0m \u001b[1;33m=\u001b[0m \u001b[0mfp\u001b[0m\u001b[1;33m.\u001b[0m\u001b[0minfo\u001b[0m\u001b[1;33m(\u001b[0m\u001b[1;33m)\u001b[0m\u001b[1;33m\u001b[0m\u001b[1;33m\u001b[0m\u001b[0m\n\u001b[0;32m    249\u001b[0m \u001b[1;33m\u001b[0m\u001b[0m\n",
      "\u001b[1;32mc:\\Users\\User\\AppData\\Local\\Programs\\Python\\Python37\\lib\\urllib\\request.py\u001b[0m in \u001b[0;36murlopen\u001b[1;34m(url, data, timeout, cafile, capath, cadefault, context)\u001b[0m\n\u001b[0;32m    220\u001b[0m     \u001b[1;32melse\u001b[0m\u001b[1;33m:\u001b[0m\u001b[1;33m\u001b[0m\u001b[1;33m\u001b[0m\u001b[0m\n\u001b[0;32m    221\u001b[0m         \u001b[0mopener\u001b[0m \u001b[1;33m=\u001b[0m \u001b[0m_opener\u001b[0m\u001b[1;33m\u001b[0m\u001b[1;33m\u001b[0m\u001b[0m\n\u001b[1;32m--> 222\u001b[1;33m     \u001b[1;32mreturn\u001b[0m \u001b[0mopener\u001b[0m\u001b[1;33m.\u001b[0m\u001b[0mopen\u001b[0m\u001b[1;33m(\u001b[0m\u001b[0murl\u001b[0m\u001b[1;33m,\u001b[0m \u001b[0mdata\u001b[0m\u001b[1;33m,\u001b[0m \u001b[0mtimeout\u001b[0m\u001b[1;33m)\u001b[0m\u001b[1;33m\u001b[0m\u001b[1;33m\u001b[0m\u001b[0m\n\u001b[0m\u001b[0;32m    223\u001b[0m \u001b[1;33m\u001b[0m\u001b[0m\n\u001b[0;32m    224\u001b[0m \u001b[1;32mdef\u001b[0m \u001b[0minstall_opener\u001b[0m\u001b[1;33m(\u001b[0m\u001b[0mopener\u001b[0m\u001b[1;33m)\u001b[0m\u001b[1;33m:\u001b[0m\u001b[1;33m\u001b[0m\u001b[1;33m\u001b[0m\u001b[0m\n",
      "\u001b[1;32mc:\\Users\\User\\AppData\\Local\\Programs\\Python\\Python37\\lib\\urllib\\request.py\u001b[0m in \u001b[0;36mopen\u001b[1;34m(self, fullurl, data, timeout)\u001b[0m\n\u001b[0;32m    523\u001b[0m             \u001b[0mreq\u001b[0m \u001b[1;33m=\u001b[0m \u001b[0mmeth\u001b[0m\u001b[1;33m(\u001b[0m\u001b[0mreq\u001b[0m\u001b[1;33m)\u001b[0m\u001b[1;33m\u001b[0m\u001b[1;33m\u001b[0m\u001b[0m\n\u001b[0;32m    524\u001b[0m \u001b[1;33m\u001b[0m\u001b[0m\n\u001b[1;32m--> 525\u001b[1;33m         \u001b[0mresponse\u001b[0m \u001b[1;33m=\u001b[0m \u001b[0mself\u001b[0m\u001b[1;33m.\u001b[0m\u001b[0m_open\u001b[0m\u001b[1;33m(\u001b[0m\u001b[0mreq\u001b[0m\u001b[1;33m,\u001b[0m \u001b[0mdata\u001b[0m\u001b[1;33m)\u001b[0m\u001b[1;33m\u001b[0m\u001b[1;33m\u001b[0m\u001b[0m\n\u001b[0m\u001b[0;32m    526\u001b[0m \u001b[1;33m\u001b[0m\u001b[0m\n\u001b[0;32m    527\u001b[0m         \u001b[1;31m# post-process response\u001b[0m\u001b[1;33m\u001b[0m\u001b[1;33m\u001b[0m\u001b[1;33m\u001b[0m\u001b[0m\n",
      "\u001b[1;32mc:\\Users\\User\\AppData\\Local\\Programs\\Python\\Python37\\lib\\urllib\\request.py\u001b[0m in \u001b[0;36m_open\u001b[1;34m(self, req, data)\u001b[0m\n\u001b[0;32m    541\u001b[0m         \u001b[0mprotocol\u001b[0m \u001b[1;33m=\u001b[0m \u001b[0mreq\u001b[0m\u001b[1;33m.\u001b[0m\u001b[0mtype\u001b[0m\u001b[1;33m\u001b[0m\u001b[1;33m\u001b[0m\u001b[0m\n\u001b[0;32m    542\u001b[0m         result = self._call_chain(self.handle_open, protocol, protocol +\n\u001b[1;32m--> 543\u001b[1;33m                                   '_open', req)\n\u001b[0m\u001b[0;32m    544\u001b[0m         \u001b[1;32mif\u001b[0m \u001b[0mresult\u001b[0m\u001b[1;33m:\u001b[0m\u001b[1;33m\u001b[0m\u001b[1;33m\u001b[0m\u001b[0m\n\u001b[0;32m    545\u001b[0m             \u001b[1;32mreturn\u001b[0m \u001b[0mresult\u001b[0m\u001b[1;33m\u001b[0m\u001b[1;33m\u001b[0m\u001b[0m\n",
      "\u001b[1;32mc:\\Users\\User\\AppData\\Local\\Programs\\Python\\Python37\\lib\\urllib\\request.py\u001b[0m in \u001b[0;36m_call_chain\u001b[1;34m(self, chain, kind, meth_name, *args)\u001b[0m\n\u001b[0;32m    501\u001b[0m         \u001b[1;32mfor\u001b[0m \u001b[0mhandler\u001b[0m \u001b[1;32min\u001b[0m \u001b[0mhandlers\u001b[0m\u001b[1;33m:\u001b[0m\u001b[1;33m\u001b[0m\u001b[1;33m\u001b[0m\u001b[0m\n\u001b[0;32m    502\u001b[0m             \u001b[0mfunc\u001b[0m \u001b[1;33m=\u001b[0m \u001b[0mgetattr\u001b[0m\u001b[1;33m(\u001b[0m\u001b[0mhandler\u001b[0m\u001b[1;33m,\u001b[0m \u001b[0mmeth_name\u001b[0m\u001b[1;33m)\u001b[0m\u001b[1;33m\u001b[0m\u001b[1;33m\u001b[0m\u001b[0m\n\u001b[1;32m--> 503\u001b[1;33m             \u001b[0mresult\u001b[0m \u001b[1;33m=\u001b[0m \u001b[0mfunc\u001b[0m\u001b[1;33m(\u001b[0m\u001b[1;33m*\u001b[0m\u001b[0margs\u001b[0m\u001b[1;33m)\u001b[0m\u001b[1;33m\u001b[0m\u001b[1;33m\u001b[0m\u001b[0m\n\u001b[0m\u001b[0;32m    504\u001b[0m             \u001b[1;32mif\u001b[0m \u001b[0mresult\u001b[0m \u001b[1;32mis\u001b[0m \u001b[1;32mnot\u001b[0m \u001b[1;32mNone\u001b[0m\u001b[1;33m:\u001b[0m\u001b[1;33m\u001b[0m\u001b[1;33m\u001b[0m\u001b[0m\n\u001b[0;32m    505\u001b[0m                 \u001b[1;32mreturn\u001b[0m \u001b[0mresult\u001b[0m\u001b[1;33m\u001b[0m\u001b[1;33m\u001b[0m\u001b[0m\n",
      "\u001b[1;32mc:\\Users\\User\\AppData\\Local\\Programs\\Python\\Python37\\lib\\urllib\\request.py\u001b[0m in \u001b[0;36mftp_open\u001b[1;34m(self, req)\u001b[0m\n\u001b[0;32m   1564\u001b[0m             \u001b[0mdirs\u001b[0m \u001b[1;33m=\u001b[0m \u001b[0mdirs\u001b[0m\u001b[1;33m[\u001b[0m\u001b[1;36m1\u001b[0m\u001b[1;33m:\u001b[0m\u001b[1;33m]\u001b[0m\u001b[1;33m\u001b[0m\u001b[1;33m\u001b[0m\u001b[0m\n\u001b[0;32m   1565\u001b[0m         \u001b[1;32mtry\u001b[0m\u001b[1;33m:\u001b[0m\u001b[1;33m\u001b[0m\u001b[1;33m\u001b[0m\u001b[0m\n\u001b[1;32m-> 1566\u001b[1;33m             \u001b[0mfw\u001b[0m \u001b[1;33m=\u001b[0m \u001b[0mself\u001b[0m\u001b[1;33m.\u001b[0m\u001b[0mconnect_ftp\u001b[0m\u001b[1;33m(\u001b[0m\u001b[0muser\u001b[0m\u001b[1;33m,\u001b[0m \u001b[0mpasswd\u001b[0m\u001b[1;33m,\u001b[0m \u001b[0mhost\u001b[0m\u001b[1;33m,\u001b[0m \u001b[0mport\u001b[0m\u001b[1;33m,\u001b[0m \u001b[0mdirs\u001b[0m\u001b[1;33m,\u001b[0m \u001b[0mreq\u001b[0m\u001b[1;33m.\u001b[0m\u001b[0mtimeout\u001b[0m\u001b[1;33m)\u001b[0m\u001b[1;33m\u001b[0m\u001b[1;33m\u001b[0m\u001b[0m\n\u001b[0m\u001b[0;32m   1567\u001b[0m             \u001b[0mtype\u001b[0m \u001b[1;33m=\u001b[0m \u001b[0mfile\u001b[0m \u001b[1;32mand\u001b[0m \u001b[1;34m'I'\u001b[0m \u001b[1;32mor\u001b[0m \u001b[1;34m'D'\u001b[0m\u001b[1;33m\u001b[0m\u001b[1;33m\u001b[0m\u001b[0m\n\u001b[0;32m   1568\u001b[0m             \u001b[1;32mfor\u001b[0m \u001b[0mattr\u001b[0m \u001b[1;32min\u001b[0m \u001b[0mattrs\u001b[0m\u001b[1;33m:\u001b[0m\u001b[1;33m\u001b[0m\u001b[1;33m\u001b[0m\u001b[0m\n",
      "\u001b[1;32mc:\\Users\\User\\AppData\\Local\\Programs\\Python\\Python37\\lib\\urllib\\request.py\u001b[0m in \u001b[0;36mconnect_ftp\u001b[1;34m(self, user, passwd, host, port, dirs, timeout)\u001b[0m\n\u001b[0;32m   1586\u001b[0m     \u001b[1;32mdef\u001b[0m \u001b[0mconnect_ftp\u001b[0m\u001b[1;33m(\u001b[0m\u001b[0mself\u001b[0m\u001b[1;33m,\u001b[0m \u001b[0muser\u001b[0m\u001b[1;33m,\u001b[0m \u001b[0mpasswd\u001b[0m\u001b[1;33m,\u001b[0m \u001b[0mhost\u001b[0m\u001b[1;33m,\u001b[0m \u001b[0mport\u001b[0m\u001b[1;33m,\u001b[0m \u001b[0mdirs\u001b[0m\u001b[1;33m,\u001b[0m \u001b[0mtimeout\u001b[0m\u001b[1;33m)\u001b[0m\u001b[1;33m:\u001b[0m\u001b[1;33m\u001b[0m\u001b[1;33m\u001b[0m\u001b[0m\n\u001b[0;32m   1587\u001b[0m         return ftpwrapper(user, passwd, host, port, dirs, timeout,\n\u001b[1;32m-> 1588\u001b[1;33m                           persistent=False)\n\u001b[0m\u001b[0;32m   1589\u001b[0m \u001b[1;33m\u001b[0m\u001b[0m\n\u001b[0;32m   1590\u001b[0m \u001b[1;32mclass\u001b[0m \u001b[0mCacheFTPHandler\u001b[0m\u001b[1;33m(\u001b[0m\u001b[0mFTPHandler\u001b[0m\u001b[1;33m)\u001b[0m\u001b[1;33m:\u001b[0m\u001b[1;33m\u001b[0m\u001b[1;33m\u001b[0m\u001b[0m\n",
      "\u001b[1;32mc:\\Users\\User\\AppData\\Local\\Programs\\Python\\Python37\\lib\\urllib\\request.py\u001b[0m in \u001b[0;36m__init__\u001b[1;34m(self, user, passwd, host, port, dirs, timeout, persistent)\u001b[0m\n\u001b[0;32m   2406\u001b[0m         \u001b[0mself\u001b[0m\u001b[1;33m.\u001b[0m\u001b[0mkeepalive\u001b[0m \u001b[1;33m=\u001b[0m \u001b[0mpersistent\u001b[0m\u001b[1;33m\u001b[0m\u001b[1;33m\u001b[0m\u001b[0m\n\u001b[0;32m   2407\u001b[0m         \u001b[1;32mtry\u001b[0m\u001b[1;33m:\u001b[0m\u001b[1;33m\u001b[0m\u001b[1;33m\u001b[0m\u001b[0m\n\u001b[1;32m-> 2408\u001b[1;33m             \u001b[0mself\u001b[0m\u001b[1;33m.\u001b[0m\u001b[0minit\u001b[0m\u001b[1;33m(\u001b[0m\u001b[1;33m)\u001b[0m\u001b[1;33m\u001b[0m\u001b[1;33m\u001b[0m\u001b[0m\n\u001b[0m\u001b[0;32m   2409\u001b[0m         \u001b[1;32mexcept\u001b[0m\u001b[1;33m:\u001b[0m\u001b[1;33m\u001b[0m\u001b[1;33m\u001b[0m\u001b[0m\n\u001b[0;32m   2410\u001b[0m             \u001b[0mself\u001b[0m\u001b[1;33m.\u001b[0m\u001b[0mclose\u001b[0m\u001b[1;33m(\u001b[0m\u001b[1;33m)\u001b[0m\u001b[1;33m\u001b[0m\u001b[1;33m\u001b[0m\u001b[0m\n",
      "\u001b[1;32mc:\\Users\\User\\AppData\\Local\\Programs\\Python\\Python37\\lib\\urllib\\request.py\u001b[0m in \u001b[0;36minit\u001b[1;34m(self)\u001b[0m\n\u001b[0;32m   2415\u001b[0m         \u001b[0mself\u001b[0m\u001b[1;33m.\u001b[0m\u001b[0mbusy\u001b[0m \u001b[1;33m=\u001b[0m \u001b[1;36m0\u001b[0m\u001b[1;33m\u001b[0m\u001b[1;33m\u001b[0m\u001b[0m\n\u001b[0;32m   2416\u001b[0m         \u001b[0mself\u001b[0m\u001b[1;33m.\u001b[0m\u001b[0mftp\u001b[0m \u001b[1;33m=\u001b[0m \u001b[0mftplib\u001b[0m\u001b[1;33m.\u001b[0m\u001b[0mFTP\u001b[0m\u001b[1;33m(\u001b[0m\u001b[1;33m)\u001b[0m\u001b[1;33m\u001b[0m\u001b[1;33m\u001b[0m\u001b[0m\n\u001b[1;32m-> 2417\u001b[1;33m         \u001b[0mself\u001b[0m\u001b[1;33m.\u001b[0m\u001b[0mftp\u001b[0m\u001b[1;33m.\u001b[0m\u001b[0mconnect\u001b[0m\u001b[1;33m(\u001b[0m\u001b[0mself\u001b[0m\u001b[1;33m.\u001b[0m\u001b[0mhost\u001b[0m\u001b[1;33m,\u001b[0m \u001b[0mself\u001b[0m\u001b[1;33m.\u001b[0m\u001b[0mport\u001b[0m\u001b[1;33m,\u001b[0m \u001b[0mself\u001b[0m\u001b[1;33m.\u001b[0m\u001b[0mtimeout\u001b[0m\u001b[1;33m)\u001b[0m\u001b[1;33m\u001b[0m\u001b[1;33m\u001b[0m\u001b[0m\n\u001b[0m\u001b[0;32m   2418\u001b[0m         \u001b[0mself\u001b[0m\u001b[1;33m.\u001b[0m\u001b[0mftp\u001b[0m\u001b[1;33m.\u001b[0m\u001b[0mlogin\u001b[0m\u001b[1;33m(\u001b[0m\u001b[0mself\u001b[0m\u001b[1;33m.\u001b[0m\u001b[0muser\u001b[0m\u001b[1;33m,\u001b[0m \u001b[0mself\u001b[0m\u001b[1;33m.\u001b[0m\u001b[0mpasswd\u001b[0m\u001b[1;33m)\u001b[0m\u001b[1;33m\u001b[0m\u001b[1;33m\u001b[0m\u001b[0m\n\u001b[0;32m   2419\u001b[0m         \u001b[0m_target\u001b[0m \u001b[1;33m=\u001b[0m \u001b[1;34m'/'\u001b[0m\u001b[1;33m.\u001b[0m\u001b[0mjoin\u001b[0m\u001b[1;33m(\u001b[0m\u001b[0mself\u001b[0m\u001b[1;33m.\u001b[0m\u001b[0mdirs\u001b[0m\u001b[1;33m)\u001b[0m\u001b[1;33m\u001b[0m\u001b[1;33m\u001b[0m\u001b[0m\n",
      "\u001b[1;32mc:\\Users\\User\\AppData\\Local\\Programs\\Python\\Python37\\lib\\ftplib.py\u001b[0m in \u001b[0;36mconnect\u001b[1;34m(self, host, port, timeout, source_address)\u001b[0m\n\u001b[0;32m    153\u001b[0m         \u001b[0mself\u001b[0m\u001b[1;33m.\u001b[0m\u001b[0maf\u001b[0m \u001b[1;33m=\u001b[0m \u001b[0mself\u001b[0m\u001b[1;33m.\u001b[0m\u001b[0msock\u001b[0m\u001b[1;33m.\u001b[0m\u001b[0mfamily\u001b[0m\u001b[1;33m\u001b[0m\u001b[1;33m\u001b[0m\u001b[0m\n\u001b[0;32m    154\u001b[0m         \u001b[0mself\u001b[0m\u001b[1;33m.\u001b[0m\u001b[0mfile\u001b[0m \u001b[1;33m=\u001b[0m \u001b[0mself\u001b[0m\u001b[1;33m.\u001b[0m\u001b[0msock\u001b[0m\u001b[1;33m.\u001b[0m\u001b[0mmakefile\u001b[0m\u001b[1;33m(\u001b[0m\u001b[1;34m'r'\u001b[0m\u001b[1;33m,\u001b[0m \u001b[0mencoding\u001b[0m\u001b[1;33m=\u001b[0m\u001b[0mself\u001b[0m\u001b[1;33m.\u001b[0m\u001b[0mencoding\u001b[0m\u001b[1;33m)\u001b[0m\u001b[1;33m\u001b[0m\u001b[1;33m\u001b[0m\u001b[0m\n\u001b[1;32m--> 155\u001b[1;33m         \u001b[0mself\u001b[0m\u001b[1;33m.\u001b[0m\u001b[0mwelcome\u001b[0m \u001b[1;33m=\u001b[0m \u001b[0mself\u001b[0m\u001b[1;33m.\u001b[0m\u001b[0mgetresp\u001b[0m\u001b[1;33m(\u001b[0m\u001b[1;33m)\u001b[0m\u001b[1;33m\u001b[0m\u001b[1;33m\u001b[0m\u001b[0m\n\u001b[0m\u001b[0;32m    156\u001b[0m         \u001b[1;32mreturn\u001b[0m \u001b[0mself\u001b[0m\u001b[1;33m.\u001b[0m\u001b[0mwelcome\u001b[0m\u001b[1;33m\u001b[0m\u001b[1;33m\u001b[0m\u001b[0m\n\u001b[0;32m    157\u001b[0m \u001b[1;33m\u001b[0m\u001b[0m\n",
      "\u001b[1;32mc:\\Users\\User\\AppData\\Local\\Programs\\Python\\Python37\\lib\\ftplib.py\u001b[0m in \u001b[0;36mgetresp\u001b[1;34m(self)\u001b[0m\n\u001b[0;32m    234\u001b[0m     \u001b[1;31m# Raise various errors if the response indicates an error\u001b[0m\u001b[1;33m\u001b[0m\u001b[1;33m\u001b[0m\u001b[1;33m\u001b[0m\u001b[0m\n\u001b[0;32m    235\u001b[0m     \u001b[1;32mdef\u001b[0m \u001b[0mgetresp\u001b[0m\u001b[1;33m(\u001b[0m\u001b[0mself\u001b[0m\u001b[1;33m)\u001b[0m\u001b[1;33m:\u001b[0m\u001b[1;33m\u001b[0m\u001b[1;33m\u001b[0m\u001b[0m\n\u001b[1;32m--> 236\u001b[1;33m         \u001b[0mresp\u001b[0m \u001b[1;33m=\u001b[0m \u001b[0mself\u001b[0m\u001b[1;33m.\u001b[0m\u001b[0mgetmultiline\u001b[0m\u001b[1;33m(\u001b[0m\u001b[1;33m)\u001b[0m\u001b[1;33m\u001b[0m\u001b[1;33m\u001b[0m\u001b[0m\n\u001b[0m\u001b[0;32m    237\u001b[0m         \u001b[1;32mif\u001b[0m \u001b[0mself\u001b[0m\u001b[1;33m.\u001b[0m\u001b[0mdebugging\u001b[0m\u001b[1;33m:\u001b[0m\u001b[1;33m\u001b[0m\u001b[1;33m\u001b[0m\u001b[0m\n\u001b[0;32m    238\u001b[0m             \u001b[0mprint\u001b[0m\u001b[1;33m(\u001b[0m\u001b[1;34m'*resp*'\u001b[0m\u001b[1;33m,\u001b[0m \u001b[0mself\u001b[0m\u001b[1;33m.\u001b[0m\u001b[0msanitize\u001b[0m\u001b[1;33m(\u001b[0m\u001b[0mresp\u001b[0m\u001b[1;33m)\u001b[0m\u001b[1;33m)\u001b[0m\u001b[1;33m\u001b[0m\u001b[1;33m\u001b[0m\u001b[0m\n",
      "\u001b[1;32mc:\\Users\\User\\AppData\\Local\\Programs\\Python\\Python37\\lib\\ftplib.py\u001b[0m in \u001b[0;36mgetmultiline\u001b[1;34m(self)\u001b[0m\n\u001b[0;32m    220\u001b[0m     \u001b[1;31m# these are separated by '\\n' characters in the string\u001b[0m\u001b[1;33m\u001b[0m\u001b[1;33m\u001b[0m\u001b[1;33m\u001b[0m\u001b[0m\n\u001b[0;32m    221\u001b[0m     \u001b[1;32mdef\u001b[0m \u001b[0mgetmultiline\u001b[0m\u001b[1;33m(\u001b[0m\u001b[0mself\u001b[0m\u001b[1;33m)\u001b[0m\u001b[1;33m:\u001b[0m\u001b[1;33m\u001b[0m\u001b[1;33m\u001b[0m\u001b[0m\n\u001b[1;32m--> 222\u001b[1;33m         \u001b[0mline\u001b[0m \u001b[1;33m=\u001b[0m \u001b[0mself\u001b[0m\u001b[1;33m.\u001b[0m\u001b[0mgetline\u001b[0m\u001b[1;33m(\u001b[0m\u001b[1;33m)\u001b[0m\u001b[1;33m\u001b[0m\u001b[1;33m\u001b[0m\u001b[0m\n\u001b[0m\u001b[0;32m    223\u001b[0m         \u001b[1;32mif\u001b[0m \u001b[0mline\u001b[0m\u001b[1;33m[\u001b[0m\u001b[1;36m3\u001b[0m\u001b[1;33m:\u001b[0m\u001b[1;36m4\u001b[0m\u001b[1;33m]\u001b[0m \u001b[1;33m==\u001b[0m \u001b[1;34m'-'\u001b[0m\u001b[1;33m:\u001b[0m\u001b[1;33m\u001b[0m\u001b[1;33m\u001b[0m\u001b[0m\n\u001b[0;32m    224\u001b[0m             \u001b[0mcode\u001b[0m \u001b[1;33m=\u001b[0m \u001b[0mline\u001b[0m\u001b[1;33m[\u001b[0m\u001b[1;33m:\u001b[0m\u001b[1;36m3\u001b[0m\u001b[1;33m]\u001b[0m\u001b[1;33m\u001b[0m\u001b[1;33m\u001b[0m\u001b[0m\n",
      "\u001b[1;32mc:\\Users\\User\\AppData\\Local\\Programs\\Python\\Python37\\lib\\ftplib.py\u001b[0m in \u001b[0;36mgetline\u001b[1;34m(self)\u001b[0m\n\u001b[0;32m    202\u001b[0m     \u001b[1;31m# Raise EOFError if the connection is closed\u001b[0m\u001b[1;33m\u001b[0m\u001b[1;33m\u001b[0m\u001b[1;33m\u001b[0m\u001b[0m\n\u001b[0;32m    203\u001b[0m     \u001b[1;32mdef\u001b[0m \u001b[0mgetline\u001b[0m\u001b[1;33m(\u001b[0m\u001b[0mself\u001b[0m\u001b[1;33m)\u001b[0m\u001b[1;33m:\u001b[0m\u001b[1;33m\u001b[0m\u001b[1;33m\u001b[0m\u001b[0m\n\u001b[1;32m--> 204\u001b[1;33m         \u001b[0mline\u001b[0m \u001b[1;33m=\u001b[0m \u001b[0mself\u001b[0m\u001b[1;33m.\u001b[0m\u001b[0mfile\u001b[0m\u001b[1;33m.\u001b[0m\u001b[0mreadline\u001b[0m\u001b[1;33m(\u001b[0m\u001b[0mself\u001b[0m\u001b[1;33m.\u001b[0m\u001b[0mmaxline\u001b[0m \u001b[1;33m+\u001b[0m \u001b[1;36m1\u001b[0m\u001b[1;33m)\u001b[0m\u001b[1;33m\u001b[0m\u001b[1;33m\u001b[0m\u001b[0m\n\u001b[0m\u001b[0;32m    205\u001b[0m         \u001b[1;32mif\u001b[0m \u001b[0mlen\u001b[0m\u001b[1;33m(\u001b[0m\u001b[0mline\u001b[0m\u001b[1;33m)\u001b[0m \u001b[1;33m>\u001b[0m \u001b[0mself\u001b[0m\u001b[1;33m.\u001b[0m\u001b[0mmaxline\u001b[0m\u001b[1;33m:\u001b[0m\u001b[1;33m\u001b[0m\u001b[1;33m\u001b[0m\u001b[0m\n\u001b[0;32m    206\u001b[0m             \u001b[1;32mraise\u001b[0m \u001b[0mError\u001b[0m\u001b[1;33m(\u001b[0m\u001b[1;34m\"got more than %d bytes\"\u001b[0m \u001b[1;33m%\u001b[0m \u001b[0mself\u001b[0m\u001b[1;33m.\u001b[0m\u001b[0mmaxline\u001b[0m\u001b[1;33m)\u001b[0m\u001b[1;33m\u001b[0m\u001b[1;33m\u001b[0m\u001b[0m\n",
      "\u001b[1;32mc:\\Users\\User\\AppData\\Local\\Programs\\Python\\Python37\\lib\\socket.py\u001b[0m in \u001b[0;36mreadinto\u001b[1;34m(self, b)\u001b[0m\n\u001b[0;32m    587\u001b[0m         \u001b[1;32mwhile\u001b[0m \u001b[1;32mTrue\u001b[0m\u001b[1;33m:\u001b[0m\u001b[1;33m\u001b[0m\u001b[1;33m\u001b[0m\u001b[0m\n\u001b[0;32m    588\u001b[0m             \u001b[1;32mtry\u001b[0m\u001b[1;33m:\u001b[0m\u001b[1;33m\u001b[0m\u001b[1;33m\u001b[0m\u001b[0m\n\u001b[1;32m--> 589\u001b[1;33m                 \u001b[1;32mreturn\u001b[0m \u001b[0mself\u001b[0m\u001b[1;33m.\u001b[0m\u001b[0m_sock\u001b[0m\u001b[1;33m.\u001b[0m\u001b[0mrecv_into\u001b[0m\u001b[1;33m(\u001b[0m\u001b[0mb\u001b[0m\u001b[1;33m)\u001b[0m\u001b[1;33m\u001b[0m\u001b[1;33m\u001b[0m\u001b[0m\n\u001b[0m\u001b[0;32m    590\u001b[0m             \u001b[1;32mexcept\u001b[0m \u001b[0mtimeout\u001b[0m\u001b[1;33m:\u001b[0m\u001b[1;33m\u001b[0m\u001b[1;33m\u001b[0m\u001b[0m\n\u001b[0;32m    591\u001b[0m                 \u001b[0mself\u001b[0m\u001b[1;33m.\u001b[0m\u001b[0m_timeout_occurred\u001b[0m \u001b[1;33m=\u001b[0m \u001b[1;32mTrue\u001b[0m\u001b[1;33m\u001b[0m\u001b[1;33m\u001b[0m\u001b[0m\n",
      "\u001b[1;31mKeyboardInterrupt\u001b[0m: "
     ]
    }
   ],
   "source": [
    "download_pdb(l, '../raw_data/')"
   ]
  },
  {
   "cell_type": "code",
   "execution_count": 19,
   "metadata": {},
   "outputs": [],
   "source": [
    "# # download structures\n",
    "# pdbl = PDBList()\n",
    "# for pdb in pdbs:\n",
    "#     pdbl.retrieve_pdb_file(pdb, file_format= 'pdb', pdir= '../raw_data/pdb_files')"
   ]
  },
  {
   "cell_type": "code",
   "execution_count": 7,
   "metadata": {},
   "outputs": [],
   "source": [
    "# cter = pd.read_csv('../raw_data/uniprot_kd_cre_cter.gz', sep= '\\t', compression= 'gzip')\n",
    "# cter.columns = cter.columns.str.lower().str.replace(\" \", \"_\")\n",
    "# cter.drop(columns= ['from', 'entry_name'], inplace= True)"
   ]
  },
  {
   "cell_type": "code",
   "execution_count": 8,
   "metadata": {},
   "outputs": [
    {
     "data": {
      "text/plain": [
       "22"
      ]
     },
     "execution_count": 8,
     "metadata": {},
     "output_type": "execute_result"
    }
   ],
   "source": [
    "pdbs_kd_cre[pdbs_kd_cre.uniprot_acc.isin(cter.entry)].uniprot_acc.nunique()"
   ]
  },
  {
   "cell_type": "markdown",
   "metadata": {},
   "source": [
    "### Measure distances"
   ]
  },
  {
   "cell_type": "code",
   "execution_count": 1,
   "metadata": {},
   "outputs": [],
   "source": [
    "# use all_atoms selector and then filter for those distances below 6 A\n",
    "# from distances import all_atoms_selector\n",
    "# dist_all_6yp3 = distances.calculate_distances(pdb_source= '../raw_data/6yp3.pdb', atom_selector= carbon_alfa_selector, include_extra_info= True)"
   ]
  },
  {
   "cell_type": "code",
   "execution_count": 53,
   "metadata": {},
   "outputs": [
    {
     "data": {
      "text/plain": [
       "'P00782'"
      ]
     },
     "execution_count": 53,
     "metadata": {},
     "output_type": "execute_result"
    }
   ],
   "source": [
    "uniprot_pdb[uniprot_pdb.pdb == '1au9'].values[0][0]"
   ]
  },
  {
   "cell_type": "code",
   "execution_count": 57,
   "metadata": {},
   "outputs": [
    {
     "data": {
      "text/plain": [
       "True"
      ]
     },
     "execution_count": 57,
     "metadata": {},
     "output_type": "execute_result"
    }
   ],
   "source": [
    "uniprot_pdb[uniprot_pdb.pdb == '1au9'].size != 0"
   ]
  },
  {
   "cell_type": "markdown",
   "metadata": {},
   "source": [
    "con esto, solo faltaria agregar una col de catalytic site (bool)"
   ]
  },
  {
   "cell_type": "code",
   "execution_count": null,
   "metadata": {},
   "outputs": [],
   "source": []
  },
  {
   "cell_type": "code",
   "execution_count": 4,
   "metadata": {},
   "outputs": [],
   "source": [
    "def distances_carbon_alfa(path, uniprot_pdb):\n",
    "    '''\n",
    "    path: path containing PDB files\n",
    "    uniprot_pdb: dataframe of mapping uniprot-pdb\n",
    "    '''\n",
    "    from distances import carbon_alfa_selector\n",
    "\n",
    "    path = '../raw_data/pdb_files/'\n",
    "    # iterate over the uniprot files\n",
    "    for filename in os.listdir(path):\n",
    "        \n",
    "        #print(filename)\n",
    "        f = os.path.join(path, filename)\n",
    "        #print(f)\n",
    "        if os.path.isfile(f):\n",
    "\n",
    "            dist = distances.calculate_distances(pdb_source= f, atom_selector= carbon_alfa_selector, include_extra_info= True)\n",
    "            filename = filename.strip(\"pdb.ent\")\n",
    "            #distances.save_distances(dist, outfile= \"../datasets/distances/\" + str(filename)  + \".pdb\")\n",
    "\n",
    "            df = pd.DataFrame(dist, columns = ['chain_a', 'pos_a', 'aa_a', 'atom_a', 'chain_b', 'pos_b', 'aa_b', 'atom_b', 'dist'])\n",
    "            df = df[(df.pos_a > 0) & (df.pos_b > 0)]\n",
    "            df = df[df.dist <= 6]\n",
    "\n",
    "            uniprot = uniprot_pdb[uniprot_pdb.pdb == filename]\n",
    "            if uniprot.size != 0:\n",
    "                uniprot = uniprot.values[0][0]\n",
    "                df[\"uniprot\"] = uniprot\n",
    "                df[\"pdb\"] = filename\n",
    "                print(f\"writing file for {filename} pdb\")\n",
    "                df.to_csv('../datasets/distances/dataframes/' + uniprot + \"_\" + filename + '.csv', index= False)\n",
    "            # with open(f, 'r') as fp:\n",
    "            #     # read all lines using readline()\n",
    "            #     lines = fp.readlines()\n",
    "            #     for i, row in enumerate(lines):\n",
    "            #         # check if string present on a current line\n",
    "            #         pattern = \"^FT   ACT_SITE        (.+)$\"\n",
    "            #         k = re.findall(pattern, row)\n",
    "            #         if k:\n",
    "            #             pos_global.append({'uniprot': filename, 'pos': k[0]})\n"
   ]
  },
  {
   "cell_type": "code",
   "execution_count": 32,
   "metadata": {},
   "outputs": [
    {
     "data": {
      "text/plain": [
       "'P00782'"
      ]
     },
     "execution_count": 32,
     "metadata": {},
     "output_type": "execute_result"
    }
   ],
   "source": [
    "uniprot_pdb[uniprot_pdb.pdb == '1a2q'].values[0][0]"
   ]
  },
  {
   "cell_type": "code",
   "execution_count": 42,
   "metadata": {},
   "outputs": [],
   "source": [
    "# for all heavy atoms\n",
    "def distances_all_atoms(path, uniprot_pdb, output):\n",
    "    '''\n",
    "    Given a pdb file, calculates the interatomic distances among heavy atoms\n",
    "    Returns: a data frame with distances < 6 A\n",
    "    path: path containing PDB files\n",
    "    uniprot_pdb: dataframe of mapping uniprot-pdb\n",
    "    output: output path\n",
    "    '''\n",
    "    from distances import all_atoms_selector\n",
    "\n",
    "    # iterate over the pdb files\n",
    "    for filename in os.listdir(path):\n",
    "        #print(filename)\n",
    "        f = os.path.join(path, filename)\n",
    "        #print(f)\n",
    "        if os.path.isfile(f):\n",
    "\n",
    "            # check if output already exists\n",
    "            filename = filename.strip(\"pdb.ent\") # pdb accesion\n",
    "            try:\n",
    "                uniprot = uniprot_pdb[uniprot_pdb.pdb == filename]#.uniprot.values[0] \n",
    "                if uniprot.size != 0:\n",
    "                    uniprot = uniprot.values[0][0] # uniprot accesion\n",
    "                    output_file = output + uniprot + \"_\" + filename + '.csv'\n",
    "            except:\n",
    "                print(f'no uniprot found for {filename}')\n",
    "            #print(filename)\n",
    "            #print(uniprot)\n",
    "            #print(output_file)\n",
    "            if not os.path.exists(output_file):\n",
    "\n",
    "                # calculate distance\n",
    "                dist = distances.calculate_distances(pdb_source= f, atom_selector= all_atoms_selector, include_extra_info= True)\n",
    "                #filename = filename.strip(\"pdb.ent\") # pdb accesion\n",
    "                #distances.save_distances(dist, outfile= \"../datasets/distances/\" + str(filename)  + \".pdb\")\n",
    "\n",
    "                df = pd.DataFrame(dist, columns = ['chain_a', 'pos_a', 'aa_a', 'atom_a', 'chain_b', 'pos_b', 'aa_b', 'atom_b', 'dist'])\n",
    "                df = df[(df.pos_a > 0) & (df.pos_b > 0)]\n",
    "                df = df[df.dist <= 6]\n",
    "\n",
    "                #uniprot = uniprot_pdb[uniprot_pdb.pdb == filename]\n",
    "                #if uniprot.size != 0:\n",
    "                    #uniprot = uniprot.values[0][0]\n",
    "                df[\"uniprot\"] = uniprot\n",
    "                df[\"pdb\"] = filename\n",
    "                print(f\"writing file for {filename} pdb\")\n",
    "                df.to_csv(output_file, index= False)"
   ]
  },
  {
   "cell_type": "code",
   "execution_count": 43,
   "metadata": {},
   "outputs": [
    {
     "name": "stderr",
     "output_type": "stream",
     "text": [
      "c:\\Users\\User\\AppData\\Local\\Programs\\Python\\Python37\\lib\\site-packages\\Bio\\PDB\\StructureBuilder.py:92: PDBConstructionWarning: WARNING: Chain A is discontinuous at line 6142.\n",
      "  PDBConstructionWarning,\n",
      "c:\\Users\\User\\AppData\\Local\\Programs\\Python\\Python37\\lib\\site-packages\\Bio\\PDB\\StructureBuilder.py:92: PDBConstructionWarning: WARNING: Chain B is discontinuous at line 6265.\n",
      "  PDBConstructionWarning,\n"
     ]
    },
    {
     "name": "stdout",
     "output_type": "stream",
     "text": [
      "writing file for 2bnx pdb\n"
     ]
    },
    {
     "name": "stderr",
     "output_type": "stream",
     "text": [
      "c:\\Users\\User\\AppData\\Local\\Programs\\Python\\Python37\\lib\\site-packages\\Bio\\PDB\\StructureBuilder.py:92: PDBConstructionWarning: WARNING: Chain A is discontinuous at line 4753.\n",
      "  PDBConstructionWarning,\n",
      "c:\\Users\\User\\AppData\\Local\\Programs\\Python\\Python37\\lib\\site-packages\\Bio\\PDB\\StructureBuilder.py:92: PDBConstructionWarning: WARNING: Chain B is discontinuous at line 4774.\n",
      "  PDBConstructionWarning,\n"
     ]
    },
    {
     "name": "stdout",
     "output_type": "stream",
     "text": [
      "writing file for 2bva pdb\n",
      "writing file for 2cdz pdb\n",
      "writing file for 2chm pdb\n"
     ]
    },
    {
     "name": "stderr",
     "output_type": "stream",
     "text": [
      "c:\\Users\\User\\AppData\\Local\\Programs\\Python\\Python37\\lib\\site-packages\\Bio\\PDB\\StructureBuilder.py:92: PDBConstructionWarning: WARNING: Chain A is discontinuous at line 1473.\n",
      "  PDBConstructionWarning,\n",
      "c:\\Users\\User\\AppData\\Local\\Programs\\Python\\Python37\\lib\\site-packages\\Bio\\PDB\\StructureBuilder.py:92: PDBConstructionWarning: WARNING: Chain L is discontinuous at line 1579.\n",
      "  PDBConstructionWarning,\n"
     ]
    },
    {
     "name": "stdout",
     "output_type": "stream",
     "text": [
      "writing file for 2cia pdb\n"
     ]
    },
    {
     "name": "stderr",
     "output_type": "stream",
     "text": [
      "c:\\Users\\User\\AppData\\Local\\Programs\\Python\\Python37\\lib\\site-packages\\Bio\\PDB\\StructureBuilder.py:92: PDBConstructionWarning: WARNING: Chain A is discontinuous at line 11255.\n",
      "  PDBConstructionWarning,\n",
      "c:\\Users\\User\\AppData\\Local\\Programs\\Python\\Python37\\lib\\site-packages\\Bio\\PDB\\StructureBuilder.py:92: PDBConstructionWarning: WARNING: Chain B is discontinuous at line 11415.\n",
      "  PDBConstructionWarning,\n",
      "c:\\Users\\User\\AppData\\Local\\Programs\\Python\\Python37\\lib\\site-packages\\Bio\\PDB\\StructureBuilder.py:92: PDBConstructionWarning: WARNING: Chain C is discontinuous at line 11583.\n",
      "  PDBConstructionWarning,\n",
      "c:\\Users\\User\\AppData\\Local\\Programs\\Python\\Python37\\lib\\site-packages\\Bio\\PDB\\StructureBuilder.py:92: PDBConstructionWarning: WARNING: Chain D is discontinuous at line 11709.\n",
      "  PDBConstructionWarning,\n",
      "c:\\Users\\User\\AppData\\Local\\Programs\\Python\\Python37\\lib\\site-packages\\Bio\\PDB\\StructureBuilder.py:92: PDBConstructionWarning: WARNING: Chain E is discontinuous at line 11862.\n",
      "  PDBConstructionWarning,\n",
      "c:\\Users\\User\\AppData\\Local\\Programs\\Python\\Python37\\lib\\site-packages\\Bio\\PDB\\StructureBuilder.py:92: PDBConstructionWarning: WARNING: Chain F is discontinuous at line 11867.\n",
      "  PDBConstructionWarning,\n",
      "c:\\Users\\User\\AppData\\Local\\Programs\\Python\\Python37\\lib\\site-packages\\Bio\\PDB\\StructureBuilder.py:92: PDBConstructionWarning: WARNING: Chain G is discontinuous at line 11868.\n",
      "  PDBConstructionWarning,\n",
      "c:\\Users\\User\\AppData\\Local\\Programs\\Python\\Python37\\lib\\site-packages\\Bio\\PDB\\StructureBuilder.py:92: PDBConstructionWarning: WARNING: Chain H is discontinuous at line 11869.\n",
      "  PDBConstructionWarning,\n"
     ]
    },
    {
     "name": "stdout",
     "output_type": "stream",
     "text": [
      "writing file for 2d10 pdb\n"
     ]
    },
    {
     "name": "stderr",
     "output_type": "stream",
     "text": [
      "c:\\Users\\User\\AppData\\Local\\Programs\\Python\\Python37\\lib\\site-packages\\Bio\\PDB\\StructureBuilder.py:92: PDBConstructionWarning: WARNING: Chain A is discontinuous at line 2402.\n",
      "  PDBConstructionWarning,\n",
      "c:\\Users\\User\\AppData\\Local\\Programs\\Python\\Python37\\lib\\site-packages\\Bio\\PDB\\StructureBuilder.py:92: PDBConstructionWarning: WARNING: Chain B is discontinuous at line 2519.\n",
      "  PDBConstructionWarning,\n"
     ]
    },
    {
     "name": "stdout",
     "output_type": "stream",
     "text": [
      "writing file for 2f31 pdb\n",
      "writing file for 2f4j pdb\n",
      "writing file for 2fo0 pdb\n"
     ]
    },
    {
     "name": "stderr",
     "output_type": "stream",
     "text": [
      "c:\\Users\\User\\AppData\\Local\\Programs\\Python\\Python37\\lib\\site-packages\\Bio\\PDB\\StructureBuilder.py:92: PDBConstructionWarning: WARNING: Chain A is discontinuous at line 1533.\n",
      "  PDBConstructionWarning,\n",
      "c:\\Users\\User\\AppData\\Local\\Programs\\Python\\Python37\\lib\\site-packages\\Bio\\PDB\\StructureBuilder.py:92: PDBConstructionWarning: WARNING: Chain B is discontinuous at line 1672.\n",
      "  PDBConstructionWarning,\n"
     ]
    },
    {
     "name": "stdout",
     "output_type": "stream",
     "text": [
      "writing file for 2foj pdb\n",
      "writing file for 2frw pdb\n",
      "writing file for 2fry pdb\n"
     ]
    },
    {
     "name": "stderr",
     "output_type": "stream",
     "text": [
      "c:\\Users\\User\\AppData\\Local\\Programs\\Python\\Python37\\lib\\site-packages\\Bio\\PDB\\StructureBuilder.py:92: PDBConstructionWarning: WARNING: Chain B is discontinuous at line 4954.\n",
      "  PDBConstructionWarning,\n",
      "c:\\Users\\User\\AppData\\Local\\Programs\\Python\\Python37\\lib\\site-packages\\Bio\\PDB\\StructureBuilder.py:92: PDBConstructionWarning: WARNING: Chain C is discontinuous at line 4985.\n",
      "  PDBConstructionWarning,\n",
      "c:\\Users\\User\\AppData\\Local\\Programs\\Python\\Python37\\lib\\site-packages\\Bio\\PDB\\StructureBuilder.py:92: PDBConstructionWarning: WARNING: Chain A is discontinuous at line 5020.\n",
      "  PDBConstructionWarning,\n",
      "c:\\Users\\User\\AppData\\Local\\Programs\\Python\\Python37\\lib\\site-packages\\Bio\\PDB\\StructureBuilder.py:92: PDBConstructionWarning: WARNING: Chain B is discontinuous at line 5073.\n",
      "  PDBConstructionWarning,\n",
      "c:\\Users\\User\\AppData\\Local\\Programs\\Python\\Python37\\lib\\site-packages\\Bio\\PDB\\StructureBuilder.py:92: PDBConstructionWarning: WARNING: Chain C is discontinuous at line 5103.\n",
      "  PDBConstructionWarning,\n"
     ]
    },
    {
     "name": "stdout",
     "output_type": "stream",
     "text": [
      "writing file for 2g2f pdb\n"
     ]
    },
    {
     "name": "stderr",
     "output_type": "stream",
     "text": [
      "c:\\Users\\User\\AppData\\Local\\Programs\\Python\\Python37\\lib\\site-packages\\Bio\\PDB\\StructureBuilder.py:92: PDBConstructionWarning: WARNING: Chain A is discontinuous at line 4894.\n",
      "  PDBConstructionWarning,\n",
      "c:\\Users\\User\\AppData\\Local\\Programs\\Python\\Python37\\lib\\site-packages\\Bio\\PDB\\StructureBuilder.py:92: PDBConstructionWarning: WARNING: Chain B is discontinuous at line 4923.\n",
      "  PDBConstructionWarning,\n",
      "c:\\Users\\User\\AppData\\Local\\Programs\\Python\\Python37\\lib\\site-packages\\Bio\\PDB\\StructureBuilder.py:92: PDBConstructionWarning: WARNING: Chain A is discontinuous at line 4952.\n",
      "  PDBConstructionWarning,\n",
      "c:\\Users\\User\\AppData\\Local\\Programs\\Python\\Python37\\lib\\site-packages\\Bio\\PDB\\StructureBuilder.py:92: PDBConstructionWarning: WARNING: Chain B is discontinuous at line 5189.\n",
      "  PDBConstructionWarning,\n"
     ]
    },
    {
     "name": "stdout",
     "output_type": "stream",
     "text": [
      "writing file for 2g2h pdb\n"
     ]
    },
    {
     "name": "stderr",
     "output_type": "stream",
     "text": [
      "c:\\Users\\User\\AppData\\Local\\Programs\\Python\\Python37\\lib\\site-packages\\Bio\\PDB\\StructureBuilder.py:92: PDBConstructionWarning: WARNING: Chain A is discontinuous at line 5098.\n",
      "  PDBConstructionWarning,\n",
      "c:\\Users\\User\\AppData\\Local\\Programs\\Python\\Python37\\lib\\site-packages\\Bio\\PDB\\StructureBuilder.py:92: PDBConstructionWarning: WARNING: Chain B is discontinuous at line 5125.\n",
      "  PDBConstructionWarning,\n"
     ]
    },
    {
     "name": "stdout",
     "output_type": "stream",
     "text": [
      "writing file for 2g2i pdb\n"
     ]
    },
    {
     "name": "stderr",
     "output_type": "stream",
     "text": [
      "c:\\Users\\User\\AppData\\Local\\Programs\\Python\\Python37\\lib\\site-packages\\Bio\\PDB\\StructureBuilder.py:92: PDBConstructionWarning: WARNING: Chain A is discontinuous at line 5033.\n",
      "  PDBConstructionWarning,\n",
      "c:\\Users\\User\\AppData\\Local\\Programs\\Python\\Python37\\lib\\site-packages\\Bio\\PDB\\StructureBuilder.py:92: PDBConstructionWarning: WARNING: Chain B is discontinuous at line 5066.\n",
      "  PDBConstructionWarning,\n",
      "c:\\Users\\User\\AppData\\Local\\Programs\\Python\\Python37\\lib\\site-packages\\Bio\\PDB\\StructureBuilder.py:92: PDBConstructionWarning: WARNING: Chain A is discontinuous at line 5105.\n",
      "  PDBConstructionWarning,\n",
      "c:\\Users\\User\\AppData\\Local\\Programs\\Python\\Python37\\lib\\site-packages\\Bio\\PDB\\StructureBuilder.py:92: PDBConstructionWarning: WARNING: Chain B is discontinuous at line 5250.\n",
      "  PDBConstructionWarning,\n"
     ]
    },
    {
     "name": "stdout",
     "output_type": "stream",
     "text": [
      "writing file for 2gqg pdb\n",
      "writing file for 2h40 pdb\n"
     ]
    },
    {
     "name": "stderr",
     "output_type": "stream",
     "text": [
      "c:\\Users\\User\\AppData\\Local\\Programs\\Python\\Python37\\lib\\site-packages\\Bio\\PDB\\StructureBuilder.py:92: PDBConstructionWarning: WARNING: Chain A is discontinuous at line 8471.\n",
      "  PDBConstructionWarning,\n",
      "c:\\Users\\User\\AppData\\Local\\Programs\\Python\\Python37\\lib\\site-packages\\Bio\\PDB\\StructureBuilder.py:92: PDBConstructionWarning: WARNING: Chain B is discontinuous at line 8506.\n",
      "  PDBConstructionWarning,\n",
      "c:\\Users\\User\\AppData\\Local\\Programs\\Python\\Python37\\lib\\site-packages\\Bio\\PDB\\StructureBuilder.py:92: PDBConstructionWarning: WARNING: Chain C is discontinuous at line 8541.\n",
      "  PDBConstructionWarning,\n",
      "c:\\Users\\User\\AppData\\Local\\Programs\\Python\\Python37\\lib\\site-packages\\Bio\\PDB\\StructureBuilder.py:92: PDBConstructionWarning: WARNING: Chain A is discontinuous at line 8576.\n",
      "  PDBConstructionWarning,\n",
      "c:\\Users\\User\\AppData\\Local\\Programs\\Python\\Python37\\lib\\site-packages\\Bio\\PDB\\StructureBuilder.py:92: PDBConstructionWarning: WARNING: Chain B is discontinuous at line 8666.\n",
      "  PDBConstructionWarning,\n",
      "c:\\Users\\User\\AppData\\Local\\Programs\\Python\\Python37\\lib\\site-packages\\Bio\\PDB\\StructureBuilder.py:92: PDBConstructionWarning: WARNING: Chain C is discontinuous at line 8769.\n",
      "  PDBConstructionWarning,\n"
     ]
    },
    {
     "name": "stdout",
     "output_type": "stream",
     "text": [
      "writing file for 2h42 pdb\n",
      "writing file for 2h44 pdb\n"
     ]
    },
    {
     "name": "stderr",
     "output_type": "stream",
     "text": [
      "c:\\Users\\User\\AppData\\Local\\Programs\\Python\\Python37\\lib\\site-packages\\Bio\\PDB\\StructureBuilder.py:92: PDBConstructionWarning: WARNING: Chain A is discontinuous at line 4963.\n",
      "  PDBConstructionWarning,\n",
      "c:\\Users\\User\\AppData\\Local\\Programs\\Python\\Python37\\lib\\site-packages\\Bio\\PDB\\StructureBuilder.py:92: PDBConstructionWarning: WARNING: Chain B is discontinuous at line 4996.\n",
      "  PDBConstructionWarning,\n",
      "c:\\Users\\User\\AppData\\Local\\Programs\\Python\\Python37\\lib\\site-packages\\Bio\\PDB\\StructureBuilder.py:92: PDBConstructionWarning: WARNING: Chain A is discontinuous at line 5029.\n",
      "  PDBConstructionWarning,\n",
      "c:\\Users\\User\\AppData\\Local\\Programs\\Python\\Python37\\lib\\site-packages\\Bio\\PDB\\StructureBuilder.py:92: PDBConstructionWarning: WARNING: Chain B is discontinuous at line 5147.\n",
      "  PDBConstructionWarning,\n"
     ]
    },
    {
     "name": "stdout",
     "output_type": "stream",
     "text": [
      "writing file for 2hiw pdb\n"
     ]
    },
    {
     "name": "stderr",
     "output_type": "stream",
     "text": [
      "c:\\Users\\User\\AppData\\Local\\Programs\\Python\\Python37\\lib\\site-packages\\Bio\\PDB\\StructureBuilder.py:92: PDBConstructionWarning: WARNING: Chain A is discontinuous at line 4397.\n",
      "  PDBConstructionWarning,\n",
      "c:\\Users\\User\\AppData\\Local\\Programs\\Python\\Python37\\lib\\site-packages\\Bio\\PDB\\StructureBuilder.py:92: PDBConstructionWarning: WARNING: Chain B is discontinuous at line 4419.\n",
      "  PDBConstructionWarning,\n",
      "c:\\Users\\User\\AppData\\Local\\Programs\\Python\\Python37\\lib\\site-packages\\Bio\\PDB\\StructureBuilder.py:92: PDBConstructionWarning: WARNING: Chain A is discontinuous at line 4447.\n",
      "  PDBConstructionWarning,\n",
      "c:\\Users\\User\\AppData\\Local\\Programs\\Python\\Python37\\lib\\site-packages\\Bio\\PDB\\StructureBuilder.py:92: PDBConstructionWarning: WARNING: Chain B is discontinuous at line 4468.\n",
      "  PDBConstructionWarning,\n"
     ]
    },
    {
     "name": "stdout",
     "output_type": "stream",
     "text": [
      "writing file for 2hwo pdb\n"
     ]
    },
    {
     "name": "stderr",
     "output_type": "stream",
     "text": [
      "c:\\Users\\User\\AppData\\Local\\Programs\\Python\\Python37\\lib\\site-packages\\Bio\\PDB\\StructureBuilder.py:92: PDBConstructionWarning: WARNING: Chain A is discontinuous at line 9150.\n",
      "  PDBConstructionWarning,\n",
      "c:\\Users\\User\\AppData\\Local\\Programs\\Python\\Python37\\lib\\site-packages\\Bio\\PDB\\StructureBuilder.py:92: PDBConstructionWarning: WARNING: Chain B is discontinuous at line 9187.\n",
      "  PDBConstructionWarning,\n",
      "c:\\Users\\User\\AppData\\Local\\Programs\\Python\\Python37\\lib\\site-packages\\Bio\\PDB\\StructureBuilder.py:92: PDBConstructionWarning: WARNING: Chain C is discontinuous at line 9224.\n",
      "  PDBConstructionWarning,\n",
      "c:\\Users\\User\\AppData\\Local\\Programs\\Python\\Python37\\lib\\site-packages\\Bio\\PDB\\StructureBuilder.py:92: PDBConstructionWarning: WARNING: Chain D is discontinuous at line 9261.\n",
      "  PDBConstructionWarning,\n",
      "c:\\Users\\User\\AppData\\Local\\Programs\\Python\\Python37\\lib\\site-packages\\Bio\\PDB\\StructureBuilder.py:92: PDBConstructionWarning: WARNING: Chain A is discontinuous at line 9298.\n",
      "  PDBConstructionWarning,\n",
      "c:\\Users\\User\\AppData\\Local\\Programs\\Python\\Python37\\lib\\site-packages\\Bio\\PDB\\StructureBuilder.py:92: PDBConstructionWarning: WARNING: Chain B is discontinuous at line 9349.\n",
      "  PDBConstructionWarning,\n",
      "c:\\Users\\User\\AppData\\Local\\Programs\\Python\\Python37\\lib\\site-packages\\Bio\\PDB\\StructureBuilder.py:92: PDBConstructionWarning: WARNING: Chain C is discontinuous at line 9394.\n",
      "  PDBConstructionWarning,\n",
      "c:\\Users\\User\\AppData\\Local\\Programs\\Python\\Python37\\lib\\site-packages\\Bio\\PDB\\StructureBuilder.py:92: PDBConstructionWarning: WARNING: Chain D is discontinuous at line 9451.\n",
      "  PDBConstructionWarning,\n"
     ]
    },
    {
     "name": "stdout",
     "output_type": "stream",
     "text": [
      "writing file for 2hyy pdb\n"
     ]
    },
    {
     "name": "stderr",
     "output_type": "stream",
     "text": [
      "c:\\Users\\User\\AppData\\Local\\Programs\\Python\\Python37\\lib\\site-packages\\Bio\\PDB\\StructureBuilder.py:92: PDBConstructionWarning: WARNING: Chain A is discontinuous at line 4640.\n",
      "  PDBConstructionWarning,\n",
      "c:\\Users\\User\\AppData\\Local\\Programs\\Python\\Python37\\lib\\site-packages\\Bio\\PDB\\StructureBuilder.py:92: PDBConstructionWarning: WARNING: Chain B is discontinuous at line 4671.\n",
      "  PDBConstructionWarning,\n",
      "c:\\Users\\User\\AppData\\Local\\Programs\\Python\\Python37\\lib\\site-packages\\Bio\\PDB\\StructureBuilder.py:92: PDBConstructionWarning: WARNING: Chain A is discontinuous at line 4702.\n",
      "  PDBConstructionWarning,\n",
      "c:\\Users\\User\\AppData\\Local\\Programs\\Python\\Python37\\lib\\site-packages\\Bio\\PDB\\StructureBuilder.py:92: PDBConstructionWarning: WARNING: Chain B is discontinuous at line 4894.\n",
      "  PDBConstructionWarning,\n"
     ]
    },
    {
     "name": "stdout",
     "output_type": "stream",
     "text": [
      "writing file for 2hz0 pdb\n"
     ]
    },
    {
     "name": "stderr",
     "output_type": "stream",
     "text": [
      "c:\\Users\\User\\AppData\\Local\\Programs\\Python\\Python37\\lib\\site-packages\\Bio\\PDB\\StructureBuilder.py:92: PDBConstructionWarning: WARNING: Chain A is discontinuous at line 7136.\n",
      "  PDBConstructionWarning,\n",
      "c:\\Users\\User\\AppData\\Local\\Programs\\Python\\Python37\\lib\\site-packages\\Bio\\PDB\\StructureBuilder.py:92: PDBConstructionWarning: WARNING: Chain B is discontinuous at line 7171.\n",
      "  PDBConstructionWarning,\n",
      "c:\\Users\\User\\AppData\\Local\\Programs\\Python\\Python37\\lib\\site-packages\\Bio\\PDB\\StructureBuilder.py:92: PDBConstructionWarning: WARNING: Chain C is discontinuous at line 7206.\n",
      "  PDBConstructionWarning,\n",
      "c:\\Users\\User\\AppData\\Local\\Programs\\Python\\Python37\\lib\\site-packages\\Bio\\PDB\\StructureBuilder.py:92: PDBConstructionWarning: WARNING: Chain A is discontinuous at line 7241.\n",
      "  PDBConstructionWarning,\n",
      "c:\\Users\\User\\AppData\\Local\\Programs\\Python\\Python37\\lib\\site-packages\\Bio\\PDB\\StructureBuilder.py:92: PDBConstructionWarning: WARNING: Chain B is discontinuous at line 7243.\n",
      "  PDBConstructionWarning,\n",
      "c:\\Users\\User\\AppData\\Local\\Programs\\Python\\Python37\\lib\\site-packages\\Bio\\PDB\\StructureBuilder.py:92: PDBConstructionWarning: WARNING: Chain C is discontinuous at line 7252.\n",
      "  PDBConstructionWarning,\n"
     ]
    },
    {
     "name": "stdout",
     "output_type": "stream",
     "text": [
      "writing file for 2hz4 pdb\n"
     ]
    },
    {
     "name": "stderr",
     "output_type": "stream",
     "text": [
      "c:\\Users\\User\\AppData\\Local\\Programs\\Python\\Python37\\lib\\site-packages\\Bio\\PDB\\StructureBuilder.py:92: PDBConstructionWarning: WARNING: Chain A is discontinuous at line 4862.\n",
      "  PDBConstructionWarning,\n",
      "c:\\Users\\User\\AppData\\Local\\Programs\\Python\\Python37\\lib\\site-packages\\Bio\\PDB\\StructureBuilder.py:92: PDBConstructionWarning: WARNING: Chain B is discontinuous at line 4891.\n",
      "  PDBConstructionWarning,\n",
      "c:\\Users\\User\\AppData\\Local\\Programs\\Python\\Python37\\lib\\site-packages\\Bio\\PDB\\StructureBuilder.py:92: PDBConstructionWarning: WARNING: Chain A is discontinuous at line 4920.\n",
      "  PDBConstructionWarning,\n",
      "c:\\Users\\User\\AppData\\Local\\Programs\\Python\\Python37\\lib\\site-packages\\Bio\\PDB\\StructureBuilder.py:92: PDBConstructionWarning: WARNING: Chain B is discontinuous at line 5237.\n",
      "  PDBConstructionWarning,\n"
     ]
    },
    {
     "name": "stdout",
     "output_type": "stream",
     "text": [
      "writing file for 2hzi pdb\n",
      "writing file for 2ifg pdb\n",
      "writing file for 2j0i pdb\n",
      "writing file for 2jxo pdb\n",
      "writing file for 2kjy pdb\n",
      "writing file for 2krg pdb\n",
      "writing file for 2m0u pdb\n",
      "writing file for 2m0v pdb\n",
      "writing file for 2n90 pdb\n"
     ]
    },
    {
     "name": "stderr",
     "output_type": "stream",
     "text": [
      "c:\\Users\\User\\AppData\\Local\\Programs\\Python\\Python37\\lib\\site-packages\\Bio\\PDB\\StructureBuilder.py:92: PDBConstructionWarning: WARNING: Chain A is discontinuous at line 1679.\n",
      "  PDBConstructionWarning,\n",
      "c:\\Users\\User\\AppData\\Local\\Programs\\Python\\Python37\\lib\\site-packages\\Bio\\PDB\\StructureBuilder.py:92: PDBConstructionWarning: WARNING: Chain B is discontinuous at line 1684.\n",
      "  PDBConstructionWarning,\n",
      "c:\\Users\\User\\AppData\\Local\\Programs\\Python\\Python37\\lib\\site-packages\\Bio\\PDB\\StructureBuilder.py:92: PDBConstructionWarning: WARNING: Chain A is discontinuous at line 1689.\n",
      "  PDBConstructionWarning,\n",
      "c:\\Users\\User\\AppData\\Local\\Programs\\Python\\Python37\\lib\\site-packages\\Bio\\PDB\\StructureBuilder.py:92: PDBConstructionWarning: WARNING: Chain B is discontinuous at line 1713.\n",
      "  PDBConstructionWarning,\n",
      "c:\\Users\\User\\AppData\\Local\\Programs\\Python\\Python37\\lib\\site-packages\\Bio\\PDB\\StructureBuilder.py:92: PDBConstructionWarning: WARNING: Chain C is discontinuous at line 1746.\n",
      "  PDBConstructionWarning,\n",
      "c:\\Users\\User\\AppData\\Local\\Programs\\Python\\Python37\\lib\\site-packages\\Bio\\PDB\\StructureBuilder.py:92: PDBConstructionWarning: WARNING: Chain D is discontinuous at line 1752.\n",
      "  PDBConstructionWarning,\n"
     ]
    },
    {
     "name": "stdout",
     "output_type": "stream",
     "text": [
      "writing file for 2o88 pdb\n"
     ]
    },
    {
     "name": "stderr",
     "output_type": "stream",
     "text": [
      "c:\\Users\\User\\AppData\\Local\\Programs\\Python\\Python37\\lib\\site-packages\\Bio\\PDB\\StructureBuilder.py:92: PDBConstructionWarning: WARNING: Chain A is discontinuous at line 4726.\n",
      "  PDBConstructionWarning,\n",
      "c:\\Users\\User\\AppData\\Local\\Programs\\Python\\Python37\\lib\\site-packages\\Bio\\PDB\\StructureBuilder.py:92: PDBConstructionWarning: WARNING: Chain B is discontinuous at line 4911.\n",
      "  PDBConstructionWarning,\n"
     ]
    },
    {
     "name": "stdout",
     "output_type": "stream",
     "text": [
      "writing file for 2oiq pdb\n"
     ]
    },
    {
     "name": "stderr",
     "output_type": "stream",
     "text": [
      "c:\\Users\\User\\AppData\\Local\\Programs\\Python\\Python37\\lib\\site-packages\\Bio\\PDB\\PDBParser.py:238: PDBConstructionWarning: Negative occupancy in one or more atoms\n",
      "  PDBConstructionWarning,\n",
      "c:\\Users\\User\\AppData\\Local\\Programs\\Python\\Python37\\lib\\site-packages\\Bio\\PDB\\StructureBuilder.py:92: PDBConstructionWarning: WARNING: Chain G is discontinuous at line 9541.\n",
      "  PDBConstructionWarning,\n",
      "c:\\Users\\User\\AppData\\Local\\Programs\\Python\\Python37\\lib\\site-packages\\Bio\\PDB\\StructureBuilder.py:92: PDBConstructionWarning: WARNING: Chain E is discontinuous at line 9564.\n",
      "  PDBConstructionWarning,\n",
      "c:\\Users\\User\\AppData\\Local\\Programs\\Python\\Python37\\lib\\site-packages\\Bio\\PDB\\StructureBuilder.py:92: PDBConstructionWarning: WARNING: Chain A is discontinuous at line 9587.\n",
      "  PDBConstructionWarning,\n",
      "c:\\Users\\User\\AppData\\Local\\Programs\\Python\\Python37\\lib\\site-packages\\Bio\\PDB\\StructureBuilder.py:92: PDBConstructionWarning: WARNING: Chain B is discontinuous at line 9681.\n",
      "  PDBConstructionWarning,\n",
      "c:\\Users\\User\\AppData\\Local\\Programs\\Python\\Python37\\lib\\site-packages\\Bio\\PDB\\StructureBuilder.py:92: PDBConstructionWarning: WARNING: Chain G is discontinuous at line 9759.\n",
      "  PDBConstructionWarning,\n",
      "c:\\Users\\User\\AppData\\Local\\Programs\\Python\\Python37\\lib\\site-packages\\Bio\\PDB\\StructureBuilder.py:92: PDBConstructionWarning: WARNING: Chain C is discontinuous at line 9976.\n",
      "  PDBConstructionWarning,\n",
      "c:\\Users\\User\\AppData\\Local\\Programs\\Python\\Python37\\lib\\site-packages\\Bio\\PDB\\StructureBuilder.py:92: PDBConstructionWarning: WARNING: Chain D is discontinuous at line 10042.\n",
      "  PDBConstructionWarning,\n",
      "c:\\Users\\User\\AppData\\Local\\Programs\\Python\\Python37\\lib\\site-packages\\Bio\\PDB\\StructureBuilder.py:92: PDBConstructionWarning: WARNING: Chain E is discontinuous at line 10093.\n",
      "  PDBConstructionWarning,\n"
     ]
    },
    {
     "name": "stdout",
     "output_type": "stream",
     "text": [
      "writing file for 2oox pdb\n"
     ]
    },
    {
     "name": "stderr",
     "output_type": "stream",
     "text": [
      "c:\\Users\\User\\AppData\\Local\\Programs\\Python\\Python37\\lib\\site-packages\\Bio\\PDB\\StructureBuilder.py:92: PDBConstructionWarning: WARNING: Chain G is discontinuous at line 9468.\n",
      "  PDBConstructionWarning,\n",
      "c:\\Users\\User\\AppData\\Local\\Programs\\Python\\Python37\\lib\\site-packages\\Bio\\PDB\\StructureBuilder.py:92: PDBConstructionWarning: WARNING: Chain E is discontinuous at line 9499.\n",
      "  PDBConstructionWarning,\n",
      "c:\\Users\\User\\AppData\\Local\\Programs\\Python\\Python37\\lib\\site-packages\\Bio\\PDB\\StructureBuilder.py:92: PDBConstructionWarning: WARNING: Chain A is discontinuous at line 9543.\n",
      "  PDBConstructionWarning,\n",
      "c:\\Users\\User\\AppData\\Local\\Programs\\Python\\Python37\\lib\\site-packages\\Bio\\PDB\\StructureBuilder.py:92: PDBConstructionWarning: WARNING: Chain B is discontinuous at line 9593.\n",
      "  PDBConstructionWarning,\n",
      "c:\\Users\\User\\AppData\\Local\\Programs\\Python\\Python37\\lib\\site-packages\\Bio\\PDB\\StructureBuilder.py:92: PDBConstructionWarning: WARNING: Chain G is discontinuous at line 9634.\n",
      "  PDBConstructionWarning,\n",
      "c:\\Users\\User\\AppData\\Local\\Programs\\Python\\Python37\\lib\\site-packages\\Bio\\PDB\\StructureBuilder.py:92: PDBConstructionWarning: WARNING: Chain C is discontinuous at line 9760.\n",
      "  PDBConstructionWarning,\n",
      "c:\\Users\\User\\AppData\\Local\\Programs\\Python\\Python37\\lib\\site-packages\\Bio\\PDB\\StructureBuilder.py:92: PDBConstructionWarning: WARNING: Chain D is discontinuous at line 9810.\n",
      "  PDBConstructionWarning,\n",
      "c:\\Users\\User\\AppData\\Local\\Programs\\Python\\Python37\\lib\\site-packages\\Bio\\PDB\\StructureBuilder.py:92: PDBConstructionWarning: WARNING: Chain E is discontinuous at line 9846.\n",
      "  PDBConstructionWarning,\n"
     ]
    },
    {
     "name": "stdout",
     "output_type": "stream",
     "text": [
      "writing file for 2ooy pdb\n"
     ]
    },
    {
     "name": "stderr",
     "output_type": "stream",
     "text": [
      "c:\\Users\\User\\AppData\\Local\\Programs\\Python\\Python37\\lib\\site-packages\\Bio\\PDB\\StructureBuilder.py:92: PDBConstructionWarning: WARNING: Chain A is discontinuous at line 14667.\n",
      "  PDBConstructionWarning,\n",
      "c:\\Users\\User\\AppData\\Local\\Programs\\Python\\Python37\\lib\\site-packages\\Bio\\PDB\\StructureBuilder.py:92: PDBConstructionWarning: WARNING: Chain F is discontinuous at line 14702.\n",
      "  PDBConstructionWarning,\n",
      "c:\\Users\\User\\AppData\\Local\\Programs\\Python\\Python37\\lib\\site-packages\\Bio\\PDB\\StructureBuilder.py:92: PDBConstructionWarning: WARNING: Chain B is discontinuous at line 14739.\n",
      "  PDBConstructionWarning,\n",
      "c:\\Users\\User\\AppData\\Local\\Programs\\Python\\Python37\\lib\\site-packages\\Bio\\PDB\\StructureBuilder.py:92: PDBConstructionWarning: WARNING: Chain C is discontinuous at line 14773.\n",
      "  PDBConstructionWarning,\n",
      "c:\\Users\\User\\AppData\\Local\\Programs\\Python\\Python37\\lib\\site-packages\\Bio\\PDB\\StructureBuilder.py:92: PDBConstructionWarning: WARNING: Chain G is discontinuous at line 14811.\n",
      "  PDBConstructionWarning,\n",
      "c:\\Users\\User\\AppData\\Local\\Programs\\Python\\Python37\\lib\\site-packages\\Bio\\PDB\\StructureBuilder.py:92: PDBConstructionWarning: WARNING: Chain D is discontinuous at line 14844.\n",
      "  PDBConstructionWarning,\n",
      "c:\\Users\\User\\AppData\\Local\\Programs\\Python\\Python37\\lib\\site-packages\\Bio\\PDB\\StructureBuilder.py:92: PDBConstructionWarning: WARNING: Chain E is discontinuous at line 14881.\n",
      "  PDBConstructionWarning,\n",
      "c:\\Users\\User\\AppData\\Local\\Programs\\Python\\Python37\\lib\\site-packages\\Bio\\PDB\\StructureBuilder.py:92: PDBConstructionWarning: WARNING: Chain H is discontinuous at line 14915.\n",
      "  PDBConstructionWarning,\n",
      "c:\\Users\\User\\AppData\\Local\\Programs\\Python\\Python37\\lib\\site-packages\\Bio\\PDB\\StructureBuilder.py:92: PDBConstructionWarning: WARNING: Chain N is discontinuous at line 14948.\n",
      "  PDBConstructionWarning,\n",
      "c:\\Users\\User\\AppData\\Local\\Programs\\Python\\Python37\\lib\\site-packages\\Bio\\PDB\\StructureBuilder.py:92: PDBConstructionWarning: WARNING: Chain O is discontinuous at line 14949.\n",
      "  PDBConstructionWarning,\n",
      "c:\\Users\\User\\AppData\\Local\\Programs\\Python\\Python37\\lib\\site-packages\\Bio\\PDB\\StructureBuilder.py:92: PDBConstructionWarning: WARNING: Chain P is discontinuous at line 14950.\n",
      "  PDBConstructionWarning,\n",
      "c:\\Users\\User\\AppData\\Local\\Programs\\Python\\Python37\\lib\\site-packages\\Bio\\PDB\\StructureBuilder.py:92: PDBConstructionWarning: WARNING: Chain A is discontinuous at line 14951.\n",
      "  PDBConstructionWarning,\n",
      "c:\\Users\\User\\AppData\\Local\\Programs\\Python\\Python37\\lib\\site-packages\\Bio\\PDB\\StructureBuilder.py:92: PDBConstructionWarning: WARNING: Chain F is discontinuous at line 15081.\n",
      "  PDBConstructionWarning,\n",
      "c:\\Users\\User\\AppData\\Local\\Programs\\Python\\Python37\\lib\\site-packages\\Bio\\PDB\\StructureBuilder.py:92: PDBConstructionWarning: WARNING: Chain B is discontinuous at line 15176.\n",
      "  PDBConstructionWarning,\n",
      "c:\\Users\\User\\AppData\\Local\\Programs\\Python\\Python37\\lib\\site-packages\\Bio\\PDB\\StructureBuilder.py:92: PDBConstructionWarning: WARNING: Chain C is discontinuous at line 15319.\n",
      "  PDBConstructionWarning,\n",
      "c:\\Users\\User\\AppData\\Local\\Programs\\Python\\Python37\\lib\\site-packages\\Bio\\PDB\\StructureBuilder.py:92: PDBConstructionWarning: WARNING: Chain G is discontinuous at line 15435.\n",
      "  PDBConstructionWarning,\n",
      "c:\\Users\\User\\AppData\\Local\\Programs\\Python\\Python37\\lib\\site-packages\\Bio\\PDB\\StructureBuilder.py:92: PDBConstructionWarning: WARNING: Chain D is discontinuous at line 15558.\n",
      "  PDBConstructionWarning,\n",
      "c:\\Users\\User\\AppData\\Local\\Programs\\Python\\Python37\\lib\\site-packages\\Bio\\PDB\\StructureBuilder.py:92: PDBConstructionWarning: WARNING: Chain E is discontinuous at line 15672.\n",
      "  PDBConstructionWarning,\n",
      "c:\\Users\\User\\AppData\\Local\\Programs\\Python\\Python37\\lib\\site-packages\\Bio\\PDB\\StructureBuilder.py:92: PDBConstructionWarning: WARNING: Chain H is discontinuous at line 15806.\n",
      "  PDBConstructionWarning,\n",
      "c:\\Users\\User\\AppData\\Local\\Programs\\Python\\Python37\\lib\\site-packages\\Bio\\PDB\\StructureBuilder.py:92: PDBConstructionWarning: WARNING: Chain I is discontinuous at line 15912.\n",
      "  PDBConstructionWarning,\n",
      "c:\\Users\\User\\AppData\\Local\\Programs\\Python\\Python37\\lib\\site-packages\\Bio\\PDB\\StructureBuilder.py:92: PDBConstructionWarning: WARNING: Chain J is discontinuous at line 15936.\n",
      "  PDBConstructionWarning,\n",
      "c:\\Users\\User\\AppData\\Local\\Programs\\Python\\Python37\\lib\\site-packages\\Bio\\PDB\\StructureBuilder.py:92: PDBConstructionWarning: WARNING: Chain K is discontinuous at line 15960.\n",
      "  PDBConstructionWarning,\n",
      "c:\\Users\\User\\AppData\\Local\\Programs\\Python\\Python37\\lib\\site-packages\\Bio\\PDB\\StructureBuilder.py:92: PDBConstructionWarning: WARNING: Chain L is discontinuous at line 15976.\n",
      "  PDBConstructionWarning,\n",
      "c:\\Users\\User\\AppData\\Local\\Programs\\Python\\Python37\\lib\\site-packages\\Bio\\PDB\\StructureBuilder.py:92: PDBConstructionWarning: WARNING: Chain M is discontinuous at line 15990.\n",
      "  PDBConstructionWarning,\n",
      "c:\\Users\\User\\AppData\\Local\\Programs\\Python\\Python37\\lib\\site-packages\\Bio\\PDB\\StructureBuilder.py:92: PDBConstructionWarning: WARNING: Chain N is discontinuous at line 16018.\n",
      "  PDBConstructionWarning,\n",
      "c:\\Users\\User\\AppData\\Local\\Programs\\Python\\Python37\\lib\\site-packages\\Bio\\PDB\\StructureBuilder.py:92: PDBConstructionWarning: WARNING: Chain O is discontinuous at line 16040.\n",
      "  PDBConstructionWarning,\n",
      "c:\\Users\\User\\AppData\\Local\\Programs\\Python\\Python37\\lib\\site-packages\\Bio\\PDB\\StructureBuilder.py:92: PDBConstructionWarning: WARNING: Chain P is discontinuous at line 16061.\n",
      "  PDBConstructionWarning,\n"
     ]
    },
    {
     "name": "stdout",
     "output_type": "stream",
     "text": [
      "writing file for 2ov2 pdb\n",
      "writing file for 2ozf pdb\n",
      "writing file for 2ptk pdb\n"
     ]
    },
    {
     "name": "stderr",
     "output_type": "stream",
     "text": [
      "c:\\Users\\User\\AppData\\Local\\Programs\\Python\\Python37\\lib\\site-packages\\Bio\\PDB\\StructureBuilder.py:92: PDBConstructionWarning: WARNING: Chain A is discontinuous at line 4604.\n",
      "  PDBConstructionWarning,\n",
      "c:\\Users\\User\\AppData\\Local\\Programs\\Python\\Python37\\lib\\site-packages\\Bio\\PDB\\StructureBuilder.py:92: PDBConstructionWarning: WARNING: Chain B is discontinuous at line 4686.\n",
      "  PDBConstructionWarning,\n"
     ]
    },
    {
     "name": "stdout",
     "output_type": "stream",
     "text": [
      "writing file for 2qi8 pdb\n"
     ]
    },
    {
     "name": "stderr",
     "output_type": "stream",
     "text": [
      "c:\\Users\\User\\AppData\\Local\\Programs\\Python\\Python37\\lib\\site-packages\\Bio\\PDB\\StructureBuilder.py:92: PDBConstructionWarning: WARNING: Chain A is discontinuous at line 4557.\n",
      "  PDBConstructionWarning,\n",
      "c:\\Users\\User\\AppData\\Local\\Programs\\Python\\Python37\\lib\\site-packages\\Bio\\PDB\\StructureBuilder.py:92: PDBConstructionWarning: WARNING: Chain B is discontinuous at line 4623.\n",
      "  PDBConstructionWarning,\n",
      "c:\\Users\\User\\AppData\\Local\\Programs\\Python\\Python37\\lib\\site-packages\\Bio\\PDB\\StructureBuilder.py:92: PDBConstructionWarning: WARNING: Chain A is discontinuous at line 4650.\n",
      "  PDBConstructionWarning,\n",
      "c:\\Users\\User\\AppData\\Local\\Programs\\Python\\Python37\\lib\\site-packages\\Bio\\PDB\\StructureBuilder.py:92: PDBConstructionWarning: WARNING: Chain B is discontinuous at line 4701.\n",
      "  PDBConstructionWarning,\n"
     ]
    },
    {
     "name": "stdout",
     "output_type": "stream",
     "text": [
      "writing file for 2qlq pdb\n"
     ]
    },
    {
     "name": "stderr",
     "output_type": "stream",
     "text": [
      "c:\\Users\\User\\AppData\\Local\\Programs\\Python\\Python37\\lib\\site-packages\\Bio\\PDB\\StructureBuilder.py:92: PDBConstructionWarning: WARNING: Chain A is discontinuous at line 4557.\n",
      "  PDBConstructionWarning,\n",
      "c:\\Users\\User\\AppData\\Local\\Programs\\Python\\Python37\\lib\\site-packages\\Bio\\PDB\\StructureBuilder.py:92: PDBConstructionWarning: WARNING: Chain B is discontinuous at line 4584.\n",
      "  PDBConstructionWarning,\n",
      "c:\\Users\\User\\AppData\\Local\\Programs\\Python\\Python37\\lib\\site-packages\\Bio\\PDB\\StructureBuilder.py:92: PDBConstructionWarning: WARNING: Chain A is discontinuous at line 4611.\n",
      "  PDBConstructionWarning,\n",
      "c:\\Users\\User\\AppData\\Local\\Programs\\Python\\Python37\\lib\\site-packages\\Bio\\PDB\\StructureBuilder.py:92: PDBConstructionWarning: WARNING: Chain B is discontinuous at line 4704.\n",
      "  PDBConstructionWarning,\n"
     ]
    },
    {
     "name": "stdout",
     "output_type": "stream",
     "text": [
      "writing file for 2qq7 pdb\n"
     ]
    },
    {
     "name": "stderr",
     "output_type": "stream",
     "text": [
      "c:\\Users\\User\\AppData\\Local\\Programs\\Python\\Python37\\lib\\site-packages\\Bio\\PDB\\StructureBuilder.py:92: PDBConstructionWarning: WARNING: Chain G is discontinuous at line 9415.\n",
      "  PDBConstructionWarning,\n",
      "c:\\Users\\User\\AppData\\Local\\Programs\\Python\\Python37\\lib\\site-packages\\Bio\\PDB\\StructureBuilder.py:92: PDBConstructionWarning: WARNING: Chain E is discontinuous at line 9469.\n",
      "  PDBConstructionWarning,\n",
      "c:\\Users\\User\\AppData\\Local\\Programs\\Python\\Python37\\lib\\site-packages\\Bio\\PDB\\StructureBuilder.py:92: PDBConstructionWarning: WARNING: Chain A is discontinuous at line 9523.\n",
      "  PDBConstructionWarning,\n",
      "c:\\Users\\User\\AppData\\Local\\Programs\\Python\\Python37\\lib\\site-packages\\Bio\\PDB\\StructureBuilder.py:92: PDBConstructionWarning: WARNING: Chain B is discontinuous at line 9531.\n",
      "  PDBConstructionWarning,\n",
      "c:\\Users\\User\\AppData\\Local\\Programs\\Python\\Python37\\lib\\site-packages\\Bio\\PDB\\StructureBuilder.py:92: PDBConstructionWarning: WARNING: Chain G is discontinuous at line 9541.\n",
      "  PDBConstructionWarning,\n",
      "c:\\Users\\User\\AppData\\Local\\Programs\\Python\\Python37\\lib\\site-packages\\Bio\\PDB\\StructureBuilder.py:92: PDBConstructionWarning: WARNING: Chain C is discontinuous at line 9560.\n",
      "  PDBConstructionWarning,\n",
      "c:\\Users\\User\\AppData\\Local\\Programs\\Python\\Python37\\lib\\site-packages\\Bio\\PDB\\StructureBuilder.py:92: PDBConstructionWarning: WARNING: Chain D is discontinuous at line 9571.\n",
      "  PDBConstructionWarning,\n",
      "c:\\Users\\User\\AppData\\Local\\Programs\\Python\\Python37\\lib\\site-packages\\Bio\\PDB\\StructureBuilder.py:92: PDBConstructionWarning: WARNING: Chain E is discontinuous at line 9582.\n",
      "  PDBConstructionWarning,\n"
     ]
    },
    {
     "name": "stdout",
     "output_type": "stream",
     "text": [
      "writing file for 2qr1 pdb\n"
     ]
    },
    {
     "name": "stderr",
     "output_type": "stream",
     "text": [
      "c:\\Users\\User\\AppData\\Local\\Programs\\Python\\Python37\\lib\\site-packages\\Bio\\PDB\\StructureBuilder.py:92: PDBConstructionWarning: WARNING: Chain G is discontinuous at line 9383.\n",
      "  PDBConstructionWarning,\n",
      "c:\\Users\\User\\AppData\\Local\\Programs\\Python\\Python37\\lib\\site-packages\\Bio\\PDB\\StructureBuilder.py:92: PDBConstructionWarning: WARNING: Chain E is discontinuous at line 9433.\n",
      "  PDBConstructionWarning,\n",
      "c:\\Users\\User\\AppData\\Local\\Programs\\Python\\Python37\\lib\\site-packages\\Bio\\PDB\\StructureBuilder.py:92: PDBConstructionWarning: WARNING: Chain A is discontinuous at line 9487.\n",
      "  PDBConstructionWarning,\n",
      "c:\\Users\\User\\AppData\\Local\\Programs\\Python\\Python37\\lib\\site-packages\\Bio\\PDB\\StructureBuilder.py:92: PDBConstructionWarning: WARNING: Chain B is discontinuous at line 9495.\n",
      "  PDBConstructionWarning,\n",
      "c:\\Users\\User\\AppData\\Local\\Programs\\Python\\Python37\\lib\\site-packages\\Bio\\PDB\\StructureBuilder.py:92: PDBConstructionWarning: WARNING: Chain G is discontinuous at line 9505.\n",
      "  PDBConstructionWarning,\n",
      "c:\\Users\\User\\AppData\\Local\\Programs\\Python\\Python37\\lib\\site-packages\\Bio\\PDB\\StructureBuilder.py:92: PDBConstructionWarning: WARNING: Chain C is discontinuous at line 9524.\n",
      "  PDBConstructionWarning,\n",
      "c:\\Users\\User\\AppData\\Local\\Programs\\Python\\Python37\\lib\\site-packages\\Bio\\PDB\\StructureBuilder.py:92: PDBConstructionWarning: WARNING: Chain D is discontinuous at line 9535.\n",
      "  PDBConstructionWarning,\n",
      "c:\\Users\\User\\AppData\\Local\\Programs\\Python\\Python37\\lib\\site-packages\\Bio\\PDB\\StructureBuilder.py:92: PDBConstructionWarning: WARNING: Chain E is discontinuous at line 9546.\n",
      "  PDBConstructionWarning,\n"
     ]
    },
    {
     "name": "stdout",
     "output_type": "stream",
     "text": [
      "writing file for 2qrc pdb\n"
     ]
    },
    {
     "name": "stderr",
     "output_type": "stream",
     "text": [
      "c:\\Users\\User\\AppData\\Local\\Programs\\Python\\Python37\\lib\\site-packages\\Bio\\PDB\\StructureBuilder.py:92: PDBConstructionWarning: WARNING: Chain A is discontinuous at line 6223.\n",
      "  PDBConstructionWarning,\n",
      "c:\\Users\\User\\AppData\\Local\\Programs\\Python\\Python37\\lib\\site-packages\\Bio\\PDB\\StructureBuilder.py:92: PDBConstructionWarning: WARNING: Chain B is discontinuous at line 6318.\n",
      "  PDBConstructionWarning,\n",
      "c:\\Users\\User\\AppData\\Local\\Programs\\Python\\Python37\\lib\\site-packages\\Bio\\PDB\\StructureBuilder.py:92: PDBConstructionWarning: WARNING: Chain A is discontinuous at line 6351.\n",
      "  PDBConstructionWarning,\n",
      "c:\\Users\\User\\AppData\\Local\\Programs\\Python\\Python37\\lib\\site-packages\\Bio\\PDB\\StructureBuilder.py:92: PDBConstructionWarning: WARNING: Chain B is discontinuous at line 6866.\n",
      "  PDBConstructionWarning,\n"
     ]
    },
    {
     "name": "stdout",
     "output_type": "stream",
     "text": [
      "writing file for 2r09 pdb\n"
     ]
    },
    {
     "name": "stderr",
     "output_type": "stream",
     "text": [
      "c:\\Users\\User\\AppData\\Local\\Programs\\Python\\Python37\\lib\\site-packages\\Bio\\PDB\\StructureBuilder.py:92: PDBConstructionWarning: WARNING: Chain E is discontinuous at line 3245.\n",
      "  PDBConstructionWarning,\n",
      "c:\\Users\\User\\AppData\\Local\\Programs\\Python\\Python37\\lib\\site-packages\\Bio\\PDB\\StructureBuilder.py:92: PDBConstructionWarning: WARNING: Chain I is discontinuous at line 3401.\n",
      "  PDBConstructionWarning,\n"
     ]
    },
    {
     "name": "stdout",
     "output_type": "stream",
     "text": [
      "writing file for 2sic pdb\n"
     ]
    },
    {
     "name": "stderr",
     "output_type": "stream",
     "text": [
      "c:\\Users\\User\\AppData\\Local\\Programs\\Python\\Python37\\lib\\site-packages\\Bio\\PDB\\StructureBuilder.py:92: PDBConstructionWarning: WARNING: Chain E is discontinuous at line 2930.\n",
      "  PDBConstructionWarning,\n",
      "c:\\Users\\User\\AppData\\Local\\Programs\\Python\\Python37\\lib\\site-packages\\Bio\\PDB\\StructureBuilder.py:92: PDBConstructionWarning: WARNING: Chain I is discontinuous at line 3055.\n",
      "  PDBConstructionWarning,\n"
     ]
    },
    {
     "name": "stdout",
     "output_type": "stream",
     "text": [
      "writing file for 2sni pdb\n",
      "writing file for 2st1 pdb\n"
     ]
    },
    {
     "name": "stderr",
     "output_type": "stream",
     "text": [
      "c:\\Users\\User\\AppData\\Local\\Programs\\Python\\Python37\\lib\\site-packages\\Bio\\PDB\\StructureBuilder.py:92: PDBConstructionWarning: WARNING: Chain A is discontinuous at line 5008.\n",
      "  PDBConstructionWarning,\n",
      "c:\\Users\\User\\AppData\\Local\\Programs\\Python\\Python37\\lib\\site-packages\\Bio\\PDB\\StructureBuilder.py:92: PDBConstructionWarning: WARNING: Chain B is discontinuous at line 5044.\n",
      "  PDBConstructionWarning,\n",
      "c:\\Users\\User\\AppData\\Local\\Programs\\Python\\Python37\\lib\\site-packages\\Bio\\PDB\\StructureBuilder.py:92: PDBConstructionWarning: WARNING: Chain A is discontinuous at line 5080.\n",
      "  PDBConstructionWarning,\n",
      "c:\\Users\\User\\AppData\\Local\\Programs\\Python\\Python37\\lib\\site-packages\\Bio\\PDB\\StructureBuilder.py:92: PDBConstructionWarning: WARNING: Chain B is discontinuous at line 5184.\n",
      "  PDBConstructionWarning,\n"
     ]
    },
    {
     "name": "stdout",
     "output_type": "stream",
     "text": [
      "writing file for 2v7a pdb\n"
     ]
    },
    {
     "name": "stderr",
     "output_type": "stream",
     "text": [
      "c:\\Users\\User\\AppData\\Local\\Programs\\Python\\Python37\\lib\\site-packages\\Bio\\PDB\\StructureBuilder.py:92: PDBConstructionWarning: WARNING: Chain A is discontinuous at line 5068.\n",
      "  PDBConstructionWarning,\n",
      "c:\\Users\\User\\AppData\\Local\\Programs\\Python\\Python37\\lib\\site-packages\\Bio\\PDB\\StructureBuilder.py:92: PDBConstructionWarning: WARNING: Chain B is discontinuous at line 5090.\n",
      "  PDBConstructionWarning,\n",
      "c:\\Users\\User\\AppData\\Local\\Programs\\Python\\Python37\\lib\\site-packages\\Bio\\PDB\\StructureBuilder.py:92: PDBConstructionWarning: WARNING: Chain A is discontinuous at line 5140.\n",
      "  PDBConstructionWarning,\n",
      "c:\\Users\\User\\AppData\\Local\\Programs\\Python\\Python37\\lib\\site-packages\\Bio\\PDB\\StructureBuilder.py:92: PDBConstructionWarning: WARNING: Chain B is discontinuous at line 5448.\n",
      "  PDBConstructionWarning,\n",
      "c:\\Users\\User\\AppData\\Local\\Programs\\Python\\Python37\\lib\\site-packages\\Bio\\PDB\\StructureBuilder.py:92: PDBConstructionWarning: WARNING: Chain C is discontinuous at line 5832.\n",
      "  PDBConstructionWarning,\n"
     ]
    },
    {
     "name": "stdout",
     "output_type": "stream",
     "text": [
      "writing file for 2v8f pdb\n",
      "writing file for 2x4z pdb\n",
      "writing file for 2xss pdb\n"
     ]
    },
    {
     "name": "stderr",
     "output_type": "stream",
     "text": [
      "c:\\Users\\User\\AppData\\Local\\Programs\\Python\\Python37\\lib\\site-packages\\Bio\\PDB\\StructureBuilder.py:92: PDBConstructionWarning: WARNING: Chain A is discontinuous at line 5218.\n",
      "  PDBConstructionWarning,\n",
      "c:\\Users\\User\\AppData\\Local\\Programs\\Python\\Python37\\lib\\site-packages\\Bio\\PDB\\StructureBuilder.py:92: PDBConstructionWarning: WARNING: Chain B is discontinuous at line 5252.\n",
      "  PDBConstructionWarning,\n",
      "c:\\Users\\User\\AppData\\Local\\Programs\\Python\\Python37\\lib\\site-packages\\Bio\\PDB\\StructureBuilder.py:92: PDBConstructionWarning: WARNING: Chain A is discontinuous at line 5286.\n",
      "  PDBConstructionWarning,\n",
      "c:\\Users\\User\\AppData\\Local\\Programs\\Python\\Python37\\lib\\site-packages\\Bio\\PDB\\StructureBuilder.py:92: PDBConstructionWarning: WARNING: Chain B is discontinuous at line 5402.\n",
      "  PDBConstructionWarning,\n"
     ]
    },
    {
     "name": "stdout",
     "output_type": "stream",
     "text": [
      "writing file for 3b2r pdb\n"
     ]
    },
    {
     "name": "stderr",
     "output_type": "stream",
     "text": [
      "c:\\Users\\User\\AppData\\Local\\Programs\\Python\\Python37\\lib\\site-packages\\Bio\\PDB\\StructureBuilder.py:92: PDBConstructionWarning: WARNING: Chain P is discontinuous at line 2964.\n",
      "  PDBConstructionWarning,\n",
      "c:\\Users\\User\\AppData\\Local\\Programs\\Python\\Python37\\lib\\site-packages\\Bio\\PDB\\StructureBuilder.py:92: PDBConstructionWarning: WARNING: Chain S is discontinuous at line 3034.\n",
      "  PDBConstructionWarning,\n"
     ]
    },
    {
     "name": "stdout",
     "output_type": "stream",
     "text": [
      "writing file for 3bgo pdb\n",
      "writing file for 3bjc pdb\n"
     ]
    },
    {
     "name": "stderr",
     "output_type": "stream",
     "text": [
      "c:\\Users\\User\\AppData\\Local\\Programs\\Python\\Python37\\lib\\site-packages\\Bio\\PDB\\StructureBuilder.py:92: PDBConstructionWarning: WARNING: Chain P is discontinuous at line 3005.\n",
      "  PDBConstructionWarning,\n",
      "c:\\Users\\User\\AppData\\Local\\Programs\\Python\\Python37\\lib\\site-packages\\Bio\\PDB\\StructureBuilder.py:92: PDBConstructionWarning: WARNING: Chain S is discontinuous at line 3069.\n",
      "  PDBConstructionWarning,\n"
     ]
    },
    {
     "name": "stdout",
     "output_type": "stream",
     "text": [
      "writing file for 3cnq pdb\n"
     ]
    },
    {
     "name": "stderr",
     "output_type": "stream",
     "text": [
      "c:\\Users\\User\\AppData\\Local\\Programs\\Python\\Python37\\lib\\site-packages\\Bio\\PDB\\StructureBuilder.py:92: PDBConstructionWarning: WARNING: Chain P is discontinuous at line 3002.\n",
      "  PDBConstructionWarning,\n",
      "c:\\Users\\User\\AppData\\Local\\Programs\\Python\\Python37\\lib\\site-packages\\Bio\\PDB\\StructureBuilder.py:92: PDBConstructionWarning: WARNING: Chain S is discontinuous at line 3064.\n",
      "  PDBConstructionWarning,\n"
     ]
    },
    {
     "name": "stdout",
     "output_type": "stream",
     "text": [
      "writing file for 3co0 pdb\n"
     ]
    },
    {
     "name": "stderr",
     "output_type": "stream",
     "text": [
      "c:\\Users\\User\\AppData\\Local\\Programs\\Python\\Python37\\lib\\site-packages\\Bio\\PDB\\StructureBuilder.py:92: PDBConstructionWarning: WARNING: Chain A is discontinuous at line 9046.\n",
      "  PDBConstructionWarning,\n",
      "c:\\Users\\User\\AppData\\Local\\Programs\\Python\\Python37\\lib\\site-packages\\Bio\\PDB\\StructureBuilder.py:92: PDBConstructionWarning: WARNING: Chain B is discontinuous at line 9085.\n",
      "  PDBConstructionWarning,\n",
      "c:\\Users\\User\\AppData\\Local\\Programs\\Python\\Python37\\lib\\site-packages\\Bio\\PDB\\StructureBuilder.py:92: PDBConstructionWarning: WARNING: Chain C is discontinuous at line 9124.\n",
      "  PDBConstructionWarning,\n",
      "c:\\Users\\User\\AppData\\Local\\Programs\\Python\\Python37\\lib\\site-packages\\Bio\\PDB\\StructureBuilder.py:92: PDBConstructionWarning: WARNING: Chain D is discontinuous at line 9163.\n",
      "  PDBConstructionWarning,\n",
      "c:\\Users\\User\\AppData\\Local\\Programs\\Python\\Python37\\lib\\site-packages\\Bio\\PDB\\StructureBuilder.py:92: PDBConstructionWarning: WARNING: Chain A is discontinuous at line 9202.\n",
      "  PDBConstructionWarning,\n",
      "c:\\Users\\User\\AppData\\Local\\Programs\\Python\\Python37\\lib\\site-packages\\Bio\\PDB\\StructureBuilder.py:92: PDBConstructionWarning: WARNING: Chain B is discontinuous at line 9301.\n",
      "  PDBConstructionWarning,\n",
      "c:\\Users\\User\\AppData\\Local\\Programs\\Python\\Python37\\lib\\site-packages\\Bio\\PDB\\StructureBuilder.py:92: PDBConstructionWarning: WARNING: Chain C is discontinuous at line 9380.\n",
      "  PDBConstructionWarning,\n",
      "c:\\Users\\User\\AppData\\Local\\Programs\\Python\\Python37\\lib\\site-packages\\Bio\\PDB\\StructureBuilder.py:92: PDBConstructionWarning: WARNING: Chain D is discontinuous at line 9443.\n",
      "  PDBConstructionWarning,\n"
     ]
    },
    {
     "name": "stdout",
     "output_type": "stream",
     "text": [
      "writing file for 3cs9 pdb\n",
      "writing file for 3d09 pdb\n",
      "writing file for 3d7u pdb\n"
     ]
    },
    {
     "name": "stderr",
     "output_type": "stream",
     "text": [
      "c:\\Users\\User\\AppData\\Local\\Programs\\Python\\Python37\\lib\\site-packages\\Bio\\PDB\\StructureBuilder.py:92: PDBConstructionWarning: WARNING: Chain A is discontinuous at line 9609.\n",
      "  PDBConstructionWarning,\n",
      "c:\\Users\\User\\AppData\\Local\\Programs\\Python\\Python37\\lib\\site-packages\\Bio\\PDB\\StructureBuilder.py:92: PDBConstructionWarning: WARNING: Chain B is discontinuous at line 9641.\n",
      "  PDBConstructionWarning,\n",
      "c:\\Users\\User\\AppData\\Local\\Programs\\Python\\Python37\\lib\\site-packages\\Bio\\PDB\\StructureBuilder.py:92: PDBConstructionWarning: WARNING: Chain C is discontinuous at line 9673.\n",
      "  PDBConstructionWarning,\n",
      "c:\\Users\\User\\AppData\\Local\\Programs\\Python\\Python37\\lib\\site-packages\\Bio\\PDB\\StructureBuilder.py:92: PDBConstructionWarning: WARNING: Chain D is discontinuous at line 9705.\n",
      "  PDBConstructionWarning,\n",
      "c:\\Users\\User\\AppData\\Local\\Programs\\Python\\Python37\\lib\\site-packages\\Bio\\PDB\\StructureBuilder.py:92: PDBConstructionWarning: WARNING: Chain A is discontinuous at line 9737.\n",
      "  PDBConstructionWarning,\n",
      "c:\\Users\\User\\AppData\\Local\\Programs\\Python\\Python37\\lib\\site-packages\\Bio\\PDB\\StructureBuilder.py:92: PDBConstructionWarning: WARNING: Chain B is discontinuous at line 9938.\n",
      "  PDBConstructionWarning,\n",
      "c:\\Users\\User\\AppData\\Local\\Programs\\Python\\Python37\\lib\\site-packages\\Bio\\PDB\\StructureBuilder.py:92: PDBConstructionWarning: WARNING: Chain C is discontinuous at line 10128.\n",
      "  PDBConstructionWarning,\n",
      "c:\\Users\\User\\AppData\\Local\\Programs\\Python\\Python37\\lib\\site-packages\\Bio\\PDB\\StructureBuilder.py:92: PDBConstructionWarning: WARNING: Chain D is discontinuous at line 10261.\n",
      "  PDBConstructionWarning,\n"
     ]
    },
    {
     "name": "stdout",
     "output_type": "stream",
     "text": [
      "writing file for 3dqw pdb\n"
     ]
    },
    {
     "name": "stderr",
     "output_type": "stream",
     "text": [
      "c:\\Users\\User\\AppData\\Local\\Programs\\Python\\Python37\\lib\\site-packages\\Bio\\PDB\\StructureBuilder.py:92: PDBConstructionWarning: WARNING: Chain A is discontinuous at line 4922.\n",
      "  PDBConstructionWarning,\n",
      "c:\\Users\\User\\AppData\\Local\\Programs\\Python\\Python37\\lib\\site-packages\\Bio\\PDB\\StructureBuilder.py:92: PDBConstructionWarning: WARNING: Chain B is discontinuous at line 4945.\n",
      "  PDBConstructionWarning,\n",
      "c:\\Users\\User\\AppData\\Local\\Programs\\Python\\Python37\\lib\\site-packages\\Bio\\PDB\\StructureBuilder.py:92: PDBConstructionWarning: WARNING: Chain A is discontinuous at line 4968.\n",
      "  PDBConstructionWarning,\n",
      "c:\\Users\\User\\AppData\\Local\\Programs\\Python\\Python37\\lib\\site-packages\\Bio\\PDB\\StructureBuilder.py:92: PDBConstructionWarning: WARNING: Chain B is discontinuous at line 5062.\n",
      "  PDBConstructionWarning,\n"
     ]
    },
    {
     "name": "stdout",
     "output_type": "stream",
     "text": [
      "writing file for 3dqx pdb\n",
      "writing file for 3eg0 pdb\n"
     ]
    },
    {
     "name": "stderr",
     "output_type": "stream",
     "text": [
      "c:\\Users\\User\\AppData\\Local\\Programs\\Python\\Python37\\lib\\site-packages\\Bio\\PDB\\StructureBuilder.py:92: PDBConstructionWarning: WARNING: Chain A is discontinuous at line 1770.\n",
      "  PDBConstructionWarning,\n",
      "c:\\Users\\User\\AppData\\Local\\Programs\\Python\\Python37\\lib\\site-packages\\Bio\\PDB\\StructureBuilder.py:92: PDBConstructionWarning: WARNING: Chain B is discontinuous at line 1775.\n",
      "  PDBConstructionWarning,\n",
      "c:\\Users\\User\\AppData\\Local\\Programs\\Python\\Python37\\lib\\site-packages\\Bio\\PDB\\StructureBuilder.py:92: PDBConstructionWarning: WARNING: Chain A is discontinuous at line 1780.\n",
      "  PDBConstructionWarning,\n",
      "c:\\Users\\User\\AppData\\Local\\Programs\\Python\\Python37\\lib\\site-packages\\Bio\\PDB\\StructureBuilder.py:92: PDBConstructionWarning: WARNING: Chain B is discontinuous at line 1807.\n",
      "  PDBConstructionWarning,\n",
      "c:\\Users\\User\\AppData\\Local\\Programs\\Python\\Python37\\lib\\site-packages\\Bio\\PDB\\StructureBuilder.py:92: PDBConstructionWarning: WARNING: Chain C is discontinuous at line 1824.\n",
      "  PDBConstructionWarning,\n",
      "c:\\Users\\User\\AppData\\Local\\Programs\\Python\\Python37\\lib\\site-packages\\Bio\\PDB\\StructureBuilder.py:92: PDBConstructionWarning: WARNING: Chain D is discontinuous at line 1829.\n",
      "  PDBConstructionWarning,\n"
     ]
    },
    {
     "name": "stdout",
     "output_type": "stream",
     "text": [
      "writing file for 3eg1 pdb\n",
      "writing file for 3eg2 pdb\n",
      "writing file for 3eg3 pdb\n"
     ]
    },
    {
     "name": "stderr",
     "output_type": "stream",
     "text": [
      "c:\\Users\\User\\AppData\\Local\\Programs\\Python\\Python37\\lib\\site-packages\\Bio\\PDB\\StructureBuilder.py:92: PDBConstructionWarning: WARNING: Chain A is discontinuous at line 8922.\n",
      "  PDBConstructionWarning,\n",
      "c:\\Users\\User\\AppData\\Local\\Programs\\Python\\Python37\\lib\\site-packages\\Bio\\PDB\\StructureBuilder.py:92: PDBConstructionWarning: WARNING: Chain C is discontinuous at line 8955.\n",
      "  PDBConstructionWarning,\n",
      "c:\\Users\\User\\AppData\\Local\\Programs\\Python\\Python37\\lib\\site-packages\\Bio\\PDB\\StructureBuilder.py:92: PDBConstructionWarning: WARNING: Chain A is discontinuous at line 8988.\n",
      "  PDBConstructionWarning,\n",
      "c:\\Users\\User\\AppData\\Local\\Programs\\Python\\Python37\\lib\\site-packages\\Bio\\PDB\\StructureBuilder.py:92: PDBConstructionWarning: WARNING: Chain B is discontinuous at line 9003.\n",
      "  PDBConstructionWarning,\n",
      "c:\\Users\\User\\AppData\\Local\\Programs\\Python\\Python37\\lib\\site-packages\\Bio\\PDB\\StructureBuilder.py:92: PDBConstructionWarning: WARNING: Chain C is discontinuous at line 9010.\n",
      "  PDBConstructionWarning,\n",
      "c:\\Users\\User\\AppData\\Local\\Programs\\Python\\Python37\\lib\\site-packages\\Bio\\PDB\\StructureBuilder.py:92: PDBConstructionWarning: WARNING: Chain D is discontinuous at line 9025.\n",
      "  PDBConstructionWarning,\n"
     ]
    },
    {
     "name": "stdout",
     "output_type": "stream",
     "text": [
      "writing file for 3eg5 pdb\n",
      "writing file for 3egu pdb\n",
      "writing file for 3el7 pdb\n"
     ]
    },
    {
     "name": "stderr",
     "output_type": "stream",
     "text": [
      "c:\\Users\\User\\AppData\\Local\\Programs\\Python\\Python37\\lib\\site-packages\\Bio\\PDB\\StructureBuilder.py:92: PDBConstructionWarning: WARNING: Chain A is discontinuous at line 4642.\n",
      "  PDBConstructionWarning,\n",
      "c:\\Users\\User\\AppData\\Local\\Programs\\Python\\Python37\\lib\\site-packages\\Bio\\PDB\\StructureBuilder.py:92: PDBConstructionWarning: WARNING: Chain B is discontinuous at line 4774.\n",
      "  PDBConstructionWarning,\n"
     ]
    },
    {
     "name": "stdout",
     "output_type": "stream",
     "text": [
      "writing file for 3el8 pdb\n"
     ]
    },
    {
     "name": "stderr",
     "output_type": "stream",
     "text": [
      "c:\\Users\\User\\AppData\\Local\\Programs\\Python\\Python37\\lib\\site-packages\\Bio\\PDB\\StructureBuilder.py:92: PDBConstructionWarning: WARNING: Chain A is discontinuous at line 4664.\n",
      "  PDBConstructionWarning,\n",
      "c:\\Users\\User\\AppData\\Local\\Programs\\Python\\Python37\\lib\\site-packages\\Bio\\PDB\\StructureBuilder.py:92: PDBConstructionWarning: WARNING: Chain B is discontinuous at line 4688.\n",
      "  PDBConstructionWarning,\n",
      "c:\\Users\\User\\AppData\\Local\\Programs\\Python\\Python37\\lib\\site-packages\\Bio\\PDB\\StructureBuilder.py:92: PDBConstructionWarning: WARNING: Chain A is discontinuous at line 4712.\n",
      "  PDBConstructionWarning,\n",
      "c:\\Users\\User\\AppData\\Local\\Programs\\Python\\Python37\\lib\\site-packages\\Bio\\PDB\\StructureBuilder.py:92: PDBConstructionWarning: WARNING: Chain B is discontinuous at line 4715.\n",
      "  PDBConstructionWarning,\n"
     ]
    },
    {
     "name": "stdout",
     "output_type": "stream",
     "text": [
      "writing file for 3en4 pdb\n"
     ]
    },
    {
     "name": "stderr",
     "output_type": "stream",
     "text": [
      "c:\\Users\\User\\AppData\\Local\\Programs\\Python\\Python37\\lib\\site-packages\\Bio\\PDB\\StructureBuilder.py:92: PDBConstructionWarning: WARNING: Chain A is discontinuous at line 4467.\n",
      "  PDBConstructionWarning,\n",
      "c:\\Users\\User\\AppData\\Local\\Programs\\Python\\Python37\\lib\\site-packages\\Bio\\PDB\\StructureBuilder.py:92: PDBConstructionWarning: WARNING: Chain B is discontinuous at line 4491.\n",
      "  PDBConstructionWarning,\n",
      "c:\\Users\\User\\AppData\\Local\\Programs\\Python\\Python37\\lib\\site-packages\\Bio\\PDB\\StructureBuilder.py:92: PDBConstructionWarning: WARNING: Chain A is discontinuous at line 4515.\n",
      "  PDBConstructionWarning,\n",
      "c:\\Users\\User\\AppData\\Local\\Programs\\Python\\Python37\\lib\\site-packages\\Bio\\PDB\\StructureBuilder.py:92: PDBConstructionWarning: WARNING: Chain B is discontinuous at line 4523.\n",
      "  PDBConstructionWarning,\n"
     ]
    },
    {
     "name": "stdout",
     "output_type": "stream",
     "text": [
      "writing file for 3en5 pdb\n"
     ]
    },
    {
     "name": "stderr",
     "output_type": "stream",
     "text": [
      "c:\\Users\\User\\AppData\\Local\\Programs\\Python\\Python37\\lib\\site-packages\\Bio\\PDB\\StructureBuilder.py:92: PDBConstructionWarning: WARNING: Chain A is discontinuous at line 4380.\n",
      "  PDBConstructionWarning,\n",
      "c:\\Users\\User\\AppData\\Local\\Programs\\Python\\Python37\\lib\\site-packages\\Bio\\PDB\\StructureBuilder.py:92: PDBConstructionWarning: WARNING: Chain B is discontinuous at line 4386.\n",
      "  PDBConstructionWarning,\n"
     ]
    },
    {
     "name": "stdout",
     "output_type": "stream",
     "text": [
      "writing file for 3en6 pdb\n"
     ]
    },
    {
     "name": "stderr",
     "output_type": "stream",
     "text": [
      "c:\\Users\\User\\AppData\\Local\\Programs\\Python\\Python37\\lib\\site-packages\\Bio\\PDB\\StructureBuilder.py:92: PDBConstructionWarning: WARNING: Chain A is discontinuous at line 4423.\n",
      "  PDBConstructionWarning,\n",
      "c:\\Users\\User\\AppData\\Local\\Programs\\Python\\Python37\\lib\\site-packages\\Bio\\PDB\\StructureBuilder.py:92: PDBConstructionWarning: WARNING: Chain B is discontinuous at line 4447.\n",
      "  PDBConstructionWarning,\n"
     ]
    },
    {
     "name": "stdout",
     "output_type": "stream",
     "text": [
      "writing file for 3en7 pdb\n"
     ]
    },
    {
     "name": "stderr",
     "output_type": "stream",
     "text": [
      "c:\\Users\\User\\AppData\\Local\\Programs\\Python\\Python37\\lib\\site-packages\\Bio\\PDB\\StructureBuilder.py:92: PDBConstructionWarning: WARNING: Chain A is discontinuous at line 4823.\n",
      "  PDBConstructionWarning,\n",
      "c:\\Users\\User\\AppData\\Local\\Programs\\Python\\Python37\\lib\\site-packages\\Bio\\PDB\\StructureBuilder.py:92: PDBConstructionWarning: WARNING: Chain B is discontinuous at line 4875.\n",
      "  PDBConstructionWarning,\n",
      "c:\\Users\\User\\AppData\\Local\\Programs\\Python\\Python37\\lib\\site-packages\\Bio\\PDB\\StructureBuilder.py:92: PDBConstructionWarning: WARNING: Chain A is discontinuous at line 4901.\n",
      "  PDBConstructionWarning,\n",
      "c:\\Users\\User\\AppData\\Local\\Programs\\Python\\Python37\\lib\\site-packages\\Bio\\PDB\\StructureBuilder.py:92: PDBConstructionWarning: WARNING: Chain B is discontinuous at line 4942.\n",
      "  PDBConstructionWarning,\n"
     ]
    },
    {
     "name": "stdout",
     "output_type": "stream",
     "text": [
      "writing file for 3f3u pdb\n"
     ]
    },
    {
     "name": "stderr",
     "output_type": "stream",
     "text": [
      "c:\\Users\\User\\AppData\\Local\\Programs\\Python\\Python37\\lib\\site-packages\\Bio\\PDB\\StructureBuilder.py:92: PDBConstructionWarning: WARNING: Chain A is discontinuous at line 4736.\n",
      "  PDBConstructionWarning,\n",
      "c:\\Users\\User\\AppData\\Local\\Programs\\Python\\Python37\\lib\\site-packages\\Bio\\PDB\\StructureBuilder.py:92: PDBConstructionWarning: WARNING: Chain B is discontinuous at line 4774.\n",
      "  PDBConstructionWarning,\n",
      "c:\\Users\\User\\AppData\\Local\\Programs\\Python\\Python37\\lib\\site-packages\\Bio\\PDB\\StructureBuilder.py:92: PDBConstructionWarning: WARNING: Chain A is discontinuous at line 4812.\n",
      "  PDBConstructionWarning,\n",
      "c:\\Users\\User\\AppData\\Local\\Programs\\Python\\Python37\\lib\\site-packages\\Bio\\PDB\\StructureBuilder.py:92: PDBConstructionWarning: WARNING: Chain B is discontinuous at line 4838.\n",
      "  PDBConstructionWarning,\n"
     ]
    },
    {
     "name": "stdout",
     "output_type": "stream",
     "text": [
      "writing file for 3f3v pdb\n"
     ]
    },
    {
     "name": "stderr",
     "output_type": "stream",
     "text": [
      "c:\\Users\\User\\AppData\\Local\\Programs\\Python\\Python37\\lib\\site-packages\\Bio\\PDB\\StructureBuilder.py:92: PDBConstructionWarning: WARNING: Chain A is discontinuous at line 4714.\n",
      "  PDBConstructionWarning,\n",
      "c:\\Users\\User\\AppData\\Local\\Programs\\Python\\Python37\\lib\\site-packages\\Bio\\PDB\\StructureBuilder.py:92: PDBConstructionWarning: WARNING: Chain B is discontinuous at line 4752.\n",
      "  PDBConstructionWarning,\n",
      "c:\\Users\\User\\AppData\\Local\\Programs\\Python\\Python37\\lib\\site-packages\\Bio\\PDB\\StructureBuilder.py:92: PDBConstructionWarning: WARNING: Chain A is discontinuous at line 4790.\n",
      "  PDBConstructionWarning,\n",
      "c:\\Users\\User\\AppData\\Local\\Programs\\Python\\Python37\\lib\\site-packages\\Bio\\PDB\\StructureBuilder.py:92: PDBConstructionWarning: WARNING: Chain B is discontinuous at line 4827.\n",
      "  PDBConstructionWarning,\n"
     ]
    },
    {
     "name": "stdout",
     "output_type": "stream",
     "text": [
      "writing file for 3f3w pdb\n",
      "writing file for 3f49 pdb\n"
     ]
    },
    {
     "name": "stderr",
     "output_type": "stream",
     "text": [
      "c:\\Users\\User\\AppData\\Local\\Programs\\Python\\Python37\\lib\\site-packages\\Bio\\PDB\\StructureBuilder.py:92: PDBConstructionWarning: WARNING: Chain A is discontinuous at line 9201.\n",
      "  PDBConstructionWarning,\n",
      "c:\\Users\\User\\AppData\\Local\\Programs\\Python\\Python37\\lib\\site-packages\\Bio\\PDB\\StructureBuilder.py:92: PDBConstructionWarning: WARNING: Chain B is discontinuous at line 9230.\n",
      "  PDBConstructionWarning,\n",
      "c:\\Users\\User\\AppData\\Local\\Programs\\Python\\Python37\\lib\\site-packages\\Bio\\PDB\\StructureBuilder.py:92: PDBConstructionWarning: WARNING: Chain C is discontinuous at line 9259.\n",
      "  PDBConstructionWarning,\n",
      "c:\\Users\\User\\AppData\\Local\\Programs\\Python\\Python37\\lib\\site-packages\\Bio\\PDB\\StructureBuilder.py:92: PDBConstructionWarning: WARNING: Chain D is discontinuous at line 9288.\n",
      "  PDBConstructionWarning,\n",
      "c:\\Users\\User\\AppData\\Local\\Programs\\Python\\Python37\\lib\\site-packages\\Bio\\PDB\\StructureBuilder.py:92: PDBConstructionWarning: WARNING: Chain A is discontinuous at line 9317.\n",
      "  PDBConstructionWarning,\n",
      "c:\\Users\\User\\AppData\\Local\\Programs\\Python\\Python37\\lib\\site-packages\\Bio\\PDB\\StructureBuilder.py:92: PDBConstructionWarning: WARNING: Chain B is discontinuous at line 9368.\n",
      "  PDBConstructionWarning,\n",
      "c:\\Users\\User\\AppData\\Local\\Programs\\Python\\Python37\\lib\\site-packages\\Bio\\PDB\\StructureBuilder.py:92: PDBConstructionWarning: WARNING: Chain C is discontinuous at line 9425.\n",
      "  PDBConstructionWarning,\n",
      "c:\\Users\\User\\AppData\\Local\\Programs\\Python\\Python37\\lib\\site-packages\\Bio\\PDB\\StructureBuilder.py:92: PDBConstructionWarning: WARNING: Chain D is discontinuous at line 9472.\n",
      "  PDBConstructionWarning,\n"
     ]
    },
    {
     "name": "stdout",
     "output_type": "stream",
     "text": [
      "writing file for 3f6x pdb\n"
     ]
    },
    {
     "name": "stderr",
     "output_type": "stream",
     "text": [
      "c:\\Users\\User\\AppData\\Local\\Programs\\Python\\Python37\\lib\\site-packages\\Bio\\PDB\\StructureBuilder.py:92: PDBConstructionWarning: WARNING: Chain A is discontinuous at line 1327.\n",
      "  PDBConstructionWarning,\n",
      "c:\\Users\\User\\AppData\\Local\\Programs\\Python\\Python37\\lib\\site-packages\\Bio\\PDB\\StructureBuilder.py:92: PDBConstructionWarning: WARNING: Chain B is discontinuous at line 1365.\n",
      "  PDBConstructionWarning,\n",
      "c:\\Users\\User\\AppData\\Local\\Programs\\Python\\Python37\\lib\\site-packages\\Bio\\PDB\\StructureBuilder.py:92: PDBConstructionWarning: WARNING: Chain A is discontinuous at line 1386.\n",
      "  PDBConstructionWarning,\n",
      "c:\\Users\\User\\AppData\\Local\\Programs\\Python\\Python37\\lib\\site-packages\\Bio\\PDB\\StructureBuilder.py:92: PDBConstructionWarning: WARNING: Chain B is discontinuous at line 1412.\n",
      "  PDBConstructionWarning,\n"
     ]
    },
    {
     "name": "stdout",
     "output_type": "stream",
     "text": [
      "writing file for 3fj5 pdb\n"
     ]
    },
    {
     "name": "stderr",
     "output_type": "stream",
     "text": [
      "c:\\Users\\User\\AppData\\Local\\Programs\\Python\\Python37\\lib\\site-packages\\Bio\\PDB\\StructureBuilder.py:92: PDBConstructionWarning: WARNING: Chain A is discontinuous at line 4791.\n",
      "  PDBConstructionWarning,\n",
      "c:\\Users\\User\\AppData\\Local\\Programs\\Python\\Python37\\lib\\site-packages\\Bio\\PDB\\StructureBuilder.py:92: PDBConstructionWarning: WARNING: Chain B is discontinuous at line 4843.\n",
      "  PDBConstructionWarning,\n",
      "c:\\Users\\User\\AppData\\Local\\Programs\\Python\\Python37\\lib\\site-packages\\Bio\\PDB\\StructureBuilder.py:92: PDBConstructionWarning: WARNING: Chain A is discontinuous at line 4895.\n",
      "  PDBConstructionWarning,\n",
      "c:\\Users\\User\\AppData\\Local\\Programs\\Python\\Python37\\lib\\site-packages\\Bio\\PDB\\StructureBuilder.py:92: PDBConstructionWarning: WARNING: Chain B is discontinuous at line 4935.\n",
      "  PDBConstructionWarning,\n"
     ]
    },
    {
     "name": "stdout",
     "output_type": "stream",
     "text": [
      "writing file for 3g6g pdb\n"
     ]
    },
    {
     "name": "stderr",
     "output_type": "stream",
     "text": [
      "c:\\Users\\User\\AppData\\Local\\Programs\\Python\\Python37\\lib\\site-packages\\Bio\\PDB\\StructureBuilder.py:92: PDBConstructionWarning: WARNING: Chain A is discontinuous at line 4762.\n",
      "  PDBConstructionWarning,\n",
      "c:\\Users\\User\\AppData\\Local\\Programs\\Python\\Python37\\lib\\site-packages\\Bio\\PDB\\StructureBuilder.py:92: PDBConstructionWarning: WARNING: Chain B is discontinuous at line 4824.\n",
      "  PDBConstructionWarning,\n"
     ]
    },
    {
     "name": "stdout",
     "output_type": "stream",
     "text": [
      "writing file for 3g6h pdb\n"
     ]
    },
    {
     "name": "stderr",
     "output_type": "stream",
     "text": [
      "c:\\Users\\User\\AppData\\Local\\Programs\\Python\\Python37\\lib\\site-packages\\Bio\\PDB\\StructureBuilder.py:92: PDBConstructionWarning: WARNING: Chain A is discontinuous at line 4798.\n",
      "  PDBConstructionWarning,\n",
      "c:\\Users\\User\\AppData\\Local\\Programs\\Python\\Python37\\lib\\site-packages\\Bio\\PDB\\StructureBuilder.py:92: PDBConstructionWarning: WARNING: Chain B is discontinuous at line 4819.\n",
      "  PDBConstructionWarning,\n",
      "c:\\Users\\User\\AppData\\Local\\Programs\\Python\\Python37\\lib\\site-packages\\Bio\\PDB\\StructureBuilder.py:92: PDBConstructionWarning: WARNING: Chain A is discontinuous at line 4840.\n",
      "  PDBConstructionWarning,\n",
      "c:\\Users\\User\\AppData\\Local\\Programs\\Python\\Python37\\lib\\site-packages\\Bio\\PDB\\StructureBuilder.py:92: PDBConstructionWarning: WARNING: Chain B is discontinuous at line 4945.\n",
      "  PDBConstructionWarning,\n"
     ]
    },
    {
     "name": "stdout",
     "output_type": "stream",
     "text": [
      "writing file for 3geq pdb\n"
     ]
    },
    {
     "name": "stderr",
     "output_type": "stream",
     "text": [
      "c:\\Users\\User\\AppData\\Local\\Programs\\Python\\Python37\\lib\\site-packages\\Bio\\PDB\\StructureBuilder.py:92: PDBConstructionWarning: WARNING: Chain B is discontinuous at line 11091.\n",
      "  PDBConstructionWarning,\n",
      "c:\\Users\\User\\AppData\\Local\\Programs\\Python\\Python37\\lib\\site-packages\\Bio\\PDB\\StructureBuilder.py:92: PDBConstructionWarning: WARNING: Chain A is discontinuous at line 11172.\n",
      "  PDBConstructionWarning,\n"
     ]
    },
    {
     "name": "stdout",
     "output_type": "stream",
     "text": [
      "writing file for 3h4j pdb\n",
      "writing file for 3hc8 pdb\n",
      "writing file for 3hdz pdb\n"
     ]
    },
    {
     "name": "stderr",
     "output_type": "stream",
     "text": [
      "c:\\Users\\User\\AppData\\Local\\Programs\\Python\\Python37\\lib\\site-packages\\Bio\\PDB\\StructureBuilder.py:92: PDBConstructionWarning: WARNING: Chain A is discontinuous at line 11615.\n",
      "  PDBConstructionWarning,\n",
      "c:\\Users\\User\\AppData\\Local\\Programs\\Python\\Python37\\lib\\site-packages\\Bio\\PDB\\StructureBuilder.py:92: PDBConstructionWarning: WARNING: Chain B is discontinuous at line 11650.\n",
      "  PDBConstructionWarning,\n",
      "c:\\Users\\User\\AppData\\Local\\Programs\\Python\\Python37\\lib\\site-packages\\Bio\\PDB\\StructureBuilder.py:92: PDBConstructionWarning: WARNING: Chain C is discontinuous at line 11685.\n",
      "  PDBConstructionWarning,\n",
      "c:\\Users\\User\\AppData\\Local\\Programs\\Python\\Python37\\lib\\site-packages\\Bio\\PDB\\StructureBuilder.py:92: PDBConstructionWarning: WARNING: Chain D is discontinuous at line 11720.\n",
      "  PDBConstructionWarning,\n",
      "c:\\Users\\User\\AppData\\Local\\Programs\\Python\\Python37\\lib\\site-packages\\Bio\\PDB\\StructureBuilder.py:92: PDBConstructionWarning: WARNING: Chain A is discontinuous at line 11755.\n",
      "  PDBConstructionWarning,\n",
      "c:\\Users\\User\\AppData\\Local\\Programs\\Python\\Python37\\lib\\site-packages\\Bio\\PDB\\StructureBuilder.py:92: PDBConstructionWarning: WARNING: Chain B is discontinuous at line 11761.\n",
      "  PDBConstructionWarning,\n",
      "c:\\Users\\User\\AppData\\Local\\Programs\\Python\\Python37\\lib\\site-packages\\Bio\\PDB\\StructureBuilder.py:92: PDBConstructionWarning: WARNING: Chain C is discontinuous at line 11764.\n",
      "  PDBConstructionWarning,\n",
      "c:\\Users\\User\\AppData\\Local\\Programs\\Python\\Python37\\lib\\site-packages\\Bio\\PDB\\StructureBuilder.py:92: PDBConstructionWarning: WARNING: Chain D is discontinuous at line 11767.\n",
      "  PDBConstructionWarning,\n"
     ]
    },
    {
     "name": "stdout",
     "output_type": "stream",
     "text": [
      "writing file for 3jwq pdb\n"
     ]
    },
    {
     "name": "stderr",
     "output_type": "stream",
     "text": [
      "c:\\Users\\User\\AppData\\Local\\Programs\\Python\\Python37\\lib\\site-packages\\Bio\\PDB\\StructureBuilder.py:92: PDBConstructionWarning: WARNING: Chain A is discontinuous at line 6149.\n",
      "  PDBConstructionWarning,\n",
      "c:\\Users\\User\\AppData\\Local\\Programs\\Python\\Python37\\lib\\site-packages\\Bio\\PDB\\StructureBuilder.py:92: PDBConstructionWarning: WARNING: Chain B is discontinuous at line 6199.\n",
      "  PDBConstructionWarning,\n",
      "c:\\Users\\User\\AppData\\Local\\Programs\\Python\\Python37\\lib\\site-packages\\Bio\\PDB\\StructureBuilder.py:92: PDBConstructionWarning: WARNING: Chain A is discontinuous at line 6233.\n",
      "  PDBConstructionWarning,\n",
      "c:\\Users\\User\\AppData\\Local\\Programs\\Python\\Python37\\lib\\site-packages\\Bio\\PDB\\StructureBuilder.py:92: PDBConstructionWarning: WARNING: Chain B is discontinuous at line 6238.\n",
      "  PDBConstructionWarning,\n",
      "c:\\Users\\User\\AppData\\Local\\Programs\\Python\\Python37\\lib\\site-packages\\Bio\\PDB\\StructureBuilder.py:92: PDBConstructionWarning: WARNING: Chain D is discontinuous at line 6249.\n",
      "  PDBConstructionWarning,\n"
     ]
    },
    {
     "name": "stdout",
     "output_type": "stream",
     "text": [
      "writing file for 3jwr pdb\n"
     ]
    },
    {
     "name": "stderr",
     "output_type": "stream",
     "text": [
      "c:\\Users\\User\\AppData\\Local\\Programs\\Python\\Python37\\lib\\site-packages\\Bio\\PDB\\StructureBuilder.py:92: PDBConstructionWarning: WARNING: Chain A is discontinuous at line 4040.\n",
      "  PDBConstructionWarning,\n",
      "c:\\Users\\User\\AppData\\Local\\Programs\\Python\\Python37\\lib\\site-packages\\Bio\\PDB\\StructureBuilder.py:92: PDBConstructionWarning: WARNING: Chain B is discontinuous at line 4045.\n",
      "  PDBConstructionWarning,\n",
      "c:\\Users\\User\\AppData\\Local\\Programs\\Python\\Python37\\lib\\site-packages\\Bio\\PDB\\StructureBuilder.py:92: PDBConstructionWarning: WARNING: Chain A is discontinuous at line 4050.\n",
      "  PDBConstructionWarning,\n",
      "c:\\Users\\User\\AppData\\Local\\Programs\\Python\\Python37\\lib\\site-packages\\Bio\\PDB\\StructureBuilder.py:92: PDBConstructionWarning: WARNING: Chain B is discontinuous at line 4130.\n",
      "  PDBConstructionWarning,\n",
      "c:\\Users\\User\\AppData\\Local\\Programs\\Python\\Python37\\lib\\site-packages\\Bio\\PDB\\StructureBuilder.py:92: PDBConstructionWarning: WARNING: Chain C is discontinuous at line 4153.\n",
      "  PDBConstructionWarning,\n",
      "c:\\Users\\User\\AppData\\Local\\Programs\\Python\\Python37\\lib\\site-packages\\Bio\\PDB\\StructureBuilder.py:92: PDBConstructionWarning: WARNING: Chain D is discontinuous at line 4235.\n",
      "  PDBConstructionWarning,\n"
     ]
    },
    {
     "name": "stdout",
     "output_type": "stream",
     "text": [
      "writing file for 3k2m pdb\n",
      "writing file for 3lfv pdb\n"
     ]
    },
    {
     "name": "stderr",
     "output_type": "stream",
     "text": [
      "c:\\Users\\User\\AppData\\Local\\Programs\\Python\\Python37\\lib\\site-packages\\Bio\\PDB\\StructureBuilder.py:92: PDBConstructionWarning: WARNING: Chain A is discontinuous at line 4525.\n",
      "  PDBConstructionWarning,\n",
      "c:\\Users\\User\\AppData\\Local\\Programs\\Python\\Python37\\lib\\site-packages\\Bio\\PDB\\StructureBuilder.py:92: PDBConstructionWarning: WARNING: Chain B is discontinuous at line 4548.\n",
      "  PDBConstructionWarning,\n",
      "c:\\Users\\User\\AppData\\Local\\Programs\\Python\\Python37\\lib\\site-packages\\Bio\\PDB\\StructureBuilder.py:92: PDBConstructionWarning: WARNING: Chain A is discontinuous at line 4571.\n",
      "  PDBConstructionWarning,\n",
      "c:\\Users\\User\\AppData\\Local\\Programs\\Python\\Python37\\lib\\site-packages\\Bio\\PDB\\StructureBuilder.py:92: PDBConstructionWarning: WARNING: Chain B is discontinuous at line 4609.\n",
      "  PDBConstructionWarning,\n"
     ]
    },
    {
     "name": "stdout",
     "output_type": "stream",
     "text": [
      "writing file for 3lok pdb\n"
     ]
    },
    {
     "name": "stderr",
     "output_type": "stream",
     "text": [
      "c:\\Users\\User\\AppData\\Local\\Programs\\Python\\Python37\\lib\\site-packages\\Bio\\PDB\\StructureBuilder.py:92: PDBConstructionWarning: WARNING: Chain A is discontinuous at line 4916.\n",
      "  PDBConstructionWarning,\n",
      "c:\\Users\\User\\AppData\\Local\\Programs\\Python\\Python37\\lib\\site-packages\\Bio\\PDB\\StructureBuilder.py:92: PDBConstructionWarning: WARNING: Chain P is discontinuous at line 5720.\n",
      "  PDBConstructionWarning,\n"
     ]
    },
    {
     "name": "stdout",
     "output_type": "stream",
     "text": [
      "writing file for 3lw1 pdb\n",
      "writing file for 3mf0 pdb\n"
     ]
    },
    {
     "name": "stderr",
     "output_type": "stream",
     "text": [
      "c:\\Users\\User\\AppData\\Local\\Programs\\Python\\Python37\\lib\\site-packages\\Bio\\PDB\\StructureBuilder.py:92: PDBConstructionWarning: WARNING: Chain A is discontinuous at line 49817.\n",
      "  PDBConstructionWarning,\n",
      "c:\\Users\\User\\AppData\\Local\\Programs\\Python\\Python37\\lib\\site-packages\\Bio\\PDB\\StructureBuilder.py:92: PDBConstructionWarning: WARNING: Chain B is discontinuous at line 49825.\n",
      "  PDBConstructionWarning,\n",
      "c:\\Users\\User\\AppData\\Local\\Programs\\Python\\Python37\\lib\\site-packages\\Bio\\PDB\\StructureBuilder.py:92: PDBConstructionWarning: WARNING: Chain C is discontinuous at line 49834.\n",
      "  PDBConstructionWarning,\n",
      "c:\\Users\\User\\AppData\\Local\\Programs\\Python\\Python37\\lib\\site-packages\\Bio\\PDB\\StructureBuilder.py:92: PDBConstructionWarning: WARNING: Chain D is discontinuous at line 49840.\n",
      "  PDBConstructionWarning,\n",
      "c:\\Users\\User\\AppData\\Local\\Programs\\Python\\Python37\\lib\\site-packages\\Bio\\PDB\\StructureBuilder.py:92: PDBConstructionWarning: WARNING: Chain E is discontinuous at line 49848.\n",
      "  PDBConstructionWarning,\n",
      "c:\\Users\\User\\AppData\\Local\\Programs\\Python\\Python37\\lib\\site-packages\\Bio\\PDB\\StructureBuilder.py:92: PDBConstructionWarning: WARNING: Chain H is discontinuous at line 49853.\n",
      "  PDBConstructionWarning,\n",
      "c:\\Users\\User\\AppData\\Local\\Programs\\Python\\Python37\\lib\\site-packages\\Bio\\PDB\\StructureBuilder.py:92: PDBConstructionWarning: WARNING: Chain G is discontinuous at line 49857.\n",
      "  PDBConstructionWarning,\n",
      "c:\\Users\\User\\AppData\\Local\\Programs\\Python\\Python37\\lib\\site-packages\\Bio\\PDB\\StructureBuilder.py:92: PDBConstructionWarning: WARNING: Chain F is discontinuous at line 49863.\n",
      "  PDBConstructionWarning,\n"
     ]
    },
    {
     "name": "stdout",
     "output_type": "stream",
     "text": [
      "writing file for 3o4x pdb\n",
      "writing file for 3obv pdb\n"
     ]
    },
    {
     "name": "stderr",
     "output_type": "stream",
     "text": [
      "c:\\Users\\User\\AppData\\Local\\Programs\\Python\\Python37\\lib\\site-packages\\Bio\\PDB\\StructureBuilder.py:92: PDBConstructionWarning: WARNING: Chain A is discontinuous at line 4704.\n",
      "  PDBConstructionWarning,\n",
      "c:\\Users\\User\\AppData\\Local\\Programs\\Python\\Python37\\lib\\site-packages\\Bio\\PDB\\StructureBuilder.py:92: PDBConstructionWarning: WARNING: Chain B is discontinuous at line 4751.\n",
      "  PDBConstructionWarning,\n",
      "c:\\Users\\User\\AppData\\Local\\Programs\\Python\\Python37\\lib\\site-packages\\Bio\\PDB\\StructureBuilder.py:92: PDBConstructionWarning: WARNING: Chain A is discontinuous at line 4788.\n",
      "  PDBConstructionWarning,\n",
      "c:\\Users\\User\\AppData\\Local\\Programs\\Python\\Python37\\lib\\site-packages\\Bio\\PDB\\StructureBuilder.py:92: PDBConstructionWarning: WARNING: Chain B is discontinuous at line 4938.\n",
      "  PDBConstructionWarning,\n"
     ]
    },
    {
     "name": "stdout",
     "output_type": "stream",
     "text": [
      "writing file for 3oez pdb\n"
     ]
    },
    {
     "name": "stderr",
     "output_type": "stream",
     "text": [
      "c:\\Users\\User\\AppData\\Local\\Programs\\Python\\Python37\\lib\\site-packages\\Bio\\PDB\\StructureBuilder.py:92: PDBConstructionWarning: WARNING: Chain A is discontinuous at line 8786.\n",
      "  PDBConstructionWarning,\n",
      "c:\\Users\\User\\AppData\\Local\\Programs\\Python\\Python37\\lib\\site-packages\\Bio\\PDB\\StructureBuilder.py:92: PDBConstructionWarning: WARNING: Chain B is discontinuous at line 8894.\n",
      "  PDBConstructionWarning,\n"
     ]
    },
    {
     "name": "stdout",
     "output_type": "stream",
     "text": [
      "writing file for 3of0 pdb\n"
     ]
    },
    {
     "name": "stderr",
     "output_type": "stream",
     "text": [
      "c:\\Users\\User\\AppData\\Local\\Programs\\Python\\Python37\\lib\\site-packages\\Bio\\PDB\\StructureBuilder.py:92: PDBConstructionWarning: WARNING: Chain A is discontinuous at line 8251.\n",
      "  PDBConstructionWarning,\n",
      "c:\\Users\\User\\AppData\\Local\\Programs\\Python\\Python37\\lib\\site-packages\\Bio\\PDB\\StructureBuilder.py:92: PDBConstructionWarning: WARNING: Chain B is discontinuous at line 8400.\n",
      "  PDBConstructionWarning,\n",
      "c:\\Users\\User\\AppData\\Local\\Programs\\Python\\Python37\\lib\\site-packages\\Bio\\PDB\\StructureBuilder.py:92: PDBConstructionWarning: WARNING: Chain C is discontinuous at line 8555.\n",
      "  PDBConstructionWarning,\n",
      "c:\\Users\\User\\AppData\\Local\\Programs\\Python\\Python37\\lib\\site-packages\\Bio\\PDB\\StructureBuilder.py:92: PDBConstructionWarning: WARNING: Chain D is discontinuous at line 8744.\n",
      "  PDBConstructionWarning,\n"
     ]
    },
    {
     "name": "stdout",
     "output_type": "stream",
     "text": [
      "writing file for 3oq5 pdb\n"
     ]
    },
    {
     "name": "stderr",
     "output_type": "stream",
     "text": [
      "c:\\Users\\User\\AppData\\Local\\Programs\\Python\\Python37\\lib\\site-packages\\Bio\\PDB\\StructureBuilder.py:92: PDBConstructionWarning: WARNING: Chain A is discontinuous at line 4829.\n",
      "  PDBConstructionWarning,\n",
      "c:\\Users\\User\\AppData\\Local\\Programs\\Python\\Python37\\lib\\site-packages\\Bio\\PDB\\StructureBuilder.py:92: PDBConstructionWarning: WARNING: Chain B is discontinuous at line 4901.\n",
      "  PDBConstructionWarning,\n",
      "c:\\Users\\User\\AppData\\Local\\Programs\\Python\\Python37\\lib\\site-packages\\Bio\\PDB\\StructureBuilder.py:92: PDBConstructionWarning: WARNING: Chain A is discontinuous at line 5002.\n",
      "  PDBConstructionWarning,\n",
      "c:\\Users\\User\\AppData\\Local\\Programs\\Python\\Python37\\lib\\site-packages\\Bio\\PDB\\StructureBuilder.py:92: PDBConstructionWarning: WARNING: Chain B is discontinuous at line 5121.\n",
      "  PDBConstructionWarning,\n"
     ]
    },
    {
     "name": "stdout",
     "output_type": "stream",
     "text": [
      "writing file for 3pyy pdb\n"
     ]
    },
    {
     "name": "stderr",
     "output_type": "stream",
     "text": [
      "c:\\Users\\User\\AppData\\Local\\Programs\\Python\\Python37\\lib\\site-packages\\Bio\\PDB\\StructureBuilder.py:92: PDBConstructionWarning: WARNING: Chain A is discontinuous at line 4605.\n",
      "  PDBConstructionWarning,\n",
      "c:\\Users\\User\\AppData\\Local\\Programs\\Python\\Python37\\lib\\site-packages\\Bio\\PDB\\StructureBuilder.py:92: PDBConstructionWarning: WARNING: Chain B is discontinuous at line 4638.\n",
      "  PDBConstructionWarning,\n",
      "c:\\Users\\User\\AppData\\Local\\Programs\\Python\\Python37\\lib\\site-packages\\Bio\\PDB\\StructureBuilder.py:92: PDBConstructionWarning: WARNING: Chain A is discontinuous at line 4671.\n",
      "  PDBConstructionWarning,\n",
      "c:\\Users\\User\\AppData\\Local\\Programs\\Python\\Python37\\lib\\site-packages\\Bio\\PDB\\StructureBuilder.py:92: PDBConstructionWarning: WARNING: Chain B is discontinuous at line 4726.\n",
      "  PDBConstructionWarning,\n"
     ]
    },
    {
     "name": "stdout",
     "output_type": "stream",
     "text": [
      "writing file for 3qlf pdb\n"
     ]
    },
    {
     "name": "stderr",
     "output_type": "stream",
     "text": [
      "c:\\Users\\User\\AppData\\Local\\Programs\\Python\\Python37\\lib\\site-packages\\Bio\\PDB\\StructureBuilder.py:92: PDBConstructionWarning: WARNING: Chain A is discontinuous at line 8695.\n",
      "  PDBConstructionWarning,\n",
      "c:\\Users\\User\\AppData\\Local\\Programs\\Python\\Python37\\lib\\site-packages\\Bio\\PDB\\StructureBuilder.py:92: PDBConstructionWarning: WARNING: Chain B is discontinuous at line 8736.\n",
      "  PDBConstructionWarning,\n",
      "c:\\Users\\User\\AppData\\Local\\Programs\\Python\\Python37\\lib\\site-packages\\Bio\\PDB\\StructureBuilder.py:92: PDBConstructionWarning: WARNING: Chain A is discontinuous at line 8777.\n",
      "  PDBConstructionWarning,\n",
      "c:\\Users\\User\\AppData\\Local\\Programs\\Python\\Python37\\lib\\site-packages\\Bio\\PDB\\StructureBuilder.py:92: PDBConstructionWarning: WARNING: Chain B is discontinuous at line 8875.\n",
      "  PDBConstructionWarning,\n"
     ]
    },
    {
     "name": "stdout",
     "output_type": "stream",
     "text": [
      "writing file for 3qlg pdb\n"
     ]
    },
    {
     "name": "stderr",
     "output_type": "stream",
     "text": [
      "c:\\Users\\User\\AppData\\Local\\Programs\\Python\\Python37\\lib\\site-packages\\Bio\\PDB\\StructureBuilder.py:92: PDBConstructionWarning: WARNING: Chain A is discontinuous at line 4912.\n",
      "  PDBConstructionWarning,\n",
      "c:\\Users\\User\\AppData\\Local\\Programs\\Python\\Python37\\lib\\site-packages\\Bio\\PDB\\StructureBuilder.py:92: PDBConstructionWarning: WARNING: Chain B is discontinuous at line 4955.\n",
      "  PDBConstructionWarning,\n",
      "c:\\Users\\User\\AppData\\Local\\Programs\\Python\\Python37\\lib\\site-packages\\Bio\\PDB\\StructureBuilder.py:92: PDBConstructionWarning: WARNING: Chain A is discontinuous at line 4996.\n",
      "  PDBConstructionWarning,\n",
      "c:\\Users\\User\\AppData\\Local\\Programs\\Python\\Python37\\lib\\site-packages\\Bio\\PDB\\StructureBuilder.py:92: PDBConstructionWarning: WARNING: Chain B is discontinuous at line 5203.\n",
      "  PDBConstructionWarning,\n"
     ]
    },
    {
     "name": "stdout",
     "output_type": "stream",
     "text": [
      "writing file for 3qri pdb\n"
     ]
    },
    {
     "name": "stderr",
     "output_type": "stream",
     "text": [
      "c:\\Users\\User\\AppData\\Local\\Programs\\Python\\Python37\\lib\\site-packages\\Bio\\PDB\\StructureBuilder.py:92: PDBConstructionWarning: WARNING: Chain A is discontinuous at line 4765.\n",
      "  PDBConstructionWarning,\n",
      "c:\\Users\\User\\AppData\\Local\\Programs\\Python\\Python37\\lib\\site-packages\\Bio\\PDB\\StructureBuilder.py:92: PDBConstructionWarning: WARNING: Chain B is discontinuous at line 4806.\n",
      "  PDBConstructionWarning,\n",
      "c:\\Users\\User\\AppData\\Local\\Programs\\Python\\Python37\\lib\\site-packages\\Bio\\PDB\\StructureBuilder.py:92: PDBConstructionWarning: WARNING: Chain A is discontinuous at line 4847.\n",
      "  PDBConstructionWarning,\n",
      "c:\\Users\\User\\AppData\\Local\\Programs\\Python\\Python37\\lib\\site-packages\\Bio\\PDB\\StructureBuilder.py:92: PDBConstructionWarning: WARNING: Chain B is discontinuous at line 4974.\n",
      "  PDBConstructionWarning,\n"
     ]
    },
    {
     "name": "stdout",
     "output_type": "stream",
     "text": [
      "writing file for 3qrj pdb\n",
      "writing file for 3qrk pdb\n",
      "writing file for 3shy pdb\n",
      "writing file for 3shz pdb\n"
     ]
    },
    {
     "name": "stderr",
     "output_type": "stream",
     "text": [
      "c:\\Users\\User\\AppData\\Local\\Programs\\Python\\Python37\\lib\\site-packages\\Bio\\PDB\\StructureBuilder.py:92: PDBConstructionWarning: WARNING: Chain E is discontinuous at line 3285.\n",
      "  PDBConstructionWarning,\n",
      "c:\\Users\\User\\AppData\\Local\\Programs\\Python\\Python37\\lib\\site-packages\\Bio\\PDB\\StructureBuilder.py:92: PDBConstructionWarning: WARNING: Chain I is discontinuous at line 3456.\n",
      "  PDBConstructionWarning,\n"
     ]
    },
    {
     "name": "stdout",
     "output_type": "stream",
     "text": [
      "writing file for 3sic pdb\n"
     ]
    },
    {
     "name": "stderr",
     "output_type": "stream",
     "text": [
      "c:\\Users\\User\\AppData\\Local\\Programs\\Python\\Python37\\lib\\site-packages\\Bio\\PDB\\StructureBuilder.py:92: PDBConstructionWarning: WARNING: Chain A is discontinuous at line 8696.\n",
      "  PDBConstructionWarning,\n",
      "c:\\Users\\User\\AppData\\Local\\Programs\\Python\\Python37\\lib\\site-packages\\Bio\\PDB\\StructureBuilder.py:92: PDBConstructionWarning: WARNING: Chain B is discontinuous at line 8748.\n",
      "  PDBConstructionWarning,\n",
      "c:\\Users\\User\\AppData\\Local\\Programs\\Python\\Python37\\lib\\site-packages\\Bio\\PDB\\StructureBuilder.py:92: PDBConstructionWarning: WARNING: Chain A is discontinuous at line 8800.\n",
      "  PDBConstructionWarning,\n",
      "c:\\Users\\User\\AppData\\Local\\Programs\\Python\\Python37\\lib\\site-packages\\Bio\\PDB\\StructureBuilder.py:92: PDBConstructionWarning: WARNING: Chain B is discontinuous at line 9040.\n",
      "  PDBConstructionWarning,\n"
     ]
    },
    {
     "name": "stdout",
     "output_type": "stream",
     "text": [
      "writing file for 3svv pdb\n"
     ]
    },
    {
     "name": "stderr",
     "output_type": "stream",
     "text": [
      "c:\\Users\\User\\AppData\\Local\\Programs\\Python\\Python37\\lib\\site-packages\\Bio\\PDB\\StructureBuilder.py:92: PDBConstructionWarning: WARNING: Chain A is discontinuous at line 2057.\n",
      "  PDBConstructionWarning,\n",
      "c:\\Users\\User\\AppData\\Local\\Programs\\Python\\Python37\\lib\\site-packages\\Bio\\PDB\\StructureBuilder.py:92: PDBConstructionWarning: WARNING: Chain D is discontinuous at line 2075.\n",
      "  PDBConstructionWarning,\n",
      "c:\\Users\\User\\AppData\\Local\\Programs\\Python\\Python37\\lib\\site-packages\\Bio\\PDB\\StructureBuilder.py:92: PDBConstructionWarning: WARNING: Chain A is discontinuous at line 2086.\n",
      "  PDBConstructionWarning,\n",
      "c:\\Users\\User\\AppData\\Local\\Programs\\Python\\Python37\\lib\\site-packages\\Bio\\PDB\\StructureBuilder.py:92: PDBConstructionWarning: WARNING: Chain D is discontinuous at line 2152.\n",
      "  PDBConstructionWarning,\n"
     ]
    },
    {
     "name": "stdout",
     "output_type": "stream",
     "text": [
      "writing file for 3t04 pdb\n",
      "writing file for 3t72 pdb\n",
      "writing file for 3tgg pdb\n"
     ]
    },
    {
     "name": "stderr",
     "output_type": "stream",
     "text": [
      "c:\\Users\\User\\AppData\\Local\\Programs\\Python\\Python37\\lib\\site-packages\\Bio\\PDB\\StructureBuilder.py:92: PDBConstructionWarning: WARNING: Chain A is discontinuous at line 4677.\n",
      "  PDBConstructionWarning,\n",
      "c:\\Users\\User\\AppData\\Local\\Programs\\Python\\Python37\\lib\\site-packages\\Bio\\PDB\\StructureBuilder.py:92: PDBConstructionWarning: WARNING: Chain B is discontinuous at line 4723.\n",
      "  PDBConstructionWarning,\n"
     ]
    },
    {
     "name": "stdout",
     "output_type": "stream",
     "text": [
      "writing file for 3tz7 pdb\n"
     ]
    },
    {
     "name": "stderr",
     "output_type": "stream",
     "text": [
      "c:\\Users\\User\\AppData\\Local\\Programs\\Python\\Python37\\lib\\site-packages\\Bio\\PDB\\StructureBuilder.py:92: PDBConstructionWarning: WARNING: Chain A is discontinuous at line 4688.\n",
      "  PDBConstructionWarning,\n",
      "c:\\Users\\User\\AppData\\Local\\Programs\\Python\\Python37\\lib\\site-packages\\Bio\\PDB\\StructureBuilder.py:92: PDBConstructionWarning: WARNING: Chain B is discontinuous at line 4737.\n",
      "  PDBConstructionWarning,\n",
      "c:\\Users\\User\\AppData\\Local\\Programs\\Python\\Python37\\lib\\site-packages\\Bio\\PDB\\StructureBuilder.py:92: PDBConstructionWarning: WARNING: Chain A is discontinuous at line 4786.\n",
      "  PDBConstructionWarning,\n",
      "c:\\Users\\User\\AppData\\Local\\Programs\\Python\\Python37\\lib\\site-packages\\Bio\\PDB\\StructureBuilder.py:92: PDBConstructionWarning: WARNING: Chain B is discontinuous at line 4822.\n",
      "  PDBConstructionWarning,\n"
     ]
    },
    {
     "name": "stdout",
     "output_type": "stream",
     "text": [
      "writing file for 3tz8 pdb\n"
     ]
    },
    {
     "name": "stderr",
     "output_type": "stream",
     "text": [
      "c:\\Users\\User\\AppData\\Local\\Programs\\Python\\Python37\\lib\\site-packages\\Bio\\PDB\\StructureBuilder.py:92: PDBConstructionWarning: WARNING: Chain A is discontinuous at line 8933.\n",
      "  PDBConstructionWarning,\n",
      "c:\\Users\\User\\AppData\\Local\\Programs\\Python\\Python37\\lib\\site-packages\\Bio\\PDB\\StructureBuilder.py:92: PDBConstructionWarning: WARNING: Chain B is discontinuous at line 8970.\n",
      "  PDBConstructionWarning,\n"
     ]
    },
    {
     "name": "stdout",
     "output_type": "stream",
     "text": [
      "writing file for 3tz9 pdb\n"
     ]
    },
    {
     "name": "stderr",
     "output_type": "stream",
     "text": [
      "c:\\Users\\User\\AppData\\Local\\Programs\\Python\\Python37\\lib\\site-packages\\Bio\\PDB\\StructureBuilder.py:92: PDBConstructionWarning: WARNING: Chain A is discontinuous at line 2799.\n",
      "  PDBConstructionWarning,\n",
      "c:\\Users\\User\\AppData\\Local\\Programs\\Python\\Python37\\lib\\site-packages\\Bio\\PDB\\StructureBuilder.py:92: PDBConstructionWarning: WARNING: Chain B is discontinuous at line 3165.\n",
      "  PDBConstructionWarning,\n"
     ]
    },
    {
     "name": "stdout",
     "output_type": "stream",
     "text": [
      "writing file for 3u4w pdb\n"
     ]
    },
    {
     "name": "stderr",
     "output_type": "stream",
     "text": [
      "c:\\Users\\User\\AppData\\Local\\Programs\\Python\\Python37\\lib\\site-packages\\Bio\\PDB\\StructureBuilder.py:92: PDBConstructionWarning: WARNING: Chain A is discontinuous at line 9061.\n",
      "  PDBConstructionWarning,\n",
      "c:\\Users\\User\\AppData\\Local\\Programs\\Python\\Python37\\lib\\site-packages\\Bio\\PDB\\StructureBuilder.py:92: PDBConstructionWarning: WARNING: Chain B is discontinuous at line 9120.\n",
      "  PDBConstructionWarning,\n",
      "c:\\Users\\User\\AppData\\Local\\Programs\\Python\\Python37\\lib\\site-packages\\Bio\\PDB\\StructureBuilder.py:92: PDBConstructionWarning: WARNING: Chain C is discontinuous at line 9181.\n",
      "  PDBConstructionWarning,\n"
     ]
    },
    {
     "name": "stdout",
     "output_type": "stream",
     "text": [
      "writing file for 3u51 pdb\n"
     ]
    },
    {
     "name": "stderr",
     "output_type": "stream",
     "text": [
      "c:\\Users\\User\\AppData\\Local\\Programs\\Python\\Python37\\lib\\site-packages\\Bio\\PDB\\StructureBuilder.py:92: PDBConstructionWarning: WARNING: Chain A is discontinuous at line 9439.\n",
      "  PDBConstructionWarning,\n",
      "c:\\Users\\User\\AppData\\Local\\Programs\\Python\\Python37\\lib\\site-packages\\Bio\\PDB\\StructureBuilder.py:92: PDBConstructionWarning: WARNING: Chain B is discontinuous at line 9475.\n",
      "  PDBConstructionWarning,\n",
      "c:\\Users\\User\\AppData\\Local\\Programs\\Python\\Python37\\lib\\site-packages\\Bio\\PDB\\StructureBuilder.py:92: PDBConstructionWarning: WARNING: Chain A is discontinuous at line 9511.\n",
      "  PDBConstructionWarning,\n",
      "c:\\Users\\User\\AppData\\Local\\Programs\\Python\\Python37\\lib\\site-packages\\Bio\\PDB\\StructureBuilder.py:92: PDBConstructionWarning: WARNING: Chain B is discontinuous at line 9600.\n",
      "  PDBConstructionWarning,\n"
     ]
    },
    {
     "name": "stdout",
     "output_type": "stream",
     "text": [
      "writing file for 3ue4 pdb\n"
     ]
    },
    {
     "name": "stderr",
     "output_type": "stream",
     "text": [
      "c:\\Users\\User\\AppData\\Local\\Programs\\Python\\Python37\\lib\\site-packages\\Bio\\PDB\\StructureBuilder.py:92: PDBConstructionWarning: WARNING: Chain A is discontinuous at line 8838.\n",
      "  PDBConstructionWarning,\n",
      "c:\\Users\\User\\AppData\\Local\\Programs\\Python\\Python37\\lib\\site-packages\\Bio\\PDB\\StructureBuilder.py:92: PDBConstructionWarning: WARNING: Chain B is discontinuous at line 8864.\n",
      "  PDBConstructionWarning,\n",
      "c:\\Users\\User\\AppData\\Local\\Programs\\Python\\Python37\\lib\\site-packages\\Bio\\PDB\\StructureBuilder.py:92: PDBConstructionWarning: WARNING: Chain A is discontinuous at line 8890.\n",
      "  PDBConstructionWarning,\n",
      "c:\\Users\\User\\AppData\\Local\\Programs\\Python\\Python37\\lib\\site-packages\\Bio\\PDB\\StructureBuilder.py:92: PDBConstructionWarning: WARNING: Chain B is discontinuous at line 8930.\n",
      "  PDBConstructionWarning,\n"
     ]
    },
    {
     "name": "stdout",
     "output_type": "stream",
     "text": [
      "writing file for 3uqf pdb\n"
     ]
    },
    {
     "name": "stderr",
     "output_type": "stream",
     "text": [
      "c:\\Users\\User\\AppData\\Local\\Programs\\Python\\Python37\\lib\\site-packages\\Bio\\PDB\\StructureBuilder.py:92: PDBConstructionWarning: WARNING: Chain A is discontinuous at line 8830.\n",
      "  PDBConstructionWarning,\n",
      "c:\\Users\\User\\AppData\\Local\\Programs\\Python\\Python37\\lib\\site-packages\\Bio\\PDB\\StructureBuilder.py:92: PDBConstructionWarning: WARNING: Chain B is discontinuous at line 8847.\n",
      "  PDBConstructionWarning,\n",
      "c:\\Users\\User\\AppData\\Local\\Programs\\Python\\Python37\\lib\\site-packages\\Bio\\PDB\\StructureBuilder.py:92: PDBConstructionWarning: WARNING: Chain A is discontinuous at line 8864.\n",
      "  PDBConstructionWarning,\n",
      "c:\\Users\\User\\AppData\\Local\\Programs\\Python\\Python37\\lib\\site-packages\\Bio\\PDB\\StructureBuilder.py:92: PDBConstructionWarning: WARNING: Chain B is discontinuous at line 8881.\n",
      "  PDBConstructionWarning,\n"
     ]
    },
    {
     "name": "stdout",
     "output_type": "stream",
     "text": [
      "writing file for 3uqg pdb\n"
     ]
    },
    {
     "name": "stderr",
     "output_type": "stream",
     "text": [
      "c:\\Users\\User\\AppData\\Local\\Programs\\Python\\Python37\\lib\\site-packages\\Bio\\PDB\\StructureBuilder.py:92: PDBConstructionWarning: WARNING: Chain A is discontinuous at line 2028.\n",
      "  PDBConstructionWarning,\n",
      "c:\\Users\\User\\AppData\\Local\\Programs\\Python\\Python37\\lib\\site-packages\\Bio\\PDB\\StructureBuilder.py:92: PDBConstructionWarning: WARNING: Chain D is discontinuous at line 2118.\n",
      "  PDBConstructionWarning,\n"
     ]
    },
    {
     "name": "stdout",
     "output_type": "stream",
     "text": [
      "writing file for 3uyo pdb\n"
     ]
    },
    {
     "name": "stderr",
     "output_type": "stream",
     "text": [
      "c:\\Users\\User\\AppData\\Local\\Programs\\Python\\Python37\\lib\\site-packages\\Bio\\PDB\\StructureBuilder.py:92: PDBConstructionWarning: WARNING: Chain A is discontinuous at line 4748.\n",
      "  PDBConstructionWarning,\n",
      "c:\\Users\\User\\AppData\\Local\\Programs\\Python\\Python37\\lib\\site-packages\\Bio\\PDB\\StructureBuilder.py:92: PDBConstructionWarning: WARNING: Chain B is discontinuous at line 4809.\n",
      "  PDBConstructionWarning,\n",
      "c:\\Users\\User\\AppData\\Local\\Programs\\Python\\Python37\\lib\\site-packages\\Bio\\PDB\\StructureBuilder.py:92: PDBConstructionWarning: WARNING: Chain A is discontinuous at line 4864.\n",
      "  PDBConstructionWarning,\n",
      "c:\\Users\\User\\AppData\\Local\\Programs\\Python\\Python37\\lib\\site-packages\\Bio\\PDB\\StructureBuilder.py:92: PDBConstructionWarning: WARNING: Chain B is discontinuous at line 4938.\n",
      "  PDBConstructionWarning,\n"
     ]
    },
    {
     "name": "stdout",
     "output_type": "stream",
     "text": [
      "writing file for 4agw pdb\n"
     ]
    },
    {
     "name": "stderr",
     "output_type": "stream",
     "text": [
      "c:\\Users\\User\\AppData\\Local\\Programs\\Python\\Python37\\lib\\site-packages\\Bio\\PDB\\StructureBuilder.py:92: PDBConstructionWarning: WARNING: Chain A is discontinuous at line 7132.\n",
      "  PDBConstructionWarning,\n",
      "c:\\Users\\User\\AppData\\Local\\Programs\\Python\\Python37\\lib\\site-packages\\Bio\\PDB\\StructureBuilder.py:92: PDBConstructionWarning: WARNING: Chain B is discontinuous at line 7161.\n",
      "  PDBConstructionWarning,\n",
      "c:\\Users\\User\\AppData\\Local\\Programs\\Python\\Python37\\lib\\site-packages\\Bio\\PDB\\StructureBuilder.py:92: PDBConstructionWarning: WARNING: Chain C is discontinuous at line 7190.\n",
      "  PDBConstructionWarning,\n",
      "c:\\Users\\User\\AppData\\Local\\Programs\\Python\\Python37\\lib\\site-packages\\Bio\\PDB\\StructureBuilder.py:92: PDBConstructionWarning: WARNING: Chain A is discontinuous at line 7219.\n",
      "  PDBConstructionWarning,\n",
      "c:\\Users\\User\\AppData\\Local\\Programs\\Python\\Python37\\lib\\site-packages\\Bio\\PDB\\StructureBuilder.py:92: PDBConstructionWarning: WARNING: Chain B is discontinuous at line 7260.\n",
      "  PDBConstructionWarning,\n",
      "c:\\Users\\User\\AppData\\Local\\Programs\\Python\\Python37\\lib\\site-packages\\Bio\\PDB\\StructureBuilder.py:92: PDBConstructionWarning: WARNING: Chain C is discontinuous at line 7291.\n",
      "  PDBConstructionWarning,\n"
     ]
    },
    {
     "name": "stdout",
     "output_type": "stream",
     "text": [
      "writing file for 4aoj pdb\n"
     ]
    },
    {
     "name": "stderr",
     "output_type": "stream",
     "text": [
      "c:\\Users\\User\\AppData\\Local\\Programs\\Python\\Python37\\lib\\site-packages\\Bio\\PDB\\StructureBuilder.py:92: PDBConstructionWarning: WARNING: Chain A is discontinuous at line 8921.\n",
      "  PDBConstructionWarning,\n",
      "c:\\Users\\User\\AppData\\Local\\Programs\\Python\\Python37\\lib\\site-packages\\Bio\\PDB\\StructureBuilder.py:92: PDBConstructionWarning: WARNING: Chain B is discontinuous at line 8953.\n",
      "  PDBConstructionWarning,\n",
      "c:\\Users\\User\\AppData\\Local\\Programs\\Python\\Python37\\lib\\site-packages\\Bio\\PDB\\StructureBuilder.py:92: PDBConstructionWarning: WARNING: Chain A is discontinuous at line 8985.\n",
      "  PDBConstructionWarning,\n",
      "c:\\Users\\User\\AppData\\Local\\Programs\\Python\\Python37\\lib\\site-packages\\Bio\\PDB\\StructureBuilder.py:92: PDBConstructionWarning: WARNING: Chain B is discontinuous at line 8992.\n",
      "  PDBConstructionWarning,\n"
     ]
    },
    {
     "name": "stdout",
     "output_type": "stream",
     "text": [
      "writing file for 4dgg pdb\n"
     ]
    },
    {
     "name": "stderr",
     "output_type": "stream",
     "text": [
      "c:\\Users\\User\\AppData\\Local\\Programs\\Python\\Python37\\lib\\site-packages\\Bio\\PDB\\StructureBuilder.py:92: PDBConstructionWarning: WARNING: Chain A is discontinuous at line 2597.\n",
      "  PDBConstructionWarning,\n",
      "c:\\Users\\User\\AppData\\Local\\Programs\\Python\\Python37\\lib\\site-packages\\Bio\\PDB\\StructureBuilder.py:92: PDBConstructionWarning: WARNING: Chain B is discontinuous at line 2620.\n",
      "  PDBConstructionWarning,\n",
      "c:\\Users\\User\\AppData\\Local\\Programs\\Python\\Python37\\lib\\site-packages\\Bio\\PDB\\StructureBuilder.py:92: PDBConstructionWarning: WARNING: Chain A is discontinuous at line 2630.\n",
      "  PDBConstructionWarning,\n",
      "c:\\Users\\User\\AppData\\Local\\Programs\\Python\\Python37\\lib\\site-packages\\Bio\\PDB\\StructureBuilder.py:92: PDBConstructionWarning: WARNING: Chain B is discontinuous at line 2642.\n",
      "  PDBConstructionWarning,\n"
     ]
    },
    {
     "name": "stdout",
     "output_type": "stream",
     "text": [
      "writing file for 4e6r pdb\n"
     ]
    },
    {
     "name": "stderr",
     "output_type": "stream",
     "text": [
      "c:\\Users\\User\\AppData\\Local\\Programs\\Python\\Python37\\lib\\site-packages\\Bio\\PDB\\StructureBuilder.py:92: PDBConstructionWarning: WARNING: Chain A is discontinuous at line 9683.\n",
      "  PDBConstructionWarning,\n",
      "c:\\Users\\User\\AppData\\Local\\Programs\\Python\\Python37\\lib\\site-packages\\Bio\\PDB\\StructureBuilder.py:92: PDBConstructionWarning: WARNING: Chain B is discontinuous at line 9909.\n",
      "  PDBConstructionWarning,\n"
     ]
    },
    {
     "name": "stdout",
     "output_type": "stream",
     "text": [
      "writing file for 4f0i pdb\n"
     ]
    },
    {
     "name": "stderr",
     "output_type": "stream",
     "text": [
      "c:\\Users\\User\\AppData\\Local\\Programs\\Python\\Python37\\lib\\site-packages\\Bio\\PDB\\StructureBuilder.py:92: PDBConstructionWarning: WARNING: Chain A is discontinuous at line 4472.\n",
      "  PDBConstructionWarning,\n",
      "c:\\Users\\User\\AppData\\Local\\Programs\\Python\\Python37\\lib\\site-packages\\Bio\\PDB\\StructureBuilder.py:92: PDBConstructionWarning: WARNING: Chain B is discontinuous at line 4488.\n",
      "  PDBConstructionWarning,\n",
      "c:\\Users\\User\\AppData\\Local\\Programs\\Python\\Python37\\lib\\site-packages\\Bio\\PDB\\StructureBuilder.py:92: PDBConstructionWarning: WARNING: Chain A is discontinuous at line 4504.\n",
      "  PDBConstructionWarning,\n",
      "c:\\Users\\User\\AppData\\Local\\Programs\\Python\\Python37\\lib\\site-packages\\Bio\\PDB\\StructureBuilder.py:92: PDBConstructionWarning: WARNING: Chain B is discontinuous at line 4553.\n",
      "  PDBConstructionWarning,\n"
     ]
    },
    {
     "name": "stdout",
     "output_type": "stream",
     "text": [
      "writing file for 4fic pdb\n"
     ]
    },
    {
     "name": "stderr",
     "output_type": "stream",
     "text": [
      "c:\\Users\\User\\AppData\\Local\\Programs\\Python\\Python37\\lib\\site-packages\\Bio\\PDB\\StructureBuilder.py:92: PDBConstructionWarning: WARNING: Chain A is discontinuous at line 10187.\n",
      "  PDBConstructionWarning,\n",
      "c:\\Users\\User\\AppData\\Local\\Programs\\Python\\Python37\\lib\\site-packages\\Bio\\PDB\\StructureBuilder.py:92: PDBConstructionWarning: WARNING: Chain B is discontinuous at line 10218.\n",
      "  PDBConstructionWarning,\n",
      "c:\\Users\\User\\AppData\\Local\\Programs\\Python\\Python37\\lib\\site-packages\\Bio\\PDB\\StructureBuilder.py:92: PDBConstructionWarning: WARNING: Chain A is discontinuous at line 10249.\n",
      "  PDBConstructionWarning,\n",
      "c:\\Users\\User\\AppData\\Local\\Programs\\Python\\Python37\\lib\\site-packages\\Bio\\PDB\\StructureBuilder.py:92: PDBConstructionWarning: WARNING: Chain B is discontinuous at line 10275.\n",
      "  PDBConstructionWarning,\n"
     ]
    },
    {
     "name": "stdout",
     "output_type": "stream",
     "text": [
      "writing file for 4fif pdb\n"
     ]
    },
    {
     "name": "stderr",
     "output_type": "stream",
     "text": [
      "c:\\Users\\User\\AppData\\Local\\Programs\\Python\\Python37\\lib\\site-packages\\Bio\\PDB\\StructureBuilder.py:92: PDBConstructionWarning: WARNING: Chain A is discontinuous at line 9985.\n",
      "  PDBConstructionWarning,\n",
      "c:\\Users\\User\\AppData\\Local\\Programs\\Python\\Python37\\lib\\site-packages\\Bio\\PDB\\StructureBuilder.py:92: PDBConstructionWarning: WARNING: Chain B is discontinuous at line 10017.\n",
      "  PDBConstructionWarning,\n",
      "c:\\Users\\User\\AppData\\Local\\Programs\\Python\\Python37\\lib\\site-packages\\Bio\\PDB\\StructureBuilder.py:92: PDBConstructionWarning: WARNING: Chain A is discontinuous at line 10049.\n",
      "  PDBConstructionWarning,\n",
      "c:\\Users\\User\\AppData\\Local\\Programs\\Python\\Python37\\lib\\site-packages\\Bio\\PDB\\StructureBuilder.py:92: PDBConstructionWarning: WARNING: Chain B is discontinuous at line 10058.\n",
      "  PDBConstructionWarning,\n"
     ]
    },
    {
     "name": "stdout",
     "output_type": "stream",
     "text": [
      "writing file for 4fig pdb\n",
      "writing file for 4fih pdb\n"
     ]
    },
    {
     "name": "stderr",
     "output_type": "stream",
     "text": [
      "c:\\Users\\User\\AppData\\Local\\Programs\\Python\\Python37\\lib\\site-packages\\Bio\\PDB\\StructureBuilder.py:92: PDBConstructionWarning: WARNING: Chain A is discontinuous at line 5302.\n",
      "  PDBConstructionWarning,\n",
      "c:\\Users\\User\\AppData\\Local\\Programs\\Python\\Python37\\lib\\site-packages\\Bio\\PDB\\StructureBuilder.py:92: PDBConstructionWarning: WARNING: Chain B is discontinuous at line 5461.\n",
      "  PDBConstructionWarning,\n"
     ]
    },
    {
     "name": "stdout",
     "output_type": "stream",
     "text": [
      "writing file for 4fii pdb\n",
      "writing file for 4fij pdb\n"
     ]
    },
    {
     "name": "stderr",
     "output_type": "stream",
     "text": [
      "c:\\Users\\User\\AppData\\Local\\Programs\\Python\\Python37\\lib\\site-packages\\Bio\\PDB\\StructureBuilder.py:92: PDBConstructionWarning: WARNING: Chain A is discontinuous at line 2692.\n",
      "  PDBConstructionWarning,\n",
      "c:\\Users\\User\\AppData\\Local\\Programs\\Python\\Python37\\lib\\site-packages\\Bio\\PDB\\StructureBuilder.py:92: PDBConstructionWarning: WARNING: Chain B is discontinuous at line 2851.\n",
      "  PDBConstructionWarning,\n"
     ]
    },
    {
     "name": "stdout",
     "output_type": "stream",
     "text": [
      "writing file for 4fz3 pdb\n",
      "writing file for 4g2w pdb\n",
      "writing file for 4g2y pdb\n",
      "writing file for 4gt5 pdb\n"
     ]
    },
    {
     "name": "stderr",
     "output_type": "stream",
     "text": [
      "c:\\Users\\User\\AppData\\Local\\Programs\\Python\\Python37\\lib\\site-packages\\Bio\\PDB\\StructureBuilder.py:92: PDBConstructionWarning: WARNING: Chain A is discontinuous at line 1989.\n",
      "  PDBConstructionWarning,\n",
      "c:\\Users\\User\\AppData\\Local\\Programs\\Python\\Python37\\lib\\site-packages\\Bio\\PDB\\StructureBuilder.py:92: PDBConstructionWarning: WARNING: Chain B is discontinuous at line 2005.\n",
      "  PDBConstructionWarning,\n",
      "c:\\Users\\User\\AppData\\Local\\Programs\\Python\\Python37\\lib\\site-packages\\Bio\\PDB\\StructureBuilder.py:92: PDBConstructionWarning: WARNING: Chain A is discontinuous at line 2011.\n",
      "  PDBConstructionWarning,\n",
      "c:\\Users\\User\\AppData\\Local\\Programs\\Python\\Python37\\lib\\site-packages\\Bio\\PDB\\StructureBuilder.py:92: PDBConstructionWarning: WARNING: Chain B is discontinuous at line 2161.\n",
      "  PDBConstructionWarning,\n"
     ]
    },
    {
     "name": "stdout",
     "output_type": "stream",
     "text": [
      "writing file for 4hvu pdb\n"
     ]
    },
    {
     "name": "stderr",
     "output_type": "stream",
     "text": [
      "c:\\Users\\User\\AppData\\Local\\Programs\\Python\\Python37\\lib\\site-packages\\Bio\\PDB\\StructureBuilder.py:92: PDBConstructionWarning: WARNING: Chain A is discontinuous at line 1944.\n",
      "  PDBConstructionWarning,\n",
      "c:\\Users\\User\\AppData\\Local\\Programs\\Python\\Python37\\lib\\site-packages\\Bio\\PDB\\StructureBuilder.py:92: PDBConstructionWarning: WARNING: Chain B is discontinuous at line 2074.\n",
      "  PDBConstructionWarning,\n"
     ]
    },
    {
     "name": "stdout",
     "output_type": "stream",
     "text": [
      "writing file for 4hvv pdb\n"
     ]
    },
    {
     "name": "stderr",
     "output_type": "stream",
     "text": [
      "c:\\Users\\User\\AppData\\Local\\Programs\\Python\\Python37\\lib\\site-packages\\Bio\\PDB\\StructureBuilder.py:92: PDBConstructionWarning: WARNING: Chain A is discontinuous at line 2248.\n",
      "  PDBConstructionWarning,\n",
      "c:\\Users\\User\\AppData\\Local\\Programs\\Python\\Python37\\lib\\site-packages\\Bio\\PDB\\StructureBuilder.py:92: PDBConstructionWarning: WARNING: Chain B is discontinuous at line 2254.\n",
      "  PDBConstructionWarning,\n",
      "c:\\Users\\User\\AppData\\Local\\Programs\\Python\\Python37\\lib\\site-packages\\Bio\\PDB\\StructureBuilder.py:92: PDBConstructionWarning: WARNING: Chain A is discontinuous at line 2264.\n",
      "  PDBConstructionWarning,\n",
      "c:\\Users\\User\\AppData\\Local\\Programs\\Python\\Python37\\lib\\site-packages\\Bio\\PDB\\StructureBuilder.py:92: PDBConstructionWarning: WARNING: Chain B is discontinuous at line 2386.\n",
      "  PDBConstructionWarning,\n"
     ]
    },
    {
     "name": "stdout",
     "output_type": "stream",
     "text": [
      "writing file for 4hvw pdb\n"
     ]
    },
    {
     "ename": "KeyboardInterrupt",
     "evalue": "",
     "output_type": "error",
     "traceback": [
      "\u001b[1;31m---------------------------------------------------------------------------\u001b[0m",
      "\u001b[1;31mKeyboardInterrupt\u001b[0m                         Traceback (most recent call last)",
      "\u001b[1;32m<ipython-input-43-f633eb4383c7>\u001b[0m in \u001b[0;36m<module>\u001b[1;34m\u001b[0m\n\u001b[1;32m----> 1\u001b[1;33m \u001b[0mdistances_all_atoms\u001b[0m\u001b[1;33m(\u001b[0m\u001b[1;34m'../raw_data/pdb_files/'\u001b[0m\u001b[1;33m,\u001b[0m \u001b[0muniprot_pdb\u001b[0m\u001b[1;33m,\u001b[0m \u001b[0moutput\u001b[0m\u001b[1;33m=\u001b[0m \u001b[1;34m'../datasets/distances/dataframes/'\u001b[0m\u001b[1;33m)\u001b[0m\u001b[1;33m\u001b[0m\u001b[1;33m\u001b[0m\u001b[0m\n\u001b[0m",
      "\u001b[1;32m<ipython-input-42-02717769c509>\u001b[0m in \u001b[0;36mdistances_all_atoms\u001b[1;34m(path, uniprot_pdb, output)\u001b[0m\n\u001b[0;32m     31\u001b[0m \u001b[1;33m\u001b[0m\u001b[0m\n\u001b[0;32m     32\u001b[0m                 \u001b[1;31m# calculate distance\u001b[0m\u001b[1;33m\u001b[0m\u001b[1;33m\u001b[0m\u001b[1;33m\u001b[0m\u001b[0m\n\u001b[1;32m---> 33\u001b[1;33m                 \u001b[0mdist\u001b[0m \u001b[1;33m=\u001b[0m \u001b[0mdistances\u001b[0m\u001b[1;33m.\u001b[0m\u001b[0mcalculate_distances\u001b[0m\u001b[1;33m(\u001b[0m\u001b[0mpdb_source\u001b[0m\u001b[1;33m=\u001b[0m \u001b[0mf\u001b[0m\u001b[1;33m,\u001b[0m \u001b[0matom_selector\u001b[0m\u001b[1;33m=\u001b[0m \u001b[0mall_atoms_selector\u001b[0m\u001b[1;33m,\u001b[0m \u001b[0minclude_extra_info\u001b[0m\u001b[1;33m=\u001b[0m \u001b[1;32mTrue\u001b[0m\u001b[1;33m)\u001b[0m\u001b[1;33m\u001b[0m\u001b[1;33m\u001b[0m\u001b[0m\n\u001b[0m\u001b[0;32m     34\u001b[0m                 \u001b[1;31m#filename = filename.strip(\"pdb.ent\") # pdb accesion\u001b[0m\u001b[1;33m\u001b[0m\u001b[1;33m\u001b[0m\u001b[1;33m\u001b[0m\u001b[0m\n\u001b[0;32m     35\u001b[0m                 \u001b[1;31m#distances.save_distances(dist, outfile= \"../datasets/distances/\" + str(filename)  + \".pdb\")\u001b[0m\u001b[1;33m\u001b[0m\u001b[1;33m\u001b[0m\u001b[1;33m\u001b[0m\u001b[0m\n",
      "\u001b[1;32mu:\\cis-reg\\scripts\\distances.py\u001b[0m in \u001b[0;36mcalculate_distances\u001b[1;34m(pdb_source, atom_selector, include_extra_info)\u001b[0m\n\u001b[0;32m    243\u001b[0m             \u001b[1;32mif\u001b[0m \u001b[1;32mnot\u001b[0m \u001b[0mres1\u001b[0m \u001b[1;32mis\u001b[0m \u001b[0mres2\u001b[0m\u001b[1;33m:\u001b[0m\u001b[1;33m\u001b[0m\u001b[1;33m\u001b[0m\u001b[0m\n\u001b[0;32m    244\u001b[0m                 min_res_data = _shorter_distance_between_residues(\n\u001b[1;32m--> 245\u001b[1;33m                     res1, res2, chain1, chain2, atom_selector)\n\u001b[0m\u001b[0;32m    246\u001b[0m             \u001b[1;32mif\u001b[0m \u001b[0mmin_res_data\u001b[0m\u001b[1;33m:\u001b[0m\u001b[1;33m\u001b[0m\u001b[1;33m\u001b[0m\u001b[0m\n\u001b[0;32m    247\u001b[0m                 \u001b[1;32mif\u001b[0m \u001b[0minclude_extra_info\u001b[0m\u001b[1;33m:\u001b[0m\u001b[1;33m\u001b[0m\u001b[1;33m\u001b[0m\u001b[0m\n",
      "\u001b[1;32mu:\\cis-reg\\scripts\\distances.py\u001b[0m in \u001b[0;36m_shorter_distance_between_residues\u001b[1;34m(res1, res2, chain1, chain2, atom_selector)\u001b[0m\n\u001b[0;32m    209\u001b[0m     \u001b[1;32mfor\u001b[0m \u001b[0matom1\u001b[0m\u001b[1;33m,\u001b[0m \u001b[0matom2\u001b[0m \u001b[1;32min\u001b[0m \u001b[0mproduct\u001b[0m\u001b[1;33m(\u001b[0m\u001b[0mres1\u001b[0m\u001b[1;33m,\u001b[0m \u001b[0mres2\u001b[0m\u001b[1;33m)\u001b[0m\u001b[1;33m:\u001b[0m\u001b[1;33m\u001b[0m\u001b[1;33m\u001b[0m\u001b[0m\n\u001b[0;32m    210\u001b[0m         \u001b[1;32mif\u001b[0m \u001b[1;32mnot\u001b[0m \u001b[0matom1\u001b[0m\u001b[1;33m.\u001b[0m\u001b[0mid\u001b[0m\u001b[1;33m.\u001b[0m\u001b[0mstartswith\u001b[0m\u001b[1;33m(\u001b[0m\u001b[1;34m'H'\u001b[0m\u001b[1;33m)\u001b[0m \u001b[1;32mand\u001b[0m \u001b[1;32mnot\u001b[0m \u001b[0matom2\u001b[0m\u001b[1;33m.\u001b[0m\u001b[0mid\u001b[0m\u001b[1;33m.\u001b[0m\u001b[0mstartswith\u001b[0m\u001b[1;33m(\u001b[0m\u001b[1;34m'H'\u001b[0m\u001b[1;33m)\u001b[0m \u001b[1;32mand\u001b[0m \u001b[0matom_selector\u001b[0m\u001b[1;33m(\u001b[0m\u001b[0matom1\u001b[0m\u001b[1;33m,\u001b[0m \u001b[0matom2\u001b[0m\u001b[1;33m)\u001b[0m\u001b[1;33m:\u001b[0m\u001b[1;33m\u001b[0m\u001b[1;33m\u001b[0m\u001b[0m\n\u001b[1;32m--> 211\u001b[1;33m             \u001b[0mdist\u001b[0m \u001b[1;33m=\u001b[0m \u001b[0matom1\u001b[0m\u001b[1;33m-\u001b[0m\u001b[0matom2\u001b[0m\u001b[1;33m\u001b[0m\u001b[1;33m\u001b[0m\u001b[0m\n\u001b[0m\u001b[0;32m    212\u001b[0m             \u001b[1;32mif\u001b[0m \u001b[0mdist\u001b[0m \u001b[1;33m<\u001b[0m \u001b[0mmin_dist\u001b[0m\u001b[1;33m:\u001b[0m\u001b[1;33m\u001b[0m\u001b[1;33m\u001b[0m\u001b[0m\n\u001b[0;32m    213\u001b[0m                 \u001b[0mmin_dist\u001b[0m \u001b[1;33m=\u001b[0m \u001b[0mdist\u001b[0m\u001b[1;33m\u001b[0m\u001b[1;33m\u001b[0m\u001b[0m\n",
      "\u001b[1;32mc:\\Users\\User\\AppData\\Local\\Programs\\Python\\Python37\\lib\\site-packages\\Bio\\PDB\\Atom.py\u001b[0m in \u001b[0;36m__sub__\u001b[1;34m(self, other)\u001b[0m\n\u001b[0;32m    261\u001b[0m         \"\"\"\n\u001b[0;32m    262\u001b[0m         \u001b[0mdiff\u001b[0m \u001b[1;33m=\u001b[0m \u001b[0mself\u001b[0m\u001b[1;33m.\u001b[0m\u001b[0mcoord\u001b[0m \u001b[1;33m-\u001b[0m \u001b[0mother\u001b[0m\u001b[1;33m.\u001b[0m\u001b[0mcoord\u001b[0m\u001b[1;33m\u001b[0m\u001b[1;33m\u001b[0m\u001b[0m\n\u001b[1;32m--> 263\u001b[1;33m         \u001b[1;32mreturn\u001b[0m \u001b[0mnp\u001b[0m\u001b[1;33m.\u001b[0m\u001b[0msqrt\u001b[0m\u001b[1;33m(\u001b[0m\u001b[0mnp\u001b[0m\u001b[1;33m.\u001b[0m\u001b[0mdot\u001b[0m\u001b[1;33m(\u001b[0m\u001b[0mdiff\u001b[0m\u001b[1;33m,\u001b[0m \u001b[0mdiff\u001b[0m\u001b[1;33m)\u001b[0m\u001b[1;33m)\u001b[0m\u001b[1;33m\u001b[0m\u001b[1;33m\u001b[0m\u001b[0m\n\u001b[0m\u001b[0;32m    264\u001b[0m \u001b[1;33m\u001b[0m\u001b[0m\n\u001b[0;32m    265\u001b[0m     \u001b[1;31m# set methods\u001b[0m\u001b[1;33m\u001b[0m\u001b[1;33m\u001b[0m\u001b[1;33m\u001b[0m\u001b[0m\n",
      "\u001b[1;32m<__array_function__ internals>\u001b[0m in \u001b[0;36mdot\u001b[1;34m(*args, **kwargs)\u001b[0m\n",
      "\u001b[1;31mKeyboardInterrupt\u001b[0m: "
     ]
    }
   ],
   "source": [
    "distances_all_atoms('../raw_data/pdb_files/', uniprot_pdb, output= '../datasets/distances/dataframes/')"
   ]
  },
  {
   "cell_type": "code",
   "execution_count": 12,
   "metadata": {},
   "outputs": [
    {
     "data": {
      "text/html": [
       "<div>\n",
       "<style scoped>\n",
       "    .dataframe tbody tr th:only-of-type {\n",
       "        vertical-align: middle;\n",
       "    }\n",
       "\n",
       "    .dataframe tbody tr th {\n",
       "        vertical-align: top;\n",
       "    }\n",
       "\n",
       "    .dataframe thead th {\n",
       "        text-align: right;\n",
       "    }\n",
       "</style>\n",
       "<table border=\"1\" class=\"dataframe\">\n",
       "  <thead>\n",
       "    <tr style=\"text-align: right;\">\n",
       "      <th></th>\n",
       "      <th>pdb</th>\n",
       "      <th>chain</th>\n",
       "      <th>sp_primary</th>\n",
       "      <th>pdb_beg</th>\n",
       "      <th>pdb_end</th>\n",
       "      <th>sp_beg</th>\n",
       "      <th>sp_end</th>\n",
       "    </tr>\n",
       "  </thead>\n",
       "  <tbody>\n",
       "    <tr>\n",
       "      <th>0</th>\n",
       "      <td>1wfc</td>\n",
       "      <td>A</td>\n",
       "      <td>Q16539</td>\n",
       "      <td>5</td>\n",
       "      <td>13</td>\n",
       "      <td>5</td>\n",
       "      <td>13</td>\n",
       "    </tr>\n",
       "    <tr>\n",
       "      <th>1</th>\n",
       "      <td>1wfc</td>\n",
       "      <td>A</td>\n",
       "      <td>Q16539</td>\n",
       "      <td>16</td>\n",
       "      <td>169</td>\n",
       "      <td>16</td>\n",
       "      <td>169</td>\n",
       "    </tr>\n",
       "    <tr>\n",
       "      <th>2</th>\n",
       "      <td>1wfc</td>\n",
       "      <td>A</td>\n",
       "      <td>Q16539</td>\n",
       "      <td>175</td>\n",
       "      <td>351</td>\n",
       "      <td>175</td>\n",
       "      <td>351</td>\n",
       "    </tr>\n",
       "    <tr>\n",
       "      <th>3</th>\n",
       "      <td>6aek</td>\n",
       "      <td>A</td>\n",
       "      <td>P06802</td>\n",
       "      <td>170</td>\n",
       "      <td>620</td>\n",
       "      <td>170</td>\n",
       "      <td>620</td>\n",
       "    </tr>\n",
       "    <tr>\n",
       "      <th>4</th>\n",
       "      <td>6aek</td>\n",
       "      <td>A</td>\n",
       "      <td>P06802</td>\n",
       "      <td>629</td>\n",
       "      <td>629</td>\n",
       "      <td>629</td>\n",
       "      <td>629</td>\n",
       "    </tr>\n",
       "    <tr>\n",
       "      <th>...</th>\n",
       "      <td>...</td>\n",
       "      <td>...</td>\n",
       "      <td>...</td>\n",
       "      <td>...</td>\n",
       "      <td>...</td>\n",
       "      <td>...</td>\n",
       "      <td>...</td>\n",
       "    </tr>\n",
       "    <tr>\n",
       "      <th>960081</th>\n",
       "      <td>7liw</td>\n",
       "      <td>B</td>\n",
       "      <td>P53396</td>\n",
       "      <td>2</td>\n",
       "      <td>139</td>\n",
       "      <td>2</td>\n",
       "      <td>139</td>\n",
       "    </tr>\n",
       "    <tr>\n",
       "      <th>960082</th>\n",
       "      <td>7liw</td>\n",
       "      <td>B</td>\n",
       "      <td>P53396</td>\n",
       "      <td>149</td>\n",
       "      <td>431</td>\n",
       "      <td>149</td>\n",
       "      <td>431</td>\n",
       "    </tr>\n",
       "    <tr>\n",
       "      <th>960083</th>\n",
       "      <td>7liw</td>\n",
       "      <td>B</td>\n",
       "      <td>P53396</td>\n",
       "      <td>487</td>\n",
       "      <td>1099</td>\n",
       "      <td>487</td>\n",
       "      <td>1099</td>\n",
       "    </tr>\n",
       "    <tr>\n",
       "      <th>960084</th>\n",
       "      <td>7liw</td>\n",
       "      <td>C</td>\n",
       "      <td>P53396</td>\n",
       "      <td>821</td>\n",
       "      <td>1099</td>\n",
       "      <td>821</td>\n",
       "      <td>1099</td>\n",
       "    </tr>\n",
       "    <tr>\n",
       "      <th>960085</th>\n",
       "      <td>7liw</td>\n",
       "      <td>D</td>\n",
       "      <td>P53396</td>\n",
       "      <td>821</td>\n",
       "      <td>1099</td>\n",
       "      <td>821</td>\n",
       "      <td>1099</td>\n",
       "    </tr>\n",
       "  </tbody>\n",
       "</table>\n",
       "<p>960086 rows × 7 columns</p>\n",
       "</div>"
      ],
      "text/plain": [
       "         pdb chain sp_primary pdb_beg pdb_end  sp_beg  sp_end\n",
       "0       1wfc     A     Q16539       5      13       5      13\n",
       "1       1wfc     A     Q16539      16     169      16     169\n",
       "2       1wfc     A     Q16539     175     351     175     351\n",
       "3       6aek     A     P06802     170     620     170     620\n",
       "4       6aek     A     P06802     629     629     629     629\n",
       "...      ...   ...        ...     ...     ...     ...     ...\n",
       "960081  7liw     B     P53396       2     139       2     139\n",
       "960082  7liw     B     P53396     149     431     149     431\n",
       "960083  7liw     B     P53396     487    1099     487    1099\n",
       "960084  7liw     C     P53396     821    1099     821    1099\n",
       "960085  7liw     D     P53396     821    1099     821    1099\n",
       "\n",
       "[960086 rows x 7 columns]"
      ]
     },
     "execution_count": 12,
     "metadata": {},
     "output_type": "execute_result"
    }
   ],
   "source": [
    "# Mapping SIFT positions in PDB and positions in UniProt\n",
    "mapping = pd.read_csv('../raw_data/uniprot_segments_observed.tsv.gz', sep= '\\t', compression= 'gzip', skiprows= 1)\n",
    "mapping.columns = mapping.columns.str.lower().str.replace(\" \", \"_\")\n",
    "mapping = mapping[['pdb', 'chain', 'sp_primary', 'pdb_beg', 'pdb_end', 'sp_beg', 'sp_end']]\n",
    "mapping"
   ]
  },
  {
   "cell_type": "code",
   "execution_count": 13,
   "metadata": {},
   "outputs": [
    {
     "data": {
      "text/html": [
       "<div>\n",
       "<style scoped>\n",
       "    .dataframe tbody tr th:only-of-type {\n",
       "        vertical-align: middle;\n",
       "    }\n",
       "\n",
       "    .dataframe tbody tr th {\n",
       "        vertical-align: top;\n",
       "    }\n",
       "\n",
       "    .dataframe thead th {\n",
       "        text-align: right;\n",
       "    }\n",
       "</style>\n",
       "<table border=\"1\" class=\"dataframe\">\n",
       "  <thead>\n",
       "    <tr style=\"text-align: right;\">\n",
       "      <th></th>\n",
       "      <th>pdb</th>\n",
       "      <th>chain</th>\n",
       "      <th>sp_primary</th>\n",
       "      <th>pdb_beg</th>\n",
       "      <th>pdb_end</th>\n",
       "      <th>sp_beg</th>\n",
       "      <th>sp_end</th>\n",
       "    </tr>\n",
       "  </thead>\n",
       "  <tbody>\n",
       "    <tr>\n",
       "      <th>12448</th>\n",
       "      <td>6yp3</td>\n",
       "      <td>A</td>\n",
       "      <td>P31947</td>\n",
       "      <td>1</td>\n",
       "      <td>231</td>\n",
       "      <td>1</td>\n",
       "      <td>231</td>\n",
       "    </tr>\n",
       "    <tr>\n",
       "      <th>12449</th>\n",
       "      <td>6yp3</td>\n",
       "      <td>P</td>\n",
       "      <td>Q04206</td>\n",
       "      <td>43</td>\n",
       "      <td>51</td>\n",
       "      <td>43</td>\n",
       "      <td>51</td>\n",
       "    </tr>\n",
       "  </tbody>\n",
       "</table>\n",
       "</div>"
      ],
      "text/plain": [
       "        pdb chain sp_primary pdb_beg pdb_end  sp_beg  sp_end\n",
       "12448  6yp3     A     P31947       1     231       1     231\n",
       "12449  6yp3     P     Q04206      43      51      43      51"
      ]
     },
     "execution_count": 13,
     "metadata": {},
     "output_type": "execute_result"
    }
   ],
   "source": [
    "mapping[mapping.pdb == '6yp3']"
   ]
  },
  {
   "cell_type": "code",
   "execution_count": 34,
   "metadata": {},
   "outputs": [
    {
     "name": "stdout",
     "output_type": "stream",
     "text": [
      "O08967_1fgy.csv\n",
      "../datasets/distances/dataframes/O08967_1fgy.csv\n",
      "O08967\n",
      "1fgy\n",
      "----------\n",
      "O08967_1fgz.csv\n",
      "../datasets/distances/dataframes/O08967_1fgz.csv\n",
      "O08967\n",
      "1fgz\n",
      "----------\n",
      "O08967_1fhw.csv\n",
      "../datasets/distances/dataframes/O08967_1fhw.csv\n",
      "O08967\n",
      "1fhw\n",
      "----------\n",
      "O08967_1fhx.csv\n",
      "../datasets/distances/dataframes/O08967_1fhx.csv\n",
      "O08967\n",
      "1fhx\n",
      "----------\n",
      "O14745_1g9o.csv\n",
      "../datasets/distances/dataframes/O14745_1g9o.csv\n",
      "O14745\n",
      "1g9o\n",
      "----------\n",
      "O14745_1gq4.csv\n",
      "../datasets/distances/dataframes/O14745_1gq4.csv\n",
      "O14745\n",
      "1gq4\n",
      "----------\n",
      "O14745_1gq5.csv\n",
      "../datasets/distances/dataframes/O14745_1gq5.csv\n",
      "O14745\n",
      "1gq5\n",
      "----------\n",
      "O14745_1i92.csv\n",
      "../datasets/distances/dataframes/O14745_1i92.csv\n",
      "O14745\n",
      "1i92\n",
      "----------\n",
      "O14745_1sgh.csv\n",
      "../datasets/distances/dataframes/O14745_1sgh.csv\n",
      "O14745\n",
      "1sgh\n",
      "----------\n",
      "P00519_1ab2.csv\n",
      "../datasets/distances/dataframes/P00519_1ab2.csv\n",
      "P00519\n",
      "1ab2\n",
      "----------\n",
      "P00519_1awo.csv\n",
      "../datasets/distances/dataframes/P00519_1awo.csv\n",
      "P00519\n",
      "1awo\n",
      "----------\n",
      "P00519_1bbz.csv\n",
      "../datasets/distances/dataframes/P00519_1bbz.csv\n",
      "P00519\n",
      "1bbz\n",
      "----------\n",
      "P00519_1ju5.csv\n",
      "../datasets/distances/dataframes/P00519_1ju5.csv\n",
      "P00519\n",
      "1ju5\n",
      "----------\n",
      "P00519_1opl.csv\n",
      "../datasets/distances/dataframes/P00519_1opl.csv\n",
      "P00519\n",
      "1opl\n",
      "----------\n",
      "P00523_1f1w.csv\n",
      "../datasets/distances/dataframes/P00523_1f1w.csv\n",
      "P00523\n",
      "1f1w\n",
      "----------\n",
      "P00523_1f2f.csv\n",
      "../datasets/distances/dataframes/P00523_1f2f.csv\n",
      "P00523\n",
      "1f2f\n",
      "----------\n",
      "P00523_1nlo.csv\n",
      "../datasets/distances/dataframes/P00523_1nlo.csv\n",
      "P00523\n",
      "1nlo\n",
      "----------\n",
      "P00523_1p13.csv\n",
      "../datasets/distances/dataframes/P00523_1p13.csv\n",
      "P00523\n",
      "1p13\n",
      "----------\n",
      "P00523_1prl.csv\n",
      "../datasets/distances/dataframes/P00523_1prl.csv\n",
      "P00523\n",
      "1prl\n",
      "----------\n",
      "P00523_1prm.csv\n",
      "../datasets/distances/dataframes/P00523_1prm.csv\n",
      "P00523\n",
      "1prm\n",
      "----------\n",
      "P00523_1rlq.csv\n",
      "../datasets/distances/dataframes/P00523_1rlq.csv\n",
      "P00523\n",
      "1rlq\n",
      "----------\n",
      "P00782_1a2q.csv\n",
      "../datasets/distances/dataframes/P00782_1a2q.csv\n",
      "P00782\n",
      "1a2q\n",
      "----------\n",
      "P00782_1ak9.csv\n",
      "../datasets/distances/dataframes/P00782_1ak9.csv\n",
      "P00782\n",
      "1ak9\n",
      "----------\n",
      "P00782_1au9.csv\n",
      "../datasets/distances/dataframes/P00782_1au9.csv\n",
      "P00782\n",
      "1au9\n",
      "----------\n",
      "P00782_1dui.csv\n",
      "../datasets/distances/dataframes/P00782_1dui.csv\n",
      "P00782\n",
      "1dui\n",
      "----------\n",
      "P00782_1gns.csv\n",
      "../datasets/distances/dataframes/P00782_1gns.csv\n",
      "P00782\n",
      "1gn\n",
      "----------\n",
      "P00782_1gnv.csv\n",
      "../datasets/distances/dataframes/P00782_1gnv.csv\n",
      "P00782\n",
      "1gn\n",
      "----------\n",
      "P00782_1lw6.csv\n",
      "../datasets/distances/dataframes/P00782_1lw6.csv\n",
      "P00782\n",
      "1lw6\n",
      "----------\n",
      "P00782_1s01.csv\n",
      "../datasets/distances/dataframes/P00782_1s01.csv\n",
      "P00782\n",
      "1s01\n",
      "----------\n",
      "P00782_1s02.csv\n",
      "../datasets/distances/dataframes/P00782_1s02.csv\n",
      "P00782\n",
      "1s02\n",
      "----------\n",
      "P00782_1sbh.csv\n",
      "../datasets/distances/dataframes/P00782_1sbh.csv\n",
      "P00782\n",
      "1sbh\n",
      "----------\n",
      "P00782_1sbi.csv\n",
      "../datasets/distances/dataframes/P00782_1sbi.csv\n",
      "P00782\n",
      "1sbi\n",
      "----------\n",
      "P04629_1he7.csv\n",
      "../datasets/distances/dataframes/P04629_1he7.csv\n",
      "P04629\n",
      "1he7\n",
      "----------\n",
      "P04629_1shc.csv\n",
      "../datasets/distances/dataframes/P04629_1shc.csv\n",
      "P04629\n",
      "1sh\n",
      "----------\n"
     ]
    }
   ],
   "source": [
    "path = '../datasets/distances/dataframes/'\n",
    "    # iterate over the distances files\n",
    "for filename in os.listdir(path):\n",
    "    \n",
    "    print(filename)\n",
    "    f = os.path.join(path, filename)\n",
    "    #print(f)\n",
    "    if os.path.isfile(f):\n",
    "        print(f)\n",
    "        l = filename.strip('.csv').split(\"_\")\n",
    "        uniprot, pdb = l[0], l[1]\n",
    "        #pdb = l[1]\n",
    "\n",
    "        #df = pd.read_csv(f)\n",
    "\n",
    "        # Map for each df the catalytic sites\n",
    "\n",
    "        # print(uniprot)\n",
    "        # print(pdb)\n",
    "        # print('----------')\n",
    "\n",
    "        df = pd.read_csv(f).merge(cat_sites, how= 'left')\n",
    "        df[\"cs\"] = df.pos_a == df.cs\n",
    "        if df.cs.sum().any():\n",
    "            x = df[df.cs == True]\n",
    "        x"
   ]
  },
  {
   "cell_type": "code",
   "execution_count": 14,
   "metadata": {},
   "outputs": [
    {
     "data": {
      "text/html": [
       "<div>\n",
       "<style scoped>\n",
       "    .dataframe tbody tr th:only-of-type {\n",
       "        vertical-align: middle;\n",
       "    }\n",
       "\n",
       "    .dataframe tbody tr th {\n",
       "        vertical-align: top;\n",
       "    }\n",
       "\n",
       "    .dataframe thead th {\n",
       "        text-align: right;\n",
       "    }\n",
       "</style>\n",
       "<table border=\"1\" class=\"dataframe\">\n",
       "  <thead>\n",
       "    <tr style=\"text-align: right;\">\n",
       "      <th></th>\n",
       "      <th>chain_a</th>\n",
       "      <th>pos_a</th>\n",
       "      <th>aa_a</th>\n",
       "      <th>atom_a</th>\n",
       "      <th>chain_b</th>\n",
       "      <th>pos_b</th>\n",
       "      <th>aa_b</th>\n",
       "      <th>atom_b</th>\n",
       "      <th>dist</th>\n",
       "      <th>uniprot</th>\n",
       "      <th>pdb</th>\n",
       "      <th>pos</th>\n",
       "    </tr>\n",
       "  </thead>\n",
       "  <tbody>\n",
       "    <tr>\n",
       "      <th>0</th>\n",
       "      <td>C</td>\n",
       "      <td>9</td>\n",
       "      <td>THR</td>\n",
       "      <td>CA</td>\n",
       "      <td>C</td>\n",
       "      <td>10</td>\n",
       "      <td>PHE</td>\n",
       "      <td>CA</td>\n",
       "      <td>3.823854</td>\n",
       "      <td>P00523</td>\n",
       "      <td>1nlo</td>\n",
       "      <td>False</td>\n",
       "    </tr>\n",
       "    <tr>\n",
       "      <th>1</th>\n",
       "      <td>C</td>\n",
       "      <td>9</td>\n",
       "      <td>THR</td>\n",
       "      <td>CA</td>\n",
       "      <td>C</td>\n",
       "      <td>32</td>\n",
       "      <td>LEU</td>\n",
       "      <td>CA</td>\n",
       "      <td>5.953827</td>\n",
       "      <td>P00523</td>\n",
       "      <td>1nlo</td>\n",
       "      <td>False</td>\n",
       "    </tr>\n",
       "    <tr>\n",
       "      <th>2</th>\n",
       "      <td>C</td>\n",
       "      <td>9</td>\n",
       "      <td>THR</td>\n",
       "      <td>CA</td>\n",
       "      <td>C</td>\n",
       "      <td>33</td>\n",
       "      <td>GLN</td>\n",
       "      <td>CA</td>\n",
       "      <td>5.008291</td>\n",
       "      <td>P00523</td>\n",
       "      <td>1nlo</td>\n",
       "      <td>False</td>\n",
       "    </tr>\n",
       "    <tr>\n",
       "      <th>3</th>\n",
       "      <td>C</td>\n",
       "      <td>10</td>\n",
       "      <td>PHE</td>\n",
       "      <td>CA</td>\n",
       "      <td>C</td>\n",
       "      <td>11</td>\n",
       "      <td>VAL</td>\n",
       "      <td>CA</td>\n",
       "      <td>3.828712</td>\n",
       "      <td>P00523</td>\n",
       "      <td>1nlo</td>\n",
       "      <td>False</td>\n",
       "    </tr>\n",
       "    <tr>\n",
       "      <th>4</th>\n",
       "      <td>C</td>\n",
       "      <td>10</td>\n",
       "      <td>PHE</td>\n",
       "      <td>CA</td>\n",
       "      <td>C</td>\n",
       "      <td>31</td>\n",
       "      <td>ARG</td>\n",
       "      <td>CA</td>\n",
       "      <td>5.792127</td>\n",
       "      <td>P00523</td>\n",
       "      <td>1nlo</td>\n",
       "      <td>False</td>\n",
       "    </tr>\n",
       "    <tr>\n",
       "      <th>...</th>\n",
       "      <td>...</td>\n",
       "      <td>...</td>\n",
       "      <td>...</td>\n",
       "      <td>...</td>\n",
       "      <td>...</td>\n",
       "      <td>...</td>\n",
       "      <td>...</td>\n",
       "      <td>...</td>\n",
       "      <td>...</td>\n",
       "      <td>...</td>\n",
       "      <td>...</td>\n",
       "      <td>...</td>\n",
       "    </tr>\n",
       "    <tr>\n",
       "      <th>140</th>\n",
       "      <td>N</td>\n",
       "      <td>75</td>\n",
       "      <td>PRO</td>\n",
       "      <td>CA</td>\n",
       "      <td>N</td>\n",
       "      <td>76</td>\n",
       "      <td>LEU</td>\n",
       "      <td>CA</td>\n",
       "      <td>3.823504</td>\n",
       "      <td>P00523</td>\n",
       "      <td>1nlo</td>\n",
       "      <td>False</td>\n",
       "    </tr>\n",
       "    <tr>\n",
       "      <th>141</th>\n",
       "      <td>N</td>\n",
       "      <td>76</td>\n",
       "      <td>LEU</td>\n",
       "      <td>CA</td>\n",
       "      <td>N</td>\n",
       "      <td>77</td>\n",
       "      <td>PRO</td>\n",
       "      <td>CA</td>\n",
       "      <td>3.808258</td>\n",
       "      <td>P00523</td>\n",
       "      <td>1nlo</td>\n",
       "      <td>False</td>\n",
       "    </tr>\n",
       "    <tr>\n",
       "      <th>142</th>\n",
       "      <td>N</td>\n",
       "      <td>77</td>\n",
       "      <td>PRO</td>\n",
       "      <td>CA</td>\n",
       "      <td>N</td>\n",
       "      <td>78</td>\n",
       "      <td>PRO</td>\n",
       "      <td>CA</td>\n",
       "      <td>3.808038</td>\n",
       "      <td>P00523</td>\n",
       "      <td>1nlo</td>\n",
       "      <td>False</td>\n",
       "    </tr>\n",
       "    <tr>\n",
       "      <th>143</th>\n",
       "      <td>N</td>\n",
       "      <td>78</td>\n",
       "      <td>PRO</td>\n",
       "      <td>CA</td>\n",
       "      <td>N</td>\n",
       "      <td>79</td>\n",
       "      <td>LEU</td>\n",
       "      <td>CA</td>\n",
       "      <td>3.817964</td>\n",
       "      <td>P00523</td>\n",
       "      <td>1nlo</td>\n",
       "      <td>False</td>\n",
       "    </tr>\n",
       "    <tr>\n",
       "      <th>144</th>\n",
       "      <td>N</td>\n",
       "      <td>79</td>\n",
       "      <td>LEU</td>\n",
       "      <td>CA</td>\n",
       "      <td>N</td>\n",
       "      <td>80</td>\n",
       "      <td>PRO</td>\n",
       "      <td>CA</td>\n",
       "      <td>3.803401</td>\n",
       "      <td>P00523</td>\n",
       "      <td>1nlo</td>\n",
       "      <td>False</td>\n",
       "    </tr>\n",
       "  </tbody>\n",
       "</table>\n",
       "<p>145 rows × 12 columns</p>\n",
       "</div>"
      ],
      "text/plain": [
       "    chain_a  pos_a aa_a atom_a chain_b  pos_b aa_b atom_b      dist uniprot  \\\n",
       "0         C      9  THR     CA       C     10  PHE     CA  3.823854  P00523   \n",
       "1         C      9  THR     CA       C     32  LEU     CA  5.953827  P00523   \n",
       "2         C      9  THR     CA       C     33  GLN     CA  5.008291  P00523   \n",
       "3         C     10  PHE     CA       C     11  VAL     CA  3.828712  P00523   \n",
       "4         C     10  PHE     CA       C     31  ARG     CA  5.792127  P00523   \n",
       "..      ...    ...  ...    ...     ...    ...  ...    ...       ...     ...   \n",
       "140       N     75  PRO     CA       N     76  LEU     CA  3.823504  P00523   \n",
       "141       N     76  LEU     CA       N     77  PRO     CA  3.808258  P00523   \n",
       "142       N     77  PRO     CA       N     78  PRO     CA  3.808038  P00523   \n",
       "143       N     78  PRO     CA       N     79  LEU     CA  3.817964  P00523   \n",
       "144       N     79  LEU     CA       N     80  PRO     CA  3.803401  P00523   \n",
       "\n",
       "      pdb    pos  \n",
       "0    1nlo  False  \n",
       "1    1nlo  False  \n",
       "2    1nlo  False  \n",
       "3    1nlo  False  \n",
       "4    1nlo  False  \n",
       "..    ...    ...  \n",
       "140  1nlo  False  \n",
       "141  1nlo  False  \n",
       "142  1nlo  False  \n",
       "143  1nlo  False  \n",
       "144  1nlo  False  \n",
       "\n",
       "[145 rows x 12 columns]"
      ]
     },
     "execution_count": 14,
     "metadata": {},
     "output_type": "execute_result"
    }
   ],
   "source": [
    "prueba = pd.read_csv('../datasets/distances/dataframes/P00523_1nlo.csv').merge(cat_sites, how= 'left')\n",
    "prueba[\"pos\"] = prueba.pos_a == prueba.pos\n",
    "prueba"
   ]
  },
  {
   "cell_type": "code",
   "execution_count": 29,
   "metadata": {},
   "outputs": [
    {
     "ename": "NameError",
     "evalue": "name 'x' is not defined",
     "output_type": "error",
     "traceback": [
      "\u001b[1;31m---------------------------------------------------------------------------\u001b[0m",
      "\u001b[1;31mNameError\u001b[0m                                 Traceback (most recent call last)",
      "\u001b[1;32m<ipython-input-29-797c0451274b>\u001b[0m in \u001b[0;36m<module>\u001b[1;34m\u001b[0m\n\u001b[0;32m      1\u001b[0m \u001b[1;32mif\u001b[0m \u001b[0mprueba\u001b[0m\u001b[1;33m.\u001b[0m\u001b[0mpos\u001b[0m\u001b[1;33m.\u001b[0m\u001b[0msum\u001b[0m\u001b[1;33m(\u001b[0m\u001b[1;33m)\u001b[0m\u001b[1;33m.\u001b[0m\u001b[0many\u001b[0m\u001b[1;33m(\u001b[0m\u001b[1;33m)\u001b[0m\u001b[1;33m:\u001b[0m\u001b[1;33m\u001b[0m\u001b[1;33m\u001b[0m\u001b[0m\n\u001b[0;32m      2\u001b[0m     \u001b[0mx\u001b[0m \u001b[1;33m=\u001b[0m \u001b[0mprueba\u001b[0m\u001b[1;33m[\u001b[0m\u001b[0mprueba\u001b[0m\u001b[1;33m.\u001b[0m\u001b[0mpos\u001b[0m \u001b[1;33m==\u001b[0m \u001b[1;32mTrue\u001b[0m\u001b[1;33m]\u001b[0m\u001b[1;33m\u001b[0m\u001b[1;33m\u001b[0m\u001b[0m\n\u001b[1;32m----> 3\u001b[1;33m \u001b[0mx\u001b[0m\u001b[1;33m\u001b[0m\u001b[1;33m\u001b[0m\u001b[0m\n\u001b[0m",
      "\u001b[1;31mNameError\u001b[0m: name 'x' is not defined"
     ]
    }
   ],
   "source": [
    "if prueba.cs.sum().any():\n",
    "    x = prueba[prueba.cs == True]\n",
    "x"
   ]
  },
  {
   "cell_type": "code",
   "execution_count": 32,
   "metadata": {},
   "outputs": [
    {
     "data": {
      "text/html": [
       "<div>\n",
       "<style scoped>\n",
       "    .dataframe tbody tr th:only-of-type {\n",
       "        vertical-align: middle;\n",
       "    }\n",
       "\n",
       "    .dataframe tbody tr th {\n",
       "        vertical-align: top;\n",
       "    }\n",
       "\n",
       "    .dataframe thead th {\n",
       "        text-align: right;\n",
       "    }\n",
       "</style>\n",
       "<table border=\"1\" class=\"dataframe\">\n",
       "  <thead>\n",
       "    <tr style=\"text-align: right;\">\n",
       "      <th></th>\n",
       "      <th>chain_a</th>\n",
       "      <th>pos_a</th>\n",
       "      <th>aa_a</th>\n",
       "      <th>atom_a</th>\n",
       "      <th>chain_b</th>\n",
       "      <th>pos_b</th>\n",
       "      <th>aa_b</th>\n",
       "      <th>atom_b</th>\n",
       "      <th>dist</th>\n",
       "      <th>uniprot</th>\n",
       "      <th>pdb</th>\n",
       "      <th>cs</th>\n",
       "    </tr>\n",
       "  </thead>\n",
       "  <tbody>\n",
       "    <tr>\n",
       "      <th>0</th>\n",
       "      <td>A</td>\n",
       "      <td>81</td>\n",
       "      <td>ASP</td>\n",
       "      <td>CA</td>\n",
       "      <td>A</td>\n",
       "      <td>82</td>\n",
       "      <td>PRO</td>\n",
       "      <td>CA</td>\n",
       "      <td>3.847206</td>\n",
       "      <td>P00519</td>\n",
       "      <td>1opl</td>\n",
       "      <td>False</td>\n",
       "    </tr>\n",
       "    <tr>\n",
       "      <th>1</th>\n",
       "      <td>A</td>\n",
       "      <td>81</td>\n",
       "      <td>ASP</td>\n",
       "      <td>CA</td>\n",
       "      <td>A</td>\n",
       "      <td>84</td>\n",
       "      <td>LEU</td>\n",
       "      <td>CA</td>\n",
       "      <td>5.845485</td>\n",
       "      <td>P00519</td>\n",
       "      <td>1opl</td>\n",
       "      <td>False</td>\n",
       "    </tr>\n",
       "    <tr>\n",
       "      <th>2</th>\n",
       "      <td>A</td>\n",
       "      <td>82</td>\n",
       "      <td>PRO</td>\n",
       "      <td>CA</td>\n",
       "      <td>A</td>\n",
       "      <td>83</td>\n",
       "      <td>ASN</td>\n",
       "      <td>CA</td>\n",
       "      <td>3.839307</td>\n",
       "      <td>P00519</td>\n",
       "      <td>1opl</td>\n",
       "      <td>False</td>\n",
       "    </tr>\n",
       "    <tr>\n",
       "      <th>3</th>\n",
       "      <td>A</td>\n",
       "      <td>82</td>\n",
       "      <td>PRO</td>\n",
       "      <td>CA</td>\n",
       "      <td>A</td>\n",
       "      <td>84</td>\n",
       "      <td>LEU</td>\n",
       "      <td>CA</td>\n",
       "      <td>5.815568</td>\n",
       "      <td>P00519</td>\n",
       "      <td>1opl</td>\n",
       "      <td>False</td>\n",
       "    </tr>\n",
       "    <tr>\n",
       "      <th>4</th>\n",
       "      <td>A</td>\n",
       "      <td>83</td>\n",
       "      <td>ASN</td>\n",
       "      <td>CA</td>\n",
       "      <td>A</td>\n",
       "      <td>84</td>\n",
       "      <td>LEU</td>\n",
       "      <td>CA</td>\n",
       "      <td>3.899549</td>\n",
       "      <td>P00519</td>\n",
       "      <td>1opl</td>\n",
       "      <td>False</td>\n",
       "    </tr>\n",
       "    <tr>\n",
       "      <th>...</th>\n",
       "      <td>...</td>\n",
       "      <td>...</td>\n",
       "      <td>...</td>\n",
       "      <td>...</td>\n",
       "      <td>...</td>\n",
       "      <td>...</td>\n",
       "      <td>...</td>\n",
       "      <td>...</td>\n",
       "      <td>...</td>\n",
       "      <td>...</td>\n",
       "      <td>...</td>\n",
       "      <td>...</td>\n",
       "    </tr>\n",
       "    <tr>\n",
       "      <th>2105</th>\n",
       "      <td>B</td>\n",
       "      <td>515</td>\n",
       "      <td>MET</td>\n",
       "      <td>CA</td>\n",
       "      <td>B</td>\n",
       "      <td>517</td>\n",
       "      <td>GLN</td>\n",
       "      <td>CA</td>\n",
       "      <td>5.641351</td>\n",
       "      <td>P00519</td>\n",
       "      <td>1opl</td>\n",
       "      <td>False</td>\n",
       "    </tr>\n",
       "    <tr>\n",
       "      <th>2106</th>\n",
       "      <td>B</td>\n",
       "      <td>515</td>\n",
       "      <td>MET</td>\n",
       "      <td>CA</td>\n",
       "      <td>B</td>\n",
       "      <td>518</td>\n",
       "      <td>GLU</td>\n",
       "      <td>CA</td>\n",
       "      <td>5.054327</td>\n",
       "      <td>P00519</td>\n",
       "      <td>1opl</td>\n",
       "      <td>False</td>\n",
       "    </tr>\n",
       "    <tr>\n",
       "      <th>2107</th>\n",
       "      <td>B</td>\n",
       "      <td>516</td>\n",
       "      <td>PHE</td>\n",
       "      <td>CA</td>\n",
       "      <td>B</td>\n",
       "      <td>517</td>\n",
       "      <td>GLN</td>\n",
       "      <td>CA</td>\n",
       "      <td>3.801774</td>\n",
       "      <td>P00519</td>\n",
       "      <td>1opl</td>\n",
       "      <td>False</td>\n",
       "    </tr>\n",
       "    <tr>\n",
       "      <th>2108</th>\n",
       "      <td>B</td>\n",
       "      <td>516</td>\n",
       "      <td>PHE</td>\n",
       "      <td>CA</td>\n",
       "      <td>B</td>\n",
       "      <td>518</td>\n",
       "      <td>GLU</td>\n",
       "      <td>CA</td>\n",
       "      <td>5.439814</td>\n",
       "      <td>P00519</td>\n",
       "      <td>1opl</td>\n",
       "      <td>False</td>\n",
       "    </tr>\n",
       "    <tr>\n",
       "      <th>2109</th>\n",
       "      <td>B</td>\n",
       "      <td>517</td>\n",
       "      <td>GLN</td>\n",
       "      <td>CA</td>\n",
       "      <td>B</td>\n",
       "      <td>518</td>\n",
       "      <td>GLU</td>\n",
       "      <td>CA</td>\n",
       "      <td>3.785046</td>\n",
       "      <td>P00519</td>\n",
       "      <td>1opl</td>\n",
       "      <td>False</td>\n",
       "    </tr>\n",
       "  </tbody>\n",
       "</table>\n",
       "<p>2110 rows × 12 columns</p>\n",
       "</div>"
      ],
      "text/plain": [
       "     chain_a  pos_a aa_a atom_a chain_b  pos_b aa_b atom_b      dist uniprot  \\\n",
       "0          A     81  ASP     CA       A     82  PRO     CA  3.847206  P00519   \n",
       "1          A     81  ASP     CA       A     84  LEU     CA  5.845485  P00519   \n",
       "2          A     82  PRO     CA       A     83  ASN     CA  3.839307  P00519   \n",
       "3          A     82  PRO     CA       A     84  LEU     CA  5.815568  P00519   \n",
       "4          A     83  ASN     CA       A     84  LEU     CA  3.899549  P00519   \n",
       "...      ...    ...  ...    ...     ...    ...  ...    ...       ...     ...   \n",
       "2105       B    515  MET     CA       B    517  GLN     CA  5.641351  P00519   \n",
       "2106       B    515  MET     CA       B    518  GLU     CA  5.054327  P00519   \n",
       "2107       B    516  PHE     CA       B    517  GLN     CA  3.801774  P00519   \n",
       "2108       B    516  PHE     CA       B    518  GLU     CA  5.439814  P00519   \n",
       "2109       B    517  GLN     CA       B    518  GLU     CA  3.785046  P00519   \n",
       "\n",
       "       pdb     cs  \n",
       "0     1opl  False  \n",
       "1     1opl  False  \n",
       "2     1opl  False  \n",
       "3     1opl  False  \n",
       "4     1opl  False  \n",
       "...    ...    ...  \n",
       "2105  1opl  False  \n",
       "2106  1opl  False  \n",
       "2107  1opl  False  \n",
       "2108  1opl  False  \n",
       "2109  1opl  False  \n",
       "\n",
       "[2110 rows x 12 columns]"
      ]
     },
     "execution_count": 32,
     "metadata": {},
     "output_type": "execute_result"
    }
   ],
   "source": [
    "prueba2 = pd.read_csv('../datasets/distances/dataframes/P00519_1opl.csv').merge(cat_sites, how= 'left')\n",
    "prueba2[\"cs\"] = prueba2.pos_a == prueba2.cs\n",
    "prueba2"
   ]
  },
  {
   "cell_type": "code",
   "execution_count": 33,
   "metadata": {},
   "outputs": [
    {
     "data": {
      "text/html": [
       "<div>\n",
       "<style scoped>\n",
       "    .dataframe tbody tr th:only-of-type {\n",
       "        vertical-align: middle;\n",
       "    }\n",
       "\n",
       "    .dataframe tbody tr th {\n",
       "        vertical-align: top;\n",
       "    }\n",
       "\n",
       "    .dataframe thead th {\n",
       "        text-align: right;\n",
       "    }\n",
       "</style>\n",
       "<table border=\"1\" class=\"dataframe\">\n",
       "  <thead>\n",
       "    <tr style=\"text-align: right;\">\n",
       "      <th></th>\n",
       "      <th>chain_a</th>\n",
       "      <th>pos_a</th>\n",
       "      <th>aa_a</th>\n",
       "      <th>atom_a</th>\n",
       "      <th>chain_b</th>\n",
       "      <th>pos_b</th>\n",
       "      <th>aa_b</th>\n",
       "      <th>atom_b</th>\n",
       "      <th>dist</th>\n",
       "      <th>uniprot</th>\n",
       "      <th>pdb</th>\n",
       "      <th>cs</th>\n",
       "    </tr>\n",
       "  </thead>\n",
       "  <tbody>\n",
       "    <tr>\n",
       "      <th>728</th>\n",
       "      <td>A</td>\n",
       "      <td>363</td>\n",
       "      <td>ALA</td>\n",
       "      <td>CA</td>\n",
       "      <td>A</td>\n",
       "      <td>364</td>\n",
       "      <td>THR</td>\n",
       "      <td>CA</td>\n",
       "      <td>3.794177</td>\n",
       "      <td>P00519</td>\n",
       "      <td>1opl</td>\n",
       "      <td>True</td>\n",
       "    </tr>\n",
       "    <tr>\n",
       "      <th>729</th>\n",
       "      <td>A</td>\n",
       "      <td>363</td>\n",
       "      <td>ALA</td>\n",
       "      <td>CA</td>\n",
       "      <td>A</td>\n",
       "      <td>365</td>\n",
       "      <td>GLN</td>\n",
       "      <td>CA</td>\n",
       "      <td>5.481358</td>\n",
       "      <td>P00519</td>\n",
       "      <td>1opl</td>\n",
       "      <td>True</td>\n",
       "    </tr>\n",
       "    <tr>\n",
       "      <th>730</th>\n",
       "      <td>A</td>\n",
       "      <td>363</td>\n",
       "      <td>ALA</td>\n",
       "      <td>CA</td>\n",
       "      <td>A</td>\n",
       "      <td>366</td>\n",
       "      <td>ILE</td>\n",
       "      <td>CA</td>\n",
       "      <td>5.188070</td>\n",
       "      <td>P00519</td>\n",
       "      <td>1opl</td>\n",
       "      <td>True</td>\n",
       "    </tr>\n",
       "    <tr>\n",
       "      <th>1717</th>\n",
       "      <td>B</td>\n",
       "      <td>363</td>\n",
       "      <td>ALA</td>\n",
       "      <td>CA</td>\n",
       "      <td>B</td>\n",
       "      <td>364</td>\n",
       "      <td>THR</td>\n",
       "      <td>CA</td>\n",
       "      <td>3.794536</td>\n",
       "      <td>P00519</td>\n",
       "      <td>1opl</td>\n",
       "      <td>True</td>\n",
       "    </tr>\n",
       "    <tr>\n",
       "      <th>1718</th>\n",
       "      <td>B</td>\n",
       "      <td>363</td>\n",
       "      <td>ALA</td>\n",
       "      <td>CA</td>\n",
       "      <td>B</td>\n",
       "      <td>365</td>\n",
       "      <td>GLN</td>\n",
       "      <td>CA</td>\n",
       "      <td>5.482057</td>\n",
       "      <td>P00519</td>\n",
       "      <td>1opl</td>\n",
       "      <td>True</td>\n",
       "    </tr>\n",
       "    <tr>\n",
       "      <th>1719</th>\n",
       "      <td>B</td>\n",
       "      <td>363</td>\n",
       "      <td>ALA</td>\n",
       "      <td>CA</td>\n",
       "      <td>B</td>\n",
       "      <td>366</td>\n",
       "      <td>ILE</td>\n",
       "      <td>CA</td>\n",
       "      <td>5.188113</td>\n",
       "      <td>P00519</td>\n",
       "      <td>1opl</td>\n",
       "      <td>True</td>\n",
       "    </tr>\n",
       "  </tbody>\n",
       "</table>\n",
       "</div>"
      ],
      "text/plain": [
       "     chain_a  pos_a aa_a atom_a chain_b  pos_b aa_b atom_b      dist uniprot  \\\n",
       "728        A    363  ALA     CA       A    364  THR     CA  3.794177  P00519   \n",
       "729        A    363  ALA     CA       A    365  GLN     CA  5.481358  P00519   \n",
       "730        A    363  ALA     CA       A    366  ILE     CA  5.188070  P00519   \n",
       "1717       B    363  ALA     CA       B    364  THR     CA  3.794536  P00519   \n",
       "1718       B    363  ALA     CA       B    365  GLN     CA  5.482057  P00519   \n",
       "1719       B    363  ALA     CA       B    366  ILE     CA  5.188113  P00519   \n",
       "\n",
       "       pdb    cs  \n",
       "728   1opl  True  \n",
       "729   1opl  True  \n",
       "730   1opl  True  \n",
       "1717  1opl  True  \n",
       "1718  1opl  True  \n",
       "1719  1opl  True  "
      ]
     },
     "execution_count": 33,
     "metadata": {},
     "output_type": "execute_result"
    }
   ],
   "source": [
    "if prueba2.cs.sum().any():\n",
    "    x = prueba2[prueba2.cs == True]\n",
    "x"
   ]
  },
  {
   "cell_type": "code",
   "execution_count": null,
   "metadata": {},
   "outputs": [],
   "source": []
  },
  {
   "cell_type": "code",
   "execution_count": null,
   "metadata": {},
   "outputs": [],
   "source": []
  },
  {
   "cell_type": "code",
   "execution_count": null,
   "metadata": {},
   "outputs": [],
   "source": []
  },
  {
   "cell_type": "code",
   "execution_count": null,
   "metadata": {},
   "outputs": [],
   "source": []
  },
  {
   "cell_type": "code",
   "execution_count": null,
   "metadata": {},
   "outputs": [],
   "source": []
  },
  {
   "cell_type": "code",
   "execution_count": 25,
   "metadata": {},
   "outputs": [],
   "source": [
    "from itertools import product"
   ]
  },
  {
   "cell_type": "code",
   "execution_count": 31,
   "metadata": {},
   "outputs": [
    {
     "data": {
      "text/plain": [
       "[(1, 3), (1, 4), (2, 3), (2, 4)]"
      ]
     },
     "execution_count": 31,
     "metadata": {},
     "output_type": "execute_result"
    }
   ],
   "source": [
    "list(product([1, 2], [3,4]))"
   ]
  },
  {
   "cell_type": "code",
   "execution_count": 33,
   "metadata": {},
   "outputs": [],
   "source": [
    "from distances import Distances"
   ]
  },
  {
   "cell_type": "code",
   "execution_count": 43,
   "metadata": {},
   "outputs": [],
   "source": [
    "# for l in dist_cb_6yp3:\n",
    "#     for elem in l:\n",
    "#         print(elem)\n",
    "#     # for chain_a, pos_a, chain_b, pos_b, dist in l:\n",
    "#     #     print(chain_a, pos_a, chain_b, pos_b, dist)"
   ]
  },
  {
   "cell_type": "code",
   "execution_count": 35,
   "metadata": {},
   "outputs": [
    {
     "ename": "TypeError",
     "evalue": "is_contact() missing 4 required positional arguments: 'chain_a', 'pos_a', 'chain_b', and 'pos_b'",
     "output_type": "error",
     "traceback": [
      "\u001b[1;31m---------------------------------------------------------------------------\u001b[0m",
      "\u001b[1;31mTypeError\u001b[0m                                 Traceback (most recent call last)",
      "\u001b[1;32m<ipython-input-35-4db78e80656e>\u001b[0m in \u001b[0;36m<module>\u001b[1;34m\u001b[0m\n\u001b[1;32m----> 1\u001b[1;33m \u001b[0mDistances\u001b[0m\u001b[1;33m.\u001b[0m\u001b[0mis_contact\u001b[0m\u001b[1;33m(\u001b[0m\u001b[0mdist_cb_6yp3\u001b[0m\u001b[1;33m)\u001b[0m\u001b[1;33m\u001b[0m\u001b[1;33m\u001b[0m\u001b[0m\n\u001b[0m",
      "\u001b[1;31mTypeError\u001b[0m: is_contact() missing 4 required positional arguments: 'chain_a', 'pos_a', 'chain_b', and 'pos_b'"
     ]
    }
   ],
   "source": [
    "Distances.is_contact(dist_cb_6yp3)"
   ]
  },
  {
   "cell_type": "code",
   "execution_count": 17,
   "metadata": {},
   "outputs": [],
   "source": [
    "distances.save_distances(dist_6yp3, '../datasets/dist_6yp3')"
   ]
  }
 ],
 "metadata": {
  "kernelspec": {
   "display_name": "Python 3.7.9 64-bit",
   "language": "python",
   "name": "python3"
  },
  "language_info": {
   "codemirror_mode": {
    "name": "ipython",
    "version": 3
   },
   "file_extension": ".py",
   "mimetype": "text/x-python",
   "name": "python",
   "nbconvert_exporter": "python",
   "pygments_lexer": "ipython3",
   "version": "3.7.9"
  },
  "orig_nbformat": 4,
  "vscode": {
   "interpreter": {
    "hash": "82d4c6f819cf47785f735f902f00da8643513d08dab4f4c7470bccf934b8d2d6"
   }
  }
 },
 "nbformat": 4,
 "nbformat_minor": 2
}
