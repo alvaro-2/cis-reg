{
 "cells": [
  {
   "cell_type": "code",
   "execution_count": 10,
   "metadata": {},
   "outputs": [],
   "source": [
    "import pandas as pd\n",
    "import distances\n",
    "from Bio.PDB import *"
   ]
  },
  {
   "cell_type": "code",
   "execution_count": 2,
   "metadata": {},
   "outputs": [],
   "source": [
    "# Dataset with all the PDB structures for all kinases (123 out of 280)\n",
    "uniprot_pdb = pd.read_csv('../datasets/uniprot_pdb.tsv', sep= '\\t')\n",
    "# cre = pd.read_csv('../datasets/cre_dataset.csv')"
   ]
  },
  {
   "cell_type": "code",
   "execution_count": 4,
   "metadata": {},
   "outputs": [
    {
     "data": {
      "text/plain": [
       "123"
      ]
     },
     "execution_count": 4,
     "metadata": {},
     "output_type": "execute_result"
    }
   ],
   "source": [
    "uniprot_pdb.uniprot_acc.nunique()"
   ]
  },
  {
   "cell_type": "code",
   "execution_count": 6,
   "metadata": {},
   "outputs": [
    {
     "data": {
      "text/plain": [
       "2470"
      ]
     },
     "execution_count": 6,
     "metadata": {},
     "output_type": "execute_result"
    }
   ],
   "source": [
    "uniprot_pdb.pdb.nunique()"
   ]
  },
  {
   "cell_type": "code",
   "execution_count": 3,
   "metadata": {},
   "outputs": [],
   "source": [
    "#cre[['id_cre', 'uniprot_acc', 'start_aa', 'end_aa']]"
   ]
  },
  {
   "cell_type": "code",
   "execution_count": 5,
   "metadata": {},
   "outputs": [],
   "source": [
    "kinases = pd.read_csv('../datasets/kinases.tsv', sep= '\\t')"
   ]
  },
  {
   "cell_type": "code",
   "execution_count": 5,
   "metadata": {},
   "outputs": [
    {
     "data": {
      "text/html": [
       "<div>\n",
       "<style scoped>\n",
       "    .dataframe tbody tr th:only-of-type {\n",
       "        vertical-align: middle;\n",
       "    }\n",
       "\n",
       "    .dataframe tbody tr th {\n",
       "        vertical-align: top;\n",
       "    }\n",
       "\n",
       "    .dataframe thead th {\n",
       "        text-align: right;\n",
       "    }\n",
       "</style>\n",
       "<table border=\"1\" class=\"dataframe\">\n",
       "  <thead>\n",
       "    <tr style=\"text-align: right;\">\n",
       "      <th></th>\n",
       "      <th>uniprot_acc</th>\n",
       "      <th>id_pdb</th>\n",
       "      <th>id_cre</th>\n",
       "      <th>id_kd</th>\n",
       "      <th>pdb</th>\n",
       "    </tr>\n",
       "  </thead>\n",
       "  <tbody>\n",
       "    <tr>\n",
       "      <th>0</th>\n",
       "      <td>A5K0N4</td>\n",
       "      <td>5147</td>\n",
       "      <td>10</td>\n",
       "      <td>10</td>\n",
       "      <td>5fet</td>\n",
       "    </tr>\n",
       "    <tr>\n",
       "      <th>1</th>\n",
       "      <td>O74536</td>\n",
       "      <td>8034</td>\n",
       "      <td>21</td>\n",
       "      <td>21</td>\n",
       "      <td>3h4j</td>\n",
       "    </tr>\n",
       "    <tr>\n",
       "      <th>2</th>\n",
       "      <td>O74536</td>\n",
       "      <td>8035</td>\n",
       "      <td>21</td>\n",
       "      <td>21</td>\n",
       "      <td>3h4j</td>\n",
       "    </tr>\n",
       "    <tr>\n",
       "      <th>3</th>\n",
       "      <td>O75582</td>\n",
       "      <td>579</td>\n",
       "      <td>22</td>\n",
       "      <td>23</td>\n",
       "      <td>3kn5</td>\n",
       "    </tr>\n",
       "    <tr>\n",
       "      <th>4</th>\n",
       "      <td>O75582</td>\n",
       "      <td>582</td>\n",
       "      <td>22</td>\n",
       "      <td>23</td>\n",
       "      <td>3kn5</td>\n",
       "    </tr>\n",
       "    <tr>\n",
       "      <th>...</th>\n",
       "      <td>...</td>\n",
       "      <td>...</td>\n",
       "      <td>...</td>\n",
       "      <td>...</td>\n",
       "      <td>...</td>\n",
       "    </tr>\n",
       "    <tr>\n",
       "      <th>1532</th>\n",
       "      <td>Q16644</td>\n",
       "      <td>2845</td>\n",
       "      <td>142</td>\n",
       "      <td>147</td>\n",
       "      <td>3fhr</td>\n",
       "    </tr>\n",
       "    <tr>\n",
       "      <th>1533</th>\n",
       "      <td>Q16644</td>\n",
       "      <td>5339</td>\n",
       "      <td>142</td>\n",
       "      <td>147</td>\n",
       "      <td>7nrb</td>\n",
       "    </tr>\n",
       "    <tr>\n",
       "      <th>1534</th>\n",
       "      <td>Q61846</td>\n",
       "      <td>1754</td>\n",
       "      <td>178</td>\n",
       "      <td>183</td>\n",
       "      <td>4bfm</td>\n",
       "    </tr>\n",
       "    <tr>\n",
       "      <th>1535</th>\n",
       "      <td>Q61846</td>\n",
       "      <td>7063</td>\n",
       "      <td>178</td>\n",
       "      <td>183</td>\n",
       "      <td>4cqg</td>\n",
       "    </tr>\n",
       "    <tr>\n",
       "      <th>1536</th>\n",
       "      <td>Q63450</td>\n",
       "      <td>7444</td>\n",
       "      <td>183</td>\n",
       "      <td>190</td>\n",
       "      <td>1a06</td>\n",
       "    </tr>\n",
       "  </tbody>\n",
       "</table>\n",
       "<p>1537 rows × 5 columns</p>\n",
       "</div>"
      ],
      "text/plain": [
       "     uniprot_acc  id_pdb  id_cre  id_kd   pdb\n",
       "0         A5K0N4    5147      10     10  5fet\n",
       "1         O74536    8034      21     21  3h4j\n",
       "2         O74536    8035      21     21  3h4j\n",
       "3         O75582     579      22     23  3kn5\n",
       "4         O75582     582      22     23  3kn5\n",
       "...          ...     ...     ...    ...   ...\n",
       "1532      Q16644    2845     142    147  3fhr\n",
       "1533      Q16644    5339     142    147  7nrb\n",
       "1534      Q61846    1754     178    183  4bfm\n",
       "1535      Q61846    7063     178    183  4cqg\n",
       "1536      Q63450    7444     183    190  1a06\n",
       "\n",
       "[1537 rows x 5 columns]"
      ]
     },
     "execution_count": 5,
     "metadata": {},
     "output_type": "execute_result"
    }
   ],
   "source": [
    "# Table with pdb ids of kinases containing CREs dataset\n",
    "pdbs_kd_cre = pd.read_csv('../datasets/pdbs_kd_cre.tsv', sep= '\\t')\n",
    "pdbs_kd_cre"
   ]
  },
  {
   "cell_type": "code",
   "execution_count": 6,
   "metadata": {},
   "outputs": [
    {
     "data": {
      "text/plain": [
       "42"
      ]
     },
     "execution_count": 6,
     "metadata": {},
     "output_type": "execute_result"
    }
   ],
   "source": [
    "pdbs_kd_cre.uniprot_acc.nunique() # 42 proteins with structure that includes KD and CRE"
   ]
  },
  {
   "cell_type": "markdown",
   "metadata": {},
   "source": [
    "---"
   ]
  },
  {
   "cell_type": "markdown",
   "metadata": {},
   "source": [
    "### Download PDBs files"
   ]
  },
  {
   "cell_type": "code",
   "execution_count": 11,
   "metadata": {},
   "outputs": [],
   "source": [
    "parser = PDBParser()"
   ]
  },
  {
   "cell_type": "code",
   "execution_count": 12,
   "metadata": {},
   "outputs": [],
   "source": [
    "pdbs = uniprot_pdb.pdb.unique().tolist()"
   ]
  },
  {
   "cell_type": "code",
   "execution_count": 13,
   "metadata": {},
   "outputs": [
    {
     "name": "stdout",
     "output_type": "stream",
     "text": [
      "Downloading PDB structure '3g5b'...\n"
     ]
    }
   ],
   "source": [
    "# download structures\n",
    "pdbl = PDBList()\n",
    "for pdb in pdbs:\n",
    "    pdbl.retrieve_pdb_file(pdb, file_format= 'pdb', pdir= '../raw_data/pdb_files')"
   ]
  },
  {
   "cell_type": "code",
   "execution_count": 7,
   "metadata": {},
   "outputs": [],
   "source": [
    "cter = pd.read_csv('../raw_data/uniprot_kd_cre_cter.gz', sep= '\\t', compression= 'gzip')\n",
    "cter.columns = cter.columns.str.lower().str.replace(\" \", \"_\")\n",
    "cter.drop(columns= ['from', 'entry_name'], inplace= True)"
   ]
  },
  {
   "cell_type": "code",
   "execution_count": 8,
   "metadata": {},
   "outputs": [
    {
     "data": {
      "text/plain": [
       "22"
      ]
     },
     "execution_count": 8,
     "metadata": {},
     "output_type": "execute_result"
    }
   ],
   "source": [
    "pdbs_kd_cre[pdbs_kd_cre.uniprot_acc.isin(cter.entry)].uniprot_acc.nunique()"
   ]
  },
  {
   "cell_type": "markdown",
   "metadata": {},
   "source": [
    "- chain_a and chain_b should be the same"
   ]
  },
  {
   "cell_type": "code",
   "execution_count": 9,
   "metadata": {},
   "outputs": [
    {
     "name": "stderr",
     "output_type": "stream",
     "text": [
      "c:\\Users\\User\\AppData\\Local\\Programs\\Python\\Python37\\lib\\site-packages\\Bio\\PDB\\StructureBuilder.py:92: PDBConstructionWarning: WARNING: Chain A is discontinuous at line 2378.\n",
      "  PDBConstructionWarning,\n",
      "c:\\Users\\User\\AppData\\Local\\Programs\\Python\\Python37\\lib\\site-packages\\Bio\\PDB\\StructureBuilder.py:92: PDBConstructionWarning: WARNING: Chain P is discontinuous at line 2700.\n",
      "  PDBConstructionWarning,\n"
     ]
    }
   ],
   "source": [
    "from distances import carbon_alfa_selector\n",
    "\n",
    "\n",
    "dist_all_6yp3 = distances.calculate_distances(pdb_source= '../raw_data/6yp3.pdb', atom_selector= carbon_alfa_selector, include_extra_info= True)"
   ]
  },
  {
   "cell_type": "code",
   "execution_count": 10,
   "metadata": {},
   "outputs": [
    {
     "name": "stderr",
     "output_type": "stream",
     "text": [
      "c:\\Users\\User\\AppData\\Local\\Programs\\Python\\Python37\\lib\\site-packages\\Bio\\PDB\\StructureBuilder.py:92: PDBConstructionWarning: WARNING: Chain A is discontinuous at line 2378.\n",
      "  PDBConstructionWarning,\n",
      "c:\\Users\\User\\AppData\\Local\\Programs\\Python\\Python37\\lib\\site-packages\\Bio\\PDB\\StructureBuilder.py:92: PDBConstructionWarning: WARNING: Chain P is discontinuous at line 2700.\n",
      "  PDBConstructionWarning,\n"
     ]
    }
   ],
   "source": [
    "dist_cb_6yp3 = distances.calculate_distances(pdb_source= '../raw_data/6yp3.pdb')"
   ]
  },
  {
   "cell_type": "code",
   "execution_count": 11,
   "metadata": {},
   "outputs": [],
   "source": [
    "distances.save_distances(dist_all_6yp3, outfile= \"../datasets/distances_6yp3\")"
   ]
  },
  {
   "cell_type": "code",
   "execution_count": 12,
   "metadata": {},
   "outputs": [
    {
     "data": {
      "text/html": [
       "<div>\n",
       "<style scoped>\n",
       "    .dataframe tbody tr th:only-of-type {\n",
       "        vertical-align: middle;\n",
       "    }\n",
       "\n",
       "    .dataframe tbody tr th {\n",
       "        vertical-align: top;\n",
       "    }\n",
       "\n",
       "    .dataframe thead th {\n",
       "        text-align: right;\n",
       "    }\n",
       "</style>\n",
       "<table border=\"1\" class=\"dataframe\">\n",
       "  <thead>\n",
       "    <tr style=\"text-align: right;\">\n",
       "      <th></th>\n",
       "      <th>pdb</th>\n",
       "      <th>chain</th>\n",
       "      <th>sp_primary</th>\n",
       "      <th>pdb_beg</th>\n",
       "      <th>pdb_end</th>\n",
       "      <th>sp_beg</th>\n",
       "      <th>sp_end</th>\n",
       "    </tr>\n",
       "  </thead>\n",
       "  <tbody>\n",
       "    <tr>\n",
       "      <th>0</th>\n",
       "      <td>1wfc</td>\n",
       "      <td>A</td>\n",
       "      <td>Q16539</td>\n",
       "      <td>5</td>\n",
       "      <td>13</td>\n",
       "      <td>5</td>\n",
       "      <td>13</td>\n",
       "    </tr>\n",
       "    <tr>\n",
       "      <th>1</th>\n",
       "      <td>1wfc</td>\n",
       "      <td>A</td>\n",
       "      <td>Q16539</td>\n",
       "      <td>16</td>\n",
       "      <td>169</td>\n",
       "      <td>16</td>\n",
       "      <td>169</td>\n",
       "    </tr>\n",
       "    <tr>\n",
       "      <th>2</th>\n",
       "      <td>1wfc</td>\n",
       "      <td>A</td>\n",
       "      <td>Q16539</td>\n",
       "      <td>175</td>\n",
       "      <td>351</td>\n",
       "      <td>175</td>\n",
       "      <td>351</td>\n",
       "    </tr>\n",
       "    <tr>\n",
       "      <th>3</th>\n",
       "      <td>6aek</td>\n",
       "      <td>A</td>\n",
       "      <td>P06802</td>\n",
       "      <td>170</td>\n",
       "      <td>620</td>\n",
       "      <td>170</td>\n",
       "      <td>620</td>\n",
       "    </tr>\n",
       "    <tr>\n",
       "      <th>4</th>\n",
       "      <td>6aek</td>\n",
       "      <td>A</td>\n",
       "      <td>P06802</td>\n",
       "      <td>629</td>\n",
       "      <td>629</td>\n",
       "      <td>629</td>\n",
       "      <td>629</td>\n",
       "    </tr>\n",
       "    <tr>\n",
       "      <th>...</th>\n",
       "      <td>...</td>\n",
       "      <td>...</td>\n",
       "      <td>...</td>\n",
       "      <td>...</td>\n",
       "      <td>...</td>\n",
       "      <td>...</td>\n",
       "      <td>...</td>\n",
       "    </tr>\n",
       "    <tr>\n",
       "      <th>960081</th>\n",
       "      <td>7liw</td>\n",
       "      <td>B</td>\n",
       "      <td>P53396</td>\n",
       "      <td>2</td>\n",
       "      <td>139</td>\n",
       "      <td>2</td>\n",
       "      <td>139</td>\n",
       "    </tr>\n",
       "    <tr>\n",
       "      <th>960082</th>\n",
       "      <td>7liw</td>\n",
       "      <td>B</td>\n",
       "      <td>P53396</td>\n",
       "      <td>149</td>\n",
       "      <td>431</td>\n",
       "      <td>149</td>\n",
       "      <td>431</td>\n",
       "    </tr>\n",
       "    <tr>\n",
       "      <th>960083</th>\n",
       "      <td>7liw</td>\n",
       "      <td>B</td>\n",
       "      <td>P53396</td>\n",
       "      <td>487</td>\n",
       "      <td>1099</td>\n",
       "      <td>487</td>\n",
       "      <td>1099</td>\n",
       "    </tr>\n",
       "    <tr>\n",
       "      <th>960084</th>\n",
       "      <td>7liw</td>\n",
       "      <td>C</td>\n",
       "      <td>P53396</td>\n",
       "      <td>821</td>\n",
       "      <td>1099</td>\n",
       "      <td>821</td>\n",
       "      <td>1099</td>\n",
       "    </tr>\n",
       "    <tr>\n",
       "      <th>960085</th>\n",
       "      <td>7liw</td>\n",
       "      <td>D</td>\n",
       "      <td>P53396</td>\n",
       "      <td>821</td>\n",
       "      <td>1099</td>\n",
       "      <td>821</td>\n",
       "      <td>1099</td>\n",
       "    </tr>\n",
       "  </tbody>\n",
       "</table>\n",
       "<p>960086 rows × 7 columns</p>\n",
       "</div>"
      ],
      "text/plain": [
       "         pdb chain sp_primary pdb_beg pdb_end  sp_beg  sp_end\n",
       "0       1wfc     A     Q16539       5      13       5      13\n",
       "1       1wfc     A     Q16539      16     169      16     169\n",
       "2       1wfc     A     Q16539     175     351     175     351\n",
       "3       6aek     A     P06802     170     620     170     620\n",
       "4       6aek     A     P06802     629     629     629     629\n",
       "...      ...   ...        ...     ...     ...     ...     ...\n",
       "960081  7liw     B     P53396       2     139       2     139\n",
       "960082  7liw     B     P53396     149     431     149     431\n",
       "960083  7liw     B     P53396     487    1099     487    1099\n",
       "960084  7liw     C     P53396     821    1099     821    1099\n",
       "960085  7liw     D     P53396     821    1099     821    1099\n",
       "\n",
       "[960086 rows x 7 columns]"
      ]
     },
     "execution_count": 12,
     "metadata": {},
     "output_type": "execute_result"
    }
   ],
   "source": [
    "# Mapping SIFT positions in PDB and positions in UniProt\n",
    "mapping = pd.read_csv('../raw_data/uniprot_segments_observed.tsv.gz', sep= '\\t', compression= 'gzip', skiprows= 1)\n",
    "mapping.columns = mapping.columns.str.lower().str.replace(\" \", \"_\")\n",
    "mapping = mapping[['pdb', 'chain', 'sp_primary', 'pdb_beg', 'pdb_end', 'sp_beg', 'sp_end']]\n",
    "mapping"
   ]
  },
  {
   "cell_type": "code",
   "execution_count": 13,
   "metadata": {},
   "outputs": [
    {
     "data": {
      "text/html": [
       "<div>\n",
       "<style scoped>\n",
       "    .dataframe tbody tr th:only-of-type {\n",
       "        vertical-align: middle;\n",
       "    }\n",
       "\n",
       "    .dataframe tbody tr th {\n",
       "        vertical-align: top;\n",
       "    }\n",
       "\n",
       "    .dataframe thead th {\n",
       "        text-align: right;\n",
       "    }\n",
       "</style>\n",
       "<table border=\"1\" class=\"dataframe\">\n",
       "  <thead>\n",
       "    <tr style=\"text-align: right;\">\n",
       "      <th></th>\n",
       "      <th>pdb</th>\n",
       "      <th>chain</th>\n",
       "      <th>sp_primary</th>\n",
       "      <th>pdb_beg</th>\n",
       "      <th>pdb_end</th>\n",
       "      <th>sp_beg</th>\n",
       "      <th>sp_end</th>\n",
       "    </tr>\n",
       "  </thead>\n",
       "  <tbody>\n",
       "    <tr>\n",
       "      <th>12448</th>\n",
       "      <td>6yp3</td>\n",
       "      <td>A</td>\n",
       "      <td>P31947</td>\n",
       "      <td>1</td>\n",
       "      <td>231</td>\n",
       "      <td>1</td>\n",
       "      <td>231</td>\n",
       "    </tr>\n",
       "    <tr>\n",
       "      <th>12449</th>\n",
       "      <td>6yp3</td>\n",
       "      <td>P</td>\n",
       "      <td>Q04206</td>\n",
       "      <td>43</td>\n",
       "      <td>51</td>\n",
       "      <td>43</td>\n",
       "      <td>51</td>\n",
       "    </tr>\n",
       "  </tbody>\n",
       "</table>\n",
       "</div>"
      ],
      "text/plain": [
       "        pdb chain sp_primary pdb_beg pdb_end  sp_beg  sp_end\n",
       "12448  6yp3     A     P31947       1     231       1     231\n",
       "12449  6yp3     P     Q04206      43      51      43      51"
      ]
     },
     "execution_count": 13,
     "metadata": {},
     "output_type": "execute_result"
    }
   ],
   "source": [
    "mapping[mapping.pdb == '6yp3']"
   ]
  },
  {
   "cell_type": "code",
   "execution_count": 14,
   "metadata": {},
   "outputs": [
    {
     "data": {
      "text/html": [
       "<div>\n",
       "<style scoped>\n",
       "    .dataframe tbody tr th:only-of-type {\n",
       "        vertical-align: middle;\n",
       "    }\n",
       "\n",
       "    .dataframe tbody tr th {\n",
       "        vertical-align: top;\n",
       "    }\n",
       "\n",
       "    .dataframe thead th {\n",
       "        text-align: right;\n",
       "    }\n",
       "</style>\n",
       "<table border=\"1\" class=\"dataframe\">\n",
       "  <thead>\n",
       "    <tr style=\"text-align: right;\">\n",
       "      <th></th>\n",
       "      <th>chain_a</th>\n",
       "      <th>pos_a</th>\n",
       "      <th>aa_a</th>\n",
       "      <th>atom_a</th>\n",
       "      <th>chain_b</th>\n",
       "      <th>pos_b</th>\n",
       "      <th>aa_b</th>\n",
       "      <th>atom_b</th>\n",
       "      <th>dist</th>\n",
       "    </tr>\n",
       "  </thead>\n",
       "  <tbody>\n",
       "    <tr>\n",
       "      <th>0</th>\n",
       "      <td>A</td>\n",
       "      <td>-4</td>\n",
       "      <td>GLY</td>\n",
       "      <td>CA</td>\n",
       "      <td>A</td>\n",
       "      <td>-3</td>\n",
       "      <td>ALA</td>\n",
       "      <td>CA</td>\n",
       "      <td>3.796278</td>\n",
       "    </tr>\n",
       "    <tr>\n",
       "      <th>1</th>\n",
       "      <td>A</td>\n",
       "      <td>-4</td>\n",
       "      <td>GLY</td>\n",
       "      <td>CA</td>\n",
       "      <td>A</td>\n",
       "      <td>-2</td>\n",
       "      <td>MET</td>\n",
       "      <td>CA</td>\n",
       "      <td>5.349024</td>\n",
       "    </tr>\n",
       "    <tr>\n",
       "      <th>2</th>\n",
       "      <td>A</td>\n",
       "      <td>-4</td>\n",
       "      <td>GLY</td>\n",
       "      <td>CA</td>\n",
       "      <td>A</td>\n",
       "      <td>-1</td>\n",
       "      <td>GLY</td>\n",
       "      <td>CA</td>\n",
       "      <td>5.457746</td>\n",
       "    </tr>\n",
       "    <tr>\n",
       "      <th>3</th>\n",
       "      <td>A</td>\n",
       "      <td>-4</td>\n",
       "      <td>GLY</td>\n",
       "      <td>CA</td>\n",
       "      <td>A</td>\n",
       "      <td>0</td>\n",
       "      <td>SER</td>\n",
       "      <td>CA</td>\n",
       "      <td>8.641986</td>\n",
       "    </tr>\n",
       "    <tr>\n",
       "      <th>4</th>\n",
       "      <td>A</td>\n",
       "      <td>-4</td>\n",
       "      <td>GLY</td>\n",
       "      <td>CA</td>\n",
       "      <td>A</td>\n",
       "      <td>1</td>\n",
       "      <td>MET</td>\n",
       "      <td>CA</td>\n",
       "      <td>10.302398</td>\n",
       "    </tr>\n",
       "    <tr>\n",
       "      <th>...</th>\n",
       "      <td>...</td>\n",
       "      <td>...</td>\n",
       "      <td>...</td>\n",
       "      <td>...</td>\n",
       "      <td>...</td>\n",
       "      <td>...</td>\n",
       "      <td>...</td>\n",
       "      <td>...</td>\n",
       "      <td>...</td>\n",
       "    </tr>\n",
       "    <tr>\n",
       "      <th>29885</th>\n",
       "      <td>P</td>\n",
       "      <td>48</td>\n",
       "      <td>GLY</td>\n",
       "      <td>CA</td>\n",
       "      <td>P</td>\n",
       "      <td>50</td>\n",
       "      <td>ARG</td>\n",
       "      <td>CA</td>\n",
       "      <td>5.733504</td>\n",
       "    </tr>\n",
       "    <tr>\n",
       "      <th>29886</th>\n",
       "      <td>P</td>\n",
       "      <td>48</td>\n",
       "      <td>GLY</td>\n",
       "      <td>CA</td>\n",
       "      <td>P</td>\n",
       "      <td>51</td>\n",
       "      <td>SER</td>\n",
       "      <td>CA</td>\n",
       "      <td>7.195534</td>\n",
       "    </tr>\n",
       "    <tr>\n",
       "      <th>29887</th>\n",
       "      <td>P</td>\n",
       "      <td>49</td>\n",
       "      <td>ARG</td>\n",
       "      <td>CA</td>\n",
       "      <td>P</td>\n",
       "      <td>50</td>\n",
       "      <td>ARG</td>\n",
       "      <td>CA</td>\n",
       "      <td>3.829051</td>\n",
       "    </tr>\n",
       "    <tr>\n",
       "      <th>29888</th>\n",
       "      <td>P</td>\n",
       "      <td>49</td>\n",
       "      <td>ARG</td>\n",
       "      <td>CA</td>\n",
       "      <td>P</td>\n",
       "      <td>51</td>\n",
       "      <td>SER</td>\n",
       "      <td>CA</td>\n",
       "      <td>6.734550</td>\n",
       "    </tr>\n",
       "    <tr>\n",
       "      <th>29889</th>\n",
       "      <td>P</td>\n",
       "      <td>50</td>\n",
       "      <td>ARG</td>\n",
       "      <td>CA</td>\n",
       "      <td>P</td>\n",
       "      <td>51</td>\n",
       "      <td>SER</td>\n",
       "      <td>CA</td>\n",
       "      <td>3.807461</td>\n",
       "    </tr>\n",
       "  </tbody>\n",
       "</table>\n",
       "<p>29890 rows × 9 columns</p>\n",
       "</div>"
      ],
      "text/plain": [
       "      chain_a  pos_a aa_a atom_a chain_b  pos_b aa_b atom_b       dist\n",
       "0           A     -4  GLY     CA       A     -3  ALA     CA   3.796278\n",
       "1           A     -4  GLY     CA       A     -2  MET     CA   5.349024\n",
       "2           A     -4  GLY     CA       A     -1  GLY     CA   5.457746\n",
       "3           A     -4  GLY     CA       A      0  SER     CA   8.641986\n",
       "4           A     -4  GLY     CA       A      1  MET     CA  10.302398\n",
       "...       ...    ...  ...    ...     ...    ...  ...    ...        ...\n",
       "29885       P     48  GLY     CA       P     50  ARG     CA   5.733504\n",
       "29886       P     48  GLY     CA       P     51  SER     CA   7.195534\n",
       "29887       P     49  ARG     CA       P     50  ARG     CA   3.829051\n",
       "29888       P     49  ARG     CA       P     51  SER     CA   6.734550\n",
       "29889       P     50  ARG     CA       P     51  SER     CA   3.807461\n",
       "\n",
       "[29890 rows x 9 columns]"
      ]
     },
     "execution_count": 14,
     "metadata": {},
     "output_type": "execute_result"
    }
   ],
   "source": [
    "df = pd.DataFrame(dist_all_6yp3, columns = ['chain_a', 'pos_a', 'aa_a', 'atom_a', 'chain_b', 'pos_b', 'aa_b', 'atom_b', 'dist'])\n",
    "df"
   ]
  },
  {
   "cell_type": "code",
   "execution_count": 18,
   "metadata": {},
   "outputs": [
    {
     "data": {
      "text/html": [
       "<div>\n",
       "<style scoped>\n",
       "    .dataframe tbody tr th:only-of-type {\n",
       "        vertical-align: middle;\n",
       "    }\n",
       "\n",
       "    .dataframe tbody tr th {\n",
       "        vertical-align: top;\n",
       "    }\n",
       "\n",
       "    .dataframe thead th {\n",
       "        text-align: right;\n",
       "    }\n",
       "</style>\n",
       "<table border=\"1\" class=\"dataframe\">\n",
       "  <thead>\n",
       "    <tr style=\"text-align: right;\">\n",
       "      <th></th>\n",
       "      <th>chain_a</th>\n",
       "      <th>pos_a</th>\n",
       "      <th>aa_a</th>\n",
       "      <th>atom_a</th>\n",
       "      <th>chain_b</th>\n",
       "      <th>pos_b</th>\n",
       "      <th>aa_b</th>\n",
       "      <th>atom_b</th>\n",
       "      <th>dist</th>\n",
       "    </tr>\n",
       "  </thead>\n",
       "  <tbody>\n",
       "    <tr>\n",
       "      <th>1165</th>\n",
       "      <td>A</td>\n",
       "      <td>1</td>\n",
       "      <td>MET</td>\n",
       "      <td>CA</td>\n",
       "      <td>A</td>\n",
       "      <td>2</td>\n",
       "      <td>GLU</td>\n",
       "      <td>CA</td>\n",
       "      <td>3.811132</td>\n",
       "    </tr>\n",
       "    <tr>\n",
       "      <th>1166</th>\n",
       "      <td>A</td>\n",
       "      <td>1</td>\n",
       "      <td>MET</td>\n",
       "      <td>CA</td>\n",
       "      <td>A</td>\n",
       "      <td>3</td>\n",
       "      <td>ARG</td>\n",
       "      <td>CA</td>\n",
       "      <td>6.488035</td>\n",
       "    </tr>\n",
       "    <tr>\n",
       "      <th>1167</th>\n",
       "      <td>A</td>\n",
       "      <td>1</td>\n",
       "      <td>MET</td>\n",
       "      <td>CA</td>\n",
       "      <td>A</td>\n",
       "      <td>4</td>\n",
       "      <td>ALA</td>\n",
       "      <td>CA</td>\n",
       "      <td>8.469985</td>\n",
       "    </tr>\n",
       "    <tr>\n",
       "      <th>1168</th>\n",
       "      <td>A</td>\n",
       "      <td>1</td>\n",
       "      <td>MET</td>\n",
       "      <td>CA</td>\n",
       "      <td>A</td>\n",
       "      <td>5</td>\n",
       "      <td>SER</td>\n",
       "      <td>CA</td>\n",
       "      <td>6.629316</td>\n",
       "    </tr>\n",
       "    <tr>\n",
       "      <th>1169</th>\n",
       "      <td>A</td>\n",
       "      <td>1</td>\n",
       "      <td>MET</td>\n",
       "      <td>CA</td>\n",
       "      <td>A</td>\n",
       "      <td>6</td>\n",
       "      <td>LEU</td>\n",
       "      <td>CA</td>\n",
       "      <td>6.614064</td>\n",
       "    </tr>\n",
       "    <tr>\n",
       "      <th>...</th>\n",
       "      <td>...</td>\n",
       "      <td>...</td>\n",
       "      <td>...</td>\n",
       "      <td>...</td>\n",
       "      <td>...</td>\n",
       "      <td>...</td>\n",
       "      <td>...</td>\n",
       "      <td>...</td>\n",
       "      <td>...</td>\n",
       "    </tr>\n",
       "    <tr>\n",
       "      <th>29885</th>\n",
       "      <td>P</td>\n",
       "      <td>48</td>\n",
       "      <td>GLY</td>\n",
       "      <td>CA</td>\n",
       "      <td>P</td>\n",
       "      <td>50</td>\n",
       "      <td>ARG</td>\n",
       "      <td>CA</td>\n",
       "      <td>5.733504</td>\n",
       "    </tr>\n",
       "    <tr>\n",
       "      <th>29886</th>\n",
       "      <td>P</td>\n",
       "      <td>48</td>\n",
       "      <td>GLY</td>\n",
       "      <td>CA</td>\n",
       "      <td>P</td>\n",
       "      <td>51</td>\n",
       "      <td>SER</td>\n",
       "      <td>CA</td>\n",
       "      <td>7.195534</td>\n",
       "    </tr>\n",
       "    <tr>\n",
       "      <th>29887</th>\n",
       "      <td>P</td>\n",
       "      <td>49</td>\n",
       "      <td>ARG</td>\n",
       "      <td>CA</td>\n",
       "      <td>P</td>\n",
       "      <td>50</td>\n",
       "      <td>ARG</td>\n",
       "      <td>CA</td>\n",
       "      <td>3.829051</td>\n",
       "    </tr>\n",
       "    <tr>\n",
       "      <th>29888</th>\n",
       "      <td>P</td>\n",
       "      <td>49</td>\n",
       "      <td>ARG</td>\n",
       "      <td>CA</td>\n",
       "      <td>P</td>\n",
       "      <td>51</td>\n",
       "      <td>SER</td>\n",
       "      <td>CA</td>\n",
       "      <td>6.734550</td>\n",
       "    </tr>\n",
       "    <tr>\n",
       "      <th>29889</th>\n",
       "      <td>P</td>\n",
       "      <td>50</td>\n",
       "      <td>ARG</td>\n",
       "      <td>CA</td>\n",
       "      <td>P</td>\n",
       "      <td>51</td>\n",
       "      <td>SER</td>\n",
       "      <td>CA</td>\n",
       "      <td>3.807461</td>\n",
       "    </tr>\n",
       "  </tbody>\n",
       "</table>\n",
       "<p>28680 rows × 9 columns</p>\n",
       "</div>"
      ],
      "text/plain": [
       "      chain_a  pos_a aa_a atom_a chain_b  pos_b aa_b atom_b      dist\n",
       "1165        A      1  MET     CA       A      2  GLU     CA  3.811132\n",
       "1166        A      1  MET     CA       A      3  ARG     CA  6.488035\n",
       "1167        A      1  MET     CA       A      4  ALA     CA  8.469985\n",
       "1168        A      1  MET     CA       A      5  SER     CA  6.629316\n",
       "1169        A      1  MET     CA       A      6  LEU     CA  6.614064\n",
       "...       ...    ...  ...    ...     ...    ...  ...    ...       ...\n",
       "29885       P     48  GLY     CA       P     50  ARG     CA  5.733504\n",
       "29886       P     48  GLY     CA       P     51  SER     CA  7.195534\n",
       "29887       P     49  ARG     CA       P     50  ARG     CA  3.829051\n",
       "29888       P     49  ARG     CA       P     51  SER     CA  6.734550\n",
       "29889       P     50  ARG     CA       P     51  SER     CA  3.807461\n",
       "\n",
       "[28680 rows x 9 columns]"
      ]
     },
     "execution_count": 18,
     "metadata": {},
     "output_type": "execute_result"
    }
   ],
   "source": [
    "df = df[(df.pos_a > 0) & (df.pos_b > 0)]\n",
    "df"
   ]
  },
  {
   "cell_type": "code",
   "execution_count": 22,
   "metadata": {},
   "outputs": [
    {
     "data": {
      "text/plain": [
       "<AxesSubplot:>"
      ]
     },
     "execution_count": 22,
     "metadata": {},
     "output_type": "execute_result"
    },
    {
     "data": {
      "image/png": "[encoded data removed]",
      "text/plain": [
       "<Figure size 432x288 with 1 Axes>"
      ]
     },
     "metadata": {
      "needs_background": "light"
     },
     "output_type": "display_data"
    }
   ],
   "source": [
    "df[df.dist <= 6].dist.plot(kind= 'box')"
   ]
  },
  {
   "cell_type": "markdown",
   "metadata": {},
   "source": [
    "pasos:  \n",
    "- medir distancias entre los aa del KD con los del CRE  \n",
    "- marcar los aa cataliticos"
   ]
  },
  {
   "cell_type": "code",
   "execution_count": null,
   "metadata": {},
   "outputs": [],
   "source": []
  },
  {
   "cell_type": "code",
   "execution_count": 25,
   "metadata": {},
   "outputs": [],
   "source": [
    "from itertools import product"
   ]
  },
  {
   "cell_type": "code",
   "execution_count": 31,
   "metadata": {},
   "outputs": [
    {
     "data": {
      "text/plain": [
       "[(1, 3), (1, 4), (2, 3), (2, 4)]"
      ]
     },
     "execution_count": 31,
     "metadata": {},
     "output_type": "execute_result"
    }
   ],
   "source": [
    "list(product([1, 2], [3,4]))"
   ]
  },
  {
   "cell_type": "code",
   "execution_count": 33,
   "metadata": {},
   "outputs": [],
   "source": [
    "from distances import Distances"
   ]
  },
  {
   "cell_type": "code",
   "execution_count": 43,
   "metadata": {},
   "outputs": [],
   "source": [
    "# for l in dist_cb_6yp3:\n",
    "#     for elem in l:\n",
    "#         print(elem)\n",
    "#     # for chain_a, pos_a, chain_b, pos_b, dist in l:\n",
    "#     #     print(chain_a, pos_a, chain_b, pos_b, dist)"
   ]
  },
  {
   "cell_type": "code",
   "execution_count": 35,
   "metadata": {},
   "outputs": [
    {
     "ename": "TypeError",
     "evalue": "is_contact() missing 4 required positional arguments: 'chain_a', 'pos_a', 'chain_b', and 'pos_b'",
     "output_type": "error",
     "traceback": [
      "\u001b[1;31m---------------------------------------------------------------------------\u001b[0m",
      "\u001b[1;31mTypeError\u001b[0m                                 Traceback (most recent call last)",
      "\u001b[1;32m<ipython-input-35-4db78e80656e>\u001b[0m in \u001b[0;36m<module>\u001b[1;34m\u001b[0m\n\u001b[1;32m----> 1\u001b[1;33m \u001b[0mDistances\u001b[0m\u001b[1;33m.\u001b[0m\u001b[0mis_contact\u001b[0m\u001b[1;33m(\u001b[0m\u001b[0mdist_cb_6yp3\u001b[0m\u001b[1;33m)\u001b[0m\u001b[1;33m\u001b[0m\u001b[1;33m\u001b[0m\u001b[0m\n\u001b[0m",
      "\u001b[1;31mTypeError\u001b[0m: is_contact() missing 4 required positional arguments: 'chain_a', 'pos_a', 'chain_b', and 'pos_b'"
     ]
    }
   ],
   "source": [
    "Distances.is_contact(dist_cb_6yp3)"
   ]
  },
  {
   "cell_type": "code",
   "execution_count": 17,
   "metadata": {},
   "outputs": [],
   "source": [
    "distances.save_distances(dist_6yp3, '../datasets/dist_6yp3')"
   ]
  }
 ],
 "metadata": {
  "kernelspec": {
   "display_name": "Python 3.7.9 64-bit",
   "language": "python",
   "name": "python3"
  },
  "language_info": {
   "codemirror_mode": {
    "name": "ipython",
    "version": 3
   },
   "file_extension": ".py",
   "mimetype": "text/x-python",
   "name": "python",
   "nbconvert_exporter": "python",
   "pygments_lexer": "ipython3",
   "version": "3.7.9"
  },
  "orig_nbformat": 4,
  "vscode": {
   "interpreter": {
    "hash": "82d4c6f819cf47785f735f902f00da8643513d08dab4f4c7470bccf934b8d2d6"
   }
  }
 },
 "nbformat": 4,
 "nbformat_minor": 2
}
