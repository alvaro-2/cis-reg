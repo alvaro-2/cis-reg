{
 "cells": [
  {
   "attachments": {},
   "cell_type": "markdown",
   "metadata": {},
   "source": [
    "map all the IDRs from disprot to the CRE dataset  \n",
    "Disprot info:\n",
    "Version: 9.2\n",
    "Release: 2022_06\n",
    "Number of entries: 2419"
   ]
  },
  {
   "cell_type": "code",
   "execution_count": 1,
   "metadata": {},
   "outputs": [],
   "source": [
    "import pandas as pd\n",
    "import numpy as np\n",
    "import re\n",
    "import pyranges as pr\n",
    "import matplotlib.pyplot as plt\n",
    "import requests"
   ]
  },
  {
   "attachments": {},
   "cell_type": "markdown",
   "metadata": {},
   "source": [
    "# Old"
   ]
  },
  {
   "cell_type": "code",
   "execution_count": 2,
   "metadata": {},
   "outputs": [],
   "source": [
    "cre_dataset = pd.read_csv('../datasets/cre_dataset.csv')"
   ]
  },
  {
   "cell_type": "code",
   "execution_count": 3,
   "metadata": {},
   "outputs": [
    {
     "data": {
      "text/html": [
       "<div>\n",
       "<style scoped>\n",
       "    .dataframe tbody tr th:only-of-type {\n",
       "        vertical-align: middle;\n",
       "    }\n",
       "\n",
       "    .dataframe tbody tr th {\n",
       "        vertical-align: top;\n",
       "    }\n",
       "\n",
       "    .dataframe thead th {\n",
       "        text-align: right;\n",
       "    }\n",
       "</style>\n",
       "<table border=\"1\" class=\"dataframe\">\n",
       "  <thead>\n",
       "    <tr style=\"text-align: right;\">\n",
       "      <th></th>\n",
       "      <th>name</th>\n",
       "      <th>uniprot_acc</th>\n",
       "      <th>species</th>\n",
       "      <th>references</th>\n",
       "      <th>module</th>\n",
       "      <th>start_aa</th>\n",
       "      <th>end_aa</th>\n",
       "      <th>dataset</th>\n",
       "      <th>id_cre</th>\n",
       "    </tr>\n",
       "  </thead>\n",
       "  <tbody>\n",
       "    <tr>\n",
       "      <th>0</th>\n",
       "      <td>DNMT1</td>\n",
       "      <td>P13864</td>\n",
       "      <td>M. musculus</td>\n",
       "      <td>(Song et al., 2011; Trudeau et al., 2013)</td>\n",
       "      <td>d</td>\n",
       "      <td>699</td>\n",
       "      <td>733</td>\n",
       "      <td>train</td>\n",
       "      <td>1</td>\n",
       "    </tr>\n",
       "    <tr>\n",
       "      <th>1</th>\n",
       "      <td>TBP</td>\n",
       "      <td>P20226</td>\n",
       "      <td>H. sapiens</td>\n",
       "      <td>(Kuddus and Schmidt, 1993; Trudeau et al., 2013)</td>\n",
       "      <td>d</td>\n",
       "      <td>1</td>\n",
       "      <td>55</td>\n",
       "      <td>train</td>\n",
       "      <td>2</td>\n",
       "    </tr>\n",
       "    <tr>\n",
       "      <th>2</th>\n",
       "      <td>TAK1</td>\n",
       "      <td>Q62073</td>\n",
       "      <td>M. musculus</td>\n",
       "      <td>(Yamaguchi et al., 1995)</td>\n",
       "      <td>d</td>\n",
       "      <td>1</td>\n",
       "      <td>22</td>\n",
       "      <td>train</td>\n",
       "      <td>3</td>\n",
       "    </tr>\n",
       "    <tr>\n",
       "      <th>3</th>\n",
       "      <td>SNF1</td>\n",
       "      <td>P06782</td>\n",
       "      <td>S. crevisiae</td>\n",
       "      <td>(Jiang and Carlson, 1997; Trudeau et al., 2013)</td>\n",
       "      <td>d</td>\n",
       "      <td>392</td>\n",
       "      <td>495</td>\n",
       "      <td>train</td>\n",
       "      <td>4</td>\n",
       "    </tr>\n",
       "    <tr>\n",
       "      <th>4</th>\n",
       "      <td>TSE1</td>\n",
       "      <td>P10644</td>\n",
       "      <td>H. sapiens</td>\n",
       "      <td>(Francis et al., 2002)</td>\n",
       "      <td>d</td>\n",
       "      <td>1</td>\n",
       "      <td>98</td>\n",
       "      <td>train</td>\n",
       "      <td>5</td>\n",
       "    </tr>\n",
       "    <tr>\n",
       "      <th>...</th>\n",
       "      <td>...</td>\n",
       "      <td>...</td>\n",
       "      <td>...</td>\n",
       "      <td>...</td>\n",
       "      <td>...</td>\n",
       "      <td>...</td>\n",
       "      <td>...</td>\n",
       "      <td>...</td>\n",
       "      <td>...</td>\n",
       "    </tr>\n",
       "    <tr>\n",
       "      <th>163</th>\n",
       "      <td>NLRC4</td>\n",
       "      <td>Q3UP24</td>\n",
       "      <td>M. musculus</td>\n",
       "      <td>(Hu et al., 2013)</td>\n",
       "      <td>s</td>\n",
       "      <td>299</td>\n",
       "      <td>355</td>\n",
       "      <td>test</td>\n",
       "      <td>164</td>\n",
       "    </tr>\n",
       "    <tr>\n",
       "      <th>164</th>\n",
       "      <td>Park2</td>\n",
       "      <td>Q9JK66</td>\n",
       "      <td>R. norvegicus</td>\n",
       "      <td>(Byrd and Weissman, 2013)</td>\n",
       "      <td>s</td>\n",
       "      <td>410</td>\n",
       "      <td>465</td>\n",
       "      <td>test</td>\n",
       "      <td>165</td>\n",
       "    </tr>\n",
       "    <tr>\n",
       "      <th>165</th>\n",
       "      <td>EB1</td>\n",
       "      <td>Q15691</td>\n",
       "      <td>H. sapiens</td>\n",
       "      <td>(Kanaba et al., 2013)</td>\n",
       "      <td>s</td>\n",
       "      <td>189</td>\n",
       "      <td>268</td>\n",
       "      <td>test</td>\n",
       "      <td>166</td>\n",
       "    </tr>\n",
       "    <tr>\n",
       "      <th>166</th>\n",
       "      <td>gp47</td>\n",
       "      <td>P04521</td>\n",
       "      <td>Enterobacteria phage T4</td>\n",
       "      <td>(Gao and Nelson, 2014)</td>\n",
       "      <td>s</td>\n",
       "      <td>303</td>\n",
       "      <td>320</td>\n",
       "      <td>test</td>\n",
       "      <td>167</td>\n",
       "    </tr>\n",
       "    <tr>\n",
       "      <th>167</th>\n",
       "      <td>nPKC-iota</td>\n",
       "      <td>P41743</td>\n",
       "      <td>H. sapiens</td>\n",
       "      <td>(Ivey et al., 2014)</td>\n",
       "      <td>s</td>\n",
       "      <td>123</td>\n",
       "      <td>140</td>\n",
       "      <td>test</td>\n",
       "      <td>168</td>\n",
       "    </tr>\n",
       "  </tbody>\n",
       "</table>\n",
       "<p>168 rows × 9 columns</p>\n",
       "</div>"
      ],
      "text/plain": [
       "          name uniprot_acc                  species  \\\n",
       "0        DNMT1      P13864              M. musculus   \n",
       "1          TBP      P20226               H. sapiens   \n",
       "2         TAK1      Q62073              M. musculus   \n",
       "3         SNF1      P06782             S. crevisiae   \n",
       "4         TSE1      P10644               H. sapiens   \n",
       "..         ...         ...                      ...   \n",
       "163      NLRC4      Q3UP24              M. musculus   \n",
       "164      Park2      Q9JK66            R. norvegicus   \n",
       "165        EB1      Q15691               H. sapiens   \n",
       "166       gp47      P04521  Enterobacteria phage T4   \n",
       "167  nPKC-iota      P41743               H. sapiens   \n",
       "\n",
       "                                           references module  start_aa  \\\n",
       "0           (Song et al., 2011; Trudeau et al., 2013)      d       699   \n",
       "1    (Kuddus and Schmidt, 1993; Trudeau et al., 2013)      d         1   \n",
       "2                            (Yamaguchi et al., 1995)      d         1   \n",
       "3     (Jiang and Carlson, 1997; Trudeau et al., 2013)      d       392   \n",
       "4                              (Francis et al., 2002)      d         1   \n",
       "..                                                ...    ...       ...   \n",
       "163                                 (Hu et al., 2013)      s       299   \n",
       "164                         (Byrd and Weissman, 2013)      s       410   \n",
       "165                             (Kanaba et al., 2013)      s       189   \n",
       "166                            (Gao and Nelson, 2014)      s       303   \n",
       "167                               (Ivey et al., 2014)      s       123   \n",
       "\n",
       "     end_aa dataset  id_cre  \n",
       "0       733   train       1  \n",
       "1        55   train       2  \n",
       "2        22   train       3  \n",
       "3       495   train       4  \n",
       "4        98   train       5  \n",
       "..      ...     ...     ...  \n",
       "163     355    test     164  \n",
       "164     465    test     165  \n",
       "165     268    test     166  \n",
       "166     320    test     167  \n",
       "167     140    test     168  \n",
       "\n",
       "[168 rows x 9 columns]"
      ]
     },
     "execution_count": 3,
     "metadata": {},
     "output_type": "execute_result"
    }
   ],
   "source": [
    "cre_dataset"
   ]
  },
  {
   "cell_type": "code",
   "execution_count": 7,
   "metadata": {},
   "outputs": [
    {
     "data": {
      "text/plain": [
       "Text(0.5, 1.0, 'distribution of Length of CREs')"
      ]
     },
     "execution_count": 7,
     "metadata": {},
     "output_type": "execute_result"
    },
    {
     "data": {
      "image/png": "[encoded data removed]",
      "text/plain": [
       "<Figure size 432x288 with 1 Axes>"
      ]
     },
     "metadata": {
      "needs_background": "light"
     },
     "output_type": "display_data"
    }
   ],
   "source": [
    "(cre_dataset.end_aa - cre_dataset.start_aa).plot.box()\n",
    "plt.title(\"distribution of Length of CREs\")"
   ]
  },
  {
   "cell_type": "code",
   "execution_count": 6,
   "metadata": {},
   "outputs": [
    {
     "data": {
      "text/plain": [
       "0      False\n",
       "1      False\n",
       "2      False\n",
       "3       True\n",
       "4      False\n",
       "       ...  \n",
       "163    False\n",
       "164    False\n",
       "165    False\n",
       "166    False\n",
       "167    False\n",
       "Length: 168, dtype: bool"
      ]
     },
     "execution_count": 6,
     "metadata": {},
     "output_type": "execute_result"
    }
   ],
   "source": [
    "(cre_dataset.end_aa - cre_dataset.start_aa) > 100"
   ]
  },
  {
   "cell_type": "code",
   "execution_count": 7,
   "metadata": {},
   "outputs": [
    {
     "name": "stdout",
     "output_type": "stream",
     "text": [
      "<class 'pandas.core.frame.DataFrame'>\n",
      "RangeIndex: 10337 entries, 0 to 10336\n",
      "Data columns (total 15 columns):\n",
      " #   Column           Non-Null Count  Dtype  \n",
      "---  ------           --------------  -----  \n",
      " 0   acc              10337 non-null  object \n",
      " 1   name             10337 non-null  object \n",
      " 2   organism         10337 non-null  object \n",
      " 3   ncbi_taxon_id    10337 non-null  int64  \n",
      " 4   disprot_id       10337 non-null  object \n",
      " 5   region_id        10337 non-null  object \n",
      " 6   start            10337 non-null  int64  \n",
      " 7   end              10337 non-null  int64  \n",
      " 8   term_namespace   10337 non-null  object \n",
      " 9   term             10337 non-null  object \n",
      " 10  ec               10337 non-null  object \n",
      " 11  reference        10337 non-null  object \n",
      " 12  region_sequence  10337 non-null  object \n",
      " 13  confidence       511 non-null    object \n",
      " 14  obsolete         0 non-null      float64\n",
      "dtypes: float64(1), int64(3), object(11)\n",
      "memory usage: 1.2+ MB\n"
     ]
    }
   ],
   "source": [
    "disprot_raw = pd.read_csv('../raw_data/DisProt release_2022_06 with_ambiguous_evidences.tsv', sep= '\\t')\n",
    "disprot_raw.info()"
   ]
  },
  {
   "cell_type": "code",
   "execution_count": 8,
   "metadata": {},
   "outputs": [
    {
     "data": {
      "text/plain": [
       "2419"
      ]
     },
     "execution_count": 8,
     "metadata": {},
     "output_type": "execute_result"
    }
   ],
   "source": [
    "# unique entries\n",
    "disprot_raw.acc.nunique()"
   ]
  },
  {
   "cell_type": "code",
   "execution_count": 9,
   "metadata": {},
   "outputs": [
    {
     "data": {
      "text/html": [
       "<div>\n",
       "<style scoped>\n",
       "    .dataframe tbody tr th:only-of-type {\n",
       "        vertical-align: middle;\n",
       "    }\n",
       "\n",
       "    .dataframe tbody tr th {\n",
       "        vertical-align: top;\n",
       "    }\n",
       "\n",
       "    .dataframe thead th {\n",
       "        text-align: right;\n",
       "    }\n",
       "</style>\n",
       "<table border=\"1\" class=\"dataframe\">\n",
       "  <thead>\n",
       "    <tr style=\"text-align: right;\">\n",
       "      <th></th>\n",
       "      <th>acc</th>\n",
       "      <th>name</th>\n",
       "      <th>start</th>\n",
       "      <th>end</th>\n",
       "    </tr>\n",
       "  </thead>\n",
       "  <tbody>\n",
       "    <tr>\n",
       "      <th>0</th>\n",
       "      <td>P03265</td>\n",
       "      <td>DNA-binding protein</td>\n",
       "      <td>294</td>\n",
       "      <td>334</td>\n",
       "    </tr>\n",
       "    <tr>\n",
       "      <th>1</th>\n",
       "      <td>P03265</td>\n",
       "      <td>DNA-binding protein</td>\n",
       "      <td>454</td>\n",
       "      <td>464</td>\n",
       "    </tr>\n",
       "    <tr>\n",
       "      <th>2</th>\n",
       "      <td>P49913</td>\n",
       "      <td>Cathelicidin antimicrobial peptide</td>\n",
       "      <td>134</td>\n",
       "      <td>170</td>\n",
       "    </tr>\n",
       "    <tr>\n",
       "      <th>3</th>\n",
       "      <td>P49913</td>\n",
       "      <td>Cathelicidin antimicrobial peptide</td>\n",
       "      <td>134</td>\n",
       "      <td>170</td>\n",
       "    </tr>\n",
       "    <tr>\n",
       "      <th>4</th>\n",
       "      <td>P49913</td>\n",
       "      <td>Cathelicidin antimicrobial peptide</td>\n",
       "      <td>134</td>\n",
       "      <td>170</td>\n",
       "    </tr>\n",
       "    <tr>\n",
       "      <th>...</th>\n",
       "      <td>...</td>\n",
       "      <td>...</td>\n",
       "      <td>...</td>\n",
       "      <td>...</td>\n",
       "    </tr>\n",
       "    <tr>\n",
       "      <th>10332</th>\n",
       "      <td>P40939</td>\n",
       "      <td>Trifunctional enzyme subunit alpha, mitochondrial</td>\n",
       "      <td>637</td>\n",
       "      <td>647</td>\n",
       "    </tr>\n",
       "    <tr>\n",
       "      <th>10333</th>\n",
       "      <td>Q6CSX2</td>\n",
       "      <td>Serine/threonine-protein kinase ATG1</td>\n",
       "      <td>562</td>\n",
       "      <td>831</td>\n",
       "    </tr>\n",
       "    <tr>\n",
       "      <th>10334</th>\n",
       "      <td>Q6CSX2</td>\n",
       "      <td>Serine/threonine-protein kinase ATG1</td>\n",
       "      <td>562</td>\n",
       "      <td>831</td>\n",
       "    </tr>\n",
       "    <tr>\n",
       "      <th>10335</th>\n",
       "      <td>Q8IYT8</td>\n",
       "      <td>Serine/threonine-protein kinase ULK2</td>\n",
       "      <td>168</td>\n",
       "      <td>177</td>\n",
       "    </tr>\n",
       "    <tr>\n",
       "      <th>10336</th>\n",
       "      <td>Q9UHK0</td>\n",
       "      <td>Nuclear fragile X mental retardation-interacti...</td>\n",
       "      <td>486</td>\n",
       "      <td>495</td>\n",
       "    </tr>\n",
       "  </tbody>\n",
       "</table>\n",
       "<p>10337 rows × 4 columns</p>\n",
       "</div>"
      ],
      "text/plain": [
       "          acc                                               name  start  end\n",
       "0      P03265                                DNA-binding protein    294  334\n",
       "1      P03265                                DNA-binding protein    454  464\n",
       "2      P49913                 Cathelicidin antimicrobial peptide    134  170\n",
       "3      P49913                 Cathelicidin antimicrobial peptide    134  170\n",
       "4      P49913                 Cathelicidin antimicrobial peptide    134  170\n",
       "...       ...                                                ...    ...  ...\n",
       "10332  P40939  Trifunctional enzyme subunit alpha, mitochondrial    637  647\n",
       "10333  Q6CSX2               Serine/threonine-protein kinase ATG1    562  831\n",
       "10334  Q6CSX2               Serine/threonine-protein kinase ATG1    562  831\n",
       "10335  Q8IYT8               Serine/threonine-protein kinase ULK2    168  177\n",
       "10336  Q9UHK0  Nuclear fragile X mental retardation-interacti...    486  495\n",
       "\n",
       "[10337 rows x 4 columns]"
      ]
     },
     "execution_count": 9,
     "metadata": {},
     "output_type": "execute_result"
    }
   ],
   "source": [
    "disprot = disprot_raw[['acc', 'name', 'start', 'end']]\n",
    "disprot"
   ]
  },
  {
   "cell_type": "code",
   "execution_count": 10,
   "metadata": {},
   "outputs": [
    {
     "data": {
      "text/plain": [
       "39"
      ]
     },
     "execution_count": 10,
     "metadata": {},
     "output_type": "execute_result"
    }
   ],
   "source": [
    "disprot[disprot.acc.isin(cre_dataset.uniprot_acc)].acc.nunique()"
   ]
  },
  {
   "cell_type": "code",
   "execution_count": 11,
   "metadata": {},
   "outputs": [
    {
     "data": {
      "text/plain": [
       "151"
      ]
     },
     "execution_count": 11,
     "metadata": {},
     "output_type": "execute_result"
    }
   ],
   "source": [
    "cre_dataset.uniprot_acc.nunique()"
   ]
  },
  {
   "cell_type": "code",
   "execution_count": 12,
   "metadata": {},
   "outputs": [],
   "source": [
    "#https://mobidb.bio.unipd.it/api/download?acc.....&format=tsv&projection=prediction-disorder-mobidb_lite\n",
    "uniprots = [ str(i)+\",\" for i in cre_dataset.uniprot_acc.unique()]\n",
    "#\"\".join(uniprots)"
   ]
  },
  {
   "attachments": {},
   "cell_type": "markdown",
   "metadata": {},
   "source": [
    "API search in mobidb for CRE proteins  \n",
    "https://mobidb.bio.unipd.it/api/download?acc=P13864,P20226,Q62073,P06782,P10644,P15498,Q63450,P00523,P10105,P28829,P45442,P49674,Q93107,C8ZE58,O76360,P63328,O88933,O94532,P26038,P32851,P42768,Q13153,Q60591,Q60437,Q5VT25,P52293,Q6FI27,Q9PUQ1,P33339,P06401,P11308,P27577,P31323,P31751,A8KAM8,P15336,P19419,P28324,P41971,P43403,Q07960,Q9H2X6,O08967,O96013,Q9NR80,P35968,Q08050,Q8VDP3,P17948,P35916,Q00722,Q13625,Q9Y613,O14974,Q8NQJ3,Q8Y842,P97360,Q08499,O08808,O14745,O43639,Q07912,Q8WUM4,Q9Y4D1,Q06413,P00579,P11799,P05129,P00782,Q64287,Q94527,P36956,Q63622,Q00422,Q12851,Q8IVH8,P17606,P26663,P29475,P31007,Q9UKW6,P55957,P04629,Q16620,P12814,Q01705,P53041,P10911,P29323,P35520,P50586,Q96RG2,Q62120,P00519,P70336,O15146,P06213,P10721,P12003,P14633,P36888,P19174,P78545,Q00944,Q04721,Q9Y2X7,P70208,O08722,O74536,Q99N57,Q9NP95,P11142,Q9Y4K3,Q07889,P08191,Q9Z0R4,Q5EGY4,Q92985,O76074,Q96RR4,Q9P246,P14598,P17210,P04637,P13508,P22607,Q15027,Q86WV6,Q06263,P32527,Q04206,Q15942,Q01970,Q9UR24,O97143,P46108,Q06124,Q3KK31,Q96B97,Q9H7B4,Q9HAU4,Q01974,P22681,P32917,Q15418,Q9BY11,Q3UP24,Q9JK66,Q15691,P04521,P41743&format=tsv&projection=prediction-disorder-mobidb_lite"
   ]
  },
  {
   "cell_type": "code",
   "execution_count": 5,
   "metadata": {},
   "outputs": [
    {
     "name": "stdout",
     "output_type": "stream",
     "text": [
      "(115, 6)\n",
      "<class 'pandas.core.frame.DataFrame'>\n",
      "RangeIndex: 115 entries, 0 to 114\n",
      "Data columns (total 6 columns):\n",
      " #   Column            Non-Null Count  Dtype  \n",
      "---  ------            --------------  -----  \n",
      " 0   acc               115 non-null    object \n",
      " 1   feature           115 non-null    object \n",
      " 2   start..end        115 non-null    object \n",
      " 3   content_fraction  115 non-null    float64\n",
      " 4   content_count     115 non-null    int64  \n",
      " 5   length            115 non-null    int64  \n",
      "dtypes: float64(1), int64(2), object(3)\n",
      "memory usage: 5.5+ KB\n"
     ]
    }
   ],
   "source": [
    "mobidb_lite = pd.read_csv('../raw_data/mobidb_result_2022-09-05T15_04_47.929Z.tsv', sep= '\\t')\n",
    "print(mobidb_lite.shape)\n",
    "mobidb_lite.info()"
   ]
  },
  {
   "cell_type": "code",
   "execution_count": 14,
   "metadata": {},
   "outputs": [],
   "source": [
    "# Format start and end cols\n",
    "mobidb_lite[\"start..end\"] = mobidb_lite[\"start..end\"].str.split(\",\")\n",
    "mobidb_lite = mobidb_lite.explode('start..end')\n",
    "mobidb_lite[\"start..end\"] = mobidb_lite[\"start..end\"].apply(lambda x: re.findall('^(\\d+)\\..(\\d+)$', x))\n",
    "mobidb_lite[\"start..end\"] = mobidb_lite[\"start..end\"].str[0]\n",
    "mobidb_lite[\"start\"] = mobidb_lite[\"start..end\"].str[0].astype(int)\n",
    "mobidb_lite[\"end\"] = mobidb_lite[\"start..end\"].str[1].astype(int)"
   ]
  },
  {
   "cell_type": "code",
   "execution_count": 15,
   "metadata": {},
   "outputs": [
    {
     "name": "stdout",
     "output_type": "stream",
     "text": [
      "<class 'pandas.core.frame.DataFrame'>\n",
      "Int64Index: 270 entries, 0 to 114\n",
      "Data columns (total 8 columns):\n",
      " #   Column            Non-Null Count  Dtype  \n",
      "---  ------            --------------  -----  \n",
      " 0   acc               270 non-null    object \n",
      " 1   feature           270 non-null    object \n",
      " 2   start..end        270 non-null    object \n",
      " 3   content_fraction  270 non-null    float64\n",
      " 4   content_count     270 non-null    int64  \n",
      " 5   length            270 non-null    int64  \n",
      " 6   start             270 non-null    int32  \n",
      " 7   end               270 non-null    int32  \n",
      "dtypes: float64(1), int32(2), int64(2), object(3)\n",
      "memory usage: 16.9+ KB\n"
     ]
    }
   ],
   "source": [
    "mobidb_lite.info()"
   ]
  },
  {
   "cell_type": "code",
   "execution_count": 16,
   "metadata": {},
   "outputs": [
    {
     "data": {
      "text/plain": [
       "151"
      ]
     },
     "execution_count": 16,
     "metadata": {},
     "output_type": "execute_result"
    }
   ],
   "source": [
    "cre_dataset.uniprot_acc.nunique()"
   ]
  },
  {
   "cell_type": "code",
   "execution_count": 17,
   "metadata": {},
   "outputs": [
    {
     "data": {
      "text/plain": [
       "115"
      ]
     },
     "execution_count": 17,
     "metadata": {},
     "output_type": "execute_result"
    }
   ],
   "source": [
    "mobidb_lite.acc.nunique()"
   ]
  },
  {
   "cell_type": "code",
   "execution_count": 18,
   "metadata": {},
   "outputs": [],
   "source": [
    "mobidb_lite.drop(columns= [\"feature\", \"start..end\"], inplace= True)"
   ]
  },
  {
   "cell_type": "code",
   "execution_count": 19,
   "metadata": {},
   "outputs": [
    {
     "data": {
      "text/plain": [
       "<AxesSubplot:>"
      ]
     },
     "execution_count": 19,
     "metadata": {},
     "output_type": "execute_result"
    },
    {
     "data": {
      "image/png": "[encoded data removed]",
      "text/plain": [
       "<Figure size 432x288 with 1 Axes>"
      ]
     },
     "metadata": {
      "needs_background": "light"
     },
     "output_type": "display_data"
    }
   ],
   "source": [
    "mobidb_lite.content_fraction.plot.box()"
   ]
  },
  {
   "attachments": {},
   "cell_type": "markdown",
   "metadata": {},
   "source": [
    "---"
   ]
  },
  {
   "attachments": {},
   "cell_type": "markdown",
   "metadata": {},
   "source": [
    "## Evaluate overlap between CREs and MobiDB-lite IDRs"
   ]
  },
  {
   "cell_type": "code",
   "execution_count": 20,
   "metadata": {},
   "outputs": [],
   "source": [
    "# Check overlaps between CREs and IDRs\n",
    "cre = cre_dataset[['uniprot_acc', 'id_cre', 'start_aa', 'end_aa']].copy()\n",
    "cre.rename(columns= {'uniprot_acc': 'Chromosome', 'start_aa': 'Start', 'end_aa': 'End'}, inplace= True)\n",
    "cre = cre.sort_values('id_cre')\n",
    "cre = pr.PyRanges(cre)"
   ]
  },
  {
   "cell_type": "code",
   "execution_count": 21,
   "metadata": {},
   "outputs": [],
   "source": [
    "idr = mobidb_lite[['acc', 'start', 'end']].copy()\n",
    "idr.rename(columns= {\n",
    "        'acc': 'Chromosome',\n",
    "        'start': 'Start',\n",
    "        'end': 'End'}, inplace= True\n",
    ")\n",
    "idr = pr.PyRanges(idr)"
   ]
  },
  {
   "cell_type": "code",
   "execution_count": 22,
   "metadata": {},
   "outputs": [
    {
     "data": {
      "text/html": [
       "<div>\n",
       "<style scoped>\n",
       "    .dataframe tbody tr th:only-of-type {\n",
       "        vertical-align: middle;\n",
       "    }\n",
       "\n",
       "    .dataframe tbody tr th {\n",
       "        vertical-align: top;\n",
       "    }\n",
       "\n",
       "    .dataframe thead th {\n",
       "        text-align: right;\n",
       "    }\n",
       "</style>\n",
       "<table border=\"1\" class=\"dataframe\">\n",
       "  <thead>\n",
       "    <tr style=\"text-align: right;\">\n",
       "      <th></th>\n",
       "      <th>Chromosome</th>\n",
       "      <th>id_cre</th>\n",
       "      <th>Start</th>\n",
       "      <th>End</th>\n",
       "      <th>Count_mobidb</th>\n",
       "    </tr>\n",
       "  </thead>\n",
       "  <tbody>\n",
       "    <tr>\n",
       "      <th>0</th>\n",
       "      <td>A8KAM8</td>\n",
       "      <td>43</td>\n",
       "      <td>1006</td>\n",
       "      <td>1106</td>\n",
       "      <td>1</td>\n",
       "    </tr>\n",
       "    <tr>\n",
       "      <th>1</th>\n",
       "      <td>C8ZE58</td>\n",
       "      <td>15</td>\n",
       "      <td>604</td>\n",
       "      <td>741</td>\n",
       "      <td>2</td>\n",
       "    </tr>\n",
       "    <tr>\n",
       "      <th>2</th>\n",
       "      <td>O08722</td>\n",
       "      <td>124</td>\n",
       "      <td>544</td>\n",
       "      <td>688</td>\n",
       "      <td>0</td>\n",
       "    </tr>\n",
       "    <tr>\n",
       "      <th>3</th>\n",
       "      <td>O08808</td>\n",
       "      <td>72</td>\n",
       "      <td>1180</td>\n",
       "      <td>1199</td>\n",
       "      <td>0</td>\n",
       "    </tr>\n",
       "    <tr>\n",
       "      <th>4</th>\n",
       "      <td>O08967</td>\n",
       "      <td>54</td>\n",
       "      <td>251</td>\n",
       "      <td>266</td>\n",
       "      <td>0</td>\n",
       "    </tr>\n",
       "    <tr>\n",
       "      <th>...</th>\n",
       "      <td>...</td>\n",
       "      <td>...</td>\n",
       "      <td>...</td>\n",
       "      <td>...</td>\n",
       "      <td>...</td>\n",
       "    </tr>\n",
       "    <tr>\n",
       "      <th>163</th>\n",
       "      <td>Q63622</td>\n",
       "      <td>86</td>\n",
       "      <td>158</td>\n",
       "      <td>408</td>\n",
       "      <td>0</td>\n",
       "    </tr>\n",
       "    <tr>\n",
       "      <th>164</th>\n",
       "      <td>Q64287</td>\n",
       "      <td>83</td>\n",
       "      <td>410</td>\n",
       "      <td>439</td>\n",
       "      <td>0</td>\n",
       "    </tr>\n",
       "    <tr>\n",
       "      <th>165</th>\n",
       "      <td>Q92985</td>\n",
       "      <td>134</td>\n",
       "      <td>404</td>\n",
       "      <td>466</td>\n",
       "      <td>0</td>\n",
       "    </tr>\n",
       "    <tr>\n",
       "      <th>166</th>\n",
       "      <td>Q93107</td>\n",
       "      <td>14</td>\n",
       "      <td>91</td>\n",
       "      <td>157</td>\n",
       "      <td>2</td>\n",
       "    </tr>\n",
       "    <tr>\n",
       "      <th>167</th>\n",
       "      <td>Q94527</td>\n",
       "      <td>84</td>\n",
       "      <td>640</td>\n",
       "      <td>738</td>\n",
       "      <td>0</td>\n",
       "    </tr>\n",
       "  </tbody>\n",
       "</table>\n",
       "<p>168 rows × 5 columns</p>\n",
       "</div>"
      ],
      "text/plain": [
       "+--------------+-----------+-----------+-----------+----------------+\n",
       "| Chromosome   | id_cre    | Start     | End       | Count_mobidb   |\n",
       "| (category)   | (int64)   | (int32)   | (int32)   | (int64)        |\n",
       "|--------------+-----------+-----------+-----------+----------------|\n",
       "| A8KAM8       | 43        | 1006      | 1106      | 1              |\n",
       "| C8ZE58       | 15        | 604       | 741       | 2              |\n",
       "| O08722       | 124       | 544       | 688       | 0              |\n",
       "| O08808       | 72        | 1180      | 1199      | 0              |\n",
       "| ...          | ...       | ...       | ...       | ...            |\n",
       "| Q64287       | 83        | 410       | 439       | 0              |\n",
       "| Q92985       | 134       | 404       | 466       | 0              |\n",
       "| Q93107       | 14        | 91        | 157       | 2              |\n",
       "| Q94527       | 84        | 640       | 738       | 0              |\n",
       "+--------------+-----------+-----------+-----------+----------------+\n",
       "Unstranded PyRanges object has 168 rows and 5 columns from 151 chromosomes.\n",
       "For printing, the PyRanges was sorted on Chromosome."
      ]
     },
     "execution_count": 22,
     "metadata": {},
     "output_type": "execute_result"
    }
   ],
   "source": [
    "cre = cre.count_overlaps(idr, overlap_col=\"Count_mobidb\")\n",
    "#cre = cre.as_df()\n",
    "cre"
   ]
  },
  {
   "cell_type": "code",
   "execution_count": 23,
   "metadata": {},
   "outputs": [
    {
     "data": {
      "image/png": "[encoded data removed]",
      "text/plain": [
       "<Figure size 432x288 with 1 Axes>"
      ]
     },
     "metadata": {
      "needs_background": "light"
     },
     "output_type": "display_data"
    }
   ],
   "source": [
    "cre.Count_mobidb.value_counts().plot(kind='barh')\n",
    "plt.title(\"Overlap between CREs and Mobidb-lite\")\n",
    "plt.show()"
   ]
  },
  {
   "cell_type": "code",
   "execution_count": 64,
   "metadata": {},
   "outputs": [
    {
     "ename": "TypeError",
     "evalue": "'int' object is not callable",
     "output_type": "error",
     "traceback": [
      "\u001b[1;31m---------------------------------------------------------------------------\u001b[0m",
      "\u001b[1;31mTypeError\u001b[0m                                 Traceback (most recent call last)",
      "\u001b[1;32m<ipython-input-64-a0bf9b940bcf>\u001b[0m in \u001b[0;36m<module>\u001b[1;34m\u001b[0m\n\u001b[1;32m----> 1\u001b[1;33m \u001b[0mprint\u001b[0m\u001b[1;33m(\u001b[0m\u001b[1;34mf\"matching overlap is {cre[cre.Count_mobidb != 0].length()}\"\u001b[0m\u001b[1;33m)\u001b[0m\u001b[1;33m\u001b[0m\u001b[1;33m\u001b[0m\u001b[0m\n\u001b[0m",
      "\u001b[1;31mTypeError\u001b[0m: 'int' object is not callable"
     ]
    }
   ],
   "source": [
    "print(f\"matching overlap is {cre[cre.Count_mobidb != 0]}\")"
   ]
  },
  {
   "cell_type": "code",
   "execution_count": 68,
   "metadata": {},
   "outputs": [
    {
     "data": {
      "text/plain": [
       "0.39"
      ]
     },
     "execution_count": 68,
     "metadata": {},
     "output_type": "execute_result"
    }
   ],
   "source": [
    "round(66/168, 2)"
   ]
  },
  {
   "cell_type": "code",
   "execution_count": 61,
   "metadata": {},
   "outputs": [
    {
     "data": {
      "image/png": "[encoded data removed]",
      "text/plain": [
       "<Figure size 432x288 with 1 Axes>"
      ]
     },
     "metadata": {
      "needs_background": "light"
     },
     "output_type": "display_data"
    }
   ],
   "source": [
    "cre[cre.Count_mobidb != 0].as_df().Count_mobidb.value_counts().plot(kind='barh')\n",
    "plt.title(\"Only overlapping intervals\")\n",
    "plt.show()"
   ]
  },
  {
   "attachments": {},
   "cell_type": "markdown",
   "metadata": {},
   "source": [
    "## Overlapping intervals"
   ]
  },
  {
   "cell_type": "code",
   "execution_count": 53,
   "metadata": {},
   "outputs": [
    {
     "data": {
      "text/html": [
       "<div>\n",
       "<style scoped>\n",
       "    .dataframe tbody tr th:only-of-type {\n",
       "        vertical-align: middle;\n",
       "    }\n",
       "\n",
       "    .dataframe tbody tr th {\n",
       "        vertical-align: top;\n",
       "    }\n",
       "\n",
       "    .dataframe thead th {\n",
       "        text-align: right;\n",
       "    }\n",
       "</style>\n",
       "<table border=\"1\" class=\"dataframe\">\n",
       "  <thead>\n",
       "    <tr style=\"text-align: right;\">\n",
       "      <th></th>\n",
       "      <th>Chromosome</th>\n",
       "      <th>id_cre</th>\n",
       "      <th>Start</th>\n",
       "      <th>End</th>\n",
       "      <th>Count_mobidb</th>\n",
       "    </tr>\n",
       "  </thead>\n",
       "  <tbody>\n",
       "    <tr>\n",
       "      <th>0</th>\n",
       "      <td>A8KAM8</td>\n",
       "      <td>43</td>\n",
       "      <td>1006</td>\n",
       "      <td>1106</td>\n",
       "      <td>1</td>\n",
       "    </tr>\n",
       "    <tr>\n",
       "      <th>1</th>\n",
       "      <td>C8ZE58</td>\n",
       "      <td>15</td>\n",
       "      <td>604</td>\n",
       "      <td>741</td>\n",
       "      <td>2</td>\n",
       "    </tr>\n",
       "    <tr>\n",
       "      <th>2</th>\n",
       "      <td>O14745</td>\n",
       "      <td>73</td>\n",
       "      <td>242</td>\n",
       "      <td>328</td>\n",
       "      <td>1</td>\n",
       "    </tr>\n",
       "    <tr>\n",
       "      <th>3</th>\n",
       "      <td>O14974</td>\n",
       "      <td>66</td>\n",
       "      <td>654</td>\n",
       "      <td>714</td>\n",
       "      <td>1</td>\n",
       "    </tr>\n",
       "    <tr>\n",
       "      <th>4</th>\n",
       "      <td>O43639</td>\n",
       "      <td>74</td>\n",
       "      <td>60</td>\n",
       "      <td>109</td>\n",
       "      <td>1</td>\n",
       "    </tr>\n",
       "    <tr>\n",
       "      <th>...</th>\n",
       "      <td>...</td>\n",
       "      <td>...</td>\n",
       "      <td>...</td>\n",
       "      <td>...</td>\n",
       "      <td>...</td>\n",
       "    </tr>\n",
       "    <tr>\n",
       "      <th>61</th>\n",
       "      <td>Q13625</td>\n",
       "      <td>64</td>\n",
       "      <td>693</td>\n",
       "      <td>901</td>\n",
       "      <td>3</td>\n",
       "    </tr>\n",
       "    <tr>\n",
       "      <th>62</th>\n",
       "      <td>Q15027</td>\n",
       "      <td>143</td>\n",
       "      <td>525</td>\n",
       "      <td>568</td>\n",
       "      <td>1</td>\n",
       "    </tr>\n",
       "    <tr>\n",
       "      <th>63</th>\n",
       "      <td>Q15942</td>\n",
       "      <td>148</td>\n",
       "      <td>1</td>\n",
       "      <td>130</td>\n",
       "      <td>1</td>\n",
       "    </tr>\n",
       "    <tr>\n",
       "      <th>64</th>\n",
       "      <td>Q60437</td>\n",
       "      <td>27</td>\n",
       "      <td>180</td>\n",
       "      <td>317</td>\n",
       "      <td>1</td>\n",
       "    </tr>\n",
       "    <tr>\n",
       "      <th>65</th>\n",
       "      <td>Q93107</td>\n",
       "      <td>14</td>\n",
       "      <td>91</td>\n",
       "      <td>157</td>\n",
       "      <td>2</td>\n",
       "    </tr>\n",
       "  </tbody>\n",
       "</table>\n",
       "<p>66 rows × 5 columns</p>\n",
       "</div>"
      ],
      "text/plain": [
       "+--------------+-----------+-----------+-----------+----------------+\n",
       "| Chromosome   | id_cre    | Start     | End       | Count_mobidb   |\n",
       "| (category)   | (int64)   | (int32)   | (int32)   | (int64)        |\n",
       "|--------------+-----------+-----------+-----------+----------------|\n",
       "| A8KAM8       | 43        | 1006      | 1106      | 1              |\n",
       "| C8ZE58       | 15        | 604       | 741       | 2              |\n",
       "| O14745       | 73        | 242       | 328       | 1              |\n",
       "| O14974       | 66        | 654       | 714       | 1              |\n",
       "| ...          | ...       | ...       | ...       | ...            |\n",
       "| Q15027       | 143       | 525       | 568       | 1              |\n",
       "| Q15942       | 148       | 1         | 130       | 1              |\n",
       "| Q60437       | 27        | 180       | 317       | 1              |\n",
       "| Q93107       | 14        | 91        | 157       | 2              |\n",
       "+--------------+-----------+-----------+-----------+----------------+\n",
       "Unstranded PyRanges object has 66 rows and 5 columns from 64 chromosomes.\n",
       "For printing, the PyRanges was sorted on Chromosome."
      ]
     },
     "execution_count": 53,
     "metadata": {},
     "output_type": "execute_result"
    }
   ],
   "source": [
    "cre.overlap(idr) # how=“containment” reports all intervals where the overlapping is contained within it."
   ]
  },
  {
   "cell_type": "code",
   "execution_count": 54,
   "metadata": {},
   "outputs": [
    {
     "data": {
      "text/html": [
       "<div>\n",
       "<style scoped>\n",
       "    .dataframe tbody tr th:only-of-type {\n",
       "        vertical-align: middle;\n",
       "    }\n",
       "\n",
       "    .dataframe tbody tr th {\n",
       "        vertical-align: top;\n",
       "    }\n",
       "\n",
       "    .dataframe thead th {\n",
       "        text-align: right;\n",
       "    }\n",
       "</style>\n",
       "<table border=\"1\" class=\"dataframe\">\n",
       "  <thead>\n",
       "    <tr style=\"text-align: right;\">\n",
       "      <th></th>\n",
       "      <th>acc</th>\n",
       "      <th>content_fraction</th>\n",
       "      <th>content_count</th>\n",
       "      <th>length</th>\n",
       "      <th>start</th>\n",
       "      <th>end</th>\n",
       "    </tr>\n",
       "  </thead>\n",
       "  <tbody>\n",
       "    <tr>\n",
       "      <th>1</th>\n",
       "      <td>C8ZE58</td>\n",
       "      <td>0.095</td>\n",
       "      <td>84</td>\n",
       "      <td>886</td>\n",
       "      <td>1</td>\n",
       "      <td>28</td>\n",
       "    </tr>\n",
       "    <tr>\n",
       "      <th>1</th>\n",
       "      <td>C8ZE58</td>\n",
       "      <td>0.095</td>\n",
       "      <td>84</td>\n",
       "      <td>886</td>\n",
       "      <td>673</td>\n",
       "      <td>705</td>\n",
       "    </tr>\n",
       "    <tr>\n",
       "      <th>1</th>\n",
       "      <td>C8ZE58</td>\n",
       "      <td>0.095</td>\n",
       "      <td>84</td>\n",
       "      <td>886</td>\n",
       "      <td>734</td>\n",
       "      <td>756</td>\n",
       "    </tr>\n",
       "  </tbody>\n",
       "</table>\n",
       "</div>"
      ],
      "text/plain": [
       "      acc  content_fraction  content_count  length  start  end\n",
       "1  C8ZE58             0.095             84     886      1   28\n",
       "1  C8ZE58             0.095             84     886    673  705\n",
       "1  C8ZE58             0.095             84     886    734  756"
      ]
     },
     "execution_count": 54,
     "metadata": {},
     "output_type": "execute_result"
    }
   ],
   "source": [
    "mobidb_lite[mobidb_lite.acc == 'C8ZE58']"
   ]
  },
  {
   "cell_type": "code",
   "execution_count": null,
   "metadata": {},
   "outputs": [],
   "source": []
  },
  {
   "cell_type": "code",
   "execution_count": null,
   "metadata": {},
   "outputs": [],
   "source": []
  },
  {
   "attachments": {},
   "cell_type": "markdown",
   "metadata": {},
   "source": [
    "## Evaluate overlap between CREs and Disprot IDRs"
   ]
  },
  {
   "cell_type": "code",
   "execution_count": 72,
   "metadata": {},
   "outputs": [
    {
     "name": "stderr",
     "output_type": "stream",
     "text": [
      "c:\\Users\\User\\AppData\\Local\\Programs\\Python\\Python37\\lib\\site-packages\\pandas\\core\\frame.py:4449: SettingWithCopyWarning: \n",
      "A value is trying to be set on a copy of a slice from a DataFrame\n",
      "\n",
      "See the caveats in the documentation: https://pandas.pydata.org/pandas-docs/stable/user_guide/indexing.html#returning-a-view-versus-a-copy\n",
      "  errors=errors,\n"
     ]
    }
   ],
   "source": [
    "disprot.rename(\n",
    "    columns= {\n",
    "        'acc': 'Chromosome'\n",
    "    },\n",
    "    inplace= True\n",
    ")\n",
    "disprot.columns = disprot.columns.str.capitalize()"
   ]
  },
  {
   "cell_type": "code",
   "execution_count": 74,
   "metadata": {},
   "outputs": [],
   "source": [
    "disprot = pr.PyRanges(disprot)"
   ]
  },
  {
   "cell_type": "code",
   "execution_count": 81,
   "metadata": {},
   "outputs": [
    {
     "data": {
      "text/html": [
       "<div>\n",
       "<style scoped>\n",
       "    .dataframe tbody tr th:only-of-type {\n",
       "        vertical-align: middle;\n",
       "    }\n",
       "\n",
       "    .dataframe tbody tr th {\n",
       "        vertical-align: top;\n",
       "    }\n",
       "\n",
       "    .dataframe thead th {\n",
       "        text-align: right;\n",
       "    }\n",
       "</style>\n",
       "<table border=\"1\" class=\"dataframe\">\n",
       "  <thead>\n",
       "    <tr style=\"text-align: right;\">\n",
       "      <th></th>\n",
       "      <th>Chromosome</th>\n",
       "      <th>id_cre</th>\n",
       "      <th>Start</th>\n",
       "      <th>End</th>\n",
       "      <th>Count_mobidb</th>\n",
       "      <th>Count_disprot</th>\n",
       "    </tr>\n",
       "  </thead>\n",
       "  <tbody>\n",
       "    <tr>\n",
       "      <th>0</th>\n",
       "      <td>A8KAM8</td>\n",
       "      <td>43</td>\n",
       "      <td>1006</td>\n",
       "      <td>1106</td>\n",
       "      <td>1</td>\n",
       "      <td>0</td>\n",
       "    </tr>\n",
       "    <tr>\n",
       "      <th>1</th>\n",
       "      <td>C8ZE58</td>\n",
       "      <td>15</td>\n",
       "      <td>604</td>\n",
       "      <td>741</td>\n",
       "      <td>2</td>\n",
       "      <td>0</td>\n",
       "    </tr>\n",
       "    <tr>\n",
       "      <th>2</th>\n",
       "      <td>O08722</td>\n",
       "      <td>124</td>\n",
       "      <td>544</td>\n",
       "      <td>688</td>\n",
       "      <td>0</td>\n",
       "      <td>0</td>\n",
       "    </tr>\n",
       "    <tr>\n",
       "      <th>3</th>\n",
       "      <td>O08808</td>\n",
       "      <td>72</td>\n",
       "      <td>1180</td>\n",
       "      <td>1199</td>\n",
       "      <td>0</td>\n",
       "      <td>0</td>\n",
       "    </tr>\n",
       "    <tr>\n",
       "      <th>4</th>\n",
       "      <td>O08967</td>\n",
       "      <td>54</td>\n",
       "      <td>251</td>\n",
       "      <td>266</td>\n",
       "      <td>0</td>\n",
       "      <td>0</td>\n",
       "    </tr>\n",
       "    <tr>\n",
       "      <th>...</th>\n",
       "      <td>...</td>\n",
       "      <td>...</td>\n",
       "      <td>...</td>\n",
       "      <td>...</td>\n",
       "      <td>...</td>\n",
       "      <td>...</td>\n",
       "    </tr>\n",
       "    <tr>\n",
       "      <th>163</th>\n",
       "      <td>Q63622</td>\n",
       "      <td>86</td>\n",
       "      <td>158</td>\n",
       "      <td>408</td>\n",
       "      <td>0</td>\n",
       "      <td>0</td>\n",
       "    </tr>\n",
       "    <tr>\n",
       "      <th>164</th>\n",
       "      <td>Q64287</td>\n",
       "      <td>83</td>\n",
       "      <td>410</td>\n",
       "      <td>439</td>\n",
       "      <td>0</td>\n",
       "      <td>0</td>\n",
       "    </tr>\n",
       "    <tr>\n",
       "      <th>165</th>\n",
       "      <td>Q92985</td>\n",
       "      <td>134</td>\n",
       "      <td>404</td>\n",
       "      <td>466</td>\n",
       "      <td>0</td>\n",
       "      <td>0</td>\n",
       "    </tr>\n",
       "    <tr>\n",
       "      <th>166</th>\n",
       "      <td>Q93107</td>\n",
       "      <td>14</td>\n",
       "      <td>91</td>\n",
       "      <td>157</td>\n",
       "      <td>2</td>\n",
       "      <td>0</td>\n",
       "    </tr>\n",
       "    <tr>\n",
       "      <th>167</th>\n",
       "      <td>Q94527</td>\n",
       "      <td>84</td>\n",
       "      <td>640</td>\n",
       "      <td>738</td>\n",
       "      <td>0</td>\n",
       "      <td>0</td>\n",
       "    </tr>\n",
       "  </tbody>\n",
       "</table>\n",
       "<p>168 rows × 6 columns</p>\n",
       "</div>"
      ],
      "text/plain": [
       "+--------------+-----------+-----------+-----------+----------------+-------+\n",
       "| Chromosome   | id_cre    | Start     | End       | Count_mobidb   | +1    |\n",
       "| (category)   | (int64)   | (int32)   | (int32)   | (int64)        | ...   |\n",
       "|--------------+-----------+-----------+-----------+----------------+-------|\n",
       "| A8KAM8       | 43        | 1006      | 1106      | 1              | ...   |\n",
       "| C8ZE58       | 15        | 604       | 741       | 2              | ...   |\n",
       "| O08722       | 124       | 544       | 688       | 0              | ...   |\n",
       "| O08808       | 72        | 1180      | 1199      | 0              | ...   |\n",
       "| ...          | ...       | ...       | ...       | ...            | ...   |\n",
       "| Q64287       | 83        | 410       | 439       | 0              | ...   |\n",
       "| Q92985       | 134       | 404       | 466       | 0              | ...   |\n",
       "| Q93107       | 14        | 91        | 157       | 2              | ...   |\n",
       "| Q94527       | 84        | 640       | 738       | 0              | ...   |\n",
       "+--------------+-----------+-----------+-----------+----------------+-------+\n",
       "Unstranded PyRanges object has 168 rows and 6 columns from 151 chromosomes.\n",
       "For printing, the PyRanges was sorted on Chromosome.\n",
       "1 hidden columns: Count_disprot"
      ]
     },
     "execution_count": 81,
     "metadata": {},
     "output_type": "execute_result"
    }
   ],
   "source": [
    "cre = cre.count_overlaps(disprot, overlap_col=\"Count_disprot\")\n",
    "#cre = cre.as_df()\n",
    "cre"
   ]
  },
  {
   "cell_type": "code",
   "execution_count": 91,
   "metadata": {},
   "outputs": [
    {
     "data": {
      "text/plain": [
       "Text(0.5, 1.0, 'Overlap between CREs and Disprot')"
      ]
     },
     "execution_count": 91,
     "metadata": {},
     "output_type": "execute_result"
    },
    {
     "data": {
      "image/png": "[encoded data removed]",
      "text/plain": [
       "<Figure size 432x288 with 1 Axes>"
      ]
     },
     "metadata": {
      "needs_background": "light"
     },
     "output_type": "display_data"
    }
   ],
   "source": [
    "cre.Count_disprot.value_counts().plot(kind= 'barh')\n",
    "plt.title(\"Overlap between CREs and Disprot\")"
   ]
  },
  {
   "cell_type": "code",
   "execution_count": 4,
   "metadata": {},
   "outputs": [],
   "source": [
    "#cre[cre.Count_disprot == 22]"
   ]
  },
  {
   "cell_type": "code",
   "execution_count": 3,
   "metadata": {},
   "outputs": [],
   "source": [
    "# df = disprot_raw[disprot_raw.term_namespace == \"Structural state\"]\n",
    "# df[df.acc == 'P04637']"
   ]
  },
  {
   "cell_type": "code",
   "execution_count": 1,
   "metadata": {},
   "outputs": [],
   "source": [
    "#disprot[disprot.Chromosome == 'P04637']"
   ]
  },
  {
   "cell_type": "code",
   "execution_count": 2,
   "metadata": {},
   "outputs": [],
   "source": [
    "#cre_dataset[cre_dataset.uniprot_acc == 'P04637']"
   ]
  },
  {
   "attachments": {},
   "cell_type": "markdown",
   "metadata": {},
   "source": [
    "---"
   ]
  },
  {
   "cell_type": "code",
   "execution_count": null,
   "metadata": {},
   "outputs": [],
   "source": []
  },
  {
   "attachments": {},
   "cell_type": "markdown",
   "metadata": {},
   "source": [
    "---"
   ]
  },
  {
   "attachments": {},
   "cell_type": "markdown",
   "metadata": {},
   "source": [
    "## Evaluate the percentage of coverage between CREs and IDRs (from mobidb)"
   ]
  },
  {
   "cell_type": "code",
   "execution_count": 40,
   "metadata": {},
   "outputs": [],
   "source": [
    "cre_coord = cre_dataset[['uniprot_acc', 'id_cre', 'start_aa', 'end_aa']].sort_values('uniprot_acc')"
   ]
  },
  {
   "cell_type": "code",
   "execution_count": 41,
   "metadata": {},
   "outputs": [
    {
     "data": {
      "text/plain": [
       "151"
      ]
     },
     "execution_count": 41,
     "metadata": {},
     "output_type": "execute_result"
    }
   ],
   "source": [
    "cre_coord.uniprot_acc.nunique()"
   ]
  },
  {
   "cell_type": "code",
   "execution_count": 29,
   "metadata": {},
   "outputs": [],
   "source": [
    "mobidb_coord = mobidb_lite[['acc', 'start', 'end']].rename(columns= {'acc': 'uniprot_acc', 'start': 'start_idr', 'end': 'end_idr'})"
   ]
  },
  {
   "cell_type": "code",
   "execution_count": 34,
   "metadata": {},
   "outputs": [
    {
     "data": {
      "text/plain": [
       "115"
      ]
     },
     "execution_count": 34,
     "metadata": {},
     "output_type": "execute_result"
    }
   ],
   "source": [
    "mobidb_coord.uniprot_acc.nunique()"
   ]
  },
  {
   "cell_type": "code",
   "execution_count": 44,
   "metadata": {},
   "outputs": [
    {
     "data": {
      "text/html": [
       "<div>\n",
       "<style scoped>\n",
       "    .dataframe tbody tr th:only-of-type {\n",
       "        vertical-align: middle;\n",
       "    }\n",
       "\n",
       "    .dataframe tbody tr th {\n",
       "        vertical-align: top;\n",
       "    }\n",
       "\n",
       "    .dataframe thead th {\n",
       "        text-align: right;\n",
       "    }\n",
       "</style>\n",
       "<table border=\"1\" class=\"dataframe\">\n",
       "  <thead>\n",
       "    <tr style=\"text-align: right;\">\n",
       "      <th></th>\n",
       "      <th>uniprot_acc</th>\n",
       "      <th>id_cre</th>\n",
       "      <th>start_aa</th>\n",
       "      <th>end_aa</th>\n",
       "      <th>start_idr</th>\n",
       "      <th>end_idr</th>\n",
       "    </tr>\n",
       "  </thead>\n",
       "  <tbody>\n",
       "    <tr>\n",
       "      <th>0</th>\n",
       "      <td>A8KAM8</td>\n",
       "      <td>43</td>\n",
       "      <td>1006</td>\n",
       "      <td>1106</td>\n",
       "      <td>1019.0</td>\n",
       "      <td>1106.0</td>\n",
       "    </tr>\n",
       "    <tr>\n",
       "      <th>1</th>\n",
       "      <td>C8ZE58</td>\n",
       "      <td>15</td>\n",
       "      <td>604</td>\n",
       "      <td>741</td>\n",
       "      <td>1.0</td>\n",
       "      <td>28.0</td>\n",
       "    </tr>\n",
       "    <tr>\n",
       "      <th>2</th>\n",
       "      <td>C8ZE58</td>\n",
       "      <td>15</td>\n",
       "      <td>604</td>\n",
       "      <td>741</td>\n",
       "      <td>673.0</td>\n",
       "      <td>705.0</td>\n",
       "    </tr>\n",
       "    <tr>\n",
       "      <th>3</th>\n",
       "      <td>C8ZE58</td>\n",
       "      <td>15</td>\n",
       "      <td>604</td>\n",
       "      <td>741</td>\n",
       "      <td>734.0</td>\n",
       "      <td>756.0</td>\n",
       "    </tr>\n",
       "    <tr>\n",
       "      <th>4</th>\n",
       "      <td>O08722</td>\n",
       "      <td>124</td>\n",
       "      <td>544</td>\n",
       "      <td>688</td>\n",
       "      <td>NaN</td>\n",
       "      <td>NaN</td>\n",
       "    </tr>\n",
       "    <tr>\n",
       "      <th>...</th>\n",
       "      <td>...</td>\n",
       "      <td>...</td>\n",
       "      <td>...</td>\n",
       "      <td>...</td>\n",
       "      <td>...</td>\n",
       "      <td>...</td>\n",
       "    </tr>\n",
       "    <tr>\n",
       "      <th>331</th>\n",
       "      <td>Q9Y613</td>\n",
       "      <td>65</td>\n",
       "      <td>1081</td>\n",
       "      <td>1145</td>\n",
       "      <td>566.0</td>\n",
       "      <td>619.0</td>\n",
       "    </tr>\n",
       "    <tr>\n",
       "      <th>332</th>\n",
       "      <td>Q9Y613</td>\n",
       "      <td>65</td>\n",
       "      <td>1081</td>\n",
       "      <td>1145</td>\n",
       "      <td>1020.0</td>\n",
       "      <td>1143.0</td>\n",
       "    </tr>\n",
       "    <tr>\n",
       "      <th>333</th>\n",
       "      <td>Q9Z0R4</td>\n",
       "      <td>132</td>\n",
       "      <td>1151</td>\n",
       "      <td>1205</td>\n",
       "      <td>310.0</td>\n",
       "      <td>356.0</td>\n",
       "    </tr>\n",
       "    <tr>\n",
       "      <th>334</th>\n",
       "      <td>Q9Z0R4</td>\n",
       "      <td>132</td>\n",
       "      <td>1151</td>\n",
       "      <td>1205</td>\n",
       "      <td>614.0</td>\n",
       "      <td>706.0</td>\n",
       "    </tr>\n",
       "    <tr>\n",
       "      <th>335</th>\n",
       "      <td>Q9Z0R4</td>\n",
       "      <td>132</td>\n",
       "      <td>1151</td>\n",
       "      <td>1205</td>\n",
       "      <td>827.0</td>\n",
       "      <td>863.0</td>\n",
       "    </tr>\n",
       "  </tbody>\n",
       "</table>\n",
       "<p>336 rows × 6 columns</p>\n",
       "</div>"
      ],
      "text/plain": [
       "    uniprot_acc  id_cre  start_aa  end_aa  start_idr  end_idr\n",
       "0        A8KAM8      43      1006    1106     1019.0   1106.0\n",
       "1        C8ZE58      15       604     741        1.0     28.0\n",
       "2        C8ZE58      15       604     741      673.0    705.0\n",
       "3        C8ZE58      15       604     741      734.0    756.0\n",
       "4        O08722     124       544     688        NaN      NaN\n",
       "..          ...     ...       ...     ...        ...      ...\n",
       "331      Q9Y613      65      1081    1145      566.0    619.0\n",
       "332      Q9Y613      65      1081    1145     1020.0   1143.0\n",
       "333      Q9Z0R4     132      1151    1205      310.0    356.0\n",
       "334      Q9Z0R4     132      1151    1205      614.0    706.0\n",
       "335      Q9Z0R4     132      1151    1205      827.0    863.0\n",
       "\n",
       "[336 rows x 6 columns]"
      ]
     },
     "execution_count": 44,
     "metadata": {},
     "output_type": "execute_result"
    }
   ],
   "source": [
    "df = cre_coord.merge(mobidb_coord, how= 'left')\n",
    "df"
   ]
  },
  {
   "cell_type": "code",
   "execution_count": 46,
   "metadata": {},
   "outputs": [
    {
     "data": {
      "text/html": [
       "<div>\n",
       "<style scoped>\n",
       "    .dataframe tbody tr th:only-of-type {\n",
       "        vertical-align: middle;\n",
       "    }\n",
       "\n",
       "    .dataframe tbody tr th {\n",
       "        vertical-align: top;\n",
       "    }\n",
       "\n",
       "    .dataframe thead th {\n",
       "        text-align: right;\n",
       "    }\n",
       "</style>\n",
       "<table border=\"1\" class=\"dataframe\">\n",
       "  <thead>\n",
       "    <tr style=\"text-align: right;\">\n",
       "      <th></th>\n",
       "      <th>uniprot_acc</th>\n",
       "      <th>start_idr</th>\n",
       "      <th>end_idr</th>\n",
       "    </tr>\n",
       "  </thead>\n",
       "  <tbody>\n",
       "    <tr>\n",
       "      <th>114</th>\n",
       "      <td>Q9Z0R4</td>\n",
       "      <td>310</td>\n",
       "      <td>356</td>\n",
       "    </tr>\n",
       "    <tr>\n",
       "      <th>114</th>\n",
       "      <td>Q9Z0R4</td>\n",
       "      <td>614</td>\n",
       "      <td>706</td>\n",
       "    </tr>\n",
       "    <tr>\n",
       "      <th>114</th>\n",
       "      <td>Q9Z0R4</td>\n",
       "      <td>827</td>\n",
       "      <td>863</td>\n",
       "    </tr>\n",
       "  </tbody>\n",
       "</table>\n",
       "</div>"
      ],
      "text/plain": [
       "    uniprot_acc  start_idr  end_idr\n",
       "114      Q9Z0R4        310      356\n",
       "114      Q9Z0R4        614      706\n",
       "114      Q9Z0R4        827      863"
      ]
     },
     "execution_count": 46,
     "metadata": {},
     "output_type": "execute_result"
    }
   ],
   "source": [
    "mobidb_coord[mobidb_coord.uniprot_acc == 'Q9Z0R4']"
   ]
  },
  {
   "cell_type": "code",
   "execution_count": 47,
   "metadata": {},
   "outputs": [
    {
     "data": {
      "text/html": [
       "<div>\n",
       "<style scoped>\n",
       "    .dataframe tbody tr th:only-of-type {\n",
       "        vertical-align: middle;\n",
       "    }\n",
       "\n",
       "    .dataframe tbody tr th {\n",
       "        vertical-align: top;\n",
       "    }\n",
       "\n",
       "    .dataframe thead th {\n",
       "        text-align: right;\n",
       "    }\n",
       "</style>\n",
       "<table border=\"1\" class=\"dataframe\">\n",
       "  <thead>\n",
       "    <tr style=\"text-align: right;\">\n",
       "      <th></th>\n",
       "      <th>uniprot_acc</th>\n",
       "      <th>id_cre</th>\n",
       "      <th>start_aa</th>\n",
       "      <th>end_aa</th>\n",
       "    </tr>\n",
       "  </thead>\n",
       "  <tbody>\n",
       "    <tr>\n",
       "      <th>131</th>\n",
       "      <td>Q9Z0R4</td>\n",
       "      <td>132</td>\n",
       "      <td>1151</td>\n",
       "      <td>1205</td>\n",
       "    </tr>\n",
       "  </tbody>\n",
       "</table>\n",
       "</div>"
      ],
      "text/plain": [
       "    uniprot_acc  id_cre  start_aa  end_aa\n",
       "131      Q9Z0R4     132      1151    1205"
      ]
     },
     "execution_count": 47,
     "metadata": {},
     "output_type": "execute_result"
    }
   ],
   "source": [
    "cre_coord[cre_coord.uniprot_acc == 'Q9Z0R4']"
   ]
  },
  {
   "cell_type": "code",
   "execution_count": 48,
   "metadata": {},
   "outputs": [
    {
     "data": {
      "text/html": [
       "<div>\n",
       "<style scoped>\n",
       "    .dataframe tbody tr th:only-of-type {\n",
       "        vertical-align: middle;\n",
       "    }\n",
       "\n",
       "    .dataframe tbody tr th {\n",
       "        vertical-align: top;\n",
       "    }\n",
       "\n",
       "    .dataframe thead th {\n",
       "        text-align: right;\n",
       "    }\n",
       "</style>\n",
       "<table border=\"1\" class=\"dataframe\">\n",
       "  <thead>\n",
       "    <tr style=\"text-align: right;\">\n",
       "      <th></th>\n",
       "      <th>uniprot_acc</th>\n",
       "      <th>id_cre</th>\n",
       "      <th>start_aa</th>\n",
       "      <th>end_aa</th>\n",
       "      <th>start_idr</th>\n",
       "      <th>end_idr</th>\n",
       "    </tr>\n",
       "  </thead>\n",
       "  <tbody>\n",
       "    <tr>\n",
       "      <th>333</th>\n",
       "      <td>Q9Z0R4</td>\n",
       "      <td>132</td>\n",
       "      <td>1151</td>\n",
       "      <td>1205</td>\n",
       "      <td>310.0</td>\n",
       "      <td>356.0</td>\n",
       "    </tr>\n",
       "    <tr>\n",
       "      <th>334</th>\n",
       "      <td>Q9Z0R4</td>\n",
       "      <td>132</td>\n",
       "      <td>1151</td>\n",
       "      <td>1205</td>\n",
       "      <td>614.0</td>\n",
       "      <td>706.0</td>\n",
       "    </tr>\n",
       "    <tr>\n",
       "      <th>335</th>\n",
       "      <td>Q9Z0R4</td>\n",
       "      <td>132</td>\n",
       "      <td>1151</td>\n",
       "      <td>1205</td>\n",
       "      <td>827.0</td>\n",
       "      <td>863.0</td>\n",
       "    </tr>\n",
       "  </tbody>\n",
       "</table>\n",
       "</div>"
      ],
      "text/plain": [
       "    uniprot_acc  id_cre  start_aa  end_aa  start_idr  end_idr\n",
       "333      Q9Z0R4     132      1151    1205      310.0    356.0\n",
       "334      Q9Z0R4     132      1151    1205      614.0    706.0\n",
       "335      Q9Z0R4     132      1151    1205      827.0    863.0"
      ]
     },
     "execution_count": 48,
     "metadata": {},
     "output_type": "execute_result"
    }
   ],
   "source": [
    "df[df.uniprot_acc == 'Q9Z0R4']"
   ]
  },
  {
   "attachments": {},
   "cell_type": "markdown",
   "metadata": {},
   "source": [
    "# New - 05/23"
   ]
  },
  {
   "cell_type": "code",
   "execution_count": 7,
   "metadata": {},
   "outputs": [],
   "source": [
    "kinases = pd.read_csv('../datasets/kinases.tsv', sep= '\\t')\n",
    "kinases.columns = kinases.columns.str.lower().str.replace(\" \", \"_\")"
   ]
  },
  {
   "cell_type": "code",
   "execution_count": 7,
   "metadata": {},
   "outputs": [
    {
     "data": {
      "text/html": [
       "<div>\n",
       "<style scoped>\n",
       "    .dataframe tbody tr th:only-of-type {\n",
       "        vertical-align: middle;\n",
       "    }\n",
       "\n",
       "    .dataframe tbody tr th {\n",
       "        vertical-align: top;\n",
       "    }\n",
       "\n",
       "    .dataframe thead th {\n",
       "        text-align: right;\n",
       "    }\n",
       "</style>\n",
       "<table border=\"1\" class=\"dataframe\">\n",
       "  <thead>\n",
       "    <tr style=\"text-align: right;\">\n",
       "      <th></th>\n",
       "      <th>uniprot</th>\n",
       "      <th>organism</th>\n",
       "      <th>cre_(start)</th>\n",
       "      <th>cre_(end)</th>\n",
       "      <th>cre_(s_or_d)</th>\n",
       "      <th>length</th>\n",
       "      <th>kd_(start)</th>\n",
       "      <th>kd_(end)</th>\n",
       "      <th>pdb_id</th>\n",
       "      <th>pdb_res_(å)</th>\n",
       "      <th>af</th>\n",
       "      <th>status</th>\n",
       "    </tr>\n",
       "  </thead>\n",
       "  <tbody>\n",
       "    <tr>\n",
       "      <th>0</th>\n",
       "      <td>A0A2I0BVG8</td>\n",
       "      <td>P. falciparum (isolate NF54)</td>\n",
       "      <td>346</td>\n",
       "      <td>353</td>\n",
       "      <td>no</td>\n",
       "      <td>NaN</td>\n",
       "      <td>56</td>\n",
       "      <td>325</td>\n",
       "      <td>no</td>\n",
       "      <td>no</td>\n",
       "      <td>AF-A0A2I0BVG8-F1</td>\n",
       "      <td>new</td>\n",
       "    </tr>\n",
       "    <tr>\n",
       "      <th>1</th>\n",
       "      <td>A0A509AFG4</td>\n",
       "      <td>P. berghei (strain Anka)</td>\n",
       "      <td>385</td>\n",
       "      <td>393</td>\n",
       "      <td>no</td>\n",
       "      <td>NaN</td>\n",
       "      <td>110</td>\n",
       "      <td>365</td>\n",
       "      <td>no</td>\n",
       "      <td>no</td>\n",
       "      <td>AF-A0A509AFG4-F1</td>\n",
       "      <td>new</td>\n",
       "    </tr>\n",
       "    <tr>\n",
       "      <th>2</th>\n",
       "      <td>A0A509AHB6</td>\n",
       "      <td>P. berghei (strain Anka)</td>\n",
       "      <td>345</td>\n",
       "      <td>352</td>\n",
       "      <td>no</td>\n",
       "      <td>NaN</td>\n",
       "      <td>57</td>\n",
       "      <td>324</td>\n",
       "      <td>no</td>\n",
       "      <td>no</td>\n",
       "      <td>AF-A0A509AHB6-F1</td>\n",
       "      <td>new</td>\n",
       "    </tr>\n",
       "    <tr>\n",
       "      <th>3</th>\n",
       "      <td>A0A509AKL0</td>\n",
       "      <td>P. berghei (strain Anka)</td>\n",
       "      <td>1</td>\n",
       "      <td>33</td>\n",
       "      <td>no</td>\n",
       "      <td>NaN</td>\n",
       "      <td>545</td>\n",
       "      <td>802</td>\n",
       "      <td>no</td>\n",
       "      <td>no</td>\n",
       "      <td>AF-A0A509AKL0-F1</td>\n",
       "      <td>new</td>\n",
       "    </tr>\n",
       "    <tr>\n",
       "      <th>4</th>\n",
       "      <td>A0A509AQE6</td>\n",
       "      <td>P. berghei (strain Anka)</td>\n",
       "      <td>394</td>\n",
       "      <td>402</td>\n",
       "      <td>no</td>\n",
       "      <td>NaN</td>\n",
       "      <td>118</td>\n",
       "      <td>372</td>\n",
       "      <td>no</td>\n",
       "      <td>no</td>\n",
       "      <td>AF-A0A509AQE6-F1</td>\n",
       "      <td>new</td>\n",
       "    </tr>\n",
       "    <tr>\n",
       "      <th>...</th>\n",
       "      <td>...</td>\n",
       "      <td>...</td>\n",
       "      <td>...</td>\n",
       "      <td>...</td>\n",
       "      <td>...</td>\n",
       "      <td>...</td>\n",
       "      <td>...</td>\n",
       "      <td>...</td>\n",
       "      <td>...</td>\n",
       "      <td>...</td>\n",
       "      <td>...</td>\n",
       "      <td>...</td>\n",
       "    </tr>\n",
       "    <tr>\n",
       "      <th>297</th>\n",
       "      <td>Q9ZSA4</td>\n",
       "      <td>A. thaliana</td>\n",
       "      <td>295</td>\n",
       "      <td>325</td>\n",
       "      <td>no</td>\n",
       "      <td>NaN</td>\n",
       "      <td>28</td>\n",
       "      <td>290</td>\n",
       "      <td>no</td>\n",
       "      <td>no</td>\n",
       "      <td>AF-Q9ZSA4-F1</td>\n",
       "      <td>new</td>\n",
       "    </tr>\n",
       "    <tr>\n",
       "      <th>298</th>\n",
       "      <td>Q9ZUZ2</td>\n",
       "      <td>A. thaliana</td>\n",
       "      <td>409</td>\n",
       "      <td>439</td>\n",
       "      <td>no</td>\n",
       "      <td>NaN</td>\n",
       "      <td>143</td>\n",
       "      <td>405</td>\n",
       "      <td>no</td>\n",
       "      <td>no</td>\n",
       "      <td>AF-Q9ZUZ2-F1</td>\n",
       "      <td>new</td>\n",
       "    </tr>\n",
       "    <tr>\n",
       "      <th>299</th>\n",
       "      <td>Q9ZV15</td>\n",
       "      <td>A. thaliana</td>\n",
       "      <td>398</td>\n",
       "      <td>428</td>\n",
       "      <td>no</td>\n",
       "      <td>NaN</td>\n",
       "      <td>134</td>\n",
       "      <td>392</td>\n",
       "      <td>no</td>\n",
       "      <td>no</td>\n",
       "      <td>AF-Q9ZV15-F1</td>\n",
       "      <td>new</td>\n",
       "    </tr>\n",
       "    <tr>\n",
       "      <th>300</th>\n",
       "      <td>W0LYS5</td>\n",
       "      <td>M. nipponense</td>\n",
       "      <td>287</td>\n",
       "      <td>327</td>\n",
       "      <td>no</td>\n",
       "      <td>NaN</td>\n",
       "      <td>31</td>\n",
       "      <td>287</td>\n",
       "      <td>no</td>\n",
       "      <td>no</td>\n",
       "      <td>AF-W0LYS5-F1</td>\n",
       "      <td>new</td>\n",
       "    </tr>\n",
       "    <tr>\n",
       "      <th>301</th>\n",
       "      <td>W7JX98</td>\n",
       "      <td>P. falciparum (isolate NF54)</td>\n",
       "      <td>1</td>\n",
       "      <td>29</td>\n",
       "      <td>no</td>\n",
       "      <td>NaN</td>\n",
       "      <td>541</td>\n",
       "      <td>798</td>\n",
       "      <td>no</td>\n",
       "      <td>no</td>\n",
       "      <td>AF-W7JX98-F1</td>\n",
       "      <td>new</td>\n",
       "    </tr>\n",
       "  </tbody>\n",
       "</table>\n",
       "<p>302 rows × 12 columns</p>\n",
       "</div>"
      ],
      "text/plain": [
       "        uniprot                      organism  cre_(start)  cre_(end)  \\\n",
       "0    A0A2I0BVG8  P. falciparum (isolate NF54)          346        353   \n",
       "1    A0A509AFG4      P. berghei (strain Anka)          385        393   \n",
       "2    A0A509AHB6      P. berghei (strain Anka)          345        352   \n",
       "3    A0A509AKL0      P. berghei (strain Anka)            1         33   \n",
       "4    A0A509AQE6      P. berghei (strain Anka)          394        402   \n",
       "..          ...                           ...          ...        ...   \n",
       "297      Q9ZSA4                   A. thaliana          295        325   \n",
       "298      Q9ZUZ2                   A. thaliana          409        439   \n",
       "299      Q9ZV15                   A. thaliana          398        428   \n",
       "300      W0LYS5                 M. nipponense          287        327   \n",
       "301      W7JX98  P. falciparum (isolate NF54)            1         29   \n",
       "\n",
       "    cre_(s_or_d)  length  kd_(start)  kd_(end) pdb_id pdb_res_(å)  \\\n",
       "0             no     NaN          56       325     no          no   \n",
       "1             no     NaN         110       365     no          no   \n",
       "2             no     NaN          57       324     no          no   \n",
       "3             no     NaN         545       802     no          no   \n",
       "4             no     NaN         118       372     no          no   \n",
       "..           ...     ...         ...       ...    ...         ...   \n",
       "297           no     NaN          28       290     no          no   \n",
       "298           no     NaN         143       405     no          no   \n",
       "299           no     NaN         134       392     no          no   \n",
       "300           no     NaN          31       287     no          no   \n",
       "301           no     NaN         541       798     no          no   \n",
       "\n",
       "                   af status  \n",
       "0    AF-A0A2I0BVG8-F1    new  \n",
       "1    AF-A0A509AFG4-F1    new  \n",
       "2    AF-A0A509AHB6-F1    new  \n",
       "3    AF-A0A509AKL0-F1    new  \n",
       "4    AF-A0A509AQE6-F1    new  \n",
       "..                ...    ...  \n",
       "297      AF-Q9ZSA4-F1    new  \n",
       "298      AF-Q9ZUZ2-F1    new  \n",
       "299      AF-Q9ZV15-F1    new  \n",
       "300      AF-W0LYS5-F1    new  \n",
       "301      AF-W7JX98-F1    new  \n",
       "\n",
       "[302 rows x 12 columns]"
      ]
     },
     "execution_count": 7,
     "metadata": {},
     "output_type": "execute_result"
    }
   ],
   "source": [
    "kinases"
   ]
  },
  {
   "attachments": {},
   "cell_type": "markdown",
   "metadata": {},
   "source": [
    "### Mobidb"
   ]
  },
  {
   "cell_type": "code",
   "execution_count": 17,
   "metadata": {},
   "outputs": [],
   "source": [
    "# API download mobidb\n",
    "url1 = 'https://mobidb.bio.unipd.it/api/download?acc='\n",
    "url2 = '&format=tsv&projection=prediction-disorder-mobidb_lite'\n",
    "uniprots = [ str(i)+\",\" for i in kinases.uniprot.unique()]\n",
    "to_add = \"\".join(uniprots)\n",
    "to_download = url1 + to_add + url2"
   ]
  },
  {
   "attachments": {},
   "cell_type": "markdown",
   "metadata": {},
   "source": [
    "https://mobidb.bio.unipd.it/api/download?acc=A0A2I0BVG8,A0A509AFG4,A0A509AHB6,A0A509AKL0,A0A509AQE6,A0A5K1K8H0,A2ZVI7,A5A7I7,A5A7I8,A5K0N4,A8KAM8,A8X6H4,B9FKW9,F1QGZ6,O14757,O15146,O15865,O35280,O43318,O49717,O74536,O75582,O75676,O75914,O76360,O77676,O77708,O80673,O88643,O88831,O95382,O96013,O97143,P00516,P00519,P00523,P00533,P04049,P04629,P05129,P05771,P06213,P06782,P07333,P08413,P08414,P09619,P0C605,P10721,P11362,P11730,P11799,P13234,P15056,P15791,P16234,P17252,P17948,P21802,P22455,P22607,P23443,P25323,P28482,P28582,P28583,P28652,P28829,P29323,P31749,P31751,P35465,P35508,P35916,P35968,P36507,P36888,P41279,P41743,P42527,P43403,P45985,P46734,P48730,P49101,P49136,P49137,P49138,P49139,P49674,P51812,P53355,P53682,P53683,P53684,P54645,P54646,P62343,P62344,P62345,P67998,P67999,P70336,P83741,P93759,Q00771,Q00944,Q01974,Q02750,Q06486,Q06850,Q07912,Q08E52,Q09137,Q0D715,Q0DYK7,Q12851,Q13043,Q13131,Q13153,Q13164,Q13177,Q13188,Q13233,Q13464,Q13554,Q13555,Q13557,Q13976,Q14012,Q14680,Q15349,Q15418,Q16566,Q16584,Q16620,Q16644,Q1PE17,Q1PFH8,Q28948,Q28GW8,Q29502,Q2HJF7,Q2QQR2,Q2QVG8,Q2QX45,Q2QY37,Q2RAV0,Q38868,Q38869,Q38870,Q38871,Q38872,Q38873,Q39016,Q3E9C0,Q3MHJ9,Q3SYZ2,Q3UMW7,Q3Y416,Q42396,Q42438,Q42479,Q53P85,Q5BP74,Q5EG47,Q5RC72,Q5RD00,Q5RDH5,Q5VQQ5,Q5VT25,Q61036,Q61846,Q62073,Q62120,Q62829,Q63450,Q64303,Q66H84,Q69IM9,Q6AVI8,Q6DE87,Q6F3A6,Q6FI27,Q6I587,Q6I5I8,Q6K968,Q6NLQ6,Q6P3K7,Q6P647,Q6PHZ2,Q6R2V0,Q6TJY3,Q6Z2M9,Q6ZIU9,Q75GE8,Q7RAH3,Q7RAV5,Q7RJG2,Q7T2E3,Q7TNJ7,Q7XIM0,Q7XJR9,Q7XSQ5,Q7YQL3,Q7YQL4,Q80YE7,Q84SL0,Q852N6,Q8AXB4,Q8AYC9,Q8BRK8,Q8BSK8,Q8BW96,Q8C078,Q8CIN4,Q8I719,Q8IBS5,Q8ICR0,Q8IU85,Q8IVH8,Q8IW41,Q8LPZ7,Q8N5S9,Q8RWL2,Q8VBY2,Q8VDF3,Q8W4I7,Q91821,Q91VB2,Q91YS8,Q91ZN7,Q923T9,Q92918,Q93107,Q95266,Q96NX5,Q96RG2,Q96RR4,Q99558,Q99683,Q99N57,Q9C6P3,Q9DC28,Q9FIM9,Q9FKW4,Q9FMP5,Q9FX86,Q9FXQ3,Q9H2X6,Q9H4A3,Q9JIH7,Q9LET1,Q9LJL9,Q9M101,Q9M9V8,Q9NJU9,Q9QZR5,Q9S9V0,Q9SCS2,Q9SG12,Q9SIQ7,Q9SJ61,Q9SSF8,Q9SZM3,Q9TXJ0,Q9UIK4,Q9VI13,Q9WUM7,Q9Y243,Q9Y6R4,Q9Y898,Q9Y899,Q9ZSA2,Q9ZSA3,Q9ZSA4,Q9ZUZ2,Q9ZV15,W0LYS5,W7JX98,&format=tsv&projection=prediction-disorder-mobidb_lite"
   ]
  },
  {
   "cell_type": "code",
   "execution_count": 24,
   "metadata": {},
   "outputs": [],
   "source": [
    "# mobidb = requests.get(to_download)\n",
    "# mobidb.text.split('\\t')#.split('\\n')"
   ]
  },
  {
   "cell_type": "code",
   "execution_count": 25,
   "metadata": {},
   "outputs": [],
   "source": [
    "mobidb_lite = pd.read_csv('../raw_data/mobidb_result_2023-05-15T08_38_20.824Z.tsv', sep= '\\t')"
   ]
  },
  {
   "cell_type": "code",
   "execution_count": 26,
   "metadata": {},
   "outputs": [
    {
     "data": {
      "text/html": [
       "<div>\n",
       "<style scoped>\n",
       "    .dataframe tbody tr th:only-of-type {\n",
       "        vertical-align: middle;\n",
       "    }\n",
       "\n",
       "    .dataframe tbody tr th {\n",
       "        vertical-align: top;\n",
       "    }\n",
       "\n",
       "    .dataframe thead th {\n",
       "        text-align: right;\n",
       "    }\n",
       "</style>\n",
       "<table border=\"1\" class=\"dataframe\">\n",
       "  <thead>\n",
       "    <tr style=\"text-align: right;\">\n",
       "      <th></th>\n",
       "      <th>acc</th>\n",
       "      <th>feature</th>\n",
       "      <th>start..end</th>\n",
       "      <th>content_fraction</th>\n",
       "      <th>content_count</th>\n",
       "      <th>length</th>\n",
       "    </tr>\n",
       "  </thead>\n",
       "  <tbody>\n",
       "    <tr>\n",
       "      <th>0</th>\n",
       "      <td>A0A2I0BVG8</td>\n",
       "      <td>prediction-disorder-mobidb_lite</td>\n",
       "      <td>1..34</td>\n",
       "      <td>0.065</td>\n",
       "      <td>34</td>\n",
       "      <td>524</td>\n",
       "    </tr>\n",
       "    <tr>\n",
       "      <th>1</th>\n",
       "      <td>A0A509AFG4</td>\n",
       "      <td>prediction-disorder-mobidb_lite</td>\n",
       "      <td>30..55</td>\n",
       "      <td>0.047</td>\n",
       "      <td>26</td>\n",
       "      <td>554</td>\n",
       "    </tr>\n",
       "    <tr>\n",
       "      <th>2</th>\n",
       "      <td>A0A509AHB6</td>\n",
       "      <td>prediction-disorder-mobidb_lite</td>\n",
       "      <td>1..36</td>\n",
       "      <td>0.069</td>\n",
       "      <td>36</td>\n",
       "      <td>523</td>\n",
       "    </tr>\n",
       "    <tr>\n",
       "      <th>3</th>\n",
       "      <td>A0A509AKL0</td>\n",
       "      <td>prediction-disorder-mobidb_lite</td>\n",
       "      <td>837..856</td>\n",
       "      <td>0.023</td>\n",
       "      <td>20</td>\n",
       "      <td>856</td>\n",
       "    </tr>\n",
       "    <tr>\n",
       "      <th>4</th>\n",
       "      <td>A2ZVI7</td>\n",
       "      <td>prediction-disorder-mobidb_lite</td>\n",
       "      <td>1..49</td>\n",
       "      <td>0.095</td>\n",
       "      <td>49</td>\n",
       "      <td>518</td>\n",
       "    </tr>\n",
       "    <tr>\n",
       "      <th>...</th>\n",
       "      <td>...</td>\n",
       "      <td>...</td>\n",
       "      <td>...</td>\n",
       "      <td>...</td>\n",
       "      <td>...</td>\n",
       "      <td>...</td>\n",
       "    </tr>\n",
       "    <tr>\n",
       "      <th>225</th>\n",
       "      <td>Q9ZSA2</td>\n",
       "      <td>prediction-disorder-mobidb_lite</td>\n",
       "      <td>1..62</td>\n",
       "      <td>0.117</td>\n",
       "      <td>62</td>\n",
       "      <td>531</td>\n",
       "    </tr>\n",
       "    <tr>\n",
       "      <th>226</th>\n",
       "      <td>Q9ZUZ2</td>\n",
       "      <td>prediction-disorder-mobidb_lite</td>\n",
       "      <td>1..131</td>\n",
       "      <td>0.220</td>\n",
       "      <td>131</td>\n",
       "      <td>595</td>\n",
       "    </tr>\n",
       "    <tr>\n",
       "      <th>227</th>\n",
       "      <td>Q9ZV15</td>\n",
       "      <td>prediction-disorder-mobidb_lite</td>\n",
       "      <td>21..111</td>\n",
       "      <td>0.156</td>\n",
       "      <td>91</td>\n",
       "      <td>583</td>\n",
       "    </tr>\n",
       "    <tr>\n",
       "      <th>228</th>\n",
       "      <td>W0LYS5</td>\n",
       "      <td>prediction-disorder-mobidb_lite</td>\n",
       "      <td>1..23</td>\n",
       "      <td>0.067</td>\n",
       "      <td>23</td>\n",
       "      <td>345</td>\n",
       "    </tr>\n",
       "    <tr>\n",
       "      <th>229</th>\n",
       "      <td>W7JX98</td>\n",
       "      <td>prediction-disorder-mobidb_lite</td>\n",
       "      <td>827..853</td>\n",
       "      <td>0.032</td>\n",
       "      <td>27</td>\n",
       "      <td>853</td>\n",
       "    </tr>\n",
       "  </tbody>\n",
       "</table>\n",
       "<p>230 rows × 6 columns</p>\n",
       "</div>"
      ],
      "text/plain": [
       "            acc                          feature start..end  content_fraction  \\\n",
       "0    A0A2I0BVG8  prediction-disorder-mobidb_lite      1..34             0.065   \n",
       "1    A0A509AFG4  prediction-disorder-mobidb_lite     30..55             0.047   \n",
       "2    A0A509AHB6  prediction-disorder-mobidb_lite      1..36             0.069   \n",
       "3    A0A509AKL0  prediction-disorder-mobidb_lite   837..856             0.023   \n",
       "4        A2ZVI7  prediction-disorder-mobidb_lite      1..49             0.095   \n",
       "..          ...                              ...        ...               ...   \n",
       "225      Q9ZSA2  prediction-disorder-mobidb_lite      1..62             0.117   \n",
       "226      Q9ZUZ2  prediction-disorder-mobidb_lite     1..131             0.220   \n",
       "227      Q9ZV15  prediction-disorder-mobidb_lite    21..111             0.156   \n",
       "228      W0LYS5  prediction-disorder-mobidb_lite      1..23             0.067   \n",
       "229      W7JX98  prediction-disorder-mobidb_lite   827..853             0.032   \n",
       "\n",
       "     content_count  length  \n",
       "0               34     524  \n",
       "1               26     554  \n",
       "2               36     523  \n",
       "3               20     856  \n",
       "4               49     518  \n",
       "..             ...     ...  \n",
       "225             62     531  \n",
       "226            131     595  \n",
       "227             91     583  \n",
       "228             23     345  \n",
       "229             27     853  \n",
       "\n",
       "[230 rows x 6 columns]"
      ]
     },
     "execution_count": 26,
     "metadata": {},
     "output_type": "execute_result"
    }
   ],
   "source": [
    "mobidb_lite"
   ]
  },
  {
   "cell_type": "code",
   "execution_count": 27,
   "metadata": {},
   "outputs": [],
   "source": [
    "# Format start and end cols\n",
    "mobidb_lite[\"start..end\"] = mobidb_lite[\"start..end\"].str.split(\",\")\n",
    "mobidb_lite = mobidb_lite.explode('start..end')\n",
    "mobidb_lite[\"start..end\"] = mobidb_lite[\"start..end\"].apply(lambda x: re.findall('^(\\d+)\\..(\\d+)$', x))\n",
    "mobidb_lite[\"start..end\"] = mobidb_lite[\"start..end\"].str[0]\n",
    "mobidb_lite[\"start\"] = mobidb_lite[\"start..end\"].str[0].astype(int)\n",
    "mobidb_lite[\"end\"] = mobidb_lite[\"start..end\"].str[1].astype(int)"
   ]
  },
  {
   "cell_type": "code",
   "execution_count": 28,
   "metadata": {},
   "outputs": [
    {
     "data": {
      "text/html": [
       "<div>\n",
       "<style scoped>\n",
       "    .dataframe tbody tr th:only-of-type {\n",
       "        vertical-align: middle;\n",
       "    }\n",
       "\n",
       "    .dataframe tbody tr th {\n",
       "        vertical-align: top;\n",
       "    }\n",
       "\n",
       "    .dataframe thead th {\n",
       "        text-align: right;\n",
       "    }\n",
       "</style>\n",
       "<table border=\"1\" class=\"dataframe\">\n",
       "  <thead>\n",
       "    <tr style=\"text-align: right;\">\n",
       "      <th></th>\n",
       "      <th>acc</th>\n",
       "      <th>feature</th>\n",
       "      <th>start..end</th>\n",
       "      <th>content_fraction</th>\n",
       "      <th>content_count</th>\n",
       "      <th>length</th>\n",
       "      <th>start</th>\n",
       "      <th>end</th>\n",
       "    </tr>\n",
       "  </thead>\n",
       "  <tbody>\n",
       "    <tr>\n",
       "      <th>0</th>\n",
       "      <td>A0A2I0BVG8</td>\n",
       "      <td>prediction-disorder-mobidb_lite</td>\n",
       "      <td>(1, 34)</td>\n",
       "      <td>0.065</td>\n",
       "      <td>34</td>\n",
       "      <td>524</td>\n",
       "      <td>1</td>\n",
       "      <td>34</td>\n",
       "    </tr>\n",
       "    <tr>\n",
       "      <th>1</th>\n",
       "      <td>A0A509AFG4</td>\n",
       "      <td>prediction-disorder-mobidb_lite</td>\n",
       "      <td>(30, 55)</td>\n",
       "      <td>0.047</td>\n",
       "      <td>26</td>\n",
       "      <td>554</td>\n",
       "      <td>30</td>\n",
       "      <td>55</td>\n",
       "    </tr>\n",
       "    <tr>\n",
       "      <th>2</th>\n",
       "      <td>A0A509AHB6</td>\n",
       "      <td>prediction-disorder-mobidb_lite</td>\n",
       "      <td>(1, 36)</td>\n",
       "      <td>0.069</td>\n",
       "      <td>36</td>\n",
       "      <td>523</td>\n",
       "      <td>1</td>\n",
       "      <td>36</td>\n",
       "    </tr>\n",
       "    <tr>\n",
       "      <th>3</th>\n",
       "      <td>A0A509AKL0</td>\n",
       "      <td>prediction-disorder-mobidb_lite</td>\n",
       "      <td>(837, 856)</td>\n",
       "      <td>0.023</td>\n",
       "      <td>20</td>\n",
       "      <td>856</td>\n",
       "      <td>837</td>\n",
       "      <td>856</td>\n",
       "    </tr>\n",
       "    <tr>\n",
       "      <th>4</th>\n",
       "      <td>A2ZVI7</td>\n",
       "      <td>prediction-disorder-mobidb_lite</td>\n",
       "      <td>(1, 49)</td>\n",
       "      <td>0.095</td>\n",
       "      <td>49</td>\n",
       "      <td>518</td>\n",
       "      <td>1</td>\n",
       "      <td>49</td>\n",
       "    </tr>\n",
       "    <tr>\n",
       "      <th>...</th>\n",
       "      <td>...</td>\n",
       "      <td>...</td>\n",
       "      <td>...</td>\n",
       "      <td>...</td>\n",
       "      <td>...</td>\n",
       "      <td>...</td>\n",
       "      <td>...</td>\n",
       "      <td>...</td>\n",
       "    </tr>\n",
       "    <tr>\n",
       "      <th>225</th>\n",
       "      <td>Q9ZSA2</td>\n",
       "      <td>prediction-disorder-mobidb_lite</td>\n",
       "      <td>(1, 62)</td>\n",
       "      <td>0.117</td>\n",
       "      <td>62</td>\n",
       "      <td>531</td>\n",
       "      <td>1</td>\n",
       "      <td>62</td>\n",
       "    </tr>\n",
       "    <tr>\n",
       "      <th>226</th>\n",
       "      <td>Q9ZUZ2</td>\n",
       "      <td>prediction-disorder-mobidb_lite</td>\n",
       "      <td>(1, 131)</td>\n",
       "      <td>0.220</td>\n",
       "      <td>131</td>\n",
       "      <td>595</td>\n",
       "      <td>1</td>\n",
       "      <td>131</td>\n",
       "    </tr>\n",
       "    <tr>\n",
       "      <th>227</th>\n",
       "      <td>Q9ZV15</td>\n",
       "      <td>prediction-disorder-mobidb_lite</td>\n",
       "      <td>(21, 111)</td>\n",
       "      <td>0.156</td>\n",
       "      <td>91</td>\n",
       "      <td>583</td>\n",
       "      <td>21</td>\n",
       "      <td>111</td>\n",
       "    </tr>\n",
       "    <tr>\n",
       "      <th>228</th>\n",
       "      <td>W0LYS5</td>\n",
       "      <td>prediction-disorder-mobidb_lite</td>\n",
       "      <td>(1, 23)</td>\n",
       "      <td>0.067</td>\n",
       "      <td>23</td>\n",
       "      <td>345</td>\n",
       "      <td>1</td>\n",
       "      <td>23</td>\n",
       "    </tr>\n",
       "    <tr>\n",
       "      <th>229</th>\n",
       "      <td>W7JX98</td>\n",
       "      <td>prediction-disorder-mobidb_lite</td>\n",
       "      <td>(827, 853)</td>\n",
       "      <td>0.032</td>\n",
       "      <td>27</td>\n",
       "      <td>853</td>\n",
       "      <td>827</td>\n",
       "      <td>853</td>\n",
       "    </tr>\n",
       "  </tbody>\n",
       "</table>\n",
       "<p>399 rows × 8 columns</p>\n",
       "</div>"
      ],
      "text/plain": [
       "            acc                          feature  start..end  \\\n",
       "0    A0A2I0BVG8  prediction-disorder-mobidb_lite     (1, 34)   \n",
       "1    A0A509AFG4  prediction-disorder-mobidb_lite    (30, 55)   \n",
       "2    A0A509AHB6  prediction-disorder-mobidb_lite     (1, 36)   \n",
       "3    A0A509AKL0  prediction-disorder-mobidb_lite  (837, 856)   \n",
       "4        A2ZVI7  prediction-disorder-mobidb_lite     (1, 49)   \n",
       "..          ...                              ...         ...   \n",
       "225      Q9ZSA2  prediction-disorder-mobidb_lite     (1, 62)   \n",
       "226      Q9ZUZ2  prediction-disorder-mobidb_lite    (1, 131)   \n",
       "227      Q9ZV15  prediction-disorder-mobidb_lite   (21, 111)   \n",
       "228      W0LYS5  prediction-disorder-mobidb_lite     (1, 23)   \n",
       "229      W7JX98  prediction-disorder-mobidb_lite  (827, 853)   \n",
       "\n",
       "     content_fraction  content_count  length  start  end  \n",
       "0               0.065             34     524      1   34  \n",
       "1               0.047             26     554     30   55  \n",
       "2               0.069             36     523      1   36  \n",
       "3               0.023             20     856    837  856  \n",
       "4               0.095             49     518      1   49  \n",
       "..                ...            ...     ...    ...  ...  \n",
       "225             0.117             62     531      1   62  \n",
       "226             0.220            131     595      1  131  \n",
       "227             0.156             91     583     21  111  \n",
       "228             0.067             23     345      1   23  \n",
       "229             0.032             27     853    827  853  \n",
       "\n",
       "[399 rows x 8 columns]"
      ]
     },
     "execution_count": 28,
     "metadata": {},
     "output_type": "execute_result"
    }
   ],
   "source": [
    "mobidb_lite"
   ]
  },
  {
   "cell_type": "code",
   "execution_count": 33,
   "metadata": {},
   "outputs": [
    {
     "data": {
      "text/plain": [
       "acc                 230\n",
       "feature               1\n",
       "start..end          308\n",
       "content_fraction    143\n",
       "content_count       113\n",
       "length              144\n",
       "start               216\n",
       "end                 268\n",
       "dtype: int64"
      ]
     },
     "execution_count": 33,
     "metadata": {},
     "output_type": "execute_result"
    }
   ],
   "source": [
    "mobidb_lite.nunique()"
   ]
  },
  {
   "cell_type": "code",
   "execution_count": 37,
   "metadata": {},
   "outputs": [
    {
     "data": {
      "image/png": "[encoded data removed]",
      "text/plain": [
       "<Figure size 432x288 with 1 Axes>"
      ]
     },
     "metadata": {
      "needs_background": "light"
     },
     "output_type": "display_data"
    }
   ],
   "source": [
    "mobidb_lite.content_fraction.plot.box()\n",
    "plt.title(\"CRE containing Kinases disorder content in MobiDB-lite\", weight= 'bold')\n",
    "plt.xlabel(\"\")\n",
    "plt.ylabel('dc_fraction')\n",
    "plt.show()"
   ]
  },
  {
   "attachments": {},
   "cell_type": "markdown",
   "metadata": {},
   "source": [
    "### Disphasedb"
   ]
  },
  {
   "cell_type": "code",
   "execution_count": 8,
   "metadata": {},
   "outputs": [
    {
     "data": {
      "text/html": [
       "<div>\n",
       "<style scoped>\n",
       "    .dataframe tbody tr th:only-of-type {\n",
       "        vertical-align: middle;\n",
       "    }\n",
       "\n",
       "    .dataframe tbody tr th {\n",
       "        vertical-align: top;\n",
       "    }\n",
       "\n",
       "    .dataframe thead th {\n",
       "        text-align: right;\n",
       "    }\n",
       "</style>\n",
       "<table border=\"1\" class=\"dataframe\">\n",
       "  <thead>\n",
       "    <tr style=\"text-align: right;\">\n",
       "      <th></th>\n",
       "      <th>id_protein</th>\n",
       "      <th>uniprot_acc</th>\n",
       "      <th>uniprot_name</th>\n",
       "      <th>disorder_content</th>\n",
       "    </tr>\n",
       "  </thead>\n",
       "  <tbody>\n",
       "    <tr>\n",
       "      <th>0</th>\n",
       "      <td>1</td>\n",
       "      <td>P35637</td>\n",
       "      <td>FUS_HUMAN</td>\n",
       "      <td>0.797</td>\n",
       "    </tr>\n",
       "    <tr>\n",
       "      <th>1</th>\n",
       "      <td>2</td>\n",
       "      <td>Q06787</td>\n",
       "      <td>FMR1_HUMAN</td>\n",
       "      <td>0.340</td>\n",
       "    </tr>\n",
       "    <tr>\n",
       "      <th>2</th>\n",
       "      <td>3</td>\n",
       "      <td>Q92804</td>\n",
       "      <td>RBP56_HUMAN</td>\n",
       "      <td>0.828</td>\n",
       "    </tr>\n",
       "    <tr>\n",
       "      <th>3</th>\n",
       "      <td>4</td>\n",
       "      <td>Q13148</td>\n",
       "      <td>TADBP_HUMAN</td>\n",
       "      <td>0.184</td>\n",
       "    </tr>\n",
       "    <tr>\n",
       "      <th>4</th>\n",
       "      <td>5</td>\n",
       "      <td>Q01844</td>\n",
       "      <td>EWS_HUMAN</td>\n",
       "      <td>0.649</td>\n",
       "    </tr>\n",
       "    <tr>\n",
       "      <th>...</th>\n",
       "      <td>...</td>\n",
       "      <td>...</td>\n",
       "      <td>...</td>\n",
       "      <td>...</td>\n",
       "    </tr>\n",
       "    <tr>\n",
       "      <th>5736</th>\n",
       "      <td>5737</td>\n",
       "      <td>Q9Y6R4</td>\n",
       "      <td>M3K4_HUMAN</td>\n",
       "      <td>0.175</td>\n",
       "    </tr>\n",
       "    <tr>\n",
       "      <th>5737</th>\n",
       "      <td>5738</td>\n",
       "      <td>Q9Y6S9</td>\n",
       "      <td>RPKL1_HUMAN</td>\n",
       "      <td>0.157</td>\n",
       "    </tr>\n",
       "    <tr>\n",
       "      <th>5738</th>\n",
       "      <td>5739</td>\n",
       "      <td>Q9Y6U7</td>\n",
       "      <td>RN215_HUMAN</td>\n",
       "      <td>0.058</td>\n",
       "    </tr>\n",
       "    <tr>\n",
       "      <th>5739</th>\n",
       "      <td>5740</td>\n",
       "      <td>Q9Y6W6</td>\n",
       "      <td>DUS10_HUMAN</td>\n",
       "      <td>NaN</td>\n",
       "    </tr>\n",
       "    <tr>\n",
       "      <th>5740</th>\n",
       "      <td>5741</td>\n",
       "      <td>Q6KC79</td>\n",
       "      <td>NIPBL_HUMAN</td>\n",
       "      <td>NaN</td>\n",
       "    </tr>\n",
       "  </tbody>\n",
       "</table>\n",
       "<p>5741 rows × 4 columns</p>\n",
       "</div>"
      ],
      "text/plain": [
       "      id_protein uniprot_acc uniprot_name  disorder_content\n",
       "0              1      P35637    FUS_HUMAN             0.797\n",
       "1              2      Q06787   FMR1_HUMAN             0.340\n",
       "2              3      Q92804  RBP56_HUMAN             0.828\n",
       "3              4      Q13148  TADBP_HUMAN             0.184\n",
       "4              5      Q01844    EWS_HUMAN             0.649\n",
       "...          ...         ...          ...               ...\n",
       "5736        5737      Q9Y6R4   M3K4_HUMAN             0.175\n",
       "5737        5738      Q9Y6S9  RPKL1_HUMAN             0.157\n",
       "5738        5739      Q9Y6U7  RN215_HUMAN             0.058\n",
       "5739        5740      Q9Y6W6  DUS10_HUMAN               NaN\n",
       "5740        5741      Q6KC79  NIPBL_HUMAN               NaN\n",
       "\n",
       "[5741 rows x 4 columns]"
      ]
     },
     "execution_count": 8,
     "metadata": {},
     "output_type": "execute_result"
    }
   ],
   "source": [
    "protein = pd.read_csv('../raw_data/disphasedb/protein.tsv', sep= '\\t', usecols= ['id_protein', 'uniprot_acc', 'uniprot_name', 'disorder_content'])\n",
    "protein"
   ]
  },
  {
   "cell_type": "code",
   "execution_count": 9,
   "metadata": {},
   "outputs": [],
   "source": [
    "mutation = pd.read_csv('../raw_data/disphasedb/mutation_new.tsv.gz', compression= 'gzip', sep ='\\t', usecols= [\n",
    "    'id_protein', 'id_mutation', 'notation_aa', 'id_consequence'\n",
    "])"
   ]
  },
  {
   "cell_type": "code",
   "execution_count": 10,
   "metadata": {},
   "outputs": [],
   "source": [
    "conseq = pd.read_csv('../raw_data/disphasedb/consequence.tsv', sep= '\\t')\n",
    "mutation = mutation.merge(conseq)"
   ]
  },
  {
   "cell_type": "code",
   "execution_count": 11,
   "metadata": {},
   "outputs": [
    {
     "data": {
      "text/html": [
       "<div>\n",
       "<style scoped>\n",
       "    .dataframe tbody tr th:only-of-type {\n",
       "        vertical-align: middle;\n",
       "    }\n",
       "\n",
       "    .dataframe tbody tr th {\n",
       "        vertical-align: top;\n",
       "    }\n",
       "\n",
       "    .dataframe thead th {\n",
       "        text-align: right;\n",
       "    }\n",
       "</style>\n",
       "<table border=\"1\" class=\"dataframe\">\n",
       "  <thead>\n",
       "    <tr style=\"text-align: right;\">\n",
       "      <th></th>\n",
       "      <th>id_mutation</th>\n",
       "      <th>notation_aa</th>\n",
       "      <th>id_protein</th>\n",
       "      <th>id_consequence</th>\n",
       "      <th>consequence</th>\n",
       "    </tr>\n",
       "  </thead>\n",
       "  <tbody>\n",
       "    <tr>\n",
       "      <th>0</th>\n",
       "      <td>1</td>\n",
       "      <td>p.Y442=</td>\n",
       "      <td>3155</td>\n",
       "      <td>2</td>\n",
       "      <td>synonym</td>\n",
       "    </tr>\n",
       "    <tr>\n",
       "      <th>1</th>\n",
       "      <td>2</td>\n",
       "      <td>p.S480=</td>\n",
       "      <td>3155</td>\n",
       "      <td>2</td>\n",
       "      <td>synonym</td>\n",
       "    </tr>\n",
       "    <tr>\n",
       "      <th>2</th>\n",
       "      <td>3</td>\n",
       "      <td>p.A500=</td>\n",
       "      <td>3155</td>\n",
       "      <td>2</td>\n",
       "      <td>synonym</td>\n",
       "    </tr>\n",
       "    <tr>\n",
       "      <th>3</th>\n",
       "      <td>4</td>\n",
       "      <td>p.S503=</td>\n",
       "      <td>3155</td>\n",
       "      <td>2</td>\n",
       "      <td>synonym</td>\n",
       "    </tr>\n",
       "    <tr>\n",
       "      <th>4</th>\n",
       "      <td>5</td>\n",
       "      <td>p.P69=</td>\n",
       "      <td>3155</td>\n",
       "      <td>2</td>\n",
       "      <td>synonym</td>\n",
       "    </tr>\n",
       "  </tbody>\n",
       "</table>\n",
       "</div>"
      ],
      "text/plain": [
       "   id_mutation notation_aa  id_protein  id_consequence consequence\n",
       "0            1     p.Y442=        3155               2     synonym\n",
       "1            2     p.S480=        3155               2     synonym\n",
       "2            3     p.A500=        3155               2     synonym\n",
       "3            4     p.S503=        3155               2     synonym\n",
       "4            5      p.P69=        3155               2     synonym"
      ]
     },
     "execution_count": 11,
     "metadata": {},
     "output_type": "execute_result"
    }
   ],
   "source": [
    "mutation.head()"
   ]
  },
  {
   "cell_type": "code",
   "execution_count": 12,
   "metadata": {},
   "outputs": [
    {
     "data": {
      "text/html": [
       "<div>\n",
       "<style scoped>\n",
       "    .dataframe tbody tr th:only-of-type {\n",
       "        vertical-align: middle;\n",
       "    }\n",
       "\n",
       "    .dataframe tbody tr th {\n",
       "        vertical-align: top;\n",
       "    }\n",
       "\n",
       "    .dataframe thead th {\n",
       "        text-align: right;\n",
       "    }\n",
       "</style>\n",
       "<table border=\"1\" class=\"dataframe\">\n",
       "  <thead>\n",
       "    <tr style=\"text-align: right;\">\n",
       "      <th></th>\n",
       "      <th>id_protein</th>\n",
       "      <th>uniprot_acc</th>\n",
       "      <th>uniprot_name</th>\n",
       "      <th>disorder_content</th>\n",
       "    </tr>\n",
       "  </thead>\n",
       "  <tbody>\n",
       "    <tr>\n",
       "      <th>88</th>\n",
       "      <td>89</td>\n",
       "      <td>P00519</td>\n",
       "      <td>ABL1_HUMAN</td>\n",
       "      <td>0.424</td>\n",
       "    </tr>\n",
       "    <tr>\n",
       "      <th>185</th>\n",
       "      <td>186</td>\n",
       "      <td>P23443</td>\n",
       "      <td>KS6B1_HUMAN</td>\n",
       "      <td>0.141</td>\n",
       "    </tr>\n",
       "    <tr>\n",
       "      <th>243</th>\n",
       "      <td>244</td>\n",
       "      <td>P54646</td>\n",
       "      <td>AAPK2_HUMAN</td>\n",
       "      <td>0.082</td>\n",
       "    </tr>\n",
       "    <tr>\n",
       "      <th>270</th>\n",
       "      <td>271</td>\n",
       "      <td>Q13555</td>\n",
       "      <td>KCC2G_HUMAN</td>\n",
       "      <td>0.140</td>\n",
       "    </tr>\n",
       "    <tr>\n",
       "      <th>494</th>\n",
       "      <td>495</td>\n",
       "      <td>P22455</td>\n",
       "      <td>FGFR4_HUMAN</td>\n",
       "      <td>0.037</td>\n",
       "    </tr>\n",
       "    <tr>\n",
       "      <th>...</th>\n",
       "      <td>...</td>\n",
       "      <td>...</td>\n",
       "      <td>...</td>\n",
       "      <td>...</td>\n",
       "    </tr>\n",
       "    <tr>\n",
       "      <th>5128</th>\n",
       "      <td>5129</td>\n",
       "      <td>Q92918</td>\n",
       "      <td>M4K1_HUMAN</td>\n",
       "      <td>0.220</td>\n",
       "    </tr>\n",
       "    <tr>\n",
       "      <th>5275</th>\n",
       "      <td>5276</td>\n",
       "      <td>Q99558</td>\n",
       "      <td>M3K14_HUMAN</td>\n",
       "      <td>0.216</td>\n",
       "    </tr>\n",
       "    <tr>\n",
       "      <th>5619</th>\n",
       "      <td>5620</td>\n",
       "      <td>Q9UIK4</td>\n",
       "      <td>DAPK2_HUMAN</td>\n",
       "      <td>NaN</td>\n",
       "    </tr>\n",
       "    <tr>\n",
       "      <th>5671</th>\n",
       "      <td>5672</td>\n",
       "      <td>Q9Y243</td>\n",
       "      <td>AKT3_HUMAN</td>\n",
       "      <td>0.046</td>\n",
       "    </tr>\n",
       "    <tr>\n",
       "      <th>5736</th>\n",
       "      <td>5737</td>\n",
       "      <td>Q9Y6R4</td>\n",
       "      <td>M3K4_HUMAN</td>\n",
       "      <td>0.175</td>\n",
       "    </tr>\n",
       "  </tbody>\n",
       "</table>\n",
       "<p>66 rows × 4 columns</p>\n",
       "</div>"
      ],
      "text/plain": [
       "      id_protein uniprot_acc uniprot_name  disorder_content\n",
       "88            89      P00519   ABL1_HUMAN             0.424\n",
       "185          186      P23443  KS6B1_HUMAN             0.141\n",
       "243          244      P54646  AAPK2_HUMAN             0.082\n",
       "270          271      Q13555  KCC2G_HUMAN             0.140\n",
       "494          495      P22455  FGFR4_HUMAN             0.037\n",
       "...          ...         ...          ...               ...\n",
       "5128        5129      Q92918   M4K1_HUMAN             0.220\n",
       "5275        5276      Q99558  M3K14_HUMAN             0.216\n",
       "5619        5620      Q9UIK4  DAPK2_HUMAN               NaN\n",
       "5671        5672      Q9Y243   AKT3_HUMAN             0.046\n",
       "5736        5737      Q9Y6R4   M3K4_HUMAN             0.175\n",
       "\n",
       "[66 rows x 4 columns]"
      ]
     },
     "execution_count": 12,
     "metadata": {},
     "output_type": "execute_result"
    }
   ],
   "source": [
    "kinases_disphase = protein[protein.uniprot_acc.isin(kinases.uniprot.unique())]\n",
    "kinases_disphase"
   ]
  },
  {
   "cell_type": "code",
   "execution_count": 13,
   "metadata": {},
   "outputs": [
    {
     "data": {
      "text/plain": [
       "<AxesSubplot:>"
      ]
     },
     "execution_count": 13,
     "metadata": {},
     "output_type": "execute_result"
    },
    {
     "data": {
      "image/png": "[encoded data removed]",
      "text/plain": [
       "<Figure size 432x288 with 1 Axes>"
      ]
     },
     "metadata": {
      "needs_background": "light"
     },
     "output_type": "display_data"
    }
   ],
   "source": [
    "kinases_disphase.disorder_content.plot(kind= 'box')"
   ]
  },
  {
   "cell_type": "code",
   "execution_count": 14,
   "metadata": {},
   "outputs": [
    {
     "data": {
      "text/html": [
       "<div>\n",
       "<style scoped>\n",
       "    .dataframe tbody tr th:only-of-type {\n",
       "        vertical-align: middle;\n",
       "    }\n",
       "\n",
       "    .dataframe tbody tr th {\n",
       "        vertical-align: top;\n",
       "    }\n",
       "\n",
       "    .dataframe thead th {\n",
       "        text-align: right;\n",
       "    }\n",
       "</style>\n",
       "<table border=\"1\" class=\"dataframe\">\n",
       "  <thead>\n",
       "    <tr style=\"text-align: right;\">\n",
       "      <th></th>\n",
       "      <th>id_mutation</th>\n",
       "      <th>notation_aa</th>\n",
       "      <th>id_protein</th>\n",
       "      <th>id_consequence</th>\n",
       "      <th>consequence</th>\n",
       "    </tr>\n",
       "  </thead>\n",
       "  <tbody>\n",
       "    <tr>\n",
       "      <th>12700</th>\n",
       "      <td>12701</td>\n",
       "      <td>p.D493=</td>\n",
       "      <td>928</td>\n",
       "      <td>2</td>\n",
       "      <td>synonym</td>\n",
       "    </tr>\n",
       "    <tr>\n",
       "      <th>12701</th>\n",
       "      <td>12702</td>\n",
       "      <td>p.N1320=</td>\n",
       "      <td>928</td>\n",
       "      <td>2</td>\n",
       "      <td>synonym</td>\n",
       "    </tr>\n",
       "    <tr>\n",
       "      <th>12702</th>\n",
       "      <td>12703</td>\n",
       "      <td>p.T1348=</td>\n",
       "      <td>928</td>\n",
       "      <td>2</td>\n",
       "      <td>synonym</td>\n",
       "    </tr>\n",
       "    <tr>\n",
       "      <th>12703</th>\n",
       "      <td>12704</td>\n",
       "      <td>p.E1194=</td>\n",
       "      <td>928</td>\n",
       "      <td>2</td>\n",
       "      <td>synonym</td>\n",
       "    </tr>\n",
       "    <tr>\n",
       "      <th>12704</th>\n",
       "      <td>12705</td>\n",
       "      <td>p.C86=</td>\n",
       "      <td>928</td>\n",
       "      <td>2</td>\n",
       "      <td>synonym</td>\n",
       "    </tr>\n",
       "    <tr>\n",
       "      <th>...</th>\n",
       "      <td>...</td>\n",
       "      <td>...</td>\n",
       "      <td>...</td>\n",
       "      <td>...</td>\n",
       "      <td>...</td>\n",
       "    </tr>\n",
       "    <tr>\n",
       "      <th>1659881</th>\n",
       "      <td>1646965</td>\n",
       "      <td>p.*698Yext*47</td>\n",
       "      <td>2936</td>\n",
       "      <td>9</td>\n",
       "      <td>nostop</td>\n",
       "    </tr>\n",
       "    <tr>\n",
       "      <th>1659961</th>\n",
       "      <td>221000</td>\n",
       "      <td>p.28_29GA[1]</td>\n",
       "      <td>2098</td>\n",
       "      <td>10</td>\n",
       "      <td>repeted</td>\n",
       "    </tr>\n",
       "    <tr>\n",
       "      <th>1659962</th>\n",
       "      <td>221001</td>\n",
       "      <td>p.28_29GA[2]</td>\n",
       "      <td>2098</td>\n",
       "      <td>10</td>\n",
       "      <td>repeted</td>\n",
       "    </tr>\n",
       "    <tr>\n",
       "      <th>1659963</th>\n",
       "      <td>221002</td>\n",
       "      <td>p.28_29GA[4]</td>\n",
       "      <td>2098</td>\n",
       "      <td>10</td>\n",
       "      <td>repeted</td>\n",
       "    </tr>\n",
       "    <tr>\n",
       "      <th>1659964</th>\n",
       "      <td>221003</td>\n",
       "      <td>p.28_29GA[5]</td>\n",
       "      <td>2098</td>\n",
       "      <td>10</td>\n",
       "      <td>repeted</td>\n",
       "    </tr>\n",
       "  </tbody>\n",
       "</table>\n",
       "<p>35150 rows × 5 columns</p>\n",
       "</div>"
      ],
      "text/plain": [
       "         id_mutation    notation_aa  id_protein  id_consequence consequence\n",
       "12700          12701        p.D493=         928               2     synonym\n",
       "12701          12702       p.N1320=         928               2     synonym\n",
       "12702          12703       p.T1348=         928               2     synonym\n",
       "12703          12704       p.E1194=         928               2     synonym\n",
       "12704          12705         p.C86=         928               2     synonym\n",
       "...              ...            ...         ...             ...         ...\n",
       "1659881      1646965  p.*698Yext*47        2936               9      nostop\n",
       "1659961       221000   p.28_29GA[1]        2098              10     repeted\n",
       "1659962       221001   p.28_29GA[2]        2098              10     repeted\n",
       "1659963       221002   p.28_29GA[4]        2098              10     repeted\n",
       "1659964       221003   p.28_29GA[5]        2098              10     repeted\n",
       "\n",
       "[35150 rows x 5 columns]"
      ]
     },
     "execution_count": 14,
     "metadata": {},
     "output_type": "execute_result"
    }
   ],
   "source": [
    "kinases_mutation = mutation[mutation.id_protein.isin(kinases_disphase.id_protein)]\n",
    "kinases_mutation"
   ]
  },
  {
   "cell_type": "code",
   "execution_count": 15,
   "metadata": {},
   "outputs": [
    {
     "data": {
      "text/plain": [
       "35150"
      ]
     },
     "execution_count": 15,
     "metadata": {},
     "output_type": "execute_result"
    }
   ],
   "source": [
    "kinases_mutation.id_mutation.nunique()"
   ]
  },
  {
   "cell_type": "code",
   "execution_count": 16,
   "metadata": {},
   "outputs": [
    {
     "data": {
      "text/plain": [
       "missense       23382\n",
       "synonym         7664\n",
       "nonsense        1542\n",
       "frameshift      1274\n",
       "deletion         382\n",
       "delins           358\n",
       "insertion        287\n",
       "duplication      237\n",
       "nostop            20\n",
       "repeted            4\n",
       "Name: consequence, dtype: int64"
      ]
     },
     "execution_count": 16,
     "metadata": {},
     "output_type": "execute_result"
    }
   ],
   "source": [
    "kinases_mutation.consequence.value_counts()"
   ]
  },
  {
   "cell_type": "code",
   "execution_count": 17,
   "metadata": {},
   "outputs": [
    {
     "data": {
      "text/html": [
       "<div>\n",
       "<style scoped>\n",
       "    .dataframe tbody tr th:only-of-type {\n",
       "        vertical-align: middle;\n",
       "    }\n",
       "\n",
       "    .dataframe tbody tr th {\n",
       "        vertical-align: top;\n",
       "    }\n",
       "\n",
       "    .dataframe thead th {\n",
       "        text-align: right;\n",
       "    }\n",
       "</style>\n",
       "<table border=\"1\" class=\"dataframe\">\n",
       "  <thead>\n",
       "    <tr style=\"text-align: right;\">\n",
       "      <th></th>\n",
       "      <th>reviewed</th>\n",
       "      <th>id_protein</th>\n",
       "      <th>id_mlo</th>\n",
       "      <th>id_rol</th>\n",
       "      <th>id_dataset</th>\n",
       "      <th>id_proteinmlo</th>\n",
       "      <th>mlo</th>\n",
       "      <th>rol</th>\n",
       "    </tr>\n",
       "  </thead>\n",
       "  <tbody>\n",
       "    <tr>\n",
       "      <th>0</th>\n",
       "      <td>lt</td>\n",
       "      <td>1</td>\n",
       "      <td>1.0</td>\n",
       "      <td>1.0</td>\n",
       "      <td>3</td>\n",
       "      <td>1</td>\n",
       "      <td>cytoplasmic stress granule</td>\n",
       "      <td>driver</td>\n",
       "    </tr>\n",
       "    <tr>\n",
       "      <th>1</th>\n",
       "      <td>NaN</td>\n",
       "      <td>1</td>\n",
       "      <td>59.0</td>\n",
       "      <td>1.0</td>\n",
       "      <td>2</td>\n",
       "      <td>2</td>\n",
       "      <td>Gemini of cajal body</td>\n",
       "      <td>driver</td>\n",
       "    </tr>\n",
       "    <tr>\n",
       "      <th>2</th>\n",
       "      <td>NaN</td>\n",
       "      <td>1</td>\n",
       "      <td>47.0</td>\n",
       "      <td>1.0</td>\n",
       "      <td>2</td>\n",
       "      <td>3</td>\n",
       "      <td>Nuclear speckle</td>\n",
       "      <td>driver</td>\n",
       "    </tr>\n",
       "    <tr>\n",
       "      <th>3</th>\n",
       "      <td>NaN</td>\n",
       "      <td>1</td>\n",
       "      <td>18.0</td>\n",
       "      <td>1.0</td>\n",
       "      <td>2</td>\n",
       "      <td>4</td>\n",
       "      <td>Nucleolus</td>\n",
       "      <td>driver</td>\n",
       "    </tr>\n",
       "    <tr>\n",
       "      <th>4</th>\n",
       "      <td>NaN</td>\n",
       "      <td>1</td>\n",
       "      <td>16.0</td>\n",
       "      <td>1.0</td>\n",
       "      <td>2</td>\n",
       "      <td>5</td>\n",
       "      <td>Paraspeckle</td>\n",
       "      <td>driver</td>\n",
       "    </tr>\n",
       "    <tr>\n",
       "      <th>...</th>\n",
       "      <td>...</td>\n",
       "      <td>...</td>\n",
       "      <td>...</td>\n",
       "      <td>...</td>\n",
       "      <td>...</td>\n",
       "      <td>...</td>\n",
       "      <td>...</td>\n",
       "      <td>...</td>\n",
       "    </tr>\n",
       "    <tr>\n",
       "      <th>11514</th>\n",
       "      <td>ht</td>\n",
       "      <td>5739</td>\n",
       "      <td>18.0</td>\n",
       "      <td>NaN</td>\n",
       "      <td>1</td>\n",
       "      <td>11515</td>\n",
       "      <td>Nucleolus</td>\n",
       "      <td>NaN</td>\n",
       "    </tr>\n",
       "    <tr>\n",
       "      <th>11515</th>\n",
       "      <td>ht</td>\n",
       "      <td>5740</td>\n",
       "      <td>18.0</td>\n",
       "      <td>NaN</td>\n",
       "      <td>1</td>\n",
       "      <td>11516</td>\n",
       "      <td>Nucleolus</td>\n",
       "      <td>NaN</td>\n",
       "    </tr>\n",
       "    <tr>\n",
       "      <th>11516</th>\n",
       "      <td>ht</td>\n",
       "      <td>5740</td>\n",
       "      <td>47.0</td>\n",
       "      <td>NaN</td>\n",
       "      <td>1</td>\n",
       "      <td>11517</td>\n",
       "      <td>Nuclear speckle</td>\n",
       "      <td>NaN</td>\n",
       "    </tr>\n",
       "    <tr>\n",
       "      <th>11517</th>\n",
       "      <td>NaN</td>\n",
       "      <td>5741</td>\n",
       "      <td>18.0</td>\n",
       "      <td>3.0</td>\n",
       "      <td>2</td>\n",
       "      <td>11518</td>\n",
       "      <td>Nucleolus</td>\n",
       "      <td>client</td>\n",
       "    </tr>\n",
       "    <tr>\n",
       "      <th>11518</th>\n",
       "      <td>ht</td>\n",
       "      <td>5741</td>\n",
       "      <td>18.0</td>\n",
       "      <td>NaN</td>\n",
       "      <td>1</td>\n",
       "      <td>11519</td>\n",
       "      <td>Nucleolus</td>\n",
       "      <td>NaN</td>\n",
       "    </tr>\n",
       "  </tbody>\n",
       "</table>\n",
       "<p>11519 rows × 8 columns</p>\n",
       "</div>"
      ],
      "text/plain": [
       "      reviewed  id_protein  id_mlo  id_rol  id_dataset  id_proteinmlo  \\\n",
       "0           lt           1     1.0     1.0           3              1   \n",
       "1          NaN           1    59.0     1.0           2              2   \n",
       "2          NaN           1    47.0     1.0           2              3   \n",
       "3          NaN           1    18.0     1.0           2              4   \n",
       "4          NaN           1    16.0     1.0           2              5   \n",
       "...        ...         ...     ...     ...         ...            ...   \n",
       "11514       ht        5739    18.0     NaN           1          11515   \n",
       "11515       ht        5740    18.0     NaN           1          11516   \n",
       "11516       ht        5740    47.0     NaN           1          11517   \n",
       "11517      NaN        5741    18.0     3.0           2          11518   \n",
       "11518       ht        5741    18.0     NaN           1          11519   \n",
       "\n",
       "                              mlo     rol  \n",
       "0      cytoplasmic stress granule  driver  \n",
       "1            Gemini of cajal body  driver  \n",
       "2                 Nuclear speckle  driver  \n",
       "3                       Nucleolus  driver  \n",
       "4                     Paraspeckle  driver  \n",
       "...                           ...     ...  \n",
       "11514                   Nucleolus     NaN  \n",
       "11515                   Nucleolus     NaN  \n",
       "11516             Nuclear speckle     NaN  \n",
       "11517                   Nucleolus  client  \n",
       "11518                   Nucleolus     NaN  \n",
       "\n",
       "[11519 rows x 8 columns]"
      ]
     },
     "execution_count": 17,
     "metadata": {},
     "output_type": "execute_result"
    }
   ],
   "source": [
    "protein_has_mlo = pd.read_csv('../raw_data/disphasedb/protein_has_mlo.tsv', sep= '\\t').merge(pd.read_csv('../raw_data/disphasedb/mlo.tsv', sep= '\\t'), how= 'left')\n",
    "protein_has_mlo = protein_has_mlo.merge(pd.read_csv('../raw_data/disphasedb/rol.tsv', sep= '\\t'), how= 'left')\n",
    "protein_has_mlo"
   ]
  },
  {
   "cell_type": "code",
   "execution_count": 18,
   "metadata": {},
   "outputs": [
    {
     "name": "stdout",
     "output_type": "stream",
     "text": [
      "(118, 3)\n"
     ]
    },
    {
     "data": {
      "text/html": [
       "<div>\n",
       "<style scoped>\n",
       "    .dataframe tbody tr th:only-of-type {\n",
       "        vertical-align: middle;\n",
       "    }\n",
       "\n",
       "    .dataframe tbody tr th {\n",
       "        vertical-align: top;\n",
       "    }\n",
       "\n",
       "    .dataframe thead th {\n",
       "        text-align: right;\n",
       "    }\n",
       "</style>\n",
       "<table border=\"1\" class=\"dataframe\">\n",
       "  <thead>\n",
       "    <tr style=\"text-align: right;\">\n",
       "      <th></th>\n",
       "      <th>id_protein</th>\n",
       "      <th>mlo</th>\n",
       "      <th>rol</th>\n",
       "    </tr>\n",
       "  </thead>\n",
       "  <tbody>\n",
       "    <tr>\n",
       "      <th>626</th>\n",
       "      <td>89</td>\n",
       "      <td>Droplet</td>\n",
       "      <td>driver</td>\n",
       "    </tr>\n",
       "    <tr>\n",
       "      <th>627</th>\n",
       "      <td>89</td>\n",
       "      <td>PML nuclear body</td>\n",
       "      <td>driver</td>\n",
       "    </tr>\n",
       "    <tr>\n",
       "      <th>977</th>\n",
       "      <td>186</td>\n",
       "      <td>Stress granule</td>\n",
       "      <td>Unknown</td>\n",
       "    </tr>\n",
       "    <tr>\n",
       "      <th>978</th>\n",
       "      <td>186</td>\n",
       "      <td>Stress granule</td>\n",
       "      <td>regulator</td>\n",
       "    </tr>\n",
       "    <tr>\n",
       "      <th>1157</th>\n",
       "      <td>244</td>\n",
       "      <td>Stress granule</td>\n",
       "      <td>regulator</td>\n",
       "    </tr>\n",
       "  </tbody>\n",
       "</table>\n",
       "</div>"
      ],
      "text/plain": [
       "      id_protein               mlo        rol\n",
       "626           89           Droplet     driver\n",
       "627           89  PML nuclear body     driver\n",
       "977          186    Stress granule    Unknown\n",
       "978          186    Stress granule  regulator\n",
       "1157         244    Stress granule  regulator"
      ]
     },
     "execution_count": 18,
     "metadata": {},
     "output_type": "execute_result"
    }
   ],
   "source": [
    "kinases_mlo =  protein_has_mlo[protein_has_mlo.id_protein.isin(kinases_disphase.id_protein)]\n",
    "kinases_mlo = kinases_mlo[['id_protein', 'mlo', 'rol']].drop_duplicates()\n",
    "#kinases_mlo = kinases_mlo.dropna()\n",
    "kinases_mlo = kinases_mlo[kinases_mlo.mlo.notna()]\n",
    "kinases_mlo.rol = kinases_mlo.rol.replace(np.nan, \"Unknown\")\n",
    "print(kinases_mlo.shape)\n",
    "kinases_mlo.head()"
   ]
  },
  {
   "cell_type": "code",
   "execution_count": 19,
   "metadata": {},
   "outputs": [
    {
     "data": {
      "text/plain": [
       "Nucleolus                       26\n",
       "Centrosome/Spindle pole body    19\n",
       "Postsynaptic density            17\n",
       "Stress granule                  17\n",
       "PML nuclear body                11\n",
       "Nuclear speckle                  9\n",
       "P-body                           9\n",
       "Cajal body                       5\n",
       "Nuclear stress body              2\n",
       "Droplet                          2\n",
       "Paraspeckle                      1\n",
       "Name: mlo, dtype: int64"
      ]
     },
     "execution_count": 19,
     "metadata": {},
     "output_type": "execute_result"
    }
   ],
   "source": [
    "kinases_mlo.mlo.value_counts()"
   ]
  },
  {
   "cell_type": "code",
   "execution_count": 20,
   "metadata": {},
   "outputs": [
    {
     "data": {
      "text/plain": [
       "Unknown      59\n",
       "client       52\n",
       "regulator     5\n",
       "driver        2\n",
       "Name: rol, dtype: int64"
      ]
     },
     "execution_count": 20,
     "metadata": {},
     "output_type": "execute_result"
    }
   ],
   "source": [
    "kinases_mlo.rol.value_counts()"
   ]
  },
  {
   "cell_type": "code",
   "execution_count": 21,
   "metadata": {},
   "outputs": [],
   "source": [
    "import seaborn as sns"
   ]
  },
  {
   "cell_type": "code",
   "execution_count": 22,
   "metadata": {},
   "outputs": [],
   "source": [
    "order = kinases_mlo.mlo.value_counts().index"
   ]
  },
  {
   "cell_type": "code",
   "execution_count": 23,
   "metadata": {},
   "outputs": [
    {
     "data": {
      "text/plain": [
       "Index(['Nucleolus', 'Centrosome/Spindle pole body', 'Postsynaptic density',\n",
       "       'Stress granule', 'PML nuclear body', 'Nuclear speckle', 'P-body',\n",
       "       'Cajal body', 'Nuclear stress body', 'Droplet', 'Paraspeckle'],\n",
       "      dtype='object')"
      ]
     },
     "execution_count": 23,
     "metadata": {},
     "output_type": "execute_result"
    }
   ],
   "source": [
    "order"
   ]
  },
  {
   "cell_type": "code",
   "execution_count": 24,
   "metadata": {},
   "outputs": [
    {
     "data": {
      "text/plain": [
       "<Figure size 576x720 with 0 Axes>"
      ]
     },
     "metadata": {},
     "output_type": "display_data"
    },
    {
     "data": {
      "image/png": "[encoded data removed]",
      "text/plain": [
       "<Figure size 442.375x360 with 1 Axes>"
      ]
     },
     "metadata": {
      "needs_background": "light"
     },
     "output_type": "display_data"
    }
   ],
   "source": [
    "plt.figure(figsize= (8,10)),\n",
    "#sns.set(rc={\"figure.figsize\":(3, 4)})\n",
    "sns.displot(data= kinases_mlo, y= 'mlo', hue= 'rol')\n",
    "plt.title(\"Kinases distribution by MLO\")\n",
    "#plt.xticks(rotation= 90)\n",
    "plt.xlabel(\"No. of proteins\")\n",
    "plt.ylabel(\"\")\n",
    "plt.show()"
   ]
  }
 ],
 "metadata": {
  "kernelspec": {
   "display_name": "Python 3.7.9 64-bit",
   "language": "python",
   "name": "python3"
  },
  "language_info": {
   "codemirror_mode": {
    "name": "ipython",
    "version": 3
   },
   "file_extension": ".py",
   "mimetype": "text/x-python",
   "name": "python",
   "nbconvert_exporter": "python",
   "pygments_lexer": "ipython3",
   "version": "3.7.9"
  },
  "orig_nbformat": 4,
  "vscode": {
   "interpreter": {
    "hash": "82d4c6f819cf47785f735f902f00da8643513d08dab4f4c7470bccf934b8d2d6"
   }
  }
 },
 "nbformat": 4,
 "nbformat_minor": 2
}
