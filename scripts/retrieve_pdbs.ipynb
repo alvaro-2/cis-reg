{
 "cells": [
  {
   "cell_type": "code",
   "execution_count": 3,
   "metadata": {},
   "outputs": [],
   "source": [
    "# this script is for download all the pdb files of a list of pdb ids\n",
    "import pandas as pd\n",
    "#pip install requests\n",
    "import requests\n",
    "#from Bio.PDB.PDBList import PDBList"
   ]
  },
  {
   "cell_type": "code",
   "execution_count": 3,
   "metadata": {},
   "outputs": [],
   "source": [
    "#!pip list"
   ]
  },
  {
   "cell_type": "code",
   "execution_count": 2,
   "metadata": {},
   "outputs": [
    {
     "data": {
      "text/html": [
       "<div>\n",
       "<style scoped>\n",
       "    .dataframe tbody tr th:only-of-type {\n",
       "        vertical-align: middle;\n",
       "    }\n",
       "\n",
       "    .dataframe tbody tr th {\n",
       "        vertical-align: top;\n",
       "    }\n",
       "\n",
       "    .dataframe thead th {\n",
       "        text-align: right;\n",
       "    }\n",
       "</style>\n",
       "<table border=\"1\" class=\"dataframe\">\n",
       "  <thead>\n",
       "    <tr style=\"text-align: right;\">\n",
       "      <th></th>\n",
       "      <th>uniprot_acc</th>\n",
       "      <th>id_pdb</th>\n",
       "      <th>id_cre</th>\n",
       "      <th>id_kd</th>\n",
       "      <th>pdb</th>\n",
       "    </tr>\n",
       "  </thead>\n",
       "  <tbody>\n",
       "    <tr>\n",
       "      <th>0</th>\n",
       "      <td>A5K0N4</td>\n",
       "      <td>5147</td>\n",
       "      <td>10</td>\n",
       "      <td>10</td>\n",
       "      <td>5fet</td>\n",
       "    </tr>\n",
       "    <tr>\n",
       "      <th>1</th>\n",
       "      <td>O74536</td>\n",
       "      <td>8034</td>\n",
       "      <td>21</td>\n",
       "      <td>21</td>\n",
       "      <td>3h4j</td>\n",
       "    </tr>\n",
       "    <tr>\n",
       "      <th>2</th>\n",
       "      <td>O74536</td>\n",
       "      <td>8035</td>\n",
       "      <td>21</td>\n",
       "      <td>21</td>\n",
       "      <td>3h4j</td>\n",
       "    </tr>\n",
       "    <tr>\n",
       "      <th>3</th>\n",
       "      <td>O75582</td>\n",
       "      <td>579</td>\n",
       "      <td>22</td>\n",
       "      <td>23</td>\n",
       "      <td>3kn5</td>\n",
       "    </tr>\n",
       "    <tr>\n",
       "      <th>4</th>\n",
       "      <td>O75582</td>\n",
       "      <td>582</td>\n",
       "      <td>22</td>\n",
       "      <td>23</td>\n",
       "      <td>3kn5</td>\n",
       "    </tr>\n",
       "    <tr>\n",
       "      <th>...</th>\n",
       "      <td>...</td>\n",
       "      <td>...</td>\n",
       "      <td>...</td>\n",
       "      <td>...</td>\n",
       "      <td>...</td>\n",
       "    </tr>\n",
       "    <tr>\n",
       "      <th>1532</th>\n",
       "      <td>Q16644</td>\n",
       "      <td>2845</td>\n",
       "      <td>142</td>\n",
       "      <td>147</td>\n",
       "      <td>3fhr</td>\n",
       "    </tr>\n",
       "    <tr>\n",
       "      <th>1533</th>\n",
       "      <td>Q16644</td>\n",
       "      <td>5339</td>\n",
       "      <td>142</td>\n",
       "      <td>147</td>\n",
       "      <td>7nrb</td>\n",
       "    </tr>\n",
       "    <tr>\n",
       "      <th>1534</th>\n",
       "      <td>Q61846</td>\n",
       "      <td>1754</td>\n",
       "      <td>178</td>\n",
       "      <td>183</td>\n",
       "      <td>4bfm</td>\n",
       "    </tr>\n",
       "    <tr>\n",
       "      <th>1535</th>\n",
       "      <td>Q61846</td>\n",
       "      <td>7063</td>\n",
       "      <td>178</td>\n",
       "      <td>183</td>\n",
       "      <td>4cqg</td>\n",
       "    </tr>\n",
       "    <tr>\n",
       "      <th>1536</th>\n",
       "      <td>Q63450</td>\n",
       "      <td>7444</td>\n",
       "      <td>183</td>\n",
       "      <td>190</td>\n",
       "      <td>1a06</td>\n",
       "    </tr>\n",
       "  </tbody>\n",
       "</table>\n",
       "<p>1537 rows × 5 columns</p>\n",
       "</div>"
      ],
      "text/plain": [
       "     uniprot_acc  id_pdb  id_cre  id_kd   pdb\n",
       "0         A5K0N4    5147      10     10  5fet\n",
       "1         O74536    8034      21     21  3h4j\n",
       "2         O74536    8035      21     21  3h4j\n",
       "3         O75582     579      22     23  3kn5\n",
       "4         O75582     582      22     23  3kn5\n",
       "...          ...     ...     ...    ...   ...\n",
       "1532      Q16644    2845     142    147  3fhr\n",
       "1533      Q16644    5339     142    147  7nrb\n",
       "1534      Q61846    1754     178    183  4bfm\n",
       "1535      Q61846    7063     178    183  4cqg\n",
       "1536      Q63450    7444     183    190  1a06\n",
       "\n",
       "[1537 rows x 5 columns]"
      ]
     },
     "execution_count": 2,
     "metadata": {},
     "output_type": "execute_result"
    }
   ],
   "source": [
    "# Table with pdb ids of kinases containing CREs dataset\n",
    "pdbs_kd_cre = pd.read_csv('../datasets/pdbs_kd_cre.tsv', sep= '\\t')\n",
    "pdbs_kd_cre"
   ]
  },
  {
   "cell_type": "code",
   "execution_count": 9,
   "metadata": {},
   "outputs": [],
   "source": [
    "pdb_ids = pdbs_kd_cre.pdb.unique().tolist()"
   ]
  },
  {
   "cell_type": "code",
   "execution_count": 7,
   "metadata": {},
   "outputs": [],
   "source": [
    "#PDBList.retrieve_pdb_file(pdb_code= '5fet', file_format= 'pdb')"
   ]
  },
  {
   "cell_type": "code",
   "execution_count": 8,
   "metadata": {},
   "outputs": [],
   "source": [
    "# Hay que instancesar\n",
    "# pdbl = PDBList()\n",
    "# pdbl.retrieve_pdb_file(pdb_code= '1gzo')"
   ]
  },
  {
   "cell_type": "code",
   "execution_count": 6,
   "metadata": {},
   "outputs": [],
   "source": [
    "proxies = {\n",
    "    'http': 'http://proxy.leloir.org.ar:3128',\n",
    "    'https': 'http://proxy.leloir.org.ar:3128'\n",
    "}"
   ]
  },
  {
   "cell_type": "code",
   "execution_count": 16,
   "metadata": {},
   "outputs": [],
   "source": []
  },
  {
   "cell_type": "code",
   "execution_count": 19,
   "metadata": {},
   "outputs": [],
   "source": [
    "error = {}\n",
    "already = []\n",
    "for pdb in pdb_ids:\n",
    "    r = requests.get(\"https://files.rcsb.org/download/\" + pdb + \".pdb\", proxies= proxies)\n",
    "    if r.status_code == 200:\n",
    "        text_resp = r.text\n",
    "\n",
    "        f = open(\"../datasets/kinases_cre_pdb_files/\" + pdb + \".pdb\", \"w\")\n",
    "        f.write(text_resp)\n",
    "        f.close()\n",
    "\n",
    "        already.append(pdb)\n",
    "        \n",
    "    else:\n",
    "        error[pdb] = r.status_code"
   ]
  },
  {
   "cell_type": "code",
   "execution_count": 20,
   "metadata": {},
   "outputs": [
    {
     "data": {
      "text/plain": [
       "{'6t28': 404, '6t29': 404}"
      ]
     },
     "execution_count": 20,
     "metadata": {},
     "output_type": "execute_result"
    }
   ],
   "source": [
    "error"
   ]
  },
  {
   "cell_type": "code",
   "execution_count": 29,
   "metadata": {},
   "outputs": [],
   "source": [
    "text_resp = r.text"
   ]
  },
  {
   "cell_type": "code",
   "execution_count": 31,
   "metadata": {},
   "outputs": [],
   "source": [
    "f = open(\"4hbb.pdb\", \"w\")\n",
    "f.write(text_resp)\n",
    "f.close()"
   ]
  },
  {
   "cell_type": "code",
   "execution_count": 34,
   "metadata": {},
   "outputs": [],
   "source": [
    "# Eli\n",
    "# uniprot_segments_observed = pd.read_csv('../raw_data/uniprot_segments_observed.tsv.gz', sep= '\\t', compression='gzip', skiprows=1)\n",
    "# fus = uniprot_segments_observed[uniprot_segments_observed.SP_PRIMARY == 'P35637'].sort_values('SP_BEG')\n",
    "# fus"
   ]
  }
 ],
 "metadata": {
  "kernelspec": {
   "display_name": "Python 3.7.9 64-bit",
   "language": "python",
   "name": "python3"
  },
  "language_info": {
   "codemirror_mode": {
    "name": "ipython",
    "version": 3
   },
   "file_extension": ".py",
   "mimetype": "text/x-python",
   "name": "python",
   "nbconvert_exporter": "python",
   "pygments_lexer": "ipython3",
   "version": "3.7.9"
  },
  "orig_nbformat": 4,
  "vscode": {
   "interpreter": {
    "hash": "82d4c6f819cf47785f735f902f00da8643513d08dab4f4c7470bccf934b8d2d6"
   }
  }
 },
 "nbformat": 4,
 "nbformat_minor": 2
}
