{
 "cells": [
  {
   "cell_type": "markdown",
   "metadata": {},
   "source": [
    "https://towardsdatascience.com/text-processing-in-python-29e86ea4114c"
   ]
  },
  {
   "cell_type": "markdown",
   "metadata": {},
   "source": [
    "# Aim: search in the papers from the positive cases for the keywords of cis-regulatory proteins (Tompa2014)"
   ]
  },
  {
   "cell_type": "code",
   "execution_count": 1,
   "metadata": {},
   "outputs": [
    {
     "name": "stdout",
     "output_type": "stream",
     "text": [
      "Collecting PyPDF2\n",
      "  Downloading PyPDF2-2.5.0-py3-none-any.whl (200 kB)\n",
      "Requirement already satisfied: typing-extensions in c:\\users\\user\\anaconda3\\lib\\site-packages (from PyPDF2) (3.7.4.3)\n",
      "Installing collected packages: PyPDF2\n",
      "Successfully installed PyPDF2-2.5.0\n"
     ]
    }
   ],
   "source": [
    "!pip install PyPDF2"
   ]
  },
  {
   "cell_type": "code",
   "execution_count": 1,
   "metadata": {},
   "outputs": [],
   "source": [
    "import PyPDF2"
   ]
  },
  {
   "cell_type": "code",
   "execution_count": 2,
   "metadata": {},
   "outputs": [],
   "source": [
    "# creating a pdf file object\n",
    "pdfFileObj = open('../raw_data/positive_proteins_papers/O08808.pdf', 'rb')\n",
    "# creating a pdf reader object\n",
    "pdfReader = PyPDF2.PdfFileReader(pdfFileObj)"
   ]
  },
  {
   "cell_type": "code",
   "execution_count": 3,
   "metadata": {},
   "outputs": [
    {
     "name": "stdout",
     "output_type": "stream",
     "text": [
      "13\n"
     ]
    }
   ],
   "source": [
    "# printing number of pages in pdf file\n",
    "print(pdfReader.numPages)"
   ]
  },
  {
   "cell_type": "code",
   "execution_count": 4,
   "metadata": {},
   "outputs": [],
   "source": [
    "# creating a page object\n",
    "pageObj = pdfReader.getPage(2)"
   ]
  },
  {
   "cell_type": "code",
   "execution_count": 6,
   "metadata": {},
   "outputs": [],
   "source": [
    "# extracting text from page\n",
    "txt= pageObj.extractText()"
   ]
  },
  {
   "cell_type": "code",
   "execution_count": 7,
   "metadata": {},
   "outputs": [
    {
     "data": {
      "text/plain": [
       "'diaphanous autoinhibitory domain (DAD), which immediately\\nfollows the FH2 domain in sequence, and an N-terminal\\ndiaphanous inhibitory domain (DID) [31–33] (Fig. 1A). Auto-\\ninhibition is relieved by GTP-bound Rho proteins, which bind to\\nthe DID and an adjacent GTPase binding (G) element, and\\nconsequently displace the DAD. Structural studies have shown\\nthat the Rho and DAD binding sites on the DID are partially\\noverlapped, explaining incompatibility of the two interactions [34–\\n36]. The G-DID element of mDia1 is rendered dimeric through\\nan adjacent dimerization domain (DD) and coiled coil region (CC)\\n(Fig. 1A) [32,34,35]. Although the mechanisms of Rho-mediated\\nactivation of DRFs are reasonably clear, the mechanism of\\nautoinhibition is not, in part because the FH2 domain shows no\\ndetectable binding to any other domains in DRF in isolation\\n[32,36]. This contrasts to other autoinhibited systems (e.g. WASP\\nor Pak), in which activity bearing domains often bind to inhibitory\\ndomains directly with functionally critical residues being masked\\nby the interaction [37–39].\\nHere we report the crystal structure of an autoinhibitory\\ncomplex of mDia1 formedin transbetween the DID-DD and FH2-\\nDAD fragments of the protein. The structure exhibits a tetrameric\\nconfiguration that contains four chains each of the DID-DD and\\nFH2-DAD. Sedimentation equilibrium ultracentrifugation and\\nmulti-angle static light scattering (MALS) data indicate that the\\ncomplex used for crystallization equilibrates between a dimer and\\na tetramer in solution. In contrast, full-length mDia1 and another\\ncomplex formedin transbetween FH2-DAD and a longer N-\\nterminal fragment containing the DID-DD and an adjacent\\ncoiled-coil region are both dimers. The dimeric configurations that\\ncan be extracted from our crystal structure appear to be\\nincompatible with filament binding, suggesting a likely mechanism\\nof autoinhibition. However, additional NMR and biochemical\\nanalyses of a minimal element of this system (a monomeric bridge-\\nDAD construct bound to DID) suggest that the autoinhibited\\nstructure may allow actin monomers to bind at least one of the two\\nactin-binding sites on the FH2 domain.\\nResults and Discussion\\nFull-length mDia1 Forms a Dimer in Solution\\nStructural and biochemical studies have revealed that FH2\\ndomains and the N-terminal regulatory fragment of mDia1 (G-\\nDID-DD-CC, Fig. 1A) form dimers in isolation [32,34,35]. To\\ndetermine if full-length mDia1 is also a dimer, we analyzed the\\nintact protein as well as two intermolecular complexes of N- and\\nC-terminal fragments (Fig. 1A) using sedimentation equilibrium\\nultracentrifugation and MALS. For full-length mDia1, the\\nsedimentation equilibrium data can be described well by a single\\nideal species model, yielding a molecular mass of 232 kDa, which\\nis reasonably close to the dimer mass (255 kDa) (Fig. 1B). The\\nMALS-derived mass, 274 kDa, is also consistent with apredominantly dimeric species (Fig. 1F). For the intermolecular\\nN+C complex of G-DID-DD-CC and FH2-DAD, both ultra-\\ncentrifugation and MALS data give a mass consistent with two\\nchains each of G-DID-DD-CC and FH2-DAD (190 kDa and\\n221 kDa, respectively, versus 221kDa calculated mass) (Fig. 1C\\nand G). Thus, full-length mDia1 and the complex of G-DID-DD-\\nCC plus FH2-DAD produce analogous stoichiometries. In\\ncontrast, when the ultracentrifugation data on the complex of\\nFH2-DAD plus DID-DD, a minimaldimeric inhibitory fragment,\\nare fit to a single species model, the resulting mass (251 kDa) does\\nnot agree well with the calculated mass of the dimer (181 kDa)\\n(Fig. 1D). However, the data fit well to a two species model ((DID-\\nDDNFH2-DAD)2+(DID-DDNFH2-DAD)\\n4) with a dissociation\\nconstant of 14.6\\nmM (Fig. 1E). MALS data are also consistent\\nwith multiple species as indicated by a broad peak eluting from\\nthe prior gel filtration chromatography column, with masses\\nranging from 267 kDa (peak2) to 332 kDa (peak1) (Fig. 1H). The\\nmass of 332 kDa is close to that of the (DID-DD/FH2-DAD)\\n4\\ntetramer, 362 kDa. On this basis we conclude that the DID-\\nDDNFH2-DAD complex likely equilibrates between a dimer and a\\ntetramer in solution. Thus, the CC region appears to stabilize the\\ndimer relative to the tetramer. Notably, the absence of the CC\\nregion does not affect the oligomerization state of the DID-DD\\nfragment (Fig. S1) and G-DID-DD-CC and DID-DD inhibit\\nFH2-DAD with equal potency inin vitroactin assembly assays\\n(Fig. S2).\\nCrystallization of an Autoinhibited Complex of mDia1\\nWe attempted crystallization of mDia1 in the autoinhibited\\nconformation using two separate chains of the N- and C-terminal\\ndomains, since the FH1 poly-proline region (,200 residues) in the\\ncentral segment of full-length mDia1 would likely interfere with\\ncrystallization. The FH2-DAD construct spanning residues 753–\\n1209 was chosen based on previous structures of the FH2 and\\nDAD region of various formins [36,40,41]. This was paired with a\\nnumber of N-terminal constructs containing different lengths of\\nthe CC region. Only the construct completely lacking the CC\\nregion (residues 131–457, DID-DD) yielded crystals in complex\\nwith FH2-DAD. These diffracted to 2.75 A˚under synchrotron\\nillumination (Table 1). Phase information was obtained from a\\ncombination of a molecular replacement experiment and a multi-\\nwavelength anomalous dispersion experiment collected on a\\nselenomethionine-labeled sample.\\nStructure of an Autoinhibitory Complex of mDia1\\nIn the crystal (Fig. 2A), an asymmetric unit contains four chains\\neach of DID-DD and FH2-DAD, consistent with the heavier mass\\nobserved in our ultracentrifugation and MALS data above. These\\nare organized into two dimers of DID-DD (blue and grey in\\nFig. 2A), each of which is bound to a DAD element (red), and four\\nbridge elements (dark/light green and dark/light tan). The linkersFigure 1. Domain organization and oligomerization of mDia1.(A) Domain organization of mDia1. Abbreviations: G, GTPase binding region\\nnecessary for RhoA binding; DID, Diaphanous inhibitory domain; DD, dimerization domain; CC, coiled coil; FH1, formin homology 1 domain; FH2,\\nformin homology 2 domain; DAD, Diaphanous autoinhibitory domain. (B-E) Sedimentation equilibrium analyses of (B) full-length protein, (C) the G-\\nDID-DD-CCNFH2-DAD and (D, E) the DID-DDNFH2-DAD complex. Representative data recorded for each protein/complex with a sample concentration\\nof 14\\nmM at 6500 (blue diamonds), 9500 (red triangles), and 12000 rpm (green circles) are shown. The curves were fitted with single ideal species or\\nmonomer model in (B-D) and monomer-dimer equilibrium model in (E), respectively. In (E), the molecular weight of the monomer was fixed to\\n181kDa, which corresponds to the sum of two chains of each of DID-DD and FH2-DAD. The dissociation constant obtained from the fitting is 14.6\\nmM.\\nAbove these data are the residuals between the data and the fitted lines. (F-H) Size exclusion chromatography (Superdex 200) coupled multi-angle\\nstatic light scattering experiments for (F) full-length protein, (G) the G-DID-DD-CCNFH2-DAD and (H) the DID-DDNFH2-DAD complex. Representative\\nsignals from the 90udetector (red) and refractive index differences (blue) are shown (upper panels). The two vertical solid lines indicate the regions\\nused for calculating average molar mass (upper panels). The calculated molecular weights for each data point are shown as black diamonds in the\\nexpanded pictures of the selected regions (lower panels). 500\\nml of total 25mM protein were injected.\\ndoi:10.1371/journal.pone.0012896.g001Autoinhibition of mDia1\\n\\nPLoS ONE | www.plosone.org 3 September 2010 | Volume 5 | Issue 9 | e12896'"
      ]
     },
     "execution_count": 7,
     "metadata": {},
     "output_type": "execute_result"
    }
   ],
   "source": [
    "txt"
   ]
  },
  {
   "cell_type": "code",
   "execution_count": null,
   "metadata": {},
   "outputs": [],
   "source": [
    "# closing the pdf file object\n",
    "pdfFileObj.close()"
   ]
  }
 ],
 "metadata": {
  "kernelspec": {
   "display_name": "Python 3.8.8 ('base')",
   "language": "python",
   "name": "python3"
  },
  "language_info": {
   "codemirror_mode": {
    "name": "ipython",
    "version": 3
   },
   "file_extension": ".py",
   "mimetype": "text/x-python",
   "name": "python",
   "nbconvert_exporter": "python",
   "pygments_lexer": "ipython3",
   "version": "3.8.8"
  },
  "orig_nbformat": 4,
  "vscode": {
   "interpreter": {
    "hash": "f08154012ddadd8e950e6e9e035c7a7b32c136e7647e9b7c77e02eb723a8bedb"
   }
  }
 },
 "nbformat": 4,
 "nbformat_minor": 2
}
