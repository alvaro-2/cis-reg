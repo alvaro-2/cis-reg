{
 "cells": [
  {
   "cell_type": "markdown",
   "metadata": {},
   "source": [
    "### Aim: find associations between the positive CREs proteins (81 proteins - 87 papers (unique)) and the keywords of Cis-regulation"
   ]
  },
  {
   "cell_type": "code",
   "execution_count": 28,
   "metadata": {},
   "outputs": [],
   "source": [
    "import pandas as pd\n",
    "import re"
   ]
  },
  {
   "cell_type": "code",
   "execution_count": 9,
   "metadata": {},
   "outputs": [],
   "source": [
    "kw = pd.read_csv('../datasets/positive_tompa_keywords.csv', skiprows= 9, header= None).drop_duplicates()\n",
    "kw.columns = kw.iloc[0]\n",
    "kw = kw.iloc[1:]"
   ]
  },
  {
   "cell_type": "code",
   "execution_count": 64,
   "metadata": {},
   "outputs": [],
   "source": [
    "# Bring the proteins name and papers from supplementary tables\n",
    "cre = pd.read_csv('../datasets/cre_dataset.csv')\n",
    "# Only positive protein (module disordered)\n",
    "cre = cre[cre.module == 'd']"
   ]
  },
  {
   "cell_type": "code",
   "execution_count": 83,
   "metadata": {},
   "outputs": [],
   "source": [
    "prot = cre[['uniprot_acc', 'references']]"
   ]
  },
  {
   "cell_type": "code",
   "execution_count": 84,
   "metadata": {},
   "outputs": [
    {
     "name": "stderr",
     "output_type": "stream",
     "text": [
      "c:\\Users\\User\\anaconda3\\lib\\site-packages\\pandas\\core\\generic.py:5494: SettingWithCopyWarning: \n",
      "A value is trying to be set on a copy of a slice from a DataFrame.\n",
      "Try using .loc[row_indexer,col_indexer] = value instead\n",
      "\n",
      "See the caveats in the documentation: https://pandas.pydata.org/pandas-docs/stable/user_guide/indexing.html#returning-a-view-versus-a-copy\n",
      "  self[name] = value\n"
     ]
    }
   ],
   "source": [
    "# Delete () and split\n",
    "prot.references = prot.references.str.strip(\"()\").str.split(\";\")\n",
    "prot = prot.explode('references')\n",
    "prot.references = prot.references.str.strip()\n",
    "# Drop \"et al.\", whitespaces and lower\n",
    "prot.references = prot.references.str.replace(' et al.', \"\").str.replace(\", \", \"_\").str.replace(\" \", \"_\").str.lower()"
   ]
  },
  {
   "cell_type": "code",
   "execution_count": 86,
   "metadata": {},
   "outputs": [
    {
     "data": {
      "text/html": [
       "<div>\n",
       "<style scoped>\n",
       "    .dataframe tbody tr th:only-of-type {\n",
       "        vertical-align: middle;\n",
       "    }\n",
       "\n",
       "    .dataframe tbody tr th {\n",
       "        vertical-align: top;\n",
       "    }\n",
       "\n",
       "    .dataframe thead th {\n",
       "        text-align: right;\n",
       "    }\n",
       "</style>\n",
       "<table border=\"1\" class=\"dataframe\">\n",
       "  <thead>\n",
       "    <tr style=\"text-align: right;\">\n",
       "      <th></th>\n",
       "      <th>uniprot_acc</th>\n",
       "      <th>references</th>\n",
       "    </tr>\n",
       "  </thead>\n",
       "  <tbody>\n",
       "    <tr>\n",
       "      <th>0</th>\n",
       "      <td>P13864</td>\n",
       "      <td>song_2011</td>\n",
       "    </tr>\n",
       "    <tr>\n",
       "      <th>0</th>\n",
       "      <td>P13864</td>\n",
       "      <td>trudeau_2013</td>\n",
       "    </tr>\n",
       "    <tr>\n",
       "      <th>1</th>\n",
       "      <td>P20226</td>\n",
       "      <td>kuddus_and_schmidt_1993</td>\n",
       "    </tr>\n",
       "    <tr>\n",
       "      <th>1</th>\n",
       "      <td>P20226</td>\n",
       "      <td>trudeau_2013</td>\n",
       "    </tr>\n",
       "    <tr>\n",
       "      <th>2</th>\n",
       "      <td>Q62073</td>\n",
       "      <td>yamaguchi_1995</td>\n",
       "    </tr>\n",
       "    <tr>\n",
       "      <th>...</th>\n",
       "      <td>...</td>\n",
       "      <td>...</td>\n",
       "    </tr>\n",
       "    <tr>\n",
       "      <th>130</th>\n",
       "      <td>Q04206</td>\n",
       "      <td>trudeau_2013</td>\n",
       "    </tr>\n",
       "    <tr>\n",
       "      <th>131</th>\n",
       "      <td>Q15942</td>\n",
       "      <td>hansen_and_kwiatkowski_2013</td>\n",
       "    </tr>\n",
       "    <tr>\n",
       "      <th>132</th>\n",
       "      <td>Q01970</td>\n",
       "      <td>lyon_2014</td>\n",
       "    </tr>\n",
       "    <tr>\n",
       "      <th>133</th>\n",
       "      <td>Q9UR24</td>\n",
       "      <td>wang_2014</td>\n",
       "    </tr>\n",
       "    <tr>\n",
       "      <th>134</th>\n",
       "      <td>O97143</td>\n",
       "      <td>klebba_2015</td>\n",
       "    </tr>\n",
       "  </tbody>\n",
       "</table>\n",
       "<p>122 rows × 2 columns</p>\n",
       "</div>"
      ],
      "text/plain": [
       "    uniprot_acc                   references\n",
       "0        P13864                    song_2011\n",
       "0        P13864                 trudeau_2013\n",
       "1        P20226      kuddus_and_schmidt_1993\n",
       "1        P20226                 trudeau_2013\n",
       "2        Q62073               yamaguchi_1995\n",
       "..          ...                          ...\n",
       "130      Q04206                 trudeau_2013\n",
       "131      Q15942  hansen_and_kwiatkowski_2013\n",
       "132      Q01970                    lyon_2014\n",
       "133      Q9UR24                    wang_2014\n",
       "134      O97143                  klebba_2015\n",
       "\n",
       "[122 rows x 2 columns]"
      ]
     },
     "execution_count": 86,
     "metadata": {},
     "output_type": "execute_result"
    }
   ],
   "source": [
    "prot"
   ]
  },
  {
   "cell_type": "code",
   "execution_count": 95,
   "metadata": {},
   "outputs": [],
   "source": [
    "kw.columns = kw.columns.str.lower().str.replace(\" \", \"_\")\n",
    "kw.file_name = kw.file_name.str.strip(\".pdf\").str.replace(\" \", \"_\").str.lower()"
   ]
  },
  {
   "cell_type": "code",
   "execution_count": 104,
   "metadata": {},
   "outputs": [
    {
     "data": {
      "text/plain": [
       "62"
      ]
     },
     "execution_count": 104,
     "metadata": {},
     "output_type": "execute_result"
    }
   ],
   "source": [
    "kw.file_name.nunique()"
   ]
  },
  {
   "cell_type": "code",
   "execution_count": 106,
   "metadata": {},
   "outputs": [
    {
     "data": {
      "text/plain": [
       "85"
      ]
     },
     "execution_count": 106,
     "metadata": {},
     "output_type": "execute_result"
    }
   ],
   "source": [
    "prot.references.nunique()"
   ]
  },
  {
   "cell_type": "code",
   "execution_count": 111,
   "metadata": {},
   "outputs": [
    {
     "data": {
      "text/plain": [
       "file_name\n",
       "miki_and_takenawa_2002      1\n",
       "green_2011                  1\n",
       "buchwalter_2004             1\n",
       "krugmann_2001               2\n",
       "catimel_2001                2\n",
       "                         ... \n",
       "martin_2007                37\n",
       "klebba_2015                41\n",
       "kalinina_2012              60\n",
       "trudeau_2013               67\n",
       "francis_2002              114\n",
       "Length: 62, dtype: int64"
      ]
     },
     "execution_count": 111,
     "metadata": {},
     "output_type": "execute_result"
    }
   ],
   "source": [
    "kw[['file_name', 'search_instance']].groupby(\"file_name\").size().sort_values()"
   ]
  },
  {
   "cell_type": "code",
   "execution_count": 126,
   "metadata": {},
   "outputs": [
    {
     "data": {
      "text/plain": [
       "1      24\n",
       "3      21\n",
       "4      32\n",
       "6      -1\n",
       "7      -1\n",
       "       ..\n",
       "948    18\n",
       "949    21\n",
       "951    29\n",
       "952    14\n",
       "953    18\n",
       "Name: search_instance, Length: 892, dtype: int64"
      ]
     },
     "execution_count": 126,
     "metadata": {},
     "output_type": "execute_result"
    }
   ],
   "source": [
    "kw.search_instance.str.find(\"autoinhibition\")"
   ]
  },
  {
   "cell_type": "code",
   "execution_count": 125,
   "metadata": {},
   "outputs": [
    {
     "data": {
      "text/plain": [
       "1      []\n",
       "3      []\n",
       "4      []\n",
       "6      []\n",
       "7      []\n",
       "       ..\n",
       "948    []\n",
       "949    []\n",
       "951    []\n",
       "952    []\n",
       "953    []\n",
       "Name: search_instance, Length: 892, dtype: object"
      ]
     },
     "execution_count": 125,
     "metadata": {},
     "output_type": "execute_result"
    }
   ],
   "source": [
    "kw.search_instance.apply(lambda x: re.findall(\".*(binding domain)(autoinhibition).*\", x))"
   ]
  },
  {
   "cell_type": "code",
   "execution_count": 121,
   "metadata": {},
   "outputs": [
    {
     "data": {
      "text/plain": [
       "'binding domain releases autoinhibition allowing for maximal catalytic activity. Human CaMKK\\x01 and CaMKK'"
      ]
     },
     "execution_count": 121,
     "metadata": {},
     "output_type": "execute_result"
    }
   ],
   "source": [
    "kw.search_instance[1]"
   ]
  },
  {
   "cell_type": "markdown",
   "metadata": {},
   "source": [
    "interdomain allostery, intramolecular regulation, intrasteric regulation, active-site-directed regulation, motif exposure, autoinhibition, signaling conduit function"
   ]
  },
  {
   "cell_type": "code",
   "execution_count": 128,
   "metadata": {},
   "outputs": [],
   "source": [
    "l = [\"interdomain allostery\", \"intramolecular regulation\", \"intrasteric regulation\", \"active-site-directed regulation\", \"motif exposure\", \"autoinhibition\", \"signaling conduit function\"]"
   ]
  },
  {
   "cell_type": "code",
   "execution_count": null,
   "metadata": {},
   "outputs": [],
   "source": [
    "# a_string = \"A string is more than its parts!\"\n",
    "# matches = [\"more\", \"wholesome\", \"milk\"]\n",
    "\n",
    "# if any(x in a_string for x in matches):"
   ]
  },
  {
   "cell_type": "code",
   "execution_count": 133,
   "metadata": {},
   "outputs": [
    {
     "name": "stdout",
     "output_type": "stream",
     "text": [
      "yes\n"
     ]
    }
   ],
   "source": [
    "if any(x in kw.search_instance[1] for x in l):\n",
    "    print('yes')"
   ]
  },
  {
   "cell_type": "code",
   "execution_count": null,
   "metadata": {},
   "outputs": [],
   "source": []
  }
 ],
 "metadata": {
  "kernelspec": {
   "display_name": "Python 3.8.8 ('base')",
   "language": "python",
   "name": "python3"
  },
  "language_info": {
   "codemirror_mode": {
    "name": "ipython",
    "version": 3
   },
   "file_extension": ".py",
   "mimetype": "text/x-python",
   "name": "python",
   "nbconvert_exporter": "python",
   "pygments_lexer": "ipython3",
   "version": "3.8.8"
  },
  "orig_nbformat": 4,
  "vscode": {
   "interpreter": {
    "hash": "f08154012ddadd8e950e6e9e035c7a7b32c136e7647e9b7c77e02eb723a8bedb"
   }
  }
 },
 "nbformat": 4,
 "nbformat_minor": 2
}
