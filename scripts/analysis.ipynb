{
 "cells": [
  {
   "cell_type": "code",
   "execution_count": 1,
   "metadata": {},
   "outputs": [],
   "source": [
    "import pandas as pd\n",
    "import matplotlib.pyplot as plt\n",
    "from matplotlib_venn import venn2\n",
    "import seaborn as sns"
   ]
  },
  {
   "cell_type": "markdown",
   "metadata": {},
   "source": [
    "### Data"
   ]
  },
  {
   "cell_type": "code",
   "execution_count": 2,
   "metadata": {},
   "outputs": [],
   "source": [
    "cre = pd.read_csv('../datasets/cre_dataset.csv')\n",
    "pdb = pd.read_csv('../datasets/uniprot_pdb.tsv', sep= '\\t')\n",
    "cre_pdb_count = pd.read_csv('../datasets/cre_pdb_count.tsv', sep= '\\t')\n",
    "fl = pd.read_csv('../datasets/flipper_consensus.tsv', sep= '\\t')"
   ]
  },
  {
   "cell_type": "code",
   "execution_count": 3,
   "metadata": {},
   "outputs": [],
   "source": [
    "import matplotlib"
   ]
  },
  {
   "cell_type": "code",
   "execution_count": 4,
   "metadata": {},
   "outputs": [
    {
     "name": "stdout",
     "output_type": "stream",
     "text": [
      "No. of unique CREs: 168\n"
     ]
    }
   ],
   "source": [
    "print(f\"No. of unique CREs: {cre.id_cre.nunique()}\")"
   ]
  },
  {
   "cell_type": "code",
   "execution_count": 3,
   "metadata": {},
   "outputs": [
    {
     "data": {
      "image/png": "[encoded data removed]",
      "text/plain": [
       "<Figure size 432x288 with 1 Axes>"
      ]
     },
     "metadata": {
      "needs_background": "light"
     },
     "output_type": "display_data"
    }
   ],
   "source": [
    "# How many proteins with disordered and structured CREs\n",
    "cre.module.value_counts().plot(kind= 'barh', color= 'gray')\n",
    "plt.title(\"Proteins with disordered and structured CREs\")\n",
    "plt.show()"
   ]
  },
  {
   "cell_type": "code",
   "execution_count": 5,
   "metadata": {},
   "outputs": [],
   "source": [
    "d_cre = cre.uniprot_acc[cre.module == 'd'].unique().tolist()\n",
    "s_cre = cre.uniprot_acc[cre.module == 's'].unique().tolist()"
   ]
  },
  {
   "cell_type": "code",
   "execution_count": 6,
   "metadata": {},
   "outputs": [
    {
     "data": {
      "text/plain": [
       "<matplotlib_venn._common.VennDiagram at 0x1bf8a61db80>"
      ]
     },
     "execution_count": 6,
     "metadata": {},
     "output_type": "execute_result"
    },
    {
     "data": {
      "image/png": "[encoded data removed]",
      "text/plain": [
       "<Figure size 432x288 with 1 Axes>"
      ]
     },
     "metadata": {},
     "output_type": "display_data"
    }
   ],
   "source": [
    "# They do not overlap\n",
    "venn2([set(d_cre), set(s_cre)], set_labels= ['disordered', 'structured'])"
   ]
  },
  {
   "cell_type": "markdown",
   "metadata": {},
   "source": [
    "#### Distribution per specie"
   ]
  },
  {
   "cell_type": "code",
   "execution_count": 7,
   "metadata": {},
   "outputs": [],
   "source": [
    "species = cre.species.value_counts().to_frame().reset_index().rename(columns= {'index': 'specie', 'species': 'count'})"
   ]
  },
  {
   "cell_type": "code",
   "execution_count": 8,
   "metadata": {},
   "outputs": [],
   "source": [
    "eukarya = [\"H. sapiens\", \"M. musculus\", \"S. cerevisiae\", \"R. norvegicus\", \"D. melanogaster\", \"G. gallus\", \"C. elegans\", \"D. rerio\", \"C. griseus\", \"S. vulgare\", \"S. pombe\", \"A. castellanii\", \"S. crevisiae\"]\n",
    "bacteria = [\"E. coli\", \"C. glutamicum\", \"B. amyloliquefaciens\", \"P. fluorescens\", \"L. monocytogenes\"]\n",
    "virus = [\"Enterobacteria phage T4\", \"Hepatitis C virus genotype 1b\"]\n"
   ]
  },
  {
   "cell_type": "code",
   "execution_count": 9,
   "metadata": {},
   "outputs": [
    {
     "name": "stderr",
     "output_type": "stream",
     "text": [
      "<ipython-input-9-3976867e3bba>:4: SettingWithCopyWarning: \n",
      "A value is trying to be set on a copy of a slice from a DataFrame\n",
      "\n",
      "See the caveats in the documentation: https://pandas.pydata.org/pandas-docs/stable/user_guide/indexing.html#returning-a-view-versus-a-copy\n",
      "  species[\"domain\"][i] = \"eukarya\"\n",
      "<ipython-input-9-3976867e3bba>:6: SettingWithCopyWarning: \n",
      "A value is trying to be set on a copy of a slice from a DataFrame\n",
      "\n",
      "See the caveats in the documentation: https://pandas.pydata.org/pandas-docs/stable/user_guide/indexing.html#returning-a-view-versus-a-copy\n",
      "  species[\"domain\"][i] = \"bacteria\"\n",
      "<ipython-input-9-3976867e3bba>:8: SettingWithCopyWarning: \n",
      "A value is trying to be set on a copy of a slice from a DataFrame\n",
      "\n",
      "See the caveats in the documentation: https://pandas.pydata.org/pandas-docs/stable/user_guide/indexing.html#returning-a-view-versus-a-copy\n",
      "  species[\"domain\"][i] = \"virus\"\n"
     ]
    }
   ],
   "source": [
    "species[\"domain\"] = None\n",
    "for i in species.index:\n",
    "    if species.specie[i] in eukarya:\n",
    "        species[\"domain\"][i] = \"eukarya\"\n",
    "    if species.specie[i] in bacteria:\n",
    "        species[\"domain\"][i] = \"bacteria\"\n",
    "    if species.specie[i] in virus:\n",
    "        species[\"domain\"][i] = \"virus\""
   ]
  },
  {
   "cell_type": "code",
   "execution_count": 10,
   "metadata": {},
   "outputs": [],
   "source": [
    "# Mapper dict\n",
    "dom_dict = species.groupby('domain')['specie'].apply(list).to_dict()"
   ]
  },
  {
   "cell_type": "code",
   "execution_count": 11,
   "metadata": {},
   "outputs": [],
   "source": [
    "g = []\n",
    "for i in cre.index:\n",
    "    for k in dom_dict:\n",
    "        if cre.species[i] in dom_dict[k]:\n",
    "            g.append(k)\n",
    "cre[\"domain\"] = g"
   ]
  },
  {
   "cell_type": "code",
   "execution_count": 12,
   "metadata": {},
   "outputs": [
    {
     "data": {
      "text/plain": [
       "eukarya     159\n",
       "bacteria      7\n",
       "virus         2\n",
       "Name: domain, dtype: int64"
      ]
     },
     "execution_count": 12,
     "metadata": {},
     "output_type": "execute_result"
    }
   ],
   "source": [
    "cre.domain.value_counts()"
   ]
  },
  {
   "cell_type": "code",
   "execution_count": 13,
   "metadata": {},
   "outputs": [
    {
     "data": {
      "image/png": "[encoded data removed]",
      "text/plain": [
       "<Figure size 432x432 with 1 Axes>"
      ]
     },
     "metadata": {},
     "output_type": "display_data"
    }
   ],
   "source": [
    "# Plot by domains\n",
    "sns.set_palette('husl')\n",
    "fig, ax = plt.subplots(nrows= 1, ncols= 1, figsize= (6, 6))\n",
    "cre.domain.value_counts().plot(kind= 'pie', autopct='%.0f%%')\n",
    "ax.set_facecolor('white')\n",
    "#plt.legend()\n",
    "plt.ylabel(\"\")\n",
    "plt.show()"
   ]
  },
  {
   "cell_type": "code",
   "execution_count": 14,
   "metadata": {},
   "outputs": [
    {
     "data": {
      "image/png": "[encoded data removed]",
      "text/plain": [
       "<Figure size 432x432 with 1 Axes>"
      ]
     },
     "metadata": {},
     "output_type": "display_data"
    }
   ],
   "source": [
    "fig, ax = plt.subplots(nrows= 1, ncols= 1, figsize= (6, 6))\n",
    "sns.set_palette('pastel')\n",
    "plt.pie(species['count'][:5], labels= species.specie[:5], autopct='%.0f%%')\n",
    "ax.set_facecolor('white')\n",
    "plt.legend()\n",
    "plt.show()"
   ]
  },
  {
   "cell_type": "code",
   "execution_count": 15,
   "metadata": {},
   "outputs": [
    {
     "data": {
      "text/html": [
       "<div>\n",
       "<style scoped>\n",
       "    .dataframe tbody tr th:only-of-type {\n",
       "        vertical-align: middle;\n",
       "    }\n",
       "\n",
       "    .dataframe tbody tr th {\n",
       "        vertical-align: top;\n",
       "    }\n",
       "\n",
       "    .dataframe thead th {\n",
       "        text-align: right;\n",
       "    }\n",
       "</style>\n",
       "<table border=\"1\" class=\"dataframe\">\n",
       "  <thead>\n",
       "    <tr style=\"text-align: right;\">\n",
       "      <th></th>\n",
       "      <th>specie</th>\n",
       "      <th>freq</th>\n",
       "    </tr>\n",
       "  </thead>\n",
       "  <tbody>\n",
       "    <tr>\n",
       "      <th>0</th>\n",
       "      <td>H. sapiens</td>\n",
       "      <td>94</td>\n",
       "    </tr>\n",
       "    <tr>\n",
       "      <th>1</th>\n",
       "      <td>M. musculus</td>\n",
       "      <td>26</td>\n",
       "    </tr>\n",
       "    <tr>\n",
       "      <th>2</th>\n",
       "      <td>S. cerevisiae</td>\n",
       "      <td>9</td>\n",
       "    </tr>\n",
       "    <tr>\n",
       "      <th>3</th>\n",
       "      <td>R. norvegicus</td>\n",
       "      <td>6</td>\n",
       "    </tr>\n",
       "    <tr>\n",
       "      <th>4</th>\n",
       "      <td>D. melanogaster</td>\n",
       "      <td>5</td>\n",
       "    </tr>\n",
       "    <tr>\n",
       "      <th>5</th>\n",
       "      <td>G. gallus</td>\n",
       "      <td>5</td>\n",
       "    </tr>\n",
       "    <tr>\n",
       "      <th>6</th>\n",
       "      <td>C. elegans</td>\n",
       "      <td>3</td>\n",
       "    </tr>\n",
       "    <tr>\n",
       "      <th>7</th>\n",
       "      <td>E. coli</td>\n",
       "      <td>3</td>\n",
       "    </tr>\n",
       "    <tr>\n",
       "      <th>8</th>\n",
       "      <td>D. rerio</td>\n",
       "      <td>3</td>\n",
       "    </tr>\n",
       "    <tr>\n",
       "      <th>9</th>\n",
       "      <td>C. griseus</td>\n",
       "      <td>2</td>\n",
       "    </tr>\n",
       "    <tr>\n",
       "      <th>10</th>\n",
       "      <td>S. vulgare</td>\n",
       "      <td>2</td>\n",
       "    </tr>\n",
       "    <tr>\n",
       "      <th>11</th>\n",
       "      <td>S. pombe</td>\n",
       "      <td>2</td>\n",
       "    </tr>\n",
       "    <tr>\n",
       "      <th>12</th>\n",
       "      <td>Hepatitis C virus genotype 1b</td>\n",
       "      <td>1</td>\n",
       "    </tr>\n",
       "    <tr>\n",
       "      <th>13</th>\n",
       "      <td>Enterobacteria phage T4</td>\n",
       "      <td>1</td>\n",
       "    </tr>\n",
       "    <tr>\n",
       "      <th>14</th>\n",
       "      <td>P. fluorescens</td>\n",
       "      <td>1</td>\n",
       "    </tr>\n",
       "    <tr>\n",
       "      <th>15</th>\n",
       "      <td>A. castellanii</td>\n",
       "      <td>1</td>\n",
       "    </tr>\n",
       "    <tr>\n",
       "      <th>16</th>\n",
       "      <td>B. amyloliquefaciens</td>\n",
       "      <td>1</td>\n",
       "    </tr>\n",
       "    <tr>\n",
       "      <th>17</th>\n",
       "      <td>L. monocytogenes</td>\n",
       "      <td>1</td>\n",
       "    </tr>\n",
       "    <tr>\n",
       "      <th>18</th>\n",
       "      <td>S. crevisiae</td>\n",
       "      <td>1</td>\n",
       "    </tr>\n",
       "    <tr>\n",
       "      <th>19</th>\n",
       "      <td>C. glutamicum</td>\n",
       "      <td>1</td>\n",
       "    </tr>\n",
       "  </tbody>\n",
       "</table>\n",
       "</div>"
      ],
      "text/plain": [
       "                           specie  freq\n",
       "0                      H. sapiens    94\n",
       "1                     M. musculus    26\n",
       "2                   S. cerevisiae     9\n",
       "3                   R. norvegicus     6\n",
       "4                 D. melanogaster     5\n",
       "5                       G. gallus     5\n",
       "6                      C. elegans     3\n",
       "7                         E. coli     3\n",
       "8                        D. rerio     3\n",
       "9                      C. griseus     2\n",
       "10                     S. vulgare     2\n",
       "11                       S. pombe     2\n",
       "12  Hepatitis C virus genotype 1b     1\n",
       "13        Enterobacteria phage T4     1\n",
       "14                 P. fluorescens     1\n",
       "15                 A. castellanii     1\n",
       "16           B. amyloliquefaciens     1\n",
       "17               L. monocytogenes     1\n",
       "18                   S. crevisiae     1\n",
       "19                  C. glutamicum     1"
      ]
     },
     "execution_count": 15,
     "metadata": {},
     "output_type": "execute_result"
    }
   ],
   "source": [
    "# Take the first 6 most frequent then group in \"others\"\n",
    "species_freq = cre.species.value_counts()\n",
    "species_freq = species_freq.to_frame().reset_index().rename(columns= {'index': 'specie', 'species': 'freq'})\n",
    "species_freq"
   ]
  },
  {
   "cell_type": "code",
   "execution_count": 16,
   "metadata": {},
   "outputs": [],
   "source": [
    "c= 0\n",
    "indexes_to_drop = []\n",
    "for i in species_freq.index:\n",
    "    #print(i)\n",
    "    v= species_freq.iloc[i]['freq']\n",
    "    if v < 5:\n",
    "        c += v\n",
    "        indexes_to_drop.append(i)\n",
    "species_freq.drop(species_freq.index[indexes_to_drop], inplace=True)\n",
    "species_freq.loc[len(species_freq.index)] = [\"others\", c]"
   ]
  },
  {
   "cell_type": "code",
   "execution_count": 17,
   "metadata": {},
   "outputs": [
    {
     "data": {
      "text/html": [
       "<div>\n",
       "<style scoped>\n",
       "    .dataframe tbody tr th:only-of-type {\n",
       "        vertical-align: middle;\n",
       "    }\n",
       "\n",
       "    .dataframe tbody tr th {\n",
       "        vertical-align: top;\n",
       "    }\n",
       "\n",
       "    .dataframe thead th {\n",
       "        text-align: right;\n",
       "    }\n",
       "</style>\n",
       "<table border=\"1\" class=\"dataframe\">\n",
       "  <thead>\n",
       "    <tr style=\"text-align: right;\">\n",
       "      <th></th>\n",
       "      <th>specie</th>\n",
       "      <th>freq</th>\n",
       "    </tr>\n",
       "  </thead>\n",
       "  <tbody>\n",
       "    <tr>\n",
       "      <th>0</th>\n",
       "      <td>H. sapiens</td>\n",
       "      <td>94</td>\n",
       "    </tr>\n",
       "    <tr>\n",
       "      <th>1</th>\n",
       "      <td>M. musculus</td>\n",
       "      <td>26</td>\n",
       "    </tr>\n",
       "    <tr>\n",
       "      <th>2</th>\n",
       "      <td>S. cerevisiae</td>\n",
       "      <td>9</td>\n",
       "    </tr>\n",
       "    <tr>\n",
       "      <th>3</th>\n",
       "      <td>R. norvegicus</td>\n",
       "      <td>6</td>\n",
       "    </tr>\n",
       "    <tr>\n",
       "      <th>4</th>\n",
       "      <td>D. melanogaster</td>\n",
       "      <td>5</td>\n",
       "    </tr>\n",
       "    <tr>\n",
       "      <th>5</th>\n",
       "      <td>G. gallus</td>\n",
       "      <td>5</td>\n",
       "    </tr>\n",
       "    <tr>\n",
       "      <th>6</th>\n",
       "      <td>others</td>\n",
       "      <td>23</td>\n",
       "    </tr>\n",
       "  </tbody>\n",
       "</table>\n",
       "</div>"
      ],
      "text/plain": [
       "            specie  freq\n",
       "0       H. sapiens    94\n",
       "1      M. musculus    26\n",
       "2    S. cerevisiae     9\n",
       "3    R. norvegicus     6\n",
       "4  D. melanogaster     5\n",
       "5        G. gallus     5\n",
       "6           others    23"
      ]
     },
     "execution_count": 17,
     "metadata": {},
     "output_type": "execute_result"
    }
   ],
   "source": [
    "species_freq"
   ]
  },
  {
   "cell_type": "code",
   "execution_count": 18,
   "metadata": {},
   "outputs": [
    {
     "data": {
      "image/png": "[encoded data removed]",
      "text/plain": [
       "<Figure size 432x432 with 1 Axes>"
      ]
     },
     "metadata": {},
     "output_type": "display_data"
    }
   ],
   "source": [
    "fig, ax = plt.subplots(nrows= 1, ncols= 1, figsize= (6, 6))\n",
    "sns.set_palette('pastel')\n",
    "plt.pie(species_freq.freq, labels= species_freq.specie.tolist(), autopct='%.0f%%')\n",
    "ax.set_facecolor('white')\n",
    "#plt.legend()\n",
    "plt.show()"
   ]
  },
  {
   "cell_type": "markdown",
   "metadata": {},
   "source": [
    "#### PDB data"
   ]
  },
  {
   "cell_type": "code",
   "execution_count": 19,
   "metadata": {},
   "outputs": [
    {
     "data": {
      "text/html": [
       "<div>\n",
       "<style scoped>\n",
       "    .dataframe tbody tr th:only-of-type {\n",
       "        vertical-align: middle;\n",
       "    }\n",
       "\n",
       "    .dataframe tbody tr th {\n",
       "        vertical-align: top;\n",
       "    }\n",
       "\n",
       "    .dataframe thead th {\n",
       "        text-align: right;\n",
       "    }\n",
       "</style>\n",
       "<table border=\"1\" class=\"dataframe\">\n",
       "  <thead>\n",
       "    <tr style=\"text-align: right;\">\n",
       "      <th></th>\n",
       "      <th>uniprot_acc</th>\n",
       "      <th>pdb</th>\n",
       "      <th>name</th>\n",
       "      <th>module</th>\n",
       "    </tr>\n",
       "  </thead>\n",
       "  <tbody>\n",
       "    <tr>\n",
       "      <th>0</th>\n",
       "      <td>O08722</td>\n",
       "      <td>3g5b</td>\n",
       "      <td>UNC5b</td>\n",
       "      <td>s</td>\n",
       "    </tr>\n",
       "    <tr>\n",
       "      <th>1</th>\n",
       "      <td>O08808</td>\n",
       "      <td>4uwx</td>\n",
       "      <td>mDIA1</td>\n",
       "      <td>d</td>\n",
       "    </tr>\n",
       "    <tr>\n",
       "      <th>2</th>\n",
       "      <td>O08808</td>\n",
       "      <td>1z2c</td>\n",
       "      <td>mDIA1</td>\n",
       "      <td>d</td>\n",
       "    </tr>\n",
       "    <tr>\n",
       "      <th>3</th>\n",
       "      <td>O08808</td>\n",
       "      <td>3eg5</td>\n",
       "      <td>mDIA1</td>\n",
       "      <td>d</td>\n",
       "    </tr>\n",
       "    <tr>\n",
       "      <th>4</th>\n",
       "      <td>O08808</td>\n",
       "      <td>2bnx</td>\n",
       "      <td>mDIA1</td>\n",
       "      <td>d</td>\n",
       "    </tr>\n",
       "    <tr>\n",
       "      <th>...</th>\n",
       "      <td>...</td>\n",
       "      <td>...</td>\n",
       "      <td>...</td>\n",
       "      <td>...</td>\n",
       "    </tr>\n",
       "    <tr>\n",
       "      <th>2481</th>\n",
       "      <td>Q9Y613</td>\n",
       "      <td>6xf1</td>\n",
       "      <td>FHOD1</td>\n",
       "      <td>d</td>\n",
       "    </tr>\n",
       "    <tr>\n",
       "      <th>2482</th>\n",
       "      <td>Q9Y613</td>\n",
       "      <td>3dad</td>\n",
       "      <td>FHOD1</td>\n",
       "      <td>d</td>\n",
       "    </tr>\n",
       "    <tr>\n",
       "      <th>2483</th>\n",
       "      <td>Q9Y613</td>\n",
       "      <td>6xf2</td>\n",
       "      <td>FHOD1</td>\n",
       "      <td>d</td>\n",
       "    </tr>\n",
       "    <tr>\n",
       "      <th>2484</th>\n",
       "      <td>Q9Z0R4</td>\n",
       "      <td>3jv3</td>\n",
       "      <td>Intersectin-1L</td>\n",
       "      <td>s</td>\n",
       "    </tr>\n",
       "    <tr>\n",
       "      <th>2485</th>\n",
       "      <td>Q9Z0R4</td>\n",
       "      <td>3hs8</td>\n",
       "      <td>Intersectin-1L</td>\n",
       "      <td>s</td>\n",
       "    </tr>\n",
       "  </tbody>\n",
       "</table>\n",
       "<p>2486 rows × 4 columns</p>\n",
       "</div>"
      ],
      "text/plain": [
       "     uniprot_acc   pdb            name module\n",
       "0         O08722  3g5b           UNC5b      s\n",
       "1         O08808  4uwx           mDIA1      d\n",
       "2         O08808  1z2c           mDIA1      d\n",
       "3         O08808  3eg5           mDIA1      d\n",
       "4         O08808  2bnx           mDIA1      d\n",
       "...          ...   ...             ...    ...\n",
       "2481      Q9Y613  6xf1           FHOD1      d\n",
       "2482      Q9Y613  3dad           FHOD1      d\n",
       "2483      Q9Y613  6xf2           FHOD1      d\n",
       "2484      Q9Z0R4  3jv3  Intersectin-1L      s\n",
       "2485      Q9Z0R4  3hs8  Intersectin-1L      s\n",
       "\n",
       "[2486 rows x 4 columns]"
      ]
     },
     "execution_count": 19,
     "metadata": {},
     "output_type": "execute_result"
    }
   ],
   "source": [
    "pdb"
   ]
  },
  {
   "cell_type": "code",
   "execution_count": 20,
   "metadata": {},
   "outputs": [
    {
     "ename": "NameError",
     "evalue": "name 'pdb_count' is not defined",
     "output_type": "error",
     "traceback": [
      "\u001b[1;31m---------------------------------------------------------------------------\u001b[0m",
      "\u001b[1;31mNameError\u001b[0m                                 Traceback (most recent call last)",
      "\u001b[1;32m<ipython-input-20-c13d56d014c8>\u001b[0m in \u001b[0;36m<module>\u001b[1;34m\u001b[0m\n\u001b[1;32m----> 1\u001b[1;33m \u001b[0mpdb_count\u001b[0m\u001b[1;33m\u001b[0m\u001b[1;33m\u001b[0m\u001b[0m\n\u001b[0m",
      "\u001b[1;31mNameError\u001b[0m: name 'pdb_count' is not defined"
     ]
    }
   ],
   "source": [
    "pdb_count"
   ]
  },
  {
   "cell_type": "markdown",
   "metadata": {},
   "source": [
    "#### How many proteins have structure?"
   ]
  },
  {
   "cell_type": "code",
   "execution_count": null,
   "metadata": {},
   "outputs": [
    {
     "data": {
      "text/plain": [
       "123"
      ]
     },
     "execution_count": 96,
     "metadata": {},
     "output_type": "execute_result"
    }
   ],
   "source": [
    "pdb.uniprot_acc.nunique()"
   ]
  },
  {
   "cell_type": "code",
   "execution_count": null,
   "metadata": {},
   "outputs": [
    {
     "data": {
      "text/plain": [
       "0.8145695364238411"
      ]
     },
     "execution_count": 94,
     "metadata": {},
     "output_type": "execute_result"
    }
   ],
   "source": [
    "pdb.uniprot_acc.nunique() / cre.uniprot_acc.nunique()"
   ]
  },
  {
   "cell_type": "code",
   "execution_count": null,
   "metadata": {},
   "outputs": [],
   "source": [
    "# Boolean col of PDB for each protein\n",
    "cre['pdb'] = cre.uniprot_acc.isin(pdb.uniprot_acc.unique())"
   ]
  },
  {
   "cell_type": "code",
   "execution_count": null,
   "metadata": {},
   "outputs": [
    {
     "data": {
      "text/html": [
       "<div>\n",
       "<style scoped>\n",
       "    .dataframe tbody tr th:only-of-type {\n",
       "        vertical-align: middle;\n",
       "    }\n",
       "\n",
       "    .dataframe tbody tr th {\n",
       "        vertical-align: top;\n",
       "    }\n",
       "\n",
       "    .dataframe thead th {\n",
       "        text-align: right;\n",
       "    }\n",
       "</style>\n",
       "<table border=\"1\" class=\"dataframe\">\n",
       "  <thead>\n",
       "    <tr style=\"text-align: right;\">\n",
       "      <th></th>\n",
       "      <th>module</th>\n",
       "      <th>pdb</th>\n",
       "      <th>count</th>\n",
       "    </tr>\n",
       "  </thead>\n",
       "  <tbody>\n",
       "    <tr>\n",
       "      <th>0</th>\n",
       "      <td>d</td>\n",
       "      <td>False</td>\n",
       "      <td>23</td>\n",
       "    </tr>\n",
       "    <tr>\n",
       "      <th>1</th>\n",
       "      <td>d</td>\n",
       "      <td>True</td>\n",
       "      <td>71</td>\n",
       "    </tr>\n",
       "    <tr>\n",
       "      <th>2</th>\n",
       "      <td>s</td>\n",
       "      <td>False</td>\n",
       "      <td>8</td>\n",
       "    </tr>\n",
       "    <tr>\n",
       "      <th>3</th>\n",
       "      <td>s</td>\n",
       "      <td>True</td>\n",
       "      <td>66</td>\n",
       "    </tr>\n",
       "  </tbody>\n",
       "</table>\n",
       "</div>"
      ],
      "text/plain": [
       "  module    pdb  count\n",
       "0      d  False     23\n",
       "1      d   True     71\n",
       "2      s  False      8\n",
       "3      s   True     66"
      ]
     },
     "execution_count": 98,
     "metadata": {},
     "output_type": "execute_result"
    }
   ],
   "source": [
    "pdb_count = cre.groupby(['module', 'pdb']).size().to_frame().reset_index().rename(columns= {0: 'count'})\n",
    "#pdb_count.module = pdb_count.module.rename({'d': 'disordered', 's': 'structured'})\n",
    "pdb_count"
   ]
  },
  {
   "cell_type": "code",
   "execution_count": null,
   "metadata": {},
   "outputs": [],
   "source": [
    "pdb_count = pdb_count.pivot_table(values= 'count', index= 'module', columns= 'pdb')"
   ]
  },
  {
   "cell_type": "code",
   "execution_count": null,
   "metadata": {},
   "outputs": [
    {
     "data": {
      "text/html": [
       "<div>\n",
       "<style scoped>\n",
       "    .dataframe tbody tr th:only-of-type {\n",
       "        vertical-align: middle;\n",
       "    }\n",
       "\n",
       "    .dataframe tbody tr th {\n",
       "        vertical-align: top;\n",
       "    }\n",
       "\n",
       "    .dataframe thead th {\n",
       "        text-align: right;\n",
       "    }\n",
       "</style>\n",
       "<table border=\"1\" class=\"dataframe\">\n",
       "  <thead>\n",
       "    <tr style=\"text-align: right;\">\n",
       "      <th>pdb</th>\n",
       "      <th>False</th>\n",
       "      <th>True</th>\n",
       "    </tr>\n",
       "    <tr>\n",
       "      <th>module</th>\n",
       "      <th></th>\n",
       "      <th></th>\n",
       "    </tr>\n",
       "  </thead>\n",
       "  <tbody>\n",
       "    <tr>\n",
       "      <th>d</th>\n",
       "      <td>23</td>\n",
       "      <td>71</td>\n",
       "    </tr>\n",
       "    <tr>\n",
       "      <th>s</th>\n",
       "      <td>8</td>\n",
       "      <td>66</td>\n",
       "    </tr>\n",
       "  </tbody>\n",
       "</table>\n",
       "</div>"
      ],
      "text/plain": [
       "pdb     False  True \n",
       "module              \n",
       "d          23     71\n",
       "s           8     66"
      ]
     },
     "execution_count": 100,
     "metadata": {},
     "output_type": "execute_result"
    }
   ],
   "source": [
    "pdb_count.rename({'False': 'no PDB', 'True': 'PDB'}, axis=1)"
   ]
  },
  {
   "cell_type": "code",
   "execution_count": null,
   "metadata": {},
   "outputs": [
    {
     "data": {
      "text/plain": [
       "<Figure size 720x360 with 0 Axes>"
      ]
     },
     "metadata": {},
     "output_type": "display_data"
    },
    {
     "data": {
      "image/png": "[encoded data removed]",
      "text/plain": [
       "<Figure size 432x288 with 1 Axes>"
      ]
     },
     "metadata": {
      "needs_background": "light"
     },
     "output_type": "display_data"
    }
   ],
   "source": [
    "plt.figure(figsize= (10, 5))\n",
    "pdb_count.plot(kind= 'barh', stacked= True, color= ['#79CDCD', '#FF1493'])\n",
    "plt.title(\"No. of Cis-regulatory elements\")\n",
    "plt.show()"
   ]
  },
  {
   "cell_type": "code",
   "execution_count": 92,
   "metadata": {},
   "outputs": [
    {
     "data": {
      "text/html": [
       "<div>\n",
       "<style scoped>\n",
       "    .dataframe tbody tr th:only-of-type {\n",
       "        vertical-align: middle;\n",
       "    }\n",
       "\n",
       "    .dataframe tbody tr th {\n",
       "        vertical-align: top;\n",
       "    }\n",
       "\n",
       "    .dataframe thead th {\n",
       "        text-align: right;\n",
       "    }\n",
       "</style>\n",
       "<table border=\"1\" class=\"dataframe\">\n",
       "  <thead>\n",
       "    <tr style=\"text-align: right;\">\n",
       "      <th></th>\n",
       "      <th>uniprot_acc</th>\n",
       "      <th>id_cre</th>\n",
       "      <th>start</th>\n",
       "      <th>end</th>\n",
       "      <th>no_pdbs</th>\n",
       "    </tr>\n",
       "  </thead>\n",
       "  <tbody>\n",
       "    <tr>\n",
       "      <th>0</th>\n",
       "      <td>A8KAM8</td>\n",
       "      <td>43</td>\n",
       "      <td>1006</td>\n",
       "      <td>1106</td>\n",
       "      <td>0</td>\n",
       "    </tr>\n",
       "    <tr>\n",
       "      <th>1</th>\n",
       "      <td>C8ZE58</td>\n",
       "      <td>15</td>\n",
       "      <td>604</td>\n",
       "      <td>741</td>\n",
       "      <td>0</td>\n",
       "    </tr>\n",
       "    <tr>\n",
       "      <th>2</th>\n",
       "      <td>O08722</td>\n",
       "      <td>124</td>\n",
       "      <td>544</td>\n",
       "      <td>688</td>\n",
       "      <td>1</td>\n",
       "    </tr>\n",
       "    <tr>\n",
       "      <th>3</th>\n",
       "      <td>O08808</td>\n",
       "      <td>72</td>\n",
       "      <td>1180</td>\n",
       "      <td>1199</td>\n",
       "      <td>11</td>\n",
       "    </tr>\n",
       "    <tr>\n",
       "      <th>4</th>\n",
       "      <td>O08967</td>\n",
       "      <td>54</td>\n",
       "      <td>251</td>\n",
       "      <td>266</td>\n",
       "      <td>12</td>\n",
       "    </tr>\n",
       "    <tr>\n",
       "      <th>...</th>\n",
       "      <td>...</td>\n",
       "      <td>...</td>\n",
       "      <td>...</td>\n",
       "      <td>...</td>\n",
       "      <td>...</td>\n",
       "    </tr>\n",
       "    <tr>\n",
       "      <th>163</th>\n",
       "      <td>Q63622</td>\n",
       "      <td>86</td>\n",
       "      <td>158</td>\n",
       "      <td>408</td>\n",
       "      <td>2</td>\n",
       "    </tr>\n",
       "    <tr>\n",
       "      <th>164</th>\n",
       "      <td>Q64287</td>\n",
       "      <td>83</td>\n",
       "      <td>410</td>\n",
       "      <td>439</td>\n",
       "      <td>2</td>\n",
       "    </tr>\n",
       "    <tr>\n",
       "      <th>165</th>\n",
       "      <td>Q92985</td>\n",
       "      <td>134</td>\n",
       "      <td>404</td>\n",
       "      <td>466</td>\n",
       "      <td>0</td>\n",
       "    </tr>\n",
       "    <tr>\n",
       "      <th>166</th>\n",
       "      <td>Q93107</td>\n",
       "      <td>14</td>\n",
       "      <td>91</td>\n",
       "      <td>157</td>\n",
       "      <td>0</td>\n",
       "    </tr>\n",
       "    <tr>\n",
       "      <th>167</th>\n",
       "      <td>Q94527</td>\n",
       "      <td>84</td>\n",
       "      <td>640</td>\n",
       "      <td>738</td>\n",
       "      <td>0</td>\n",
       "    </tr>\n",
       "  </tbody>\n",
       "</table>\n",
       "<p>168 rows × 5 columns</p>\n",
       "</div>"
      ],
      "text/plain": [
       "    uniprot_acc  id_cre  start   end  no_pdbs\n",
       "0        A8KAM8      43   1006  1106        0\n",
       "1        C8ZE58      15    604   741        0\n",
       "2        O08722     124    544   688        1\n",
       "3        O08808      72   1180  1199       11\n",
       "4        O08967      54    251   266       12\n",
       "..          ...     ...    ...   ...      ...\n",
       "163      Q63622      86    158   408        2\n",
       "164      Q64287      83    410   439        2\n",
       "165      Q92985     134    404   466        0\n",
       "166      Q93107      14     91   157        0\n",
       "167      Q94527      84    640   738        0\n",
       "\n",
       "[168 rows x 5 columns]"
      ]
     },
     "execution_count": 92,
     "metadata": {},
     "output_type": "execute_result"
    }
   ],
   "source": [
    "cre_pdb_count"
   ]
  },
  {
   "cell_type": "markdown",
   "metadata": {},
   "source": [
    "---"
   ]
  },
  {
   "cell_type": "code",
   "execution_count": 21,
   "metadata": {},
   "outputs": [
    {
     "data": {
      "text/html": [
       "<div>\n",
       "<style scoped>\n",
       "    .dataframe tbody tr th:only-of-type {\n",
       "        vertical-align: middle;\n",
       "    }\n",
       "\n",
       "    .dataframe tbody tr th {\n",
       "        vertical-align: top;\n",
       "    }\n",
       "\n",
       "    .dataframe thead th {\n",
       "        text-align: right;\n",
       "    }\n",
       "</style>\n",
       "<table border=\"1\" class=\"dataframe\">\n",
       "  <thead>\n",
       "    <tr style=\"text-align: right;\">\n",
       "      <th></th>\n",
       "      <th>name</th>\n",
       "      <th>uniprot_acc</th>\n",
       "      <th>species</th>\n",
       "      <th>references</th>\n",
       "      <th>module</th>\n",
       "      <th>start_aa</th>\n",
       "      <th>end_aa</th>\n",
       "      <th>dataset</th>\n",
       "      <th>id_cre</th>\n",
       "      <th>domain</th>\n",
       "    </tr>\n",
       "  </thead>\n",
       "  <tbody>\n",
       "    <tr>\n",
       "      <th>0</th>\n",
       "      <td>DNMT1</td>\n",
       "      <td>P13864</td>\n",
       "      <td>M. musculus</td>\n",
       "      <td>(Song et al., 2011; Trudeau et al., 2013)</td>\n",
       "      <td>d</td>\n",
       "      <td>699</td>\n",
       "      <td>733</td>\n",
       "      <td>train</td>\n",
       "      <td>1</td>\n",
       "      <td>eukarya</td>\n",
       "    </tr>\n",
       "    <tr>\n",
       "      <th>1</th>\n",
       "      <td>TBP</td>\n",
       "      <td>P20226</td>\n",
       "      <td>H. sapiens</td>\n",
       "      <td>(Kuddus and Schmidt, 1993; Trudeau et al., 2013)</td>\n",
       "      <td>d</td>\n",
       "      <td>1</td>\n",
       "      <td>55</td>\n",
       "      <td>train</td>\n",
       "      <td>2</td>\n",
       "      <td>eukarya</td>\n",
       "    </tr>\n",
       "    <tr>\n",
       "      <th>2</th>\n",
       "      <td>TAK1</td>\n",
       "      <td>Q62073</td>\n",
       "      <td>M. musculus</td>\n",
       "      <td>(Yamaguchi et al., 1995)</td>\n",
       "      <td>d</td>\n",
       "      <td>1</td>\n",
       "      <td>22</td>\n",
       "      <td>train</td>\n",
       "      <td>3</td>\n",
       "      <td>eukarya</td>\n",
       "    </tr>\n",
       "    <tr>\n",
       "      <th>3</th>\n",
       "      <td>SNF1</td>\n",
       "      <td>P06782</td>\n",
       "      <td>S. crevisiae</td>\n",
       "      <td>(Jiang and Carlson, 1997; Trudeau et al., 2013)</td>\n",
       "      <td>d</td>\n",
       "      <td>392</td>\n",
       "      <td>495</td>\n",
       "      <td>train</td>\n",
       "      <td>4</td>\n",
       "      <td>eukarya</td>\n",
       "    </tr>\n",
       "    <tr>\n",
       "      <th>4</th>\n",
       "      <td>TSE1</td>\n",
       "      <td>P10644</td>\n",
       "      <td>H. sapiens</td>\n",
       "      <td>(Francis et al., 2002)</td>\n",
       "      <td>d</td>\n",
       "      <td>1</td>\n",
       "      <td>98</td>\n",
       "      <td>train</td>\n",
       "      <td>5</td>\n",
       "      <td>eukarya</td>\n",
       "    </tr>\n",
       "    <tr>\n",
       "      <th>...</th>\n",
       "      <td>...</td>\n",
       "      <td>...</td>\n",
       "      <td>...</td>\n",
       "      <td>...</td>\n",
       "      <td>...</td>\n",
       "      <td>...</td>\n",
       "      <td>...</td>\n",
       "      <td>...</td>\n",
       "      <td>...</td>\n",
       "      <td>...</td>\n",
       "    </tr>\n",
       "    <tr>\n",
       "      <th>163</th>\n",
       "      <td>NLRC4</td>\n",
       "      <td>Q3UP24</td>\n",
       "      <td>M. musculus</td>\n",
       "      <td>(Hu et al., 2013)</td>\n",
       "      <td>s</td>\n",
       "      <td>299</td>\n",
       "      <td>355</td>\n",
       "      <td>test</td>\n",
       "      <td>164</td>\n",
       "      <td>eukarya</td>\n",
       "    </tr>\n",
       "    <tr>\n",
       "      <th>164</th>\n",
       "      <td>Park2</td>\n",
       "      <td>Q9JK66</td>\n",
       "      <td>R. norvegicus</td>\n",
       "      <td>(Byrd and Weissman, 2013)</td>\n",
       "      <td>s</td>\n",
       "      <td>410</td>\n",
       "      <td>465</td>\n",
       "      <td>test</td>\n",
       "      <td>165</td>\n",
       "      <td>eukarya</td>\n",
       "    </tr>\n",
       "    <tr>\n",
       "      <th>165</th>\n",
       "      <td>EB1</td>\n",
       "      <td>Q15691</td>\n",
       "      <td>H. sapiens</td>\n",
       "      <td>(Kanaba et al., 2013)</td>\n",
       "      <td>s</td>\n",
       "      <td>189</td>\n",
       "      <td>268</td>\n",
       "      <td>test</td>\n",
       "      <td>166</td>\n",
       "      <td>eukarya</td>\n",
       "    </tr>\n",
       "    <tr>\n",
       "      <th>166</th>\n",
       "      <td>gp47</td>\n",
       "      <td>P04521</td>\n",
       "      <td>Enterobacteria phage T4</td>\n",
       "      <td>(Gao and Nelson, 2014)</td>\n",
       "      <td>s</td>\n",
       "      <td>303</td>\n",
       "      <td>320</td>\n",
       "      <td>test</td>\n",
       "      <td>167</td>\n",
       "      <td>virus</td>\n",
       "    </tr>\n",
       "    <tr>\n",
       "      <th>167</th>\n",
       "      <td>nPKC-iota</td>\n",
       "      <td>P41743</td>\n",
       "      <td>H. sapiens</td>\n",
       "      <td>(Ivey et al., 2014)</td>\n",
       "      <td>s</td>\n",
       "      <td>123</td>\n",
       "      <td>140</td>\n",
       "      <td>test</td>\n",
       "      <td>168</td>\n",
       "      <td>eukarya</td>\n",
       "    </tr>\n",
       "  </tbody>\n",
       "</table>\n",
       "<p>168 rows × 10 columns</p>\n",
       "</div>"
      ],
      "text/plain": [
       "          name uniprot_acc                  species  \\\n",
       "0        DNMT1      P13864              M. musculus   \n",
       "1          TBP      P20226               H. sapiens   \n",
       "2         TAK1      Q62073              M. musculus   \n",
       "3         SNF1      P06782             S. crevisiae   \n",
       "4         TSE1      P10644               H. sapiens   \n",
       "..         ...         ...                      ...   \n",
       "163      NLRC4      Q3UP24              M. musculus   \n",
       "164      Park2      Q9JK66            R. norvegicus   \n",
       "165        EB1      Q15691               H. sapiens   \n",
       "166       gp47      P04521  Enterobacteria phage T4   \n",
       "167  nPKC-iota      P41743               H. sapiens   \n",
       "\n",
       "                                           references module  start_aa  \\\n",
       "0           (Song et al., 2011; Trudeau et al., 2013)      d       699   \n",
       "1    (Kuddus and Schmidt, 1993; Trudeau et al., 2013)      d         1   \n",
       "2                            (Yamaguchi et al., 1995)      d         1   \n",
       "3     (Jiang and Carlson, 1997; Trudeau et al., 2013)      d       392   \n",
       "4                              (Francis et al., 2002)      d         1   \n",
       "..                                                ...    ...       ...   \n",
       "163                                 (Hu et al., 2013)      s       299   \n",
       "164                         (Byrd and Weissman, 2013)      s       410   \n",
       "165                             (Kanaba et al., 2013)      s       189   \n",
       "166                            (Gao and Nelson, 2014)      s       303   \n",
       "167                               (Ivey et al., 2014)      s       123   \n",
       "\n",
       "     end_aa dataset  id_cre   domain  \n",
       "0       733   train       1  eukarya  \n",
       "1        55   train       2  eukarya  \n",
       "2        22   train       3  eukarya  \n",
       "3       495   train       4  eukarya  \n",
       "4        98   train       5  eukarya  \n",
       "..      ...     ...     ...      ...  \n",
       "163     355    test     164  eukarya  \n",
       "164     465    test     165  eukarya  \n",
       "165     268    test     166  eukarya  \n",
       "166     320    test     167    virus  \n",
       "167     140    test     168  eukarya  \n",
       "\n",
       "[168 rows x 10 columns]"
      ]
     },
     "execution_count": 21,
     "metadata": {},
     "output_type": "execute_result"
    }
   ],
   "source": [
    "cre"
   ]
  },
  {
   "cell_type": "code",
   "execution_count": null,
   "metadata": {},
   "outputs": [],
   "source": []
  },
  {
   "cell_type": "code",
   "execution_count": null,
   "metadata": {},
   "outputs": [],
   "source": []
  },
  {
   "cell_type": "code",
   "execution_count": null,
   "metadata": {},
   "outputs": [],
   "source": []
  },
  {
   "cell_type": "code",
   "execution_count": null,
   "metadata": {},
   "outputs": [],
   "source": []
  },
  {
   "cell_type": "markdown",
   "metadata": {},
   "source": [
    "---"
   ]
  },
  {
   "cell_type": "markdown",
   "metadata": {},
   "source": [
    "## LIPs\n",
    "To do: check overlaps"
   ]
  },
  {
   "cell_type": "code",
   "execution_count": 3,
   "metadata": {},
   "outputs": [
    {
     "data": {
      "text/html": [
       "<div>\n",
       "<style scoped>\n",
       "    .dataframe tbody tr th:only-of-type {\n",
       "        vertical-align: middle;\n",
       "    }\n",
       "\n",
       "    .dataframe tbody tr th {\n",
       "        vertical-align: top;\n",
       "    }\n",
       "\n",
       "    .dataframe thead th {\n",
       "        text-align: right;\n",
       "    }\n",
       "</style>\n",
       "<table border=\"1\" class=\"dataframe\">\n",
       "  <thead>\n",
       "    <tr style=\"text-align: right;\">\n",
       "      <th></th>\n",
       "      <th>uniprot_acc</th>\n",
       "      <th>content_fraction</th>\n",
       "      <th>content_count</th>\n",
       "      <th>length</th>\n",
       "      <th>start</th>\n",
       "      <th>end</th>\n",
       "    </tr>\n",
       "  </thead>\n",
       "  <tbody>\n",
       "    <tr>\n",
       "      <th>0</th>\n",
       "      <td>A0A0D6HTJ9</td>\n",
       "      <td>0.002</td>\n",
       "      <td>1</td>\n",
       "      <td>555</td>\n",
       "      <td>1</td>\n",
       "      <td>1</td>\n",
       "    </tr>\n",
       "    <tr>\n",
       "      <th>1</th>\n",
       "      <td>A0A1W2VMW5</td>\n",
       "      <td>0.014</td>\n",
       "      <td>6</td>\n",
       "      <td>434</td>\n",
       "      <td>1</td>\n",
       "      <td>6</td>\n",
       "    </tr>\n",
       "    <tr>\n",
       "      <th>2</th>\n",
       "      <td>P0A825</td>\n",
       "      <td>0.019</td>\n",
       "      <td>8</td>\n",
       "      <td>417</td>\n",
       "      <td>1</td>\n",
       "      <td>8</td>\n",
       "    </tr>\n",
       "    <tr>\n",
       "      <th>3</th>\n",
       "      <td>Q2YIM3</td>\n",
       "      <td>0.011</td>\n",
       "      <td>5</td>\n",
       "      <td>438</td>\n",
       "      <td>1</td>\n",
       "      <td>5</td>\n",
       "    </tr>\n",
       "    <tr>\n",
       "      <th>4</th>\n",
       "      <td>Q8I566</td>\n",
       "      <td>0.014</td>\n",
       "      <td>6</td>\n",
       "      <td>442</td>\n",
       "      <td>1</td>\n",
       "      <td>6</td>\n",
       "    </tr>\n",
       "    <tr>\n",
       "      <th>...</th>\n",
       "      <td>...</td>\n",
       "      <td>...</td>\n",
       "      <td>...</td>\n",
       "      <td>...</td>\n",
       "      <td>...</td>\n",
       "      <td>...</td>\n",
       "    </tr>\n",
       "    <tr>\n",
       "      <th>7350</th>\n",
       "      <td>Q09666</td>\n",
       "      <td>0.003</td>\n",
       "      <td>16</td>\n",
       "      <td>5890</td>\n",
       "      <td>5654</td>\n",
       "      <td>5669</td>\n",
       "    </tr>\n",
       "    <tr>\n",
       "      <th>7351</th>\n",
       "      <td>Q8WXH0</td>\n",
       "      <td>0.002</td>\n",
       "      <td>15</td>\n",
       "      <td>6885</td>\n",
       "      <td>6871</td>\n",
       "      <td>6885</td>\n",
       "    </tr>\n",
       "    <tr>\n",
       "      <th>7352</th>\n",
       "      <td>Q03001</td>\n",
       "      <td>0.001</td>\n",
       "      <td>11</td>\n",
       "      <td>7570</td>\n",
       "      <td>7548</td>\n",
       "      <td>7558</td>\n",
       "    </tr>\n",
       "    <tr>\n",
       "      <th>7353</th>\n",
       "      <td>Q8NF91</td>\n",
       "      <td>0.003</td>\n",
       "      <td>29</td>\n",
       "      <td>8797</td>\n",
       "      <td>8769</td>\n",
       "      <td>8797</td>\n",
       "    </tr>\n",
       "    <tr>\n",
       "      <th>7354</th>\n",
       "      <td>Q8WZ42</td>\n",
       "      <td>NaN</td>\n",
       "      <td>9</td>\n",
       "      <td>34350</td>\n",
       "      <td>24337</td>\n",
       "      <td>24345</td>\n",
       "    </tr>\n",
       "  </tbody>\n",
       "</table>\n",
       "<p>7355 rows × 6 columns</p>\n",
       "</div>"
      ],
      "text/plain": [
       "     uniprot_acc  content_fraction  content_count  length  start    end\n",
       "0     A0A0D6HTJ9             0.002              1     555      1      1\n",
       "1     A0A1W2VMW5             0.014              6     434      1      6\n",
       "2         P0A825             0.019              8     417      1      8\n",
       "3         Q2YIM3             0.011              5     438      1      5\n",
       "4         Q8I566             0.014              6     442      1      6\n",
       "...          ...               ...            ...     ...    ...    ...\n",
       "7350      Q09666             0.003             16    5890   5654   5669\n",
       "7351      Q8WXH0             0.002             15    6885   6871   6885\n",
       "7352      Q03001             0.001             11    7570   7548   7558\n",
       "7353      Q8NF91             0.003             29    8797   8769   8797\n",
       "7354      Q8WZ42               NaN              9   34350  24337  24345\n",
       "\n",
       "[7355 rows x 6 columns]"
      ]
     },
     "execution_count": 3,
     "metadata": {},
     "output_type": "execute_result"
    }
   ],
   "source": [
    "fl"
   ]
  }
 ],
 "metadata": {
  "kernelspec": {
   "display_name": "Python 3.8.8 ('base')",
   "language": "python",
   "name": "python3"
  },
  "language_info": {
   "codemirror_mode": {
    "name": "ipython",
    "version": 3
   },
   "file_extension": ".py",
   "mimetype": "text/x-python",
   "name": "python",
   "nbconvert_exporter": "python",
   "pygments_lexer": "ipython3",
   "version": "3.8.8"
  },
  "orig_nbformat": 4,
  "vscode": {
   "interpreter": {
    "hash": "f08154012ddadd8e950e6e9e035c7a7b32c136e7647e9b7c77e02eb723a8bedb"
   }
  }
 },
 "nbformat": 4,
 "nbformat_minor": 2
}
