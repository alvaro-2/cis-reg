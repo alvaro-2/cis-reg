{
 "cells": [
  {
   "cell_type": "code",
   "execution_count": 1,
   "metadata": {},
   "outputs": [],
   "source": [
    "import pandas as pd\n",
    "from Bio import AlignIO\n",
    "import os\n",
    "import matplotlib.pyplot as plt"
   ]
  },
  {
   "cell_type": "code",
   "execution_count": 5,
   "metadata": {},
   "outputs": [],
   "source": [
    "kinases = pd.read_csv('../datasets/kinases.tsv', sep= '\\t')\n",
    "kinases.columns = kinases.columns.str.lower()"
   ]
  },
  {
   "cell_type": "code",
   "execution_count": 6,
   "metadata": {},
   "outputs": [],
   "source": [
    "path = '../homology_transfer/pipeline_MSA_uniprot/data_snake/09_align_selection/'"
   ]
  },
  {
   "cell_type": "code",
   "execution_count": 4,
   "metadata": {},
   "outputs": [],
   "source": [
    "#align = AlignIO.read(open('../homology_transfer/pipeline_MSA_uniprot/data_snake/09_align_selection/P00519_clustalO_fullidentity_all.fasta.aln'), format= 'fasta')\n",
    "#len(align) # hacer una distribucion"
   ]
  },
  {
   "cell_type": "markdown",
   "metadata": {},
   "source": [
    "# Distribution seqs/MSA"
   ]
  },
  {
   "cell_type": "code",
   "execution_count": 7,
   "metadata": {},
   "outputs": [],
   "source": [
    "def seqs_per_msa(path):\n",
    "    '''\n",
    "    returns a DataFrame with number of sequences in each MSA\n",
    "    path: path to folder containing MSA files\n",
    "    '''\n",
    "    # iterate over the MSA files\n",
    "    seqs_msa = {}\n",
    "    l = []\n",
    "    no_errors = 0\n",
    "    i = 0\n",
    "    for filename in os.listdir(path):\n",
    "        f = os.path.join(path, filename) # is the complete path to each msa\n",
    "\n",
    "        if os.path.isfile(f):\n",
    "            \n",
    "            # Check if file is empty\n",
    "            check_file = os.stat(f).st_size\n",
    "            if check_file != 0:\n",
    "                msa_name = filename.split(\".\")[0].split(\"_\")\n",
    "                msa_name = msa_name[0] + \"_\" + msa_name[3]\n",
    "                # align objects can be treated as lists of SeqRecord objects\n",
    "                align = AlignIO.read(open(f), format= 'fasta')\n",
    "                for record in align:\n",
    "                    try:\n",
    "                        l.append([msa_name, record.id, len(record)])\n",
    "                        #print(\"%s %i\" % (record.id, len(record)))\n",
    "                        seqs_msa[msa_name] = len(align)\n",
    "                        # to dataframe\n",
    "                        \n",
    "                        i += 1\n",
    "                    except:\n",
    "                        print(f\"error in file {filename}\")\n",
    "                        no_errors += 1\n",
    "    df = pd.DataFrame.from_dict(seqs_msa, orient= 'index').reset_index().rename(columns= {'index': 'msa', 0: 'no_seqs'})\n",
    "    return df, l"
   ]
  },
  {
   "cell_type": "code",
   "execution_count": 8,
   "metadata": {},
   "outputs": [
    {
     "data": {
      "text/html": [
       "<div>\n",
       "<style scoped>\n",
       "    .dataframe tbody tr th:only-of-type {\n",
       "        vertical-align: middle;\n",
       "    }\n",
       "\n",
       "    .dataframe tbody tr th {\n",
       "        vertical-align: top;\n",
       "    }\n",
       "\n",
       "    .dataframe thead th {\n",
       "        text-align: right;\n",
       "    }\n",
       "</style>\n",
       "<table border=\"1\" class=\"dataframe\">\n",
       "  <thead>\n",
       "    <tr style=\"text-align: right;\">\n",
       "      <th></th>\n",
       "      <th>msa</th>\n",
       "      <th>no_seqs</th>\n",
       "    </tr>\n",
       "  </thead>\n",
       "  <tbody>\n",
       "    <tr>\n",
       "      <th>0</th>\n",
       "      <td>A0A2I0BVG8_60</td>\n",
       "      <td>6</td>\n",
       "    </tr>\n",
       "    <tr>\n",
       "      <th>1</th>\n",
       "      <td>A0A2I0BVG8_80</td>\n",
       "      <td>5</td>\n",
       "    </tr>\n",
       "    <tr>\n",
       "      <th>2</th>\n",
       "      <td>A0A2I0BVG8_all</td>\n",
       "      <td>45</td>\n",
       "    </tr>\n",
       "    <tr>\n",
       "      <th>3</th>\n",
       "      <td>A0A509AFG4_60</td>\n",
       "      <td>6</td>\n",
       "    </tr>\n",
       "    <tr>\n",
       "      <th>4</th>\n",
       "      <td>A0A509AFG4_80</td>\n",
       "      <td>2</td>\n",
       "    </tr>\n",
       "    <tr>\n",
       "      <th>...</th>\n",
       "      <td>...</td>\n",
       "      <td>...</td>\n",
       "    </tr>\n",
       "    <tr>\n",
       "      <th>744</th>\n",
       "      <td>Q9ZV15_80</td>\n",
       "      <td>3</td>\n",
       "    </tr>\n",
       "    <tr>\n",
       "      <th>745</th>\n",
       "      <td>Q9ZV15_all</td>\n",
       "      <td>77</td>\n",
       "    </tr>\n",
       "    <tr>\n",
       "      <th>746</th>\n",
       "      <td>W7JX98_60</td>\n",
       "      <td>5</td>\n",
       "    </tr>\n",
       "    <tr>\n",
       "      <th>747</th>\n",
       "      <td>W7JX98_80</td>\n",
       "      <td>5</td>\n",
       "    </tr>\n",
       "    <tr>\n",
       "      <th>748</th>\n",
       "      <td>W7JX98_all</td>\n",
       "      <td>61</td>\n",
       "    </tr>\n",
       "  </tbody>\n",
       "</table>\n",
       "<p>749 rows × 2 columns</p>\n",
       "</div>"
      ],
      "text/plain": [
       "                msa  no_seqs\n",
       "0     A0A2I0BVG8_60        6\n",
       "1     A0A2I0BVG8_80        5\n",
       "2    A0A2I0BVG8_all       45\n",
       "3     A0A509AFG4_60        6\n",
       "4     A0A509AFG4_80        2\n",
       "..              ...      ...\n",
       "744       Q9ZV15_80        3\n",
       "745      Q9ZV15_all       77\n",
       "746       W7JX98_60        5\n",
       "747       W7JX98_80        5\n",
       "748      W7JX98_all       61\n",
       "\n",
       "[749 rows x 2 columns]"
      ]
     },
     "execution_count": 8,
     "metadata": {},
     "output_type": "execute_result"
    }
   ],
   "source": [
    "seqs_msa, l = seqs_per_msa(path= '../homology_transfer/pipeline_MSA_uniprot/data_snake/09_align_selection/')\n",
    "seqs_msa"
   ]
  },
  {
   "cell_type": "code",
   "execution_count": 10,
   "metadata": {},
   "outputs": [
    {
     "data": {
      "text/plain": [
       "<AxesSubplot:>"
      ]
     },
     "execution_count": 10,
     "metadata": {},
     "output_type": "execute_result"
    },
    {
     "data": {
      "image/png": "[encoded data removed]",
      "text/plain": [
       "<Figure size 640x480 with 1 Axes>"
      ]
     },
     "metadata": {},
     "output_type": "display_data"
    }
   ],
   "source": [
    "seqs_msa.boxplot()"
   ]
  },
  {
   "cell_type": "code",
   "execution_count": 14,
   "metadata": {},
   "outputs": [],
   "source": [
    "def plot_distrib_msa(data, threshold= 'all'):\n",
    "    threshold = str(threshold)\n",
    "    data[data.msa.str.endswith(threshold)].no_seqs.plot(kind= 'hist', bins= 50, color= 'gray', edgecolor= 'black')\n",
    "    plt.title(f\"Distribution #seqs/MSA\\nthreshold = {threshold}\")\n",
    "    plt.ylabel(\"# MSAs\")\n",
    "    plt.xlabel('# sequences')\n",
    "    plt.show()"
   ]
  },
  {
   "cell_type": "code",
   "execution_count": 17,
   "metadata": {},
   "outputs": [
    {
     "data": {
      "image/png": "[encoded data removed]",
      "text/plain": [
       "<Figure size 640x480 with 1 Axes>"
      ]
     },
     "metadata": {},
     "output_type": "display_data"
    },
    {
     "data": {
      "image/png": "[encoded data removed]",
      "text/plain": [
       "<Figure size 640x480 with 1 Axes>"
      ]
     },
     "metadata": {},
     "output_type": "display_data"
    },
    {
     "data": {
      "image/png": "[encoded data removed]",
      "text/plain": [
       "<Figure size 640x480 with 1 Axes>"
      ]
     },
     "metadata": {},
     "output_type": "display_data"
    }
   ],
   "source": [
    "plot_distrib_msa(data= seqs_msa)\n",
    "plot_distrib_msa(data= seqs_msa, threshold=60)\n",
    "plot_distrib_msa(data= seqs_msa, threshold=80)"
   ]
  },
  {
   "cell_type": "markdown",
   "metadata": {},
   "source": [
    "# Orthologs overlap"
   ]
  },
  {
   "cell_type": "code",
   "execution_count": 9,
   "metadata": {},
   "outputs": [
    {
     "data": {
      "text/html": [
       "<div>\n",
       "<style scoped>\n",
       "    .dataframe tbody tr th:only-of-type {\n",
       "        vertical-align: middle;\n",
       "    }\n",
       "\n",
       "    .dataframe tbody tr th {\n",
       "        vertical-align: top;\n",
       "    }\n",
       "\n",
       "    .dataframe thead th {\n",
       "        text-align: right;\n",
       "    }\n",
       "</style>\n",
       "<table border=\"1\" class=\"dataframe\">\n",
       "  <thead>\n",
       "    <tr style=\"text-align: right;\">\n",
       "      <th></th>\n",
       "      <th>msa</th>\n",
       "      <th>uniprot</th>\n",
       "      <th>length_msa</th>\n",
       "    </tr>\n",
       "  </thead>\n",
       "  <tbody>\n",
       "    <tr>\n",
       "      <th>0</th>\n",
       "      <td>A0A2I0BVG8_60</td>\n",
       "      <td>A0A2I0BVG8</td>\n",
       "      <td>536</td>\n",
       "    </tr>\n",
       "    <tr>\n",
       "      <th>1</th>\n",
       "      <td>A0A2I0BVG8_60</td>\n",
       "      <td>A0A0D9QJY8</td>\n",
       "      <td>536</td>\n",
       "    </tr>\n",
       "    <tr>\n",
       "      <th>2</th>\n",
       "      <td>A0A2I0BVG8_60</td>\n",
       "      <td>A0A0L7M8D5</td>\n",
       "      <td>536</td>\n",
       "    </tr>\n",
       "    <tr>\n",
       "      <th>3</th>\n",
       "      <td>A0A2I0BVG8_60</td>\n",
       "      <td>A0A1Y3DU95</td>\n",
       "      <td>536</td>\n",
       "    </tr>\n",
       "    <tr>\n",
       "      <th>4</th>\n",
       "      <td>A0A2I0BVG8_60</td>\n",
       "      <td>A5KBU9</td>\n",
       "      <td>536</td>\n",
       "    </tr>\n",
       "    <tr>\n",
       "      <th>...</th>\n",
       "      <td>...</td>\n",
       "      <td>...</td>\n",
       "      <td>...</td>\n",
       "    </tr>\n",
       "    <tr>\n",
       "      <th>42143</th>\n",
       "      <td>W7JX98_all</td>\n",
       "      <td>R7TJP2</td>\n",
       "      <td>1377</td>\n",
       "    </tr>\n",
       "    <tr>\n",
       "      <th>42144</th>\n",
       "      <td>W7JX98_all</td>\n",
       "      <td>T1J2D2</td>\n",
       "      <td>1377</td>\n",
       "    </tr>\n",
       "    <tr>\n",
       "      <th>42145</th>\n",
       "      <td>W7JX98_all</td>\n",
       "      <td>U3KFF9</td>\n",
       "      <td>1377</td>\n",
       "    </tr>\n",
       "    <tr>\n",
       "      <th>42146</th>\n",
       "      <td>W7JX98_all</td>\n",
       "      <td>W2SK18</td>\n",
       "      <td>1377</td>\n",
       "    </tr>\n",
       "    <tr>\n",
       "      <th>42147</th>\n",
       "      <td>W7JX98_all</td>\n",
       "      <td>W4IVK0</td>\n",
       "      <td>1377</td>\n",
       "    </tr>\n",
       "  </tbody>\n",
       "</table>\n",
       "<p>42148 rows × 3 columns</p>\n",
       "</div>"
      ],
      "text/plain": [
       "                 msa     uniprot  length_msa\n",
       "0      A0A2I0BVG8_60  A0A2I0BVG8         536\n",
       "1      A0A2I0BVG8_60  A0A0D9QJY8         536\n",
       "2      A0A2I0BVG8_60  A0A0L7M8D5         536\n",
       "3      A0A2I0BVG8_60  A0A1Y3DU95         536\n",
       "4      A0A2I0BVG8_60      A5KBU9         536\n",
       "...              ...         ...         ...\n",
       "42143     W7JX98_all      R7TJP2        1377\n",
       "42144     W7JX98_all      T1J2D2        1377\n",
       "42145     W7JX98_all      U3KFF9        1377\n",
       "42146     W7JX98_all      W2SK18        1377\n",
       "42147     W7JX98_all      W4IVK0        1377\n",
       "\n",
       "[42148 rows x 3 columns]"
      ]
     },
     "execution_count": 9,
     "metadata": {},
     "output_type": "execute_result"
    }
   ],
   "source": [
    "all_msas = pd.DataFrame(l, columns= ['msa', 'uniprot', 'length_msa'])\n",
    "all_msas"
   ]
  },
  {
   "cell_type": "code",
   "execution_count": 10,
   "metadata": {},
   "outputs": [],
   "source": [
    "# Subset the MSAs\n",
    "all = all_msas[all_msas.msa.str.endswith(\"all\")]\n",
    "msa_60 = all_msas[all_msas.msa.str.endswith(\"60\")]\n",
    "msa_80 = all_msas[all_msas.msa.str.endswith(\"80\")]"
   ]
  },
  {
   "cell_type": "code",
   "execution_count": 11,
   "metadata": {},
   "outputs": [],
   "source": [
    "# list with kinases reference proteins\n",
    "kin = kinases.uniprot.unique().tolist()"
   ]
  },
  {
   "cell_type": "code",
   "execution_count": 12,
   "metadata": {},
   "outputs": [
    {
     "data": {
      "text/html": [
       "<div>\n",
       "<style scoped>\n",
       "    .dataframe tbody tr th:only-of-type {\n",
       "        vertical-align: middle;\n",
       "    }\n",
       "\n",
       "    .dataframe tbody tr th {\n",
       "        vertical-align: top;\n",
       "    }\n",
       "\n",
       "    .dataframe thead th {\n",
       "        text-align: right;\n",
       "    }\n",
       "</style>\n",
       "<table border=\"1\" class=\"dataframe\">\n",
       "  <thead>\n",
       "    <tr style=\"text-align: right;\">\n",
       "      <th></th>\n",
       "      <th>msa</th>\n",
       "      <th>uniprot</th>\n",
       "    </tr>\n",
       "  </thead>\n",
       "  <tbody>\n",
       "    <tr>\n",
       "      <th>0</th>\n",
       "      <td>A0A2I0BVG8_all</td>\n",
       "      <td>[A0A2I0BVG8, A0A023B173, A0A0C2IKB7, A0A0D9QJY...</td>\n",
       "    </tr>\n",
       "    <tr>\n",
       "      <th>1</th>\n",
       "      <td>A0A509AFG4_all</td>\n",
       "      <td>[A0A509AFG4, A0A015KQ67, A0A059J0T9, A0A0D9QSD...</td>\n",
       "    </tr>\n",
       "    <tr>\n",
       "      <th>2</th>\n",
       "      <td>A0A509AHB6_all</td>\n",
       "      <td>[A0A509AHB6, A0A023B173, A0A0C2IKB7, A0A0D2VHA...</td>\n",
       "    </tr>\n",
       "    <tr>\n",
       "      <th>3</th>\n",
       "      <td>A0A509AKL0_all</td>\n",
       "      <td>[A0A509AKL0, A0A023B252, A0A061DD08, A0A068Y9V...</td>\n",
       "    </tr>\n",
       "    <tr>\n",
       "      <th>4</th>\n",
       "      <td>A0A509AQE6_all</td>\n",
       "      <td>[A0A509AQE6, A0A015K587, A0A023BCV0, A0A061DD0...</td>\n",
       "    </tr>\n",
       "    <tr>\n",
       "      <th>...</th>\n",
       "      <td>...</td>\n",
       "      <td>...</td>\n",
       "    </tr>\n",
       "    <tr>\n",
       "      <th>252</th>\n",
       "      <td>Q9ZSA3_all</td>\n",
       "      <td>[Q9ZSA3, A0A087GM80, B6EP77, G8JN52, K5BI95, M...</td>\n",
       "    </tr>\n",
       "    <tr>\n",
       "      <th>253</th>\n",
       "      <td>Q9ZSA4_all</td>\n",
       "      <td>[Q9ZSA4, A0A0L8ICP1, A0A668RKR5, A3DEI9, C4Y9R...</td>\n",
       "    </tr>\n",
       "    <tr>\n",
       "      <th>254</th>\n",
       "      <td>Q9ZUZ2_all</td>\n",
       "      <td>[Q9ZUZ2, A0A059C0N6, A0A061CZ84, A0A061DU80, A...</td>\n",
       "    </tr>\n",
       "    <tr>\n",
       "      <th>255</th>\n",
       "      <td>Q9ZV15_all</td>\n",
       "      <td>[Q9ZV15, A0A059DJ09, A0A068UQL6, A0A087H3U3, A...</td>\n",
       "    </tr>\n",
       "    <tr>\n",
       "      <th>256</th>\n",
       "      <td>W7JX98_all</td>\n",
       "      <td>[W7JX98, A0A023B252, A0A061DD08, A0A068Y9V5, A...</td>\n",
       "    </tr>\n",
       "  </tbody>\n",
       "</table>\n",
       "<p>257 rows × 2 columns</p>\n",
       "</div>"
      ],
      "text/plain": [
       "                msa                                            uniprot\n",
       "0    A0A2I0BVG8_all  [A0A2I0BVG8, A0A023B173, A0A0C2IKB7, A0A0D9QJY...\n",
       "1    A0A509AFG4_all  [A0A509AFG4, A0A015KQ67, A0A059J0T9, A0A0D9QSD...\n",
       "2    A0A509AHB6_all  [A0A509AHB6, A0A023B173, A0A0C2IKB7, A0A0D2VHA...\n",
       "3    A0A509AKL0_all  [A0A509AKL0, A0A023B252, A0A061DD08, A0A068Y9V...\n",
       "4    A0A509AQE6_all  [A0A509AQE6, A0A015K587, A0A023BCV0, A0A061DD0...\n",
       "..              ...                                                ...\n",
       "252      Q9ZSA3_all  [Q9ZSA3, A0A087GM80, B6EP77, G8JN52, K5BI95, M...\n",
       "253      Q9ZSA4_all  [Q9ZSA4, A0A0L8ICP1, A0A668RKR5, A3DEI9, C4Y9R...\n",
       "254      Q9ZUZ2_all  [Q9ZUZ2, A0A059C0N6, A0A061CZ84, A0A061DU80, A...\n",
       "255      Q9ZV15_all  [Q9ZV15, A0A059DJ09, A0A068UQL6, A0A087H3U3, A...\n",
       "256      W7JX98_all  [W7JX98, A0A023B252, A0A061DD08, A0A068Y9V5, A...\n",
       "\n",
       "[257 rows x 2 columns]"
      ]
     },
     "execution_count": 12,
     "metadata": {},
     "output_type": "execute_result"
    }
   ],
   "source": [
    "# Create sets with unique proteins in each msa\n",
    "all = all.groupby(\"msa\").agg({'uniprot': lambda x: x.tolist()}).reset_index()\n",
    "all"
   ]
  },
  {
   "cell_type": "code",
   "execution_count": 13,
   "metadata": {},
   "outputs": [],
   "source": [
    "def find_overlaps(df, refers):\n",
    "    '''\n",
    "    df: dataframe containing MSAs and list of proteins in each one\n",
    "    refers: list containing reference proteins for checking overlap\n",
    "    returns dataframe with MSA name, list of proteins in that MSA and list of reference\n",
    "    proteins in that MSA\n",
    "    '''\n",
    "    # Create lists with proteins in each msa\n",
    "    df = df.groupby(\"msa\").agg({'uniprot': lambda x: x.tolist()}).reset_index()\n",
    "    df[\"overlap\"] = [ [] for _ in range(len(df))]\n",
    "    for ix in df.index:\n",
    "        lst = df.uniprot[ix][1:] # exclude the first because is the reference\n",
    "        for kinase in refers:\n",
    "            if kinase in lst:\n",
    "                df[\"overlap\"][ix].append(kinase)\n",
    "    return df"
   ]
  },
  {
   "cell_type": "code",
   "execution_count": 41,
   "metadata": {},
   "outputs": [],
   "source": [
    "# Ok. tested\n",
    "def plot_overlap(msa, refers, title, color= 'royalblue', bins= 6):\n",
    "    '''\n",
    "    plot overlaping reference proteins in MSAs \n",
    "    '''\n",
    "    df = find_overlaps(msa, refers)\n",
    "    df.overlap.apply(lambda x: len(x)).plot(\n",
    "    kind= 'hist',\n",
    "    color= color,\n",
    "    edgecolor= 'black',\n",
    "    bins= bins\n",
    "    )\n",
    "    plt.title(title)\n",
    "    plt.xlabel(\"# proteins\")\n",
    "    plt.show()\n"
   ]
  },
  {
   "cell_type": "code",
   "execution_count": 35,
   "metadata": {},
   "outputs": [
    {
     "data": {
      "image/png": "[encoded data removed]",
      "text/plain": [
       "<Figure size 640x480 with 1 Axes>"
      ]
     },
     "metadata": {},
     "output_type": "display_data"
    },
    {
     "data": {
      "image/png": "[encoded data removed]",
      "text/plain": [
       "<Figure size 640x480 with 1 Axes>"
      ]
     },
     "metadata": {},
     "output_type": "display_data"
    },
    {
     "data": {
      "image/png": "[encoded data removed]",
      "text/plain": [
       "<Figure size 640x480 with 1 Axes>"
      ]
     },
     "metadata": {},
     "output_type": "display_data"
    }
   ],
   "source": [
    "plot_overlap(all, refers= kin, title= \"Overlapping proteins in MSAs - all\")\n",
    "plot_overlap(msa_60, refers= kin, title= \"Overlapping proteins in MSAs - 60% identity\")\n",
    "plot_overlap(msa_80, refers= kin, title= \"Overlapping proteins in MSAs - 80% identity\")"
   ]
  },
  {
   "cell_type": "code",
   "execution_count": null,
   "metadata": {},
   "outputs": [],
   "source": []
  },
  {
   "cell_type": "code",
   "execution_count": null,
   "metadata": {},
   "outputs": [],
   "source": []
  },
  {
   "cell_type": "markdown",
   "metadata": {},
   "source": [
    "---"
   ]
  },
  {
   "cell_type": "markdown",
   "metadata": {},
   "source": [
    "### select one msa for gap strip and seq2logo"
   ]
  },
  {
   "cell_type": "code",
   "execution_count": 14,
   "metadata": {},
   "outputs": [
    {
     "data": {
      "text/html": [
       "<div>\n",
       "<style scoped>\n",
       "    .dataframe tbody tr th:only-of-type {\n",
       "        vertical-align: middle;\n",
       "    }\n",
       "\n",
       "    .dataframe tbody tr th {\n",
       "        vertical-align: top;\n",
       "    }\n",
       "\n",
       "    .dataframe thead th {\n",
       "        text-align: right;\n",
       "    }\n",
       "</style>\n",
       "<table border=\"1\" class=\"dataframe\">\n",
       "  <thead>\n",
       "    <tr style=\"text-align: right;\">\n",
       "      <th></th>\n",
       "      <th>msa</th>\n",
       "      <th>uniprot</th>\n",
       "      <th>length_msa</th>\n",
       "    </tr>\n",
       "  </thead>\n",
       "  <tbody>\n",
       "    <tr>\n",
       "      <th>0</th>\n",
       "      <td>A0A2I0BVG8_60</td>\n",
       "      <td>A0A2I0BVG8</td>\n",
       "      <td>536</td>\n",
       "    </tr>\n",
       "    <tr>\n",
       "      <th>1</th>\n",
       "      <td>A0A2I0BVG8_60</td>\n",
       "      <td>A0A0D9QJY8</td>\n",
       "      <td>536</td>\n",
       "    </tr>\n",
       "    <tr>\n",
       "      <th>2</th>\n",
       "      <td>A0A2I0BVG8_60</td>\n",
       "      <td>A0A0L7M8D5</td>\n",
       "      <td>536</td>\n",
       "    </tr>\n",
       "    <tr>\n",
       "      <th>3</th>\n",
       "      <td>A0A2I0BVG8_60</td>\n",
       "      <td>A0A1Y3DU95</td>\n",
       "      <td>536</td>\n",
       "    </tr>\n",
       "    <tr>\n",
       "      <th>4</th>\n",
       "      <td>A0A2I0BVG8_60</td>\n",
       "      <td>A5KBU9</td>\n",
       "      <td>536</td>\n",
       "    </tr>\n",
       "    <tr>\n",
       "      <th>...</th>\n",
       "      <td>...</td>\n",
       "      <td>...</td>\n",
       "      <td>...</td>\n",
       "    </tr>\n",
       "    <tr>\n",
       "      <th>42143</th>\n",
       "      <td>W7JX98_all</td>\n",
       "      <td>R7TJP2</td>\n",
       "      <td>1377</td>\n",
       "    </tr>\n",
       "    <tr>\n",
       "      <th>42144</th>\n",
       "      <td>W7JX98_all</td>\n",
       "      <td>T1J2D2</td>\n",
       "      <td>1377</td>\n",
       "    </tr>\n",
       "    <tr>\n",
       "      <th>42145</th>\n",
       "      <td>W7JX98_all</td>\n",
       "      <td>U3KFF9</td>\n",
       "      <td>1377</td>\n",
       "    </tr>\n",
       "    <tr>\n",
       "      <th>42146</th>\n",
       "      <td>W7JX98_all</td>\n",
       "      <td>W2SK18</td>\n",
       "      <td>1377</td>\n",
       "    </tr>\n",
       "    <tr>\n",
       "      <th>42147</th>\n",
       "      <td>W7JX98_all</td>\n",
       "      <td>W4IVK0</td>\n",
       "      <td>1377</td>\n",
       "    </tr>\n",
       "  </tbody>\n",
       "</table>\n",
       "<p>42148 rows × 3 columns</p>\n",
       "</div>"
      ],
      "text/plain": [
       "                 msa     uniprot  length_msa\n",
       "0      A0A2I0BVG8_60  A0A2I0BVG8         536\n",
       "1      A0A2I0BVG8_60  A0A0D9QJY8         536\n",
       "2      A0A2I0BVG8_60  A0A0L7M8D5         536\n",
       "3      A0A2I0BVG8_60  A0A1Y3DU95         536\n",
       "4      A0A2I0BVG8_60      A5KBU9         536\n",
       "...              ...         ...         ...\n",
       "42143     W7JX98_all      R7TJP2        1377\n",
       "42144     W7JX98_all      T1J2D2        1377\n",
       "42145     W7JX98_all      U3KFF9        1377\n",
       "42146     W7JX98_all      W2SK18        1377\n",
       "42147     W7JX98_all      W4IVK0        1377\n",
       "\n",
       "[42148 rows x 3 columns]"
      ]
     },
     "execution_count": 14,
     "metadata": {},
     "output_type": "execute_result"
    }
   ],
   "source": [
    "all_msas"
   ]
  },
  {
   "cell_type": "code",
   "execution_count": null,
   "metadata": {},
   "outputs": [],
   "source": []
  },
  {
   "cell_type": "markdown",
   "metadata": {},
   "source": [
    "---"
   ]
  },
  {
   "cell_type": "markdown",
   "metadata": {},
   "source": [
    "# Mapping PDBs to orthologs "
   ]
  },
  {
   "cell_type": "code",
   "execution_count": 2,
   "metadata": {},
   "outputs": [],
   "source": [
    "sift = pd.read_csv(\n",
    "    '../datasets/uniprot_segments_observed.tsv.gz',\n",
    "    sep= '\\t',\n",
    "    compression= 'gzip',\n",
    "    skiprows= 1\n",
    ")\n",
    "sift.columns = sift.columns.str.lower()"
   ]
  },
  {
   "cell_type": "code",
   "execution_count": 3,
   "metadata": {},
   "outputs": [
    {
     "data": {
      "text/html": [
       "<div>\n",
       "<style scoped>\n",
       "    .dataframe tbody tr th:only-of-type {\n",
       "        vertical-align: middle;\n",
       "    }\n",
       "\n",
       "    .dataframe tbody tr th {\n",
       "        vertical-align: top;\n",
       "    }\n",
       "\n",
       "    .dataframe thead th {\n",
       "        text-align: right;\n",
       "    }\n",
       "</style>\n",
       "<table border=\"1\" class=\"dataframe\">\n",
       "  <thead>\n",
       "    <tr style=\"text-align: right;\">\n",
       "      <th></th>\n",
       "      <th>pdb</th>\n",
       "      <th>uniprot_acc</th>\n",
       "    </tr>\n",
       "  </thead>\n",
       "  <tbody>\n",
       "    <tr>\n",
       "      <th>0</th>\n",
       "      <td>121p</td>\n",
       "      <td>P01112</td>\n",
       "    </tr>\n",
       "    <tr>\n",
       "      <th>1</th>\n",
       "      <td>132l</td>\n",
       "      <td>P00698</td>\n",
       "    </tr>\n",
       "    <tr>\n",
       "      <th>2</th>\n",
       "      <td>133l</td>\n",
       "      <td>P61626</td>\n",
       "    </tr>\n",
       "    <tr>\n",
       "      <th>3</th>\n",
       "      <td>129l</td>\n",
       "      <td>P00720</td>\n",
       "    </tr>\n",
       "    <tr>\n",
       "      <th>4</th>\n",
       "      <td>139l</td>\n",
       "      <td>P00720</td>\n",
       "    </tr>\n",
       "    <tr>\n",
       "      <th>...</th>\n",
       "      <td>...</td>\n",
       "      <td>...</td>\n",
       "    </tr>\n",
       "    <tr>\n",
       "      <th>977587</th>\n",
       "      <td>6eae</td>\n",
       "      <td>P03420</td>\n",
       "    </tr>\n",
       "    <tr>\n",
       "      <th>977589</th>\n",
       "      <td>6e9p</td>\n",
       "      <td>P9WFY1</td>\n",
       "    </tr>\n",
       "    <tr>\n",
       "      <th>977591</th>\n",
       "      <td>6e9p</td>\n",
       "      <td>P9WFX9</td>\n",
       "    </tr>\n",
       "    <tr>\n",
       "      <th>977601</th>\n",
       "      <td>6eaf</td>\n",
       "      <td>P03420</td>\n",
       "    </tr>\n",
       "    <tr>\n",
       "      <th>977613</th>\n",
       "      <td>6e9d</td>\n",
       "      <td>P03135</td>\n",
       "    </tr>\n",
       "  </tbody>\n",
       "</table>\n",
       "<p>321198 rows × 2 columns</p>\n",
       "</div>"
      ],
      "text/plain": [
       "         pdb uniprot_acc\n",
       "0       121p      P01112\n",
       "1       132l      P00698\n",
       "2       133l      P61626\n",
       "3       129l      P00720\n",
       "4       139l      P00720\n",
       "...      ...         ...\n",
       "977587  6eae      P03420\n",
       "977589  6e9p      P9WFY1\n",
       "977591  6e9p      P9WFX9\n",
       "977601  6eaf      P03420\n",
       "977613  6e9d      P03135\n",
       "\n",
       "[321198 rows x 2 columns]"
      ]
     },
     "execution_count": 3,
     "metadata": {},
     "output_type": "execute_result"
    }
   ],
   "source": [
    "# Mapping: pdbs for each uniprot\n",
    "pdb_uniprot = sift[['pdb', 'sp_primary']].drop_duplicates().rename(columns= {'sp_primary': 'uniprot_acc'})\n",
    "pdb_uniprot"
   ]
  },
  {
   "cell_type": "code",
   "execution_count": 15,
   "metadata": {},
   "outputs": [],
   "source": [
    "# Get list of orthologs\n",
    "ortho = all_msas.uniprot.unique().tolist()"
   ]
  },
  {
   "cell_type": "code",
   "execution_count": 16,
   "metadata": {},
   "outputs": [
    {
     "data": {
      "text/plain": [
       "13652"
      ]
     },
     "execution_count": 16,
     "metadata": {},
     "output_type": "execute_result"
    }
   ],
   "source": [
    "len(ortho)"
   ]
  },
  {
   "cell_type": "code",
   "execution_count": 19,
   "metadata": {},
   "outputs": [
    {
     "data": {
      "text/html": [
       "<div>\n",
       "<style scoped>\n",
       "    .dataframe tbody tr th:only-of-type {\n",
       "        vertical-align: middle;\n",
       "    }\n",
       "\n",
       "    .dataframe tbody tr th {\n",
       "        vertical-align: top;\n",
       "    }\n",
       "\n",
       "    .dataframe thead th {\n",
       "        text-align: right;\n",
       "    }\n",
       "</style>\n",
       "<table border=\"1\" class=\"dataframe\">\n",
       "  <thead>\n",
       "    <tr style=\"text-align: right;\">\n",
       "      <th></th>\n",
       "      <th>pdb</th>\n",
       "      <th>uniprot_acc</th>\n",
       "    </tr>\n",
       "  </thead>\n",
       "  <tbody>\n",
       "    <tr>\n",
       "      <th>965</th>\n",
       "      <td>1gag</td>\n",
       "      <td>P06213</td>\n",
       "    </tr>\n",
       "    <tr>\n",
       "      <th>1044</th>\n",
       "      <td>1gzo</td>\n",
       "      <td>P31751</td>\n",
       "    </tr>\n",
       "    <tr>\n",
       "      <th>1234</th>\n",
       "      <td>1i35</td>\n",
       "      <td>P28829</td>\n",
       "    </tr>\n",
       "    <tr>\n",
       "      <th>1237</th>\n",
       "      <td>1i44</td>\n",
       "      <td>P06213</td>\n",
       "    </tr>\n",
       "    <tr>\n",
       "      <th>1986</th>\n",
       "      <td>1m17</td>\n",
       "      <td>P00533</td>\n",
       "    </tr>\n",
       "    <tr>\n",
       "      <th>...</th>\n",
       "      <td>...</td>\n",
       "      <td>...</td>\n",
       "    </tr>\n",
       "    <tr>\n",
       "      <th>976383</th>\n",
       "      <td>7urz</td>\n",
       "      <td>Q13554</td>\n",
       "    </tr>\n",
       "    <tr>\n",
       "      <th>976469</th>\n",
       "      <td>7pg4</td>\n",
       "      <td>P06213</td>\n",
       "    </tr>\n",
       "    <tr>\n",
       "      <th>976493</th>\n",
       "      <td>7pg3</td>\n",
       "      <td>P06213</td>\n",
       "    </tr>\n",
       "    <tr>\n",
       "      <th>977452</th>\n",
       "      <td>7up8</td>\n",
       "      <td>O75582</td>\n",
       "    </tr>\n",
       "    <tr>\n",
       "      <th>977487</th>\n",
       "      <td>7pi4</td>\n",
       "      <td>Q05397</td>\n",
       "    </tr>\n",
       "  </tbody>\n",
       "</table>\n",
       "<p>2169 rows × 2 columns</p>\n",
       "</div>"
      ],
      "text/plain": [
       "         pdb uniprot_acc\n",
       "965     1gag      P06213\n",
       "1044    1gzo      P31751\n",
       "1234    1i35      P28829\n",
       "1237    1i44      P06213\n",
       "1986    1m17      P00533\n",
       "...      ...         ...\n",
       "976383  7urz      Q13554\n",
       "976469  7pg4      P06213\n",
       "976493  7pg3      P06213\n",
       "977452  7up8      O75582\n",
       "977487  7pi4      Q05397\n",
       "\n",
       "[2169 rows x 2 columns]"
      ]
     },
     "execution_count": 19,
     "metadata": {},
     "output_type": "execute_result"
    }
   ],
   "source": [
    "# How many orthologs proteins have pdb structure\n",
    "pdb_orthologs = pdb_uniprot[pdb_uniprot.uniprot_acc.isin(ortho)]\n",
    "pdb_orthologs"
   ]
  },
  {
   "cell_type": "code",
   "execution_count": 36,
   "metadata": {},
   "outputs": [
    {
     "data": {
      "text/plain": [
       "['1gag',\n",
       " '1gzo',\n",
       " '1i35',\n",
       " '1i44',\n",
       " '1m17',\n",
       " '1nvr',\n",
       " '1o6l',\n",
       " '1ow8',\n",
       " '1prl',\n",
       " '1qty']"
      ]
     },
     "execution_count": 36,
     "metadata": {},
     "output_type": "execute_result"
    }
   ],
   "source": [
    "pdb_orthologs.pdb[:10].to_list()"
   ]
  },
  {
   "cell_type": "code",
   "execution_count": 20,
   "metadata": {},
   "outputs": [
    {
     "data": {
      "text/plain": [
       "'126 out of 13652 ortholog proteins have PDB structure'"
      ]
     },
     "execution_count": 20,
     "metadata": {},
     "output_type": "execute_result"
    }
   ],
   "source": [
    "f\"{pdb_orthologs.uniprot_acc.nunique()} out of {len(ortho)} ortholog proteins have PDB structure\""
   ]
  },
  {
   "cell_type": "markdown",
   "metadata": {},
   "source": [
    "## How many of them in MSAs?"
   ]
  },
  {
   "cell_type": "code",
   "execution_count": 30,
   "metadata": {},
   "outputs": [
    {
     "ename": "ValueError",
     "evalue": "Length of values (2) does not match length of index (42148)",
     "output_type": "error",
     "traceback": [
      "\u001b[1;31m---------------------------------------------------------------------------\u001b[0m",
      "\u001b[1;31mValueError\u001b[0m                                Traceback (most recent call last)",
      "\u001b[1;32m<ipython-input-30-bddfead97a5d>\u001b[0m in \u001b[0;36m<module>\u001b[1;34m\u001b[0m\n\u001b[0;32m      1\u001b[0m \u001b[0mall_msas\u001b[0m\u001b[1;33m[\u001b[0m\u001b[1;34m\"msa_ref\"\u001b[0m\u001b[1;33m]\u001b[0m \u001b[1;33m=\u001b[0m \u001b[0mall_msas\u001b[0m\u001b[1;33m.\u001b[0m\u001b[0mmsa\u001b[0m\u001b[1;33m.\u001b[0m\u001b[0mstr\u001b[0m\u001b[1;33m.\u001b[0m\u001b[0msplit\u001b[0m\u001b[1;33m(\u001b[0m\u001b[1;34m\"_\"\u001b[0m\u001b[1;33m)\u001b[0m\u001b[1;33m\u001b[0m\u001b[1;33m\u001b[0m\u001b[0m\n\u001b[1;32m----> 2\u001b[1;33m \u001b[0mall_msas\u001b[0m\u001b[1;33m[\u001b[0m\u001b[1;34m\"msa_ref\"\u001b[0m\u001b[1;33m]\u001b[0m \u001b[1;33m=\u001b[0m \u001b[0mall_msas\u001b[0m\u001b[1;33m[\u001b[0m\u001b[1;34m\"msa_ref\"\u001b[0m\u001b[1;33m]\u001b[0m\u001b[1;33m[\u001b[0m\u001b[1;36m0\u001b[0m\u001b[1;33m]\u001b[0m\u001b[1;33m\u001b[0m\u001b[1;33m\u001b[0m\u001b[0m\n\u001b[0m",
      "\u001b[1;32mc:\\Users\\User\\AppData\\Local\\Programs\\Python\\Python37\\lib\\site-packages\\pandas\\core\\frame.py\u001b[0m in \u001b[0;36m__setitem__\u001b[1;34m(self, key, value)\u001b[0m\n\u001b[0;32m   3161\u001b[0m         \u001b[1;32melse\u001b[0m\u001b[1;33m:\u001b[0m\u001b[1;33m\u001b[0m\u001b[1;33m\u001b[0m\u001b[0m\n\u001b[0;32m   3162\u001b[0m             \u001b[1;31m# set column\u001b[0m\u001b[1;33m\u001b[0m\u001b[1;33m\u001b[0m\u001b[1;33m\u001b[0m\u001b[0m\n\u001b[1;32m-> 3163\u001b[1;33m             \u001b[0mself\u001b[0m\u001b[1;33m.\u001b[0m\u001b[0m_set_item\u001b[0m\u001b[1;33m(\u001b[0m\u001b[0mkey\u001b[0m\u001b[1;33m,\u001b[0m \u001b[0mvalue\u001b[0m\u001b[1;33m)\u001b[0m\u001b[1;33m\u001b[0m\u001b[1;33m\u001b[0m\u001b[0m\n\u001b[0m\u001b[0;32m   3164\u001b[0m \u001b[1;33m\u001b[0m\u001b[0m\n\u001b[0;32m   3165\u001b[0m     \u001b[1;32mdef\u001b[0m \u001b[0m_setitem_slice\u001b[0m\u001b[1;33m(\u001b[0m\u001b[0mself\u001b[0m\u001b[1;33m,\u001b[0m \u001b[0mkey\u001b[0m\u001b[1;33m:\u001b[0m \u001b[0mslice\u001b[0m\u001b[1;33m,\u001b[0m \u001b[0mvalue\u001b[0m\u001b[1;33m)\u001b[0m\u001b[1;33m:\u001b[0m\u001b[1;33m\u001b[0m\u001b[1;33m\u001b[0m\u001b[0m\n",
      "\u001b[1;32mc:\\Users\\User\\AppData\\Local\\Programs\\Python\\Python37\\lib\\site-packages\\pandas\\core\\frame.py\u001b[0m in \u001b[0;36m_set_item\u001b[1;34m(self, key, value)\u001b[0m\n\u001b[0;32m   3240\u001b[0m         \"\"\"\n\u001b[0;32m   3241\u001b[0m         \u001b[0mself\u001b[0m\u001b[1;33m.\u001b[0m\u001b[0m_ensure_valid_index\u001b[0m\u001b[1;33m(\u001b[0m\u001b[0mvalue\u001b[0m\u001b[1;33m)\u001b[0m\u001b[1;33m\u001b[0m\u001b[1;33m\u001b[0m\u001b[0m\n\u001b[1;32m-> 3242\u001b[1;33m         \u001b[0mvalue\u001b[0m \u001b[1;33m=\u001b[0m \u001b[0mself\u001b[0m\u001b[1;33m.\u001b[0m\u001b[0m_sanitize_column\u001b[0m\u001b[1;33m(\u001b[0m\u001b[0mkey\u001b[0m\u001b[1;33m,\u001b[0m \u001b[0mvalue\u001b[0m\u001b[1;33m)\u001b[0m\u001b[1;33m\u001b[0m\u001b[1;33m\u001b[0m\u001b[0m\n\u001b[0m\u001b[0;32m   3243\u001b[0m         \u001b[0mNDFrame\u001b[0m\u001b[1;33m.\u001b[0m\u001b[0m_set_item\u001b[0m\u001b[1;33m(\u001b[0m\u001b[0mself\u001b[0m\u001b[1;33m,\u001b[0m \u001b[0mkey\u001b[0m\u001b[1;33m,\u001b[0m \u001b[0mvalue\u001b[0m\u001b[1;33m)\u001b[0m\u001b[1;33m\u001b[0m\u001b[1;33m\u001b[0m\u001b[0m\n\u001b[0;32m   3244\u001b[0m \u001b[1;33m\u001b[0m\u001b[0m\n",
      "\u001b[1;32mc:\\Users\\User\\AppData\\Local\\Programs\\Python\\Python37\\lib\\site-packages\\pandas\\core\\frame.py\u001b[0m in \u001b[0;36m_sanitize_column\u001b[1;34m(self, key, value, broadcast)\u001b[0m\n\u001b[0;32m   3897\u001b[0m \u001b[1;33m\u001b[0m\u001b[0m\n\u001b[0;32m   3898\u001b[0m             \u001b[1;31m# turn me into an ndarray\u001b[0m\u001b[1;33m\u001b[0m\u001b[1;33m\u001b[0m\u001b[1;33m\u001b[0m\u001b[0m\n\u001b[1;32m-> 3899\u001b[1;33m             \u001b[0mvalue\u001b[0m \u001b[1;33m=\u001b[0m \u001b[0msanitize_index\u001b[0m\u001b[1;33m(\u001b[0m\u001b[0mvalue\u001b[0m\u001b[1;33m,\u001b[0m \u001b[0mself\u001b[0m\u001b[1;33m.\u001b[0m\u001b[0mindex\u001b[0m\u001b[1;33m)\u001b[0m\u001b[1;33m\u001b[0m\u001b[1;33m\u001b[0m\u001b[0m\n\u001b[0m\u001b[0;32m   3900\u001b[0m             \u001b[1;32mif\u001b[0m \u001b[1;32mnot\u001b[0m \u001b[0misinstance\u001b[0m\u001b[1;33m(\u001b[0m\u001b[0mvalue\u001b[0m\u001b[1;33m,\u001b[0m \u001b[1;33m(\u001b[0m\u001b[0mnp\u001b[0m\u001b[1;33m.\u001b[0m\u001b[0mndarray\u001b[0m\u001b[1;33m,\u001b[0m \u001b[0mIndex\u001b[0m\u001b[1;33m)\u001b[0m\u001b[1;33m)\u001b[0m\u001b[1;33m:\u001b[0m\u001b[1;33m\u001b[0m\u001b[1;33m\u001b[0m\u001b[0m\n\u001b[0;32m   3901\u001b[0m                 \u001b[1;32mif\u001b[0m \u001b[0misinstance\u001b[0m\u001b[1;33m(\u001b[0m\u001b[0mvalue\u001b[0m\u001b[1;33m,\u001b[0m \u001b[0mlist\u001b[0m\u001b[1;33m)\u001b[0m \u001b[1;32mand\u001b[0m \u001b[0mlen\u001b[0m\u001b[1;33m(\u001b[0m\u001b[0mvalue\u001b[0m\u001b[1;33m)\u001b[0m \u001b[1;33m>\u001b[0m \u001b[1;36m0\u001b[0m\u001b[1;33m:\u001b[0m\u001b[1;33m\u001b[0m\u001b[1;33m\u001b[0m\u001b[0m\n",
      "\u001b[1;32mc:\\Users\\User\\AppData\\Local\\Programs\\Python\\Python37\\lib\\site-packages\\pandas\\core\\internals\\construction.py\u001b[0m in \u001b[0;36msanitize_index\u001b[1;34m(data, index)\u001b[0m\n\u001b[0;32m    750\u001b[0m     \u001b[1;32mif\u001b[0m \u001b[0mlen\u001b[0m\u001b[1;33m(\u001b[0m\u001b[0mdata\u001b[0m\u001b[1;33m)\u001b[0m \u001b[1;33m!=\u001b[0m \u001b[0mlen\u001b[0m\u001b[1;33m(\u001b[0m\u001b[0mindex\u001b[0m\u001b[1;33m)\u001b[0m\u001b[1;33m:\u001b[0m\u001b[1;33m\u001b[0m\u001b[1;33m\u001b[0m\u001b[0m\n\u001b[0;32m    751\u001b[0m         raise ValueError(\n\u001b[1;32m--> 752\u001b[1;33m             \u001b[1;34m\"Length of values \"\u001b[0m\u001b[1;33m\u001b[0m\u001b[1;33m\u001b[0m\u001b[0m\n\u001b[0m\u001b[0;32m    753\u001b[0m             \u001b[1;34mf\"({len(data)}) \"\u001b[0m\u001b[1;33m\u001b[0m\u001b[1;33m\u001b[0m\u001b[0m\n\u001b[0;32m    754\u001b[0m             \u001b[1;34m\"does not match length of index \"\u001b[0m\u001b[1;33m\u001b[0m\u001b[1;33m\u001b[0m\u001b[0m\n",
      "\u001b[1;31mValueError\u001b[0m: Length of values (2) does not match length of index (42148)"
     ]
    }
   ],
   "source": [
    "all_msas[\"msa_ref\"] = all_msas.msa.str.split(\"_\")\n",
    "all_msas[\"msa_ref\"] = all_msas[\"msa_ref\"][0]"
   ]
  },
  {
   "cell_type": "code",
   "execution_count": 29,
   "metadata": {},
   "outputs": [
    {
     "data": {
      "text/plain": [
       "'A0A2I0BVG8'"
      ]
     },
     "execution_count": 29,
     "metadata": {},
     "output_type": "execute_result"
    }
   ],
   "source": [
    "\"A0A2I0BVG8_all\".split(\"_\")[0]"
   ]
  },
  {
   "cell_type": "code",
   "execution_count": 34,
   "metadata": {},
   "outputs": [
    {
     "data": {
      "text/html": [
       "<div>\n",
       "<style scoped>\n",
       "    .dataframe tbody tr th:only-of-type {\n",
       "        vertical-align: middle;\n",
       "    }\n",
       "\n",
       "    .dataframe tbody tr th {\n",
       "        vertical-align: top;\n",
       "    }\n",
       "\n",
       "    .dataframe thead th {\n",
       "        text-align: right;\n",
       "    }\n",
       "</style>\n",
       "<table border=\"1\" class=\"dataframe\">\n",
       "  <thead>\n",
       "    <tr style=\"text-align: right;\">\n",
       "      <th></th>\n",
       "      <th>msa</th>\n",
       "      <th>uniprot</th>\n",
       "      <th>length_msa</th>\n",
       "      <th>msa_ref</th>\n",
       "    </tr>\n",
       "  </thead>\n",
       "  <tbody>\n",
       "    <tr>\n",
       "      <th>46</th>\n",
       "      <td>A0A2I0BVG8_all</td>\n",
       "      <td>Q3HNM6</td>\n",
       "      <td>1126</td>\n",
       "      <td>[A0A2I0BVG8, all]</td>\n",
       "    </tr>\n",
       "    <tr>\n",
       "      <th>139</th>\n",
       "      <td>A0A509AHB6_all</td>\n",
       "      <td>Q3HNM6</td>\n",
       "      <td>1136</td>\n",
       "      <td>[A0A509AHB6, all]</td>\n",
       "    </tr>\n",
       "    <tr>\n",
       "      <th>518</th>\n",
       "      <td>A5K0N4_60</td>\n",
       "      <td>A5K0N4</td>\n",
       "      <td>923</td>\n",
       "      <td>[A5K0N4, 60]</td>\n",
       "    </tr>\n",
       "    <tr>\n",
       "      <th>524</th>\n",
       "      <td>A5K0N4_60</td>\n",
       "      <td>Q8I719</td>\n",
       "      <td>923</td>\n",
       "      <td>[A5K0N4, 60]</td>\n",
       "    </tr>\n",
       "    <tr>\n",
       "      <th>527</th>\n",
       "      <td>A5K0N4_80</td>\n",
       "      <td>A5K0N4</td>\n",
       "      <td>851</td>\n",
       "      <td>[A5K0N4, 80]</td>\n",
       "    </tr>\n",
       "    <tr>\n",
       "      <th>...</th>\n",
       "      <td>...</td>\n",
       "      <td>...</td>\n",
       "      <td>...</td>\n",
       "      <td>...</td>\n",
       "    </tr>\n",
       "    <tr>\n",
       "      <th>40967</th>\n",
       "      <td>Q9UIK4_80</td>\n",
       "      <td>Q9UIK4</td>\n",
       "      <td>391</td>\n",
       "      <td>[Q9UIK4, 80]</td>\n",
       "    </tr>\n",
       "    <tr>\n",
       "      <th>40996</th>\n",
       "      <td>Q9UIK4_all</td>\n",
       "      <td>Q9UIK4</td>\n",
       "      <td>739</td>\n",
       "      <td>[Q9UIK4, all]</td>\n",
       "    </tr>\n",
       "    <tr>\n",
       "      <th>41088</th>\n",
       "      <td>Q9Y243_60</td>\n",
       "      <td>Q9Y243</td>\n",
       "      <td>584</td>\n",
       "      <td>[Q9Y243, 60]</td>\n",
       "    </tr>\n",
       "    <tr>\n",
       "      <th>41180</th>\n",
       "      <td>Q9Y243_80</td>\n",
       "      <td>Q9Y243</td>\n",
       "      <td>515</td>\n",
       "      <td>[Q9Y243, 80]</td>\n",
       "    </tr>\n",
       "    <tr>\n",
       "      <th>41253</th>\n",
       "      <td>Q9Y243_all</td>\n",
       "      <td>Q9Y243</td>\n",
       "      <td>1013</td>\n",
       "      <td>[Q9Y243, all]</td>\n",
       "    </tr>\n",
       "  </tbody>\n",
       "</table>\n",
       "<p>491 rows × 4 columns</p>\n",
       "</div>"
      ],
      "text/plain": [
       "                  msa uniprot  length_msa            msa_ref\n",
       "46     A0A2I0BVG8_all  Q3HNM6        1126  [A0A2I0BVG8, all]\n",
       "139    A0A509AHB6_all  Q3HNM6        1136  [A0A509AHB6, all]\n",
       "518         A5K0N4_60  A5K0N4         923       [A5K0N4, 60]\n",
       "524         A5K0N4_60  Q8I719         923       [A5K0N4, 60]\n",
       "527         A5K0N4_80  A5K0N4         851       [A5K0N4, 80]\n",
       "...               ...     ...         ...                ...\n",
       "40967       Q9UIK4_80  Q9UIK4         391       [Q9UIK4, 80]\n",
       "40996      Q9UIK4_all  Q9UIK4         739      [Q9UIK4, all]\n",
       "41088       Q9Y243_60  Q9Y243         584       [Q9Y243, 60]\n",
       "41180       Q9Y243_80  Q9Y243         515       [Q9Y243, 80]\n",
       "41253      Q9Y243_all  Q9Y243        1013      [Q9Y243, all]\n",
       "\n",
       "[491 rows x 4 columns]"
      ]
     },
     "execution_count": 34,
     "metadata": {},
     "output_type": "execute_result"
    }
   ],
   "source": [
    "all_msas[all_msas.uniprot.isin(pdb_orthologs.uniprot_acc)]#.uniprot.nunique()"
   ]
  },
  {
   "cell_type": "code",
   "execution_count": null,
   "metadata": {},
   "outputs": [],
   "source": []
  },
  {
   "cell_type": "code",
   "execution_count": null,
   "metadata": {},
   "outputs": [],
   "source": []
  },
  {
   "cell_type": "code",
   "execution_count": null,
   "metadata": {},
   "outputs": [],
   "source": []
  },
  {
   "cell_type": "markdown",
   "metadata": {},
   "source": [
    "---"
   ]
  },
  {
   "cell_type": "markdown",
   "metadata": {},
   "source": [
    "### df with regions (KDs and CREs)  \n",
    "for calculate regions MSAs using homology transfer pipeline"
   ]
  },
  {
   "cell_type": "code",
   "execution_count": 2,
   "metadata": {},
   "outputs": [
    {
     "data": {
      "text/html": [
       "<div>\n",
       "<style scoped>\n",
       "    .dataframe tbody tr th:only-of-type {\n",
       "        vertical-align: middle;\n",
       "    }\n",
       "\n",
       "    .dataframe tbody tr th {\n",
       "        vertical-align: top;\n",
       "    }\n",
       "\n",
       "    .dataframe thead th {\n",
       "        text-align: right;\n",
       "    }\n",
       "</style>\n",
       "<table border=\"1\" class=\"dataframe\">\n",
       "  <thead>\n",
       "    <tr style=\"text-align: right;\">\n",
       "      <th></th>\n",
       "      <th>uniprot_acc</th>\n",
       "      <th>organism</th>\n",
       "      <th>cre_start</th>\n",
       "      <th>cre_end</th>\n",
       "      <th>cre_(s_or_d)</th>\n",
       "      <th>length</th>\n",
       "      <th>kd_start</th>\n",
       "      <th>kd_end</th>\n",
       "      <th>pdb_id</th>\n",
       "      <th>pdb_res_(å)</th>\n",
       "      <th>af</th>\n",
       "      <th>status</th>\n",
       "    </tr>\n",
       "  </thead>\n",
       "  <tbody>\n",
       "    <tr>\n",
       "      <th>0</th>\n",
       "      <td>A0A2I0BVG8</td>\n",
       "      <td>P. falciparum (isolate NF54)</td>\n",
       "      <td>346</td>\n",
       "      <td>353</td>\n",
       "      <td>no</td>\n",
       "      <td>NaN</td>\n",
       "      <td>56</td>\n",
       "      <td>325</td>\n",
       "      <td>no</td>\n",
       "      <td>no</td>\n",
       "      <td>AF-A0A2I0BVG8-F1</td>\n",
       "      <td>new</td>\n",
       "    </tr>\n",
       "    <tr>\n",
       "      <th>1</th>\n",
       "      <td>A0A509AFG4</td>\n",
       "      <td>P. berghei (strain Anka)</td>\n",
       "      <td>385</td>\n",
       "      <td>393</td>\n",
       "      <td>no</td>\n",
       "      <td>NaN</td>\n",
       "      <td>110</td>\n",
       "      <td>365</td>\n",
       "      <td>no</td>\n",
       "      <td>no</td>\n",
       "      <td>AF-A0A509AFG4-F1</td>\n",
       "      <td>new</td>\n",
       "    </tr>\n",
       "    <tr>\n",
       "      <th>2</th>\n",
       "      <td>A0A509AHB6</td>\n",
       "      <td>P. berghei (strain Anka)</td>\n",
       "      <td>345</td>\n",
       "      <td>352</td>\n",
       "      <td>no</td>\n",
       "      <td>NaN</td>\n",
       "      <td>57</td>\n",
       "      <td>324</td>\n",
       "      <td>no</td>\n",
       "      <td>no</td>\n",
       "      <td>AF-A0A509AHB6-F1</td>\n",
       "      <td>new</td>\n",
       "    </tr>\n",
       "    <tr>\n",
       "      <th>3</th>\n",
       "      <td>A0A509AKL0</td>\n",
       "      <td>P. berghei (strain Anka)</td>\n",
       "      <td>1</td>\n",
       "      <td>33</td>\n",
       "      <td>no</td>\n",
       "      <td>NaN</td>\n",
       "      <td>545</td>\n",
       "      <td>802</td>\n",
       "      <td>no</td>\n",
       "      <td>no</td>\n",
       "      <td>AF-A0A509AKL0-F1</td>\n",
       "      <td>new</td>\n",
       "    </tr>\n",
       "    <tr>\n",
       "      <th>4</th>\n",
       "      <td>A0A509AQE6</td>\n",
       "      <td>P. berghei (strain Anka)</td>\n",
       "      <td>394</td>\n",
       "      <td>402</td>\n",
       "      <td>no</td>\n",
       "      <td>NaN</td>\n",
       "      <td>118</td>\n",
       "      <td>372</td>\n",
       "      <td>no</td>\n",
       "      <td>no</td>\n",
       "      <td>AF-A0A509AQE6-F1</td>\n",
       "      <td>new</td>\n",
       "    </tr>\n",
       "    <tr>\n",
       "      <th>...</th>\n",
       "      <td>...</td>\n",
       "      <td>...</td>\n",
       "      <td>...</td>\n",
       "      <td>...</td>\n",
       "      <td>...</td>\n",
       "      <td>...</td>\n",
       "      <td>...</td>\n",
       "      <td>...</td>\n",
       "      <td>...</td>\n",
       "      <td>...</td>\n",
       "      <td>...</td>\n",
       "      <td>...</td>\n",
       "    </tr>\n",
       "    <tr>\n",
       "      <th>297</th>\n",
       "      <td>Q9ZSA4</td>\n",
       "      <td>A. thaliana</td>\n",
       "      <td>295</td>\n",
       "      <td>325</td>\n",
       "      <td>no</td>\n",
       "      <td>NaN</td>\n",
       "      <td>28</td>\n",
       "      <td>290</td>\n",
       "      <td>no</td>\n",
       "      <td>no</td>\n",
       "      <td>AF-Q9ZSA4-F1</td>\n",
       "      <td>new</td>\n",
       "    </tr>\n",
       "    <tr>\n",
       "      <th>298</th>\n",
       "      <td>Q9ZUZ2</td>\n",
       "      <td>A. thaliana</td>\n",
       "      <td>409</td>\n",
       "      <td>439</td>\n",
       "      <td>no</td>\n",
       "      <td>NaN</td>\n",
       "      <td>143</td>\n",
       "      <td>405</td>\n",
       "      <td>no</td>\n",
       "      <td>no</td>\n",
       "      <td>AF-Q9ZUZ2-F1</td>\n",
       "      <td>new</td>\n",
       "    </tr>\n",
       "    <tr>\n",
       "      <th>299</th>\n",
       "      <td>Q9ZV15</td>\n",
       "      <td>A. thaliana</td>\n",
       "      <td>398</td>\n",
       "      <td>428</td>\n",
       "      <td>no</td>\n",
       "      <td>NaN</td>\n",
       "      <td>134</td>\n",
       "      <td>392</td>\n",
       "      <td>no</td>\n",
       "      <td>no</td>\n",
       "      <td>AF-Q9ZV15-F1</td>\n",
       "      <td>new</td>\n",
       "    </tr>\n",
       "    <tr>\n",
       "      <th>300</th>\n",
       "      <td>W0LYS5</td>\n",
       "      <td>M. nipponense</td>\n",
       "      <td>287</td>\n",
       "      <td>327</td>\n",
       "      <td>no</td>\n",
       "      <td>NaN</td>\n",
       "      <td>31</td>\n",
       "      <td>287</td>\n",
       "      <td>no</td>\n",
       "      <td>no</td>\n",
       "      <td>AF-W0LYS5-F1</td>\n",
       "      <td>new</td>\n",
       "    </tr>\n",
       "    <tr>\n",
       "      <th>301</th>\n",
       "      <td>W7JX98</td>\n",
       "      <td>P. falciparum (isolate NF54)</td>\n",
       "      <td>1</td>\n",
       "      <td>29</td>\n",
       "      <td>no</td>\n",
       "      <td>NaN</td>\n",
       "      <td>541</td>\n",
       "      <td>798</td>\n",
       "      <td>no</td>\n",
       "      <td>no</td>\n",
       "      <td>AF-W7JX98-F1</td>\n",
       "      <td>new</td>\n",
       "    </tr>\n",
       "  </tbody>\n",
       "</table>\n",
       "<p>302 rows × 12 columns</p>\n",
       "</div>"
      ],
      "text/plain": [
       "    uniprot_acc                      organism  cre_start  cre_end  \\\n",
       "0    A0A2I0BVG8  P. falciparum (isolate NF54)        346      353   \n",
       "1    A0A509AFG4      P. berghei (strain Anka)        385      393   \n",
       "2    A0A509AHB6      P. berghei (strain Anka)        345      352   \n",
       "3    A0A509AKL0      P. berghei (strain Anka)          1       33   \n",
       "4    A0A509AQE6      P. berghei (strain Anka)        394      402   \n",
       "..          ...                           ...        ...      ...   \n",
       "297      Q9ZSA4                   A. thaliana        295      325   \n",
       "298      Q9ZUZ2                   A. thaliana        409      439   \n",
       "299      Q9ZV15                   A. thaliana        398      428   \n",
       "300      W0LYS5                 M. nipponense        287      327   \n",
       "301      W7JX98  P. falciparum (isolate NF54)          1       29   \n",
       "\n",
       "    cre_(s_or_d)  length  kd_start  kd_end pdb_id pdb_res_(å)  \\\n",
       "0             no     NaN        56     325     no          no   \n",
       "1             no     NaN       110     365     no          no   \n",
       "2             no     NaN        57     324     no          no   \n",
       "3             no     NaN       545     802     no          no   \n",
       "4             no     NaN       118     372     no          no   \n",
       "..           ...     ...       ...     ...    ...         ...   \n",
       "297           no     NaN        28     290     no          no   \n",
       "298           no     NaN       143     405     no          no   \n",
       "299           no     NaN       134     392     no          no   \n",
       "300           no     NaN        31     287     no          no   \n",
       "301           no     NaN       541     798     no          no   \n",
       "\n",
       "                   af status  \n",
       "0    AF-A0A2I0BVG8-F1    new  \n",
       "1    AF-A0A509AFG4-F1    new  \n",
       "2    AF-A0A509AHB6-F1    new  \n",
       "3    AF-A0A509AKL0-F1    new  \n",
       "4    AF-A0A509AQE6-F1    new  \n",
       "..                ...    ...  \n",
       "297      AF-Q9ZSA4-F1    new  \n",
       "298      AF-Q9ZUZ2-F1    new  \n",
       "299      AF-Q9ZV15-F1    new  \n",
       "300      AF-W0LYS5-F1    new  \n",
       "301      AF-W7JX98-F1    new  \n",
       "\n",
       "[302 rows x 12 columns]"
      ]
     },
     "execution_count": 2,
     "metadata": {},
     "output_type": "execute_result"
    }
   ],
   "source": [
    "kinases = pd.read_csv('../datasets/kinases.tsv', sep= '\\t')\n",
    "kinases.columns = kinases.columns.str.lower().str.replace(\" \", \"_\")\n",
    "kinases = kinases.rename(columns= {'uniprot': 'uniprot_acc', 'cre_(start)': 'cre_start', 'cre_(end)': 'cre_end', 'kd_(start)': 'kd_start', 'kd_(end)': 'kd_end'})\n",
    "kinases"
   ]
  },
  {
   "cell_type": "code",
   "execution_count": 3,
   "metadata": {},
   "outputs": [],
   "source": [
    "kd = kinases[['uniprot_acc', 'kd_start', 'kd_end']].drop_duplicates().rename(\n",
    "    columns= {\n",
    "        'kd_start': 'start',\n",
    "        'kd_end': 'end'\n",
    "    }\n",
    ")\n",
    "ids = [ \"kd\" + str(i) for i in range(1, len(kd)+1) ]\n",
    "kd['term_id'] = ids"
   ]
  },
  {
   "cell_type": "code",
   "execution_count": 58,
   "metadata": {},
   "outputs": [],
   "source": [
    "#kd.to_csv('../datasets/kd.tsv', sep= '\\t', index= False)"
   ]
  },
  {
   "cell_type": "code",
   "execution_count": 4,
   "metadata": {},
   "outputs": [
    {
     "data": {
      "text/html": [
       "<div>\n",
       "<style scoped>\n",
       "    .dataframe tbody tr th:only-of-type {\n",
       "        vertical-align: middle;\n",
       "    }\n",
       "\n",
       "    .dataframe tbody tr th {\n",
       "        vertical-align: top;\n",
       "    }\n",
       "\n",
       "    .dataframe thead th {\n",
       "        text-align: right;\n",
       "    }\n",
       "</style>\n",
       "<table border=\"1\" class=\"dataframe\">\n",
       "  <thead>\n",
       "    <tr style=\"text-align: right;\">\n",
       "      <th></th>\n",
       "      <th>uniprot_acc</th>\n",
       "      <th>start</th>\n",
       "      <th>end</th>\n",
       "      <th>term_id</th>\n",
       "    </tr>\n",
       "  </thead>\n",
       "  <tbody>\n",
       "    <tr>\n",
       "      <th>0</th>\n",
       "      <td>A0A2I0BVG8</td>\n",
       "      <td>56</td>\n",
       "      <td>325</td>\n",
       "      <td>kd1</td>\n",
       "    </tr>\n",
       "    <tr>\n",
       "      <th>1</th>\n",
       "      <td>A0A509AFG4</td>\n",
       "      <td>110</td>\n",
       "      <td>365</td>\n",
       "      <td>kd2</td>\n",
       "    </tr>\n",
       "    <tr>\n",
       "      <th>2</th>\n",
       "      <td>A0A509AHB6</td>\n",
       "      <td>57</td>\n",
       "      <td>324</td>\n",
       "      <td>kd3</td>\n",
       "    </tr>\n",
       "    <tr>\n",
       "      <th>3</th>\n",
       "      <td>A0A509AKL0</td>\n",
       "      <td>545</td>\n",
       "      <td>802</td>\n",
       "      <td>kd4</td>\n",
       "    </tr>\n",
       "    <tr>\n",
       "      <th>4</th>\n",
       "      <td>A0A509AQE6</td>\n",
       "      <td>118</td>\n",
       "      <td>372</td>\n",
       "      <td>kd5</td>\n",
       "    </tr>\n",
       "    <tr>\n",
       "      <th>...</th>\n",
       "      <td>...</td>\n",
       "      <td>...</td>\n",
       "      <td>...</td>\n",
       "      <td>...</td>\n",
       "    </tr>\n",
       "    <tr>\n",
       "      <th>297</th>\n",
       "      <td>Q9ZSA4</td>\n",
       "      <td>28</td>\n",
       "      <td>290</td>\n",
       "      <td>kd282</td>\n",
       "    </tr>\n",
       "    <tr>\n",
       "      <th>298</th>\n",
       "      <td>Q9ZUZ2</td>\n",
       "      <td>143</td>\n",
       "      <td>405</td>\n",
       "      <td>kd283</td>\n",
       "    </tr>\n",
       "    <tr>\n",
       "      <th>299</th>\n",
       "      <td>Q9ZV15</td>\n",
       "      <td>134</td>\n",
       "      <td>392</td>\n",
       "      <td>kd284</td>\n",
       "    </tr>\n",
       "    <tr>\n",
       "      <th>300</th>\n",
       "      <td>W0LYS5</td>\n",
       "      <td>31</td>\n",
       "      <td>287</td>\n",
       "      <td>kd285</td>\n",
       "    </tr>\n",
       "    <tr>\n",
       "      <th>301</th>\n",
       "      <td>W7JX98</td>\n",
       "      <td>541</td>\n",
       "      <td>798</td>\n",
       "      <td>kd286</td>\n",
       "    </tr>\n",
       "  </tbody>\n",
       "</table>\n",
       "<p>286 rows × 4 columns</p>\n",
       "</div>"
      ],
      "text/plain": [
       "    uniprot_acc  start  end term_id\n",
       "0    A0A2I0BVG8     56  325     kd1\n",
       "1    A0A509AFG4    110  365     kd2\n",
       "2    A0A509AHB6     57  324     kd3\n",
       "3    A0A509AKL0    545  802     kd4\n",
       "4    A0A509AQE6    118  372     kd5\n",
       "..          ...    ...  ...     ...\n",
       "297      Q9ZSA4     28  290   kd282\n",
       "298      Q9ZUZ2    143  405   kd283\n",
       "299      Q9ZV15    134  392   kd284\n",
       "300      W0LYS5     31  287   kd285\n",
       "301      W7JX98    541  798   kd286\n",
       "\n",
       "[286 rows x 4 columns]"
      ]
     },
     "execution_count": 4,
     "metadata": {},
     "output_type": "execute_result"
    }
   ],
   "source": [
    "kd"
   ]
  },
  {
   "cell_type": "code",
   "execution_count": 5,
   "metadata": {},
   "outputs": [],
   "source": [
    "cre = kinases[['uniprot_acc', 'cre_start', 'cre_end']].drop_duplicates().rename(\n",
    "    columns= {\n",
    "        'cre_start': 'start',\n",
    "        'cre_end': 'end'\n",
    "    }\n",
    ")\n",
    "ids = [ \"cre\" + str(i) for i in range(1, len(cre)+1) ]\n",
    "cre['term_id'] = ids"
   ]
  },
  {
   "cell_type": "code",
   "execution_count": 64,
   "metadata": {},
   "outputs": [],
   "source": [
    "#cre.to_csv('../datasets/cre.tsv', sep= '\\t', index= False)"
   ]
  },
  {
   "cell_type": "code",
   "execution_count": 6,
   "metadata": {},
   "outputs": [],
   "source": [
    "regions = pd.concat([kd, cre], ignore_index= True)"
   ]
  },
  {
   "cell_type": "code",
   "execution_count": 7,
   "metadata": {},
   "outputs": [],
   "source": [
    "#regions.to_csv('../datasets/regions.txt', sep= '\\t', index= False)"
   ]
  }
 ],
 "metadata": {
  "kernelspec": {
   "display_name": "Python 3.7.9 64-bit",
   "language": "python",
   "name": "python3"
  },
  "language_info": {
   "codemirror_mode": {
    "name": "ipython",
    "version": 3
   },
   "file_extension": ".py",
   "mimetype": "text/x-python",
   "name": "python",
   "nbconvert_exporter": "python",
   "pygments_lexer": "ipython3",
   "version": "3.7.9"
  },
  "orig_nbformat": 4,
  "vscode": {
   "interpreter": {
    "hash": "82d4c6f819cf47785f735f902f00da8643513d08dab4f4c7470bccf934b8d2d6"
   }
  }
 },
 "nbformat": 4,
 "nbformat_minor": 2
}
