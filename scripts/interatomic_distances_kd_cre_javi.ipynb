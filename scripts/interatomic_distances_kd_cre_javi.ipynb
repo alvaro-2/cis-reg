{
 "cells": [
  {
   "cell_type": "code",
   "execution_count": 1,
   "metadata": {},
   "outputs": [],
   "source": [
    "%load_ext autoreload\n",
    "%autoreload 2"
   ]
  },
  {
   "cell_type": "code",
   "execution_count": 2,
   "metadata": {},
   "outputs": [
    {
     "data": {
      "text/plain": [
       "'alv'"
      ]
     },
     "execution_count": 2,
     "metadata": {},
     "output_type": "execute_result"
    }
   ],
   "source": [
    "from distances import hello\n",
    "\n",
    "hello()"
   ]
  },
  {
   "cell_type": "code",
   "execution_count": 4,
   "metadata": {},
   "outputs": [],
   "source": [
    "import pandas as pd\n",
    "import numpy as np"
   ]
  },
  {
   "cell_type": "code",
   "execution_count": 5,
   "metadata": {},
   "outputs": [],
   "source": [
    "# Datasets\n",
    "msa_regions_pdbs = pd.read_csv('../datasets/msa_regions_pdbs.tsv', sep= '\\t')\n",
    "mapping_coordinates_uniprot_pdb = pd.read_csv('../datasets/mapping_coordinates_uniprot_pdb.tsv', sep = '\\t')"
   ]
  },
  {
   "cell_type": "code",
   "execution_count": 6,
   "metadata": {},
   "outputs": [],
   "source": [
    "# Tomar todas las distancias de los atomos pesados, no filtrar por threshold\n",
    "def distances_all_atoms(path, output, pdb_coord): # threshold = 6\n",
    "  '''\n",
    "  Given a pdb file, calculates the interatomic distances among heavy atoms\n",
    "  Returns: a data frame with interatomic distances\n",
    "  path: path containing PDB files\n",
    "  output: output path\n",
    "  pdb_coord: pandas DataFrame containing regions in PDB coordinates\n",
    "  '''\n",
    "  import os\n",
    "  import distances\n",
    "  from distances import all_atoms_selector\n",
    "  from Bio.PDB.PDBParser import PDBParser\n",
    "  import warnings\n",
    "\n",
    "  warnings.simplefilter(\"ignore\")\n",
    "\n",
    "  for pdb_id in pdb_coord.pdb.unique():\n",
    "    f = os.path.join(path, f\"{pdb_id}.pdb\") # is the complete path to the pdb file\n",
    "    if os.path.isfile(f):\n",
    "      try:\n",
    "        if pdb_id in pdb_coord.pdb.unique().tolist():\n",
    "          output_file = output + pdb_id + \".csv\"\n",
    "          # iterate over each chain in the dataframe\n",
    "          chains_kd_cre = {}\n",
    "          chains = pdb_coord[pdb_coord.pdb == pdb_id].chain.drop_duplicates()\n",
    "          for chain in chains:\n",
    "            df_chains = pdb_coord[(pdb_coord.pdb == pdb_id) & (pdb_coord.chain == chain)]\n",
    "            pdb_positions = set(eval(df_chains.mapping.values[0]).values()) # tomar el primero, ya que ese pdb puede estar en distintos MSAs\n",
    "            kd = set()\n",
    "            cre = set()\n",
    "            kd_start = df_chains.pdb_start_kd.values[0]\n",
    "            kd_end = df_chains.pdb_end_kd.values[0]\n",
    "            cre_start = df_chains.pdb_start_cre.values[0]\n",
    "            cre_end = df_chains.pdb_end_cre.values[0]\n",
    "            if not kd_start < kd_end or not cre_start < cre_end:\n",
    "              print(\n",
    "                f\"PDB: {pdb_id} has wrong kd or cre definitions. \"\n",
    "                f\"Kd: [{kd_start, kd_end}, Cre: {cre_start, cre_end}]\"\n",
    "              )\n",
    "              continue\n",
    "            kd_range = set(range(kd_start, kd_end+1))\n",
    "            cre_range = set(range(cre_start, cre_end+1))\n",
    "            kd = pdb_positions.intersection(kd_range) ### toamr del mapeo\n",
    "            cre = pdb_positions.intersection(cre_range)\n",
    "            chains_kd_cre[chain] = {\"kd\": sorted(list(kd)), \"cre\": sorted(list(cre))}\n",
    "          # check if output already exists\n",
    "          os.makedirs(os.path.dirname(output_file), exist_ok = True)\n",
    "          if not chains_kd_cre:\n",
    "            continue\n",
    "          if not os.path.exists(output_file):\n",
    "            # print(\"inside path_output\")\n",
    "            # calculate distance\n",
    "            # param pdb_source: a path to a pdb file, a Bio.PDB.Structure or a Bio.PDB.Model\n",
    "            dist = distances.calculate_distances(\n",
    "              pdb_source= f, # cambiar por archivo q no contenga los hetatoms\n",
    "              chains_kd_cre= chains_kd_cre,\n",
    "              atom_selector= all_atoms_selector,\n",
    "              include_extra_info= True\n",
    "            )\n",
    "            print(f\"distances for {pdb_id} calculated\")\n",
    "            # df with distances filtered by threshold\n",
    "            df = pd.DataFrame(\n",
    "              dist,\n",
    "              columns = [\n",
    "                'chain_a', 'pos_a', 'aa_a', 'atom_a',\n",
    "                'chain_b', 'pos_b', 'aa_b', 'atom_b',\n",
    "                'dist'\n",
    "              ]\n",
    "            )\n",
    "            df = df[(df.pos_a > 0) & (df.pos_b > 0)]\n",
    "            df[\"pdb\"] = pdb_id\n",
    "            print(f\"writing distances as {pdb_id}.csv\")\n",
    "            df.to_csv(output_file, index= False)\n",
    "      except BaseException as e:\n",
    "        print(str(e))"
   ]
  },
  {
   "cell_type": "code",
   "execution_count": 11,
   "metadata": {},
   "outputs": [
    {
     "name": "stdout",
     "output_type": "stream",
     "text": [
      "PDB: 5upk:A KD domain not in pdb. Should be ignored.\n",
      "PDB: 5upk:B CRE not in pdb. Should be ignored.\n",
      "PDB: 4l67:A CRE not in pdb. Should be ignored.\n",
      "PDB: 4fii:A CRE not in pdb. Should be ignored.\n",
      "PDB: 4fii:B KD domain not in pdb. Should be ignored.\n",
      "PDB: 4fif:A CRE not in pdb. Should be ignored.\n",
      "PDB: 4fif:C KD domain not in pdb. Should be ignored.\n",
      "PDB: 2hz0:A CRE not in pdb. Should be ignored.\n",
      "PDB: 6npe:B CRE not in pdb. Should be ignored.\n",
      "PDB: 6npu:B CRE not in pdb. Should be ignored.\n",
      "PDB: 7cc2:A CRE not in pdb. Should be ignored.\n",
      "PDB: 3cs9:A CRE not in pdb. Should be ignored.\n",
      "PDB: 2g2h:A CRE not in pdb. Should be ignored.\n",
      "PDB: 6bl8:A CRE not in pdb. Should be ignored.\n",
      "PDB: 2v7a:A CRE not in pdb. Should be ignored.\n",
      "PDB: 4twp:A CRE not in pdb. Should be ignored.\n",
      "PDB: 4zog:A CRE not in pdb. Should be ignored.\n",
      "PDB: 3ue4:A CRE not in pdb. Should be ignored.\n",
      "PDB: 4yc8:A CRE not in pdb. Should be ignored.\n",
      "PDB: 2hz4:A CRE not in pdb. Should be ignored.\n",
      "PDB: 2hzi:A CRE not in pdb. Should be ignored.\n",
      "PDB: 7dt2:A CRE not in pdb. Should be ignored.\n",
      "PDB: 7n9g:A CRE not in pdb. Should be ignored.\n",
      "PDB: 2hyy:A CRE not in pdb. Should be ignored.\n",
      "PDB: 3qrj:A CRE not in pdb. Should be ignored.\n",
      "PDB: 3vut:A CRE not in pdb. Should be ignored.\n",
      "PDB: 1ig1:A CRE not in pdb. Should be ignored.\n",
      "PDB: 1ig1:A CRE not in pdb. Should be ignored.\n",
      "PDB: 1jkl:A CRE not in pdb. Should be ignored.\n",
      "PDB: 1jkl:A CRE not in pdb. Should be ignored.\n",
      "PDB: 1jks:A CRE not in pdb. Should be ignored.\n",
      "PDB: 1jks:A CRE not in pdb. Should be ignored.\n",
      "PDB: 1p4f:A CRE not in pdb. Should be ignored.\n",
      "PDB: 1p4f:A CRE not in pdb. Should be ignored.\n",
      "PDB: 4qfg:A CRE not in pdb. Should be ignored.\n",
      "PDB: 4qfg:A CRE not in pdb. Should be ignored.\n",
      "PDB: 4qfr:A CRE not in pdb. Should be ignored.\n",
      "PDB: 4qfr:A CRE not in pdb. Should be ignored.\n",
      "PDB: 4qfs:A CRE not in pdb. Should be ignored.\n",
      "PDB: 4qfs:A CRE not in pdb. Should be ignored.\n",
      "PDB: 5t5t:A CRE not in pdb. Should be ignored.\n",
      "PDB: 5t5t:A CRE not in pdb. Should be ignored.\n",
      "PDB: 6e4t:A CRE not in pdb. Should be ignored.\n",
      "PDB: 6e4t:A CRE not in pdb. Should be ignored.\n",
      "PDB: 6e4u:A CRE not in pdb. Should be ignored.\n",
      "PDB: 6e4u:A CRE not in pdb. Should be ignored.\n",
      "PDB: 6e4w:A CRE not in pdb. Should be ignored.\n",
      "PDB: 6e4w:A CRE not in pdb. Should be ignored.\n",
      "PDB: 4cfh:C CRE not in pdb. Should be ignored.\n",
      "PDB: 4cfh:C KD domain not in pdb. Should be ignored.\n",
      "PDB: 4cfh:C CRE not in pdb. Should be ignored.\n",
      "PDB: 4cfh:C KD domain not in pdb. Should be ignored.\n",
      "PDB: 5kq5:A CRE not in pdb. Should be ignored.\n",
      "PDB: 5kq5:A CRE not in pdb. Should be ignored.\n",
      "PDB: 5ufu:A CRE not in pdb. Should be ignored.\n",
      "PDB: 5ufu:A CRE not in pdb. Should be ignored.\n",
      "PDB: 7jhg:A CRE not in pdb. Should be ignored.\n",
      "PDB: 7jhg:A CRE not in pdb. Should be ignored.\n",
      "PDB: 7jhh:A CRE not in pdb. Should be ignored.\n",
      "PDB: 7jhh:A CRE not in pdb. Should be ignored.\n",
      "PDB: 7m74:A CRE not in pdb. Should be ignored.\n",
      "PDB: 7m74:A CRE not in pdb. Should be ignored.\n",
      "PDB: 6c9f:A CRE not in pdb. Should be ignored.\n",
      "PDB: 6c9f:A CRE not in pdb. Should be ignored.\n",
      "PDB: 2j0m:A KD domain not in pdb. Should be ignored.\n",
      "PDB: 2j0m:B CRE not in pdb. Should be ignored.\n",
      "PDB: 1f3m:A KD domain not in pdb. Should be ignored.\n",
      "PDB: 1f3m:B KD domain not in pdb. Should be ignored.\n",
      "PDB: 1f3m:C CRE not in pdb. Should be ignored.\n",
      "PDB: 1f3m:D CRE not in pdb. Should be ignored.\n",
      "PDB: 1f3m:A KD domain not in pdb. Should be ignored.\n",
      "PDB: 1f3m:B KD domain not in pdb. Should be ignored.\n",
      "PDB: 1f3m:C CRE not in pdb. Should be ignored.\n",
      "PDB: 1f3m:D CRE not in pdb. Should be ignored.\n"
     ]
    }
   ],
   "source": [
    "# Generate a dataframe with the positions of CRE and KD in PDB\n",
    "mapping_df = mapping_coordinates_uniprot_pdb[['uniprot', 'pdb', 'chain', 'mapping']]\n",
    "regions_df = msa_regions_pdbs[['msa', 'uniprot', 'pdb','term_id_cre', 'start_cre', 'end_cre', 'term_id_kd', 'start_kd', 'end_kd']]\n",
    "\n",
    "# Merge both tables based on uniprot-pdb\n",
    "merged_df = regions_df.merge(mapping_df, on=[\"uniprot\", \"pdb\"])\n",
    "# Create columns for coordinates in pdb\n",
    "merged_df[\"pdb_start_cre\"] = 0\n",
    "merged_df[\"pdb_end_cre\"] = 0\n",
    "merged_df[\"pdb_start_kd\"] = 0\n",
    "merged_df[\"pdb_end_kd\"] = 0\n",
    "\n",
    "pdbs_with_domains_not_ib_pdb = set()\n",
    "for index, row in merged_df.iterrows():\n",
    "    # if row[\"pdb\"] != \"5upk\":\n",
    "    #     continue\n",
    "    start_cre = row[\"start_cre\"]\n",
    "    end_cre = row[\"end_cre\"]\n",
    "    start_kd = row[\"start_kd\"]\n",
    "    end_kd = row[\"end_kd\"]\n",
    "    # eval() function is used to convert the string representation into a dictionary object, which is stored in the mapping variable.\n",
    "    mapping = eval(row[\"mapping\"])\n",
    "    min_mapping = min(mapping.keys())\n",
    "    max_mapping = max(mapping.keys())\n",
    "\n",
    "    # get the coordinates in pdb using the mapping\n",
    "    # start look forward if NaN a new start, ends look backwards for a new end if NaN\n",
    "    while start_cre <= max_mapping:\n",
    "        pdb_start_cre = mapping.get(start_cre, np.nan)\n",
    "        if np.isnan(pdb_start_cre) and start_cre < end_cre:\n",
    "            start_cre += 1\n",
    "        else:\n",
    "            break\n",
    "\n",
    "    while end_cre >= min_mapping:\n",
    "        pdb_end_cre = mapping.get(end_cre, np.nan)\n",
    "        if np.isnan(pdb_end_cre) and start_cre < end_cre:\n",
    "            end_cre -= 1\n",
    "        else:\n",
    "            break\n",
    "\n",
    "    if start_cre == end_cre:\n",
    "        print(f\"PDB: {row['pdb']}:{row['chain']} CRE not in pdb. Should be ignored.\")\n",
    "        pdbs_with_domains_not_ib_pdb.add(row[\"pdb\"])\n",
    "\n",
    "    while start_kd <= max_mapping:\n",
    "        pdb_start_kd = mapping.get(start_kd, np.nan)\n",
    "        if np.isnan(pdb_start_kd) and start_kd < end_kd:\n",
    "            start_kd += 1\n",
    "        else:\n",
    "            break\n",
    "\n",
    "    while end_kd >= min_mapping:\n",
    "        pdb_end_kd = mapping.get(end_kd, np.nan)\n",
    "        if np.isnan(pdb_end_kd) and start_kd < end_kd:\n",
    "            end_kd -= 1\n",
    "        else:\n",
    "            break\n",
    "\n",
    "    if start_kd == end_kd:\n",
    "        print(f\"PDB: {row['pdb']}:{row['chain']} KD domain not in pdb. Should be ignored.\")\n",
    "        pdbs_with_domains_not_ib_pdb.add(row[\"pdb\"])\n",
    "\n",
    "    # # Add a check to make sure that pdb_start_* is less than or equal to pdb_end_*\n",
    "    # if pdb_start_cre > pdb_end_cre:\n",
    "    #     pdb_start_cre, pdb_end_cre = pdb_end_cre, pdb_start_cre\n",
    "    # if pdb_start_kd > pdb_end_kd:\n",
    "    #     pdb_start_kd, pdb_end_kd = pdb_end_kd, pdb_start_kd\n",
    "\n",
    "    # the coordinates in pdb are written back to their respective columns\n",
    "    merged_df.at[index, \"pdb_start_cre\"] = pdb_start_cre\n",
    "    merged_df.at[index, \"pdb_end_cre\"] = pdb_end_cre\n",
    "    merged_df.at[index, \"pdb_start_kd\"] = pdb_start_kd\n",
    "    merged_df.at[index, \"pdb_end_kd\"] = pdb_end_kd"
   ]
  },
  {
   "cell_type": "code",
   "execution_count": 8,
   "metadata": {},
   "outputs": [
    {
     "name": "stdout",
     "output_type": "stream",
     "text": [
      "['2v7a', '4qfs', '4twp', '7jhg', '4cfh', '1jks', '7m74', '4qfr', '3vut', '5ufu', '3qrj', '4qfg', '7n9g', '7jhh', '5kq5', '2hz0', '3cs9', '1p4f', '5upk', '2hz4', '4fii', '2g2h', '6npe', '6bl8', '4fif', '1jkl', '3ue4', '5t5t', '2hzi', '7dt2', '6e4t', '6npu', '4zog', '4yc8', '1f3m', '2j0m', '4l67', '6e4w', '1ig1', '6c9f', '6e4u', '2hyy', '7cc2']\n"
     ]
    }
   ],
   "source": [
    "print(list(pdbs_with_domains_not_ib_pdb))"
   ]
  },
  {
   "attachments": {},
   "cell_type": "markdown",
   "metadata": {},
   "source": [
    "---"
   ]
  },
  {
   "attachments": {},
   "cell_type": "markdown",
   "metadata": {},
   "source": [
    "### Cálculo de distancias"
   ]
  },
  {
   "cell_type": "code",
   "execution_count": 21,
   "metadata": {},
   "outputs": [],
   "source": [
    "to_calculate =  merged_df.dropna().copy()"
   ]
  },
  {
   "cell_type": "code",
   "execution_count": 22,
   "metadata": {},
   "outputs": [
    {
     "name": "stdout",
     "output_type": "stream",
     "text": [
      "There are 801 PDB structures, corresponding to 48 proteins in 56 MSAs\n"
     ]
    }
   ],
   "source": [
    "print(\n",
    "  f\"There are {to_calculate.pdb.nunique()} PDB structures, \"\n",
    "  f\"corresponding to {to_calculate.uniprot.nunique()} proteins \"\n",
    "  f\"in {to_calculate.msa.nunique()} MSAs\"\n",
    ")"
   ]
  },
  {
   "cell_type": "code",
   "execution_count": 23,
   "metadata": {},
   "outputs": [],
   "source": [
    "to_calculate.pdb_start_cre = to_calculate.pdb_start_cre.apply(int)\n",
    "to_calculate.pdb_end_cre = to_calculate.pdb_end_cre.apply(int)\n",
    "to_calculate.pdb_start_kd = to_calculate.pdb_start_kd.apply(int)\n",
    "to_calculate.pdb_end_kd = to_calculate.pdb_end_kd.apply(int)"
   ]
  },
  {
   "cell_type": "code",
   "execution_count": 24,
   "metadata": {},
   "outputs": [],
   "source": [
    "wrong_calculated_pdbs = [\n",
    "  \"3d42\", \"2oza\", \"4red\", \"4o2p\", \"3w2p\", \"6bab\", \"4r3r\", \"3gt8\", \"3gop\",\n",
    "  \"3e88\", \"6e4t\", \"2jdr\", \"2hwp\", \"7jxp\", \"4riw\", \"7opm\", \"6nyb\", \"7m74\",\n",
    "  \"3r2b\", \"4rew\", \"4fif\", \"6c9f\", \"7m0x\", \"5hib\", \"7mfd\", \"3eqd\", \"4rer\",\n",
    "  \"3u51\", \"3cqw\", \"2uw9\", \"4tyh\", \"4qfs\", \"5edp\", \"6npz\", \"5upk\", \"4ekk\",\n",
    "  \"1jkl\", \"5uwd\", \"6z4d\", \"4zhx\", \"4ump\", \"7m0v\", \"5jeb\", \"6paw\", \"2jam\",\n",
    "  \"3tei\", \"3eqb\", \"3ocb\", \"3wzd\", \"2jdo\", \"5v62\", \"6e4u\", \"2rfe\", \"2gs6\",\n",
    "  \"2x0g\", \"7tvd\", \"4riy\", \"4cfh\", \"7m0w\", \"4rix\", \"2jbp\", \"7oxb\", \"5bvd\",\n",
    "  \"7jhh\", \"5bmm\", \"5ufu\", \"3cqu\", \"3e87\", \"7jij\", \"3alo\", \"6tca\", \"6c9h\",\n",
    "  \"4asd\", \"6ao5\", \"3d7u\", \"4fii\", \"4ixp\", \"3ow4\", \"4l67\", \"4iza\", \"1jks\",\n",
    "  \"3g5d\", \"5czi\", \"2g1t\", \"7m0u\", \"5v61\", \"4h3p\", \"6c9g\", \"3qkl\", \"4anb\",\n",
    "  \"1y6b\", \"1kwp\", \"2hz4\", \"5fed\", \"2g2f\", \"4cfe\", \"4g5p\", \"6q0j\", \"5nhp\",\n",
    "  \"4fmq\", \"3qkk\", \"6mob\", \"3lcd\", \"5iso\", \"6z4b\", \"6v5p\", \"4fgb\", \"6gjb\",\n",
    "  \"4mne\", \"5kq5\", \"4h3q\", \"6p1d\", \"7jhg\", \"1rjb\", \"3mv5\", \"6g9d\", \"6b1u\",\n",
    "  \"4iz5\", \"6v2w\", \"6b2e\", \"2wel\", \"2rgp\", \"5czh\", \"4qfr\", \"3u4w\", \"2rf9\",\n",
    "  \"4agd\", \"4qfg\", \"3e8d\", \"5t0p\", \"2x39\", \"3mvh\", \"7m0y\", \"6u2g\", \"5t5t\",\n",
    "  \"6q0t\", \"3lzb\", \"6buu\", \"5gmp\", \"6xvb\", \"7nrb\", \"4r3p\", \"6c9j\", \"4zjv\",\n",
    "  \"1ig1\", \"7myj\", \"6e4w\", \"2xh5\", \"5ugb\", \"5ezv\", \"3cpb\", \"2e2b\", \"1p4f\",\n",
    "  \"2itp\", \"4lgd\", \"4cff\", \"3vid\", \"6vhp\", \"4twp\", \"7m0t\", \"3d44\", \"4d2p\",\n",
    "  \"3d7t\", \"2g2i\", \"6s9d\", \"7apj\", \"4i21\", \"7m0z\", \"5ax3\", \"6fhb\", \"6gqp\",\n",
    "  \"2onl\", \"2yab\", \"1o6l\", \"2rfd\", \"6lud\", \"6lub\", \"2y9q\", \"5cap\", \"6slg\",\n",
    "  \"1o6k\", \"6gjd\", \"6pp9\", \"6s9b\"\n",
    "]"
   ]
  },
  {
   "cell_type": "code",
   "execution_count": 26,
   "metadata": {},
   "outputs": [],
   "source": [
    "good_case = (\n",
    "  to_calculate\n",
    "    .loc[~to_calculate.pdb.isin(wrong_calculated_pdbs), :]\n",
    "    .iloc[[0], :]\n",
    ")\n"
   ]
  },
  {
   "cell_type": "code",
   "execution_count": 27,
   "metadata": {},
   "outputs": [],
   "source": [
    "domains_outside_pdbs = [\n",
    "  '7dt2', '2v7a', '4twp', '1jks', '5ufu', '2j0m', '6c9f', '2hz0', '6e4t',\n",
    "  '4fif', '2hzi', '3ue4', '7jhg', '4zog', '7n9g', '6e4w', '4yc8', '7cc2',\n",
    "  '4qfs', '2hz4', '1ig1', '5t5t', '4cfh', '5kq5', '2g2h', '2hyy', '5upk',\n",
    "  '7m74', '4l67', '1jkl', '4qfg', '6e4u', '7jhh', '6npu', '4fii', '1f3m',\n",
    "  '4qfr', '1p4f', '3qrj', '6bl8', '3cs9', '6npe', '3vut'\n",
    "]"
   ]
  },
  {
   "cell_type": "code",
   "execution_count": 28,
   "metadata": {},
   "outputs": [],
   "source": [
    "wrong_calculated_pdbs = list(\n",
    "  set(wrong_calculated_pdbs).difference(domains_outside_pdbs)\n",
    ")"
   ]
  },
  {
   "cell_type": "code",
   "execution_count": 29,
   "metadata": {},
   "outputs": [],
   "source": [
    "bad_case = (\n",
    "  to_calculate\n",
    "    .loc[to_calculate.pdb.isin(wrong_calculated_pdbs), :]\n",
    "    .iloc[[0], :]\n",
    ")\n",
    "\n",
    "bad_cases = (\n",
    "  to_calculate\n",
    "    .loc[to_calculate.pdb.isin(wrong_calculated_pdbs), :]\n",
    ")"
   ]
  },
  {
   "cell_type": "code",
   "execution_count": 30,
   "metadata": {},
   "outputs": [
    {
     "name": "stdout",
     "output_type": "stream",
     "text": [
      "distances for 3eqb calculated\n",
      "writing distances as 3eqb.csv\n",
      "distances for 4mne calculated\n",
      "writing distances as 4mne.csv\n",
      "distances for 4lgd calculated\n",
      "writing distances as 4lgd.csv\n",
      "distances for 6ao5 calculated\n",
      "writing distances as 6ao5.csv\n",
      "distances for 2wel calculated\n",
      "writing distances as 2wel.csv\n",
      "distances for 6bab calculated\n",
      "writing distances as 6bab.csv\n",
      "distances for 4fgb calculated\n",
      "writing distances as 4fgb.csv\n",
      "distances for 4d2p calculated\n",
      "writing distances as 4d2p.csv\n",
      "distances for 4ump calculated\n",
      "writing distances as 4ump.csv\n",
      "distances for 4ixp calculated\n",
      "writing distances as 4ixp.csv\n",
      "distances for 7nrb calculated\n",
      "writing distances as 7nrb.csv\n",
      "distances for 2yab calculated\n",
      "writing distances as 2yab.csv\n",
      "distances for 6paw calculated\n",
      "writing distances as 6paw.csv\n",
      "distances for 2jam calculated\n",
      "writing distances as 2jam.csv\n"
     ]
    }
   ],
   "source": [
    "distances_all_atoms(\n",
    "  path= '../datasets/pdb_files/',\n",
    "  output= '../datasets/interatomic_distances_both_regions_kd_cre/',\n",
    "  pdb_coord = bad_cases\n",
    ")"
   ]
  },
  {
   "cell_type": "code",
   "execution_count": 14,
   "metadata": {},
   "outputs": [
    {
     "data": {
      "text/plain": [
       "P00533_60    215\n",
       "P28482_60    123\n",
       "P00523_60     70\n",
       "Q02750_60     60\n",
       "P35968_60     42\n",
       "P00519_60     39\n",
       "Q14680_60     31\n",
       "P31749_60     28\n",
       "P49137_60     26\n",
       "P49138_60     26\n",
       "Q13131_60     22\n",
       "P54645_60     22\n",
       "P10721_60     22\n",
       "P07333_60     19\n",
       "P31751_60     16\n",
       "Q80YE7_60     15\n",
       "P53355_60     15\n",
       "Q8VDF3_60      9\n",
       "Q09137_60      8\n",
       "Q8BRK8_60      8\n",
       "P54646_60      8\n",
       "O75582_60      7\n",
       "A5K0N4_60      7\n",
       "Q8I719_60      7\n",
       "P36888_60      6\n",
       "Q9UIK4_60      6\n",
       "O96013_60      5\n",
       "P43403_60      5\n",
       "Q8IU85_60      5\n",
       "Q00944_60      5\n",
       "Q8BW96_60      5\n",
       "Q91YS8_60      5\n",
       "Q13188_60      5\n",
       "Q16644_60      5\n",
       "P51812_60      5\n",
       "Q13557_60      5\n",
       "Q14012_60      4\n",
       "P45985_60      3\n",
       "Q13043_60      3\n",
       "Q15418_60      3\n",
       "Q01974_60      2\n",
       "Q8IBS5_60      2\n",
       "Q61846_60      2\n",
       "Q6PHZ2_60      1\n",
       "Q16566_60      1\n",
       "Q91VB2_60      1\n",
       "Q08E52_60      1\n",
       "Q13153_60      1\n",
       "Q13976_60      1\n",
       "Q13555_60      1\n",
       "P29323_60      1\n",
       "O74536_60      1\n",
       "P04049_60      1\n",
       "Q96NX5_60      1\n",
       "Q13554_60      1\n",
       "Q63450_60      1\n",
       "P36507_60      1\n",
       "O77676_60      1\n",
       "Name: msa, dtype: int64"
      ]
     },
     "execution_count": 14,
     "metadata": {},
     "output_type": "execute_result"
    }
   ],
   "source": [
    "msa_regions_pdbs.msa.value_counts()"
   ]
  }
 ],
 "metadata": {
  "kernelspec": {
   "display_name": "Python 3",
   "language": "python",
   "name": "python3"
  },
  "language_info": {
   "codemirror_mode": {
    "name": "ipython",
    "version": 3
   },
   "file_extension": ".py",
   "mimetype": "text/x-python",
   "name": "python",
   "nbconvert_exporter": "python",
   "pygments_lexer": "ipython3",
   "version": "3.11.0"
  },
  "orig_nbformat": 4,
  "vscode": {
   "interpreter": {
    "hash": "82d4c6f819cf47785f735f902f00da8643513d08dab4f4c7470bccf934b8d2d6"
   }
  }
 },
 "nbformat": 4,
 "nbformat_minor": 2
}
