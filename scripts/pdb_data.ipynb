{
 "cells": [
  {
   "cell_type": "code",
   "execution_count": 1,
   "metadata": {},
   "outputs": [],
   "source": [
    "import pandas as pd\n",
    "import pyranges as pr\n",
    "import matplotlib.pyplot as plt"
   ]
  },
  {
   "cell_type": "markdown",
   "metadata": {},
   "source": [
    "# Load data"
   ]
  },
  {
   "cell_type": "markdown",
   "metadata": {},
   "source": [
    "## Cis proteins"
   ]
  },
  {
   "cell_type": "code",
   "execution_count": 2,
   "metadata": {},
   "outputs": [],
   "source": [
    "# Remember: this dataset has disordered (d) and structured (s) CREs\n",
    "cre_dataset = pd.read_csv('../datasets/cre_dataset.csv')"
   ]
  },
  {
   "cell_type": "markdown",
   "metadata": {},
   "source": [
    "## SIFT data\n",
    "The Structure Integration with Function, Taxonomy and Sequences resource (SIFTS; http://pdbe.org/sifts) is a close collaboration between the Protein Data Bank in Europe (PDBe) and UniProt. The two teams have developed a semi-automated process for maintaining up-to-date cross-reference information to UniProt entries, for all protein chains in the PDB entries present in the UniProt database."
   ]
  },
  {
   "cell_type": "code",
   "execution_count": 3,
   "metadata": {},
   "outputs": [],
   "source": [
    "# Mapping Uniport_acc and its PDBs\n",
    "# UniProt to PDB mappings showing the UniProt accession followed by a semicolon-separated list of PDB four letter codes (https://www.ebi.ac.uk/pdbe/docs/sifts/quick.html)\n",
    "uniprot_pdb = pd.read_csv('../raw_data/uniprot_pdb.tsv.gz', sep= '\\t', compression= 'gzip', skiprows=1)\n",
    "# PDBs chains\n",
    "pdb_chain_uniprot = pd.read_csv('../raw_data/pdb_chain_uniprot.tsv.gz', sep= '\\t', compression= 'gzip', skiprows=1)"
   ]
  },
  {
   "cell_type": "code",
   "execution_count": 4,
   "metadata": {},
   "outputs": [
    {
     "data": {
      "text/html": [
       "<div>\n",
       "<style scoped>\n",
       "    .dataframe tbody tr th:only-of-type {\n",
       "        vertical-align: middle;\n",
       "    }\n",
       "\n",
       "    .dataframe tbody tr th {\n",
       "        vertical-align: top;\n",
       "    }\n",
       "\n",
       "    .dataframe thead th {\n",
       "        text-align: right;\n",
       "    }\n",
       "</style>\n",
       "<table border=\"1\" class=\"dataframe\">\n",
       "  <thead>\n",
       "    <tr style=\"text-align: right;\">\n",
       "      <th></th>\n",
       "      <th>pdb</th>\n",
       "      <th>chain</th>\n",
       "      <th>sp_primary</th>\n",
       "      <th>res_beg</th>\n",
       "      <th>res_end</th>\n",
       "      <th>pdb_beg</th>\n",
       "      <th>pdb_end</th>\n",
       "      <th>sp_beg</th>\n",
       "      <th>sp_end</th>\n",
       "    </tr>\n",
       "  </thead>\n",
       "  <tbody>\n",
       "    <tr>\n",
       "      <th>0</th>\n",
       "      <td>1wfc</td>\n",
       "      <td>A</td>\n",
       "      <td>Q16539</td>\n",
       "      <td>11</td>\n",
       "      <td>19</td>\n",
       "      <td>5</td>\n",
       "      <td>13</td>\n",
       "      <td>5</td>\n",
       "      <td>13</td>\n",
       "    </tr>\n",
       "    <tr>\n",
       "      <th>1</th>\n",
       "      <td>1wfc</td>\n",
       "      <td>A</td>\n",
       "      <td>Q16539</td>\n",
       "      <td>22</td>\n",
       "      <td>175</td>\n",
       "      <td>16</td>\n",
       "      <td>169</td>\n",
       "      <td>16</td>\n",
       "      <td>169</td>\n",
       "    </tr>\n",
       "    <tr>\n",
       "      <th>2</th>\n",
       "      <td>1wfc</td>\n",
       "      <td>A</td>\n",
       "      <td>Q16539</td>\n",
       "      <td>181</td>\n",
       "      <td>357</td>\n",
       "      <td>175</td>\n",
       "      <td>351</td>\n",
       "      <td>175</td>\n",
       "      <td>351</td>\n",
       "    </tr>\n",
       "    <tr>\n",
       "      <th>3</th>\n",
       "      <td>6aek</td>\n",
       "      <td>A</td>\n",
       "      <td>P06802</td>\n",
       "      <td>3</td>\n",
       "      <td>453</td>\n",
       "      <td>170</td>\n",
       "      <td>620</td>\n",
       "      <td>170</td>\n",
       "      <td>620</td>\n",
       "    </tr>\n",
       "    <tr>\n",
       "      <th>4</th>\n",
       "      <td>6aek</td>\n",
       "      <td>A</td>\n",
       "      <td>P06802</td>\n",
       "      <td>462</td>\n",
       "      <td>462</td>\n",
       "      <td>629</td>\n",
       "      <td>629</td>\n",
       "      <td>629</td>\n",
       "      <td>629</td>\n",
       "    </tr>\n",
       "    <tr>\n",
       "      <th>...</th>\n",
       "      <td>...</td>\n",
       "      <td>...</td>\n",
       "      <td>...</td>\n",
       "      <td>...</td>\n",
       "      <td>...</td>\n",
       "      <td>...</td>\n",
       "      <td>...</td>\n",
       "      <td>...</td>\n",
       "      <td>...</td>\n",
       "    </tr>\n",
       "    <tr>\n",
       "      <th>960081</th>\n",
       "      <td>7liw</td>\n",
       "      <td>B</td>\n",
       "      <td>P53396</td>\n",
       "      <td>2</td>\n",
       "      <td>139</td>\n",
       "      <td>2</td>\n",
       "      <td>139</td>\n",
       "      <td>2</td>\n",
       "      <td>139</td>\n",
       "    </tr>\n",
       "    <tr>\n",
       "      <th>960082</th>\n",
       "      <td>7liw</td>\n",
       "      <td>B</td>\n",
       "      <td>P53396</td>\n",
       "      <td>149</td>\n",
       "      <td>431</td>\n",
       "      <td>149</td>\n",
       "      <td>431</td>\n",
       "      <td>149</td>\n",
       "      <td>431</td>\n",
       "    </tr>\n",
       "    <tr>\n",
       "      <th>960083</th>\n",
       "      <td>7liw</td>\n",
       "      <td>B</td>\n",
       "      <td>P53396</td>\n",
       "      <td>487</td>\n",
       "      <td>1099</td>\n",
       "      <td>487</td>\n",
       "      <td>1099</td>\n",
       "      <td>487</td>\n",
       "      <td>1099</td>\n",
       "    </tr>\n",
       "    <tr>\n",
       "      <th>960084</th>\n",
       "      <td>7liw</td>\n",
       "      <td>C</td>\n",
       "      <td>P53396</td>\n",
       "      <td>821</td>\n",
       "      <td>1099</td>\n",
       "      <td>821</td>\n",
       "      <td>1099</td>\n",
       "      <td>821</td>\n",
       "      <td>1099</td>\n",
       "    </tr>\n",
       "    <tr>\n",
       "      <th>960085</th>\n",
       "      <td>7liw</td>\n",
       "      <td>D</td>\n",
       "      <td>P53396</td>\n",
       "      <td>821</td>\n",
       "      <td>1099</td>\n",
       "      <td>821</td>\n",
       "      <td>1099</td>\n",
       "      <td>821</td>\n",
       "      <td>1099</td>\n",
       "    </tr>\n",
       "  </tbody>\n",
       "</table>\n",
       "<p>960086 rows × 9 columns</p>\n",
       "</div>"
      ],
      "text/plain": [
       "         pdb chain sp_primary  res_beg  res_end pdb_beg pdb_end  sp_beg  \\\n",
       "0       1wfc     A     Q16539       11       19       5      13       5   \n",
       "1       1wfc     A     Q16539       22      175      16     169      16   \n",
       "2       1wfc     A     Q16539      181      357     175     351     175   \n",
       "3       6aek     A     P06802        3      453     170     620     170   \n",
       "4       6aek     A     P06802      462      462     629     629     629   \n",
       "...      ...   ...        ...      ...      ...     ...     ...     ...   \n",
       "960081  7liw     B     P53396        2      139       2     139       2   \n",
       "960082  7liw     B     P53396      149      431     149     431     149   \n",
       "960083  7liw     B     P53396      487     1099     487    1099     487   \n",
       "960084  7liw     C     P53396      821     1099     821    1099     821   \n",
       "960085  7liw     D     P53396      821     1099     821    1099     821   \n",
       "\n",
       "        sp_end  \n",
       "0           13  \n",
       "1          169  \n",
       "2          351  \n",
       "3          620  \n",
       "4          629  \n",
       "...        ...  \n",
       "960081     139  \n",
       "960082     431  \n",
       "960083    1099  \n",
       "960084    1099  \n",
       "960085    1099  \n",
       "\n",
       "[960086 rows x 9 columns]"
      ]
     },
     "execution_count": 4,
     "metadata": {},
     "output_type": "execute_result"
    }
   ],
   "source": [
    "# UniProt to PDBe residue level mapping (observed residues only), \n",
    "# showing the start and end residues of the mapping using SEQRES, PDB sequence and UniProt numbering.\n",
    "pdb_segments = pd.read_csv('../raw_data/uniprot_segments_observed.tsv.gz', sep= '\\t', skiprows= 1, compression= 'gzip')\n",
    "pdb_segments.columns = pdb_segments.columns.str.lower()\n",
    "pdb_segments"
   ]
  },
  {
   "cell_type": "code",
   "execution_count": 5,
   "metadata": {},
   "outputs": [
    {
     "data": {
      "text/html": [
       "<div>\n",
       "<style scoped>\n",
       "    .dataframe tbody tr th:only-of-type {\n",
       "        vertical-align: middle;\n",
       "    }\n",
       "\n",
       "    .dataframe tbody tr th {\n",
       "        vertical-align: top;\n",
       "    }\n",
       "\n",
       "    .dataframe thead th {\n",
       "        text-align: right;\n",
       "    }\n",
       "</style>\n",
       "<table border=\"1\" class=\"dataframe\">\n",
       "  <thead>\n",
       "    <tr style=\"text-align: right;\">\n",
       "      <th></th>\n",
       "      <th>pdb</th>\n",
       "      <th>chain</th>\n",
       "      <th>sp_primary</th>\n",
       "      <th>res_beg</th>\n",
       "      <th>res_end</th>\n",
       "      <th>pdb_beg</th>\n",
       "      <th>pdb_end</th>\n",
       "      <th>sp_beg</th>\n",
       "      <th>sp_end</th>\n",
       "    </tr>\n",
       "  </thead>\n",
       "  <tbody>\n",
       "    <tr>\n",
       "      <th>679165</th>\n",
       "      <td>102l</td>\n",
       "      <td>A</td>\n",
       "      <td>P00720</td>\n",
       "      <td>1</td>\n",
       "      <td>163</td>\n",
       "      <td>1</td>\n",
       "      <td>162</td>\n",
       "      <td>1</td>\n",
       "      <td>162</td>\n",
       "    </tr>\n",
       "  </tbody>\n",
       "</table>\n",
       "</div>"
      ],
      "text/plain": [
       "         pdb chain sp_primary  res_beg  res_end pdb_beg pdb_end  sp_beg  \\\n",
       "679165  102l     A     P00720        1      163       1     162       1   \n",
       "\n",
       "        sp_end  \n",
       "679165     162  "
      ]
     },
     "execution_count": 5,
     "metadata": {},
     "output_type": "execute_result"
    }
   ],
   "source": [
    "pdb_segments[pdb_segments.pdb == '102l']"
   ]
  },
  {
   "cell_type": "code",
   "execution_count": 5,
   "metadata": {},
   "outputs": [
    {
     "name": "stderr",
     "output_type": "stream",
     "text": [
      "c:\\Users\\User\\AppData\\Local\\Programs\\Python\\Python37\\lib\\site-packages\\pandas\\core\\frame.py:4449: SettingWithCopyWarning: \n",
      "A value is trying to be set on a copy of a slice from a DataFrame\n",
      "\n",
      "See the caveats in the documentation: https://pandas.pydata.org/pandas-docs/stable/user_guide/indexing.html#returning-a-view-versus-a-copy\n",
      "  errors=errors,\n"
     ]
    }
   ],
   "source": [
    "# For the start and end coordinates take sp_beg and sp_end cols, that corresponds to uniprot sequence positions\n",
    "pdb_segments = pdb_segments[['sp_primary', 'pdb', 'chain', 'sp_beg', 'sp_end']]\n",
    "pdb_segments.rename(columns= {'sp_primary': 'uniprot_acc', 'sp_beg': 'start', 'sp_end': 'end'}, inplace= True)"
   ]
  },
  {
   "cell_type": "code",
   "execution_count": 6,
   "metadata": {},
   "outputs": [
    {
     "data": {
      "text/plain": [
       "(8022, 5)"
      ]
     },
     "execution_count": 6,
     "metadata": {},
     "output_type": "execute_result"
    }
   ],
   "source": [
    "# Subset for CRE proteins\n",
    "pdb_segments = pdb_segments[pdb_segments.uniprot_acc.isin(cre_dataset.uniprot_acc.unique())]\n",
    "pdb_segments.shape"
   ]
  },
  {
   "cell_type": "code",
   "execution_count": 7,
   "metadata": {},
   "outputs": [
    {
     "data": {
      "text/plain": [
       "123"
      ]
     },
     "execution_count": 7,
     "metadata": {},
     "output_type": "execute_result"
    }
   ],
   "source": [
    "pdb_segments.uniprot_acc.nunique()"
   ]
  },
  {
   "cell_type": "markdown",
   "metadata": {},
   "source": [
    "to do: analyze overlap between pdb segments and cis elements  \n",
    "then, don't forget to split between positive and negative proteins"
   ]
  },
  {
   "cell_type": "markdown",
   "metadata": {},
   "source": [
    "## Check overlap between CREs and PDBs"
   ]
  },
  {
   "cell_type": "code",
   "execution_count": 8,
   "metadata": {},
   "outputs": [],
   "source": [
    "# df with the ranges for each CRE. Rename cols for pyranges\n",
    "cre_ranges = cre_dataset[['uniprot_acc', 'id_cre', 'start_aa', 'end_aa']].rename(\n",
    "    columns={'uniprot_acc': 'Chromosome', 'start_aa': 'Start', 'end_aa': 'End'}\n",
    ")"
   ]
  },
  {
   "cell_type": "code",
   "execution_count": 9,
   "metadata": {},
   "outputs": [],
   "source": [
    "# As pyranges object\n",
    "cre_ranges = pr.PyRanges(cre_ranges)"
   ]
  },
  {
   "cell_type": "code",
   "execution_count": 10,
   "metadata": {},
   "outputs": [
    {
     "data": {
      "text/html": [
       "<div>\n",
       "<style scoped>\n",
       "    .dataframe tbody tr th:only-of-type {\n",
       "        vertical-align: middle;\n",
       "    }\n",
       "\n",
       "    .dataframe tbody tr th {\n",
       "        vertical-align: top;\n",
       "    }\n",
       "\n",
       "    .dataframe thead th {\n",
       "        text-align: right;\n",
       "    }\n",
       "</style>\n",
       "<table border=\"1\" class=\"dataframe\">\n",
       "  <thead>\n",
       "    <tr style=\"text-align: right;\">\n",
       "      <th></th>\n",
       "      <th>Chromosome</th>\n",
       "      <th>id_cre</th>\n",
       "      <th>Start</th>\n",
       "      <th>End</th>\n",
       "    </tr>\n",
       "  </thead>\n",
       "  <tbody>\n",
       "    <tr>\n",
       "      <th>0</th>\n",
       "      <td>A8KAM8</td>\n",
       "      <td>43</td>\n",
       "      <td>1006</td>\n",
       "      <td>1106</td>\n",
       "    </tr>\n",
       "    <tr>\n",
       "      <th>1</th>\n",
       "      <td>C8ZE58</td>\n",
       "      <td>15</td>\n",
       "      <td>604</td>\n",
       "      <td>741</td>\n",
       "    </tr>\n",
       "    <tr>\n",
       "      <th>2</th>\n",
       "      <td>O08722</td>\n",
       "      <td>124</td>\n",
       "      <td>544</td>\n",
       "      <td>688</td>\n",
       "    </tr>\n",
       "    <tr>\n",
       "      <th>3</th>\n",
       "      <td>O08808</td>\n",
       "      <td>72</td>\n",
       "      <td>1180</td>\n",
       "      <td>1199</td>\n",
       "    </tr>\n",
       "    <tr>\n",
       "      <th>4</th>\n",
       "      <td>O08967</td>\n",
       "      <td>54</td>\n",
       "      <td>251</td>\n",
       "      <td>266</td>\n",
       "    </tr>\n",
       "    <tr>\n",
       "      <th>...</th>\n",
       "      <td>...</td>\n",
       "      <td>...</td>\n",
       "      <td>...</td>\n",
       "      <td>...</td>\n",
       "    </tr>\n",
       "    <tr>\n",
       "      <th>163</th>\n",
       "      <td>Q63622</td>\n",
       "      <td>86</td>\n",
       "      <td>158</td>\n",
       "      <td>408</td>\n",
       "    </tr>\n",
       "    <tr>\n",
       "      <th>164</th>\n",
       "      <td>Q64287</td>\n",
       "      <td>83</td>\n",
       "      <td>410</td>\n",
       "      <td>439</td>\n",
       "    </tr>\n",
       "    <tr>\n",
       "      <th>165</th>\n",
       "      <td>Q92985</td>\n",
       "      <td>134</td>\n",
       "      <td>404</td>\n",
       "      <td>466</td>\n",
       "    </tr>\n",
       "    <tr>\n",
       "      <th>166</th>\n",
       "      <td>Q93107</td>\n",
       "      <td>14</td>\n",
       "      <td>91</td>\n",
       "      <td>157</td>\n",
       "    </tr>\n",
       "    <tr>\n",
       "      <th>167</th>\n",
       "      <td>Q94527</td>\n",
       "      <td>84</td>\n",
       "      <td>640</td>\n",
       "      <td>738</td>\n",
       "    </tr>\n",
       "  </tbody>\n",
       "</table>\n",
       "<p>168 rows × 4 columns</p>\n",
       "</div>"
      ],
      "text/plain": [
       "+--------------+-----------+-----------+-----------+\n",
       "| Chromosome   | id_cre    | Start     | End       |\n",
       "| (category)   | (int64)   | (int32)   | (int32)   |\n",
       "|--------------+-----------+-----------+-----------|\n",
       "| A8KAM8       | 43        | 1006      | 1106      |\n",
       "| C8ZE58       | 15        | 604       | 741       |\n",
       "| O08722       | 124       | 544       | 688       |\n",
       "| O08808       | 72        | 1180      | 1199      |\n",
       "| ...          | ...       | ...       | ...       |\n",
       "| Q64287       | 83        | 410       | 439       |\n",
       "| Q92985       | 134       | 404       | 466       |\n",
       "| Q93107       | 14        | 91        | 157       |\n",
       "| Q94527       | 84        | 640       | 738       |\n",
       "+--------------+-----------+-----------+-----------+\n",
       "Unstranded PyRanges object has 168 rows and 4 columns from 151 chromosomes.\n",
       "For printing, the PyRanges was sorted on Chromosome."
      ]
     },
     "execution_count": 10,
     "metadata": {},
     "output_type": "execute_result"
    }
   ],
   "source": [
    "cre_ranges"
   ]
  },
  {
   "cell_type": "code",
   "execution_count": 11,
   "metadata": {},
   "outputs": [],
   "source": [
    "# Now pdbs with their ranges\n",
    "pdb_ranges = pdb_segments[['uniprot_acc', 'pdb', 'start', 'end']].rename(\n",
    "    columns = {'uniprot_acc': 'Chromosome'}\n",
    ")\n",
    "pdb_ranges.columns = pdb_ranges.columns.str.capitalize()\n",
    "# As pyranges object\n",
    "pdb_ranges = pr.PyRanges(pdb_ranges)"
   ]
  },
  {
   "cell_type": "code",
   "execution_count": 12,
   "metadata": {},
   "outputs": [],
   "source": [
    "# Count overlaps\n",
    "overlap = cre_ranges.count_overlaps(pdb_ranges, overlap_col = 'overlap_count')"
   ]
  },
  {
   "cell_type": "code",
   "execution_count": 51,
   "metadata": {},
   "outputs": [
    {
     "data": {
      "text/html": [
       "<div>\n",
       "<style scoped>\n",
       "    .dataframe tbody tr th:only-of-type {\n",
       "        vertical-align: middle;\n",
       "    }\n",
       "\n",
       "    .dataframe tbody tr th {\n",
       "        vertical-align: top;\n",
       "    }\n",
       "\n",
       "    .dataframe thead th {\n",
       "        text-align: right;\n",
       "    }\n",
       "</style>\n",
       "<table border=\"1\" class=\"dataframe\">\n",
       "  <thead>\n",
       "    <tr style=\"text-align: right;\">\n",
       "      <th></th>\n",
       "      <th>Chromosome</th>\n",
       "      <th>id_cre</th>\n",
       "      <th>Start</th>\n",
       "      <th>End</th>\n",
       "      <th>overlap_count</th>\n",
       "    </tr>\n",
       "  </thead>\n",
       "  <tbody>\n",
       "    <tr>\n",
       "      <th>0</th>\n",
       "      <td>A8KAM8</td>\n",
       "      <td>43</td>\n",
       "      <td>1006</td>\n",
       "      <td>1106</td>\n",
       "      <td>0</td>\n",
       "    </tr>\n",
       "    <tr>\n",
       "      <th>104</th>\n",
       "      <td>Q8VDP3</td>\n",
       "      <td>60</td>\n",
       "      <td>761</td>\n",
       "      <td>1048</td>\n",
       "      <td>0</td>\n",
       "    </tr>\n",
       "    <tr>\n",
       "      <th>102</th>\n",
       "      <td>Q8IVH8</td>\n",
       "      <td>89</td>\n",
       "      <td>511</td>\n",
       "      <td>735</td>\n",
       "      <td>0</td>\n",
       "    </tr>\n",
       "    <tr>\n",
       "      <th>101</th>\n",
       "      <td>Q6FI27</td>\n",
       "      <td>30</td>\n",
       "      <td>3</td>\n",
       "      <td>54</td>\n",
       "      <td>0</td>\n",
       "    </tr>\n",
       "    <tr>\n",
       "      <th>100</th>\n",
       "      <td>Q5VT25</td>\n",
       "      <td>28</td>\n",
       "      <td>658</td>\n",
       "      <td>930</td>\n",
       "      <td>0</td>\n",
       "    </tr>\n",
       "    <tr>\n",
       "      <th>...</th>\n",
       "      <td>...</td>\n",
       "      <td>...</td>\n",
       "      <td>...</td>\n",
       "      <td>...</td>\n",
       "      <td>...</td>\n",
       "    </tr>\n",
       "    <tr>\n",
       "      <th>18</th>\n",
       "      <td>P00519</td>\n",
       "      <td>110</td>\n",
       "      <td>61</td>\n",
       "      <td>233</td>\n",
       "      <td>96</td>\n",
       "    </tr>\n",
       "    <tr>\n",
       "      <th>19</th>\n",
       "      <td>P00523</td>\n",
       "      <td>8</td>\n",
       "      <td>88</td>\n",
       "      <td>248</td>\n",
       "      <td>107</td>\n",
       "    </tr>\n",
       "    <tr>\n",
       "      <th>138</th>\n",
       "      <td>Q06124</td>\n",
       "      <td>153</td>\n",
       "      <td>6</td>\n",
       "      <td>81</td>\n",
       "      <td>125</td>\n",
       "    </tr>\n",
       "    <tr>\n",
       "      <th>20</th>\n",
       "      <td>P00523</td>\n",
       "      <td>9</td>\n",
       "      <td>520</td>\n",
       "      <td>533</td>\n",
       "      <td>139</td>\n",
       "    </tr>\n",
       "    <tr>\n",
       "      <th>21</th>\n",
       "      <td>P00579</td>\n",
       "      <td>79</td>\n",
       "      <td>1</td>\n",
       "      <td>100</td>\n",
       "      <td>154</td>\n",
       "    </tr>\n",
       "  </tbody>\n",
       "</table>\n",
       "<p>168 rows × 5 columns</p>\n",
       "</div>"
      ],
      "text/plain": [
       "    Chromosome  id_cre  Start   End  overlap_count\n",
       "0       A8KAM8      43   1006  1106              0\n",
       "104     Q8VDP3      60    761  1048              0\n",
       "102     Q8IVH8      89    511   735              0\n",
       "101     Q6FI27      30      3    54              0\n",
       "100     Q5VT25      28    658   930              0\n",
       "..         ...     ...    ...   ...            ...\n",
       "18      P00519     110     61   233             96\n",
       "19      P00523       8     88   248            107\n",
       "138     Q06124     153      6    81            125\n",
       "20      P00523       9    520   533            139\n",
       "21      P00579      79      1   100            154\n",
       "\n",
       "[168 rows x 5 columns]"
      ]
     },
     "execution_count": 51,
     "metadata": {},
     "output_type": "execute_result"
    }
   ],
   "source": [
    "# to dataframe\n",
    "overlap_df = overlap.as_df()\n",
    "overlap_df.sort_values(\"overlap_count\")"
   ]
  },
  {
   "cell_type": "code",
   "execution_count": 14,
   "metadata": {},
   "outputs": [
    {
     "data": {
      "text/plain": [
       "97"
      ]
     },
     "execution_count": 14,
     "metadata": {},
     "output_type": "execute_result"
    }
   ],
   "source": [
    "(overlap_df.overlap_count > 0).sum()"
   ]
  },
  {
   "cell_type": "code",
   "execution_count": 15,
   "metadata": {},
   "outputs": [
    {
     "data": {
      "text/plain": [
       "<AxesSubplot:>"
      ]
     },
     "execution_count": 15,
     "metadata": {},
     "output_type": "execute_result"
    },
    {
     "data": {
      "image/png": "[encoded data removed]",
      "text/plain": [
       "<Figure size 432x288 with 1 Axes>"
      ]
     },
     "metadata": {
      "needs_background": "light"
     },
     "output_type": "display_data"
    }
   ],
   "source": [
    "overlap_df[['overlap_count']].boxplot()"
   ]
  },
  {
   "cell_type": "code",
   "execution_count": 16,
   "metadata": {},
   "outputs": [
    {
     "data": {
      "text/html": [
       "<div>\n",
       "<style scoped>\n",
       "    .dataframe tbody tr th:only-of-type {\n",
       "        vertical-align: middle;\n",
       "    }\n",
       "\n",
       "    .dataframe tbody tr th {\n",
       "        vertical-align: top;\n",
       "    }\n",
       "\n",
       "    .dataframe thead th {\n",
       "        text-align: right;\n",
       "    }\n",
       "</style>\n",
       "<table border=\"1\" class=\"dataframe\">\n",
       "  <thead>\n",
       "    <tr style=\"text-align: right;\">\n",
       "      <th></th>\n",
       "      <th>name</th>\n",
       "      <th>uniprot_acc</th>\n",
       "      <th>species</th>\n",
       "      <th>references</th>\n",
       "      <th>module</th>\n",
       "      <th>start_aa</th>\n",
       "      <th>end_aa</th>\n",
       "      <th>dataset</th>\n",
       "      <th>id_cre</th>\n",
       "    </tr>\n",
       "  </thead>\n",
       "  <tbody>\n",
       "    <tr>\n",
       "      <th>96</th>\n",
       "      <td>NTRK1</td>\n",
       "      <td>P04629</td>\n",
       "      <td>H. sapiens</td>\n",
       "      <td>(Arevalo et al., 2000)</td>\n",
       "      <td>s</td>\n",
       "      <td>287</td>\n",
       "      <td>384</td>\n",
       "      <td>train</td>\n",
       "      <td>97</td>\n",
       "    </tr>\n",
       "  </tbody>\n",
       "</table>\n",
       "</div>"
      ],
      "text/plain": [
       "     name uniprot_acc     species              references module  start_aa  \\\n",
       "96  NTRK1      P04629  H. sapiens  (Arevalo et al., 2000)      s       287   \n",
       "\n",
       "    end_aa dataset  id_cre  \n",
       "96     384   train      97  "
      ]
     },
     "execution_count": 16,
     "metadata": {},
     "output_type": "execute_result"
    }
   ],
   "source": [
    "# Check one example\n",
    "cre_dataset[cre_dataset.uniprot_acc == 'P04629'] # is structured"
   ]
  },
  {
   "cell_type": "code",
   "execution_count": 17,
   "metadata": {},
   "outputs": [
    {
     "data": {
      "text/html": [
       "<div>\n",
       "<style scoped>\n",
       "    .dataframe tbody tr th:only-of-type {\n",
       "        vertical-align: middle;\n",
       "    }\n",
       "\n",
       "    .dataframe tbody tr th {\n",
       "        vertical-align: top;\n",
       "    }\n",
       "\n",
       "    .dataframe thead th {\n",
       "        text-align: right;\n",
       "    }\n",
       "</style>\n",
       "<table border=\"1\" class=\"dataframe\">\n",
       "  <thead>\n",
       "    <tr style=\"text-align: right;\">\n",
       "      <th></th>\n",
       "      <th>uniprot_acc</th>\n",
       "      <th>pdb</th>\n",
       "      <th>chain</th>\n",
       "      <th>start</th>\n",
       "      <th>end</th>\n",
       "    </tr>\n",
       "  </thead>\n",
       "  <tbody>\n",
       "    <tr>\n",
       "      <th>62666</th>\n",
       "      <td>P04629</td>\n",
       "      <td>1www</td>\n",
       "      <td>X</td>\n",
       "      <td>282</td>\n",
       "      <td>382</td>\n",
       "    </tr>\n",
       "    <tr>\n",
       "      <th>62667</th>\n",
       "      <td>P04629</td>\n",
       "      <td>1www</td>\n",
       "      <td>Y</td>\n",
       "      <td>282</td>\n",
       "      <td>382</td>\n",
       "    </tr>\n",
       "    <tr>\n",
       "      <th>340591</th>\n",
       "      <td>P04629</td>\n",
       "      <td>1wwa</td>\n",
       "      <td>Y</td>\n",
       "      <td>278</td>\n",
       "      <td>382</td>\n",
       "    </tr>\n",
       "    <tr>\n",
       "      <th>415647</th>\n",
       "      <td>P04629</td>\n",
       "      <td>2ifg</td>\n",
       "      <td>A</td>\n",
       "      <td>36</td>\n",
       "      <td>382</td>\n",
       "    </tr>\n",
       "    <tr>\n",
       "      <th>415648</th>\n",
       "      <td>P04629</td>\n",
       "      <td>2ifg</td>\n",
       "      <td>B</td>\n",
       "      <td>36</td>\n",
       "      <td>382</td>\n",
       "    </tr>\n",
       "    <tr>\n",
       "      <th>429335</th>\n",
       "      <td>P04629</td>\n",
       "      <td>7n3t</td>\n",
       "      <td>A</td>\n",
       "      <td>36</td>\n",
       "      <td>382</td>\n",
       "    </tr>\n",
       "    <tr>\n",
       "      <th>429336</th>\n",
       "      <td>P04629</td>\n",
       "      <td>7n3t</td>\n",
       "      <td>B</td>\n",
       "      <td>36</td>\n",
       "      <td>201</td>\n",
       "    </tr>\n",
       "    <tr>\n",
       "      <th>429337</th>\n",
       "      <td>P04629</td>\n",
       "      <td>7n3t</td>\n",
       "      <td>B</td>\n",
       "      <td>204</td>\n",
       "      <td>382</td>\n",
       "    </tr>\n",
       "    <tr>\n",
       "      <th>541112</th>\n",
       "      <td>P04629</td>\n",
       "      <td>4crp</td>\n",
       "      <td>A</td>\n",
       "      <td>279</td>\n",
       "      <td>279</td>\n",
       "    </tr>\n",
       "    <tr>\n",
       "      <th>541113</th>\n",
       "      <td>P04629</td>\n",
       "      <td>4crp</td>\n",
       "      <td>A</td>\n",
       "      <td>282</td>\n",
       "      <td>383</td>\n",
       "    </tr>\n",
       "  </tbody>\n",
       "</table>\n",
       "</div>"
      ],
      "text/plain": [
       "       uniprot_acc   pdb chain  start  end\n",
       "62666       P04629  1www     X    282  382\n",
       "62667       P04629  1www     Y    282  382\n",
       "340591      P04629  1wwa     Y    278  382\n",
       "415647      P04629  2ifg     A     36  382\n",
       "415648      P04629  2ifg     B     36  382\n",
       "429335      P04629  7n3t     A     36  382\n",
       "429336      P04629  7n3t     B     36  201\n",
       "429337      P04629  7n3t     B    204  382\n",
       "541112      P04629  4crp     A    279  279\n",
       "541113      P04629  4crp     A    282  383"
      ]
     },
     "execution_count": 17,
     "metadata": {},
     "output_type": "execute_result"
    }
   ],
   "source": [
    "pdb_segments.loc[(pdb_segments.uniprot_acc == 'P04629') & (pdb_segments.end <= 384)] # 10, OK"
   ]
  },
  {
   "cell_type": "code",
   "execution_count": 19,
   "metadata": {},
   "outputs": [
    {
     "data": {
      "text/html": [
       "<div>\n",
       "<style scoped>\n",
       "    .dataframe tbody tr th:only-of-type {\n",
       "        vertical-align: middle;\n",
       "    }\n",
       "\n",
       "    .dataframe tbody tr th {\n",
       "        vertical-align: top;\n",
       "    }\n",
       "\n",
       "    .dataframe thead th {\n",
       "        text-align: right;\n",
       "    }\n",
       "</style>\n",
       "<table border=\"1\" class=\"dataframe\">\n",
       "  <thead>\n",
       "    <tr style=\"text-align: right;\">\n",
       "      <th></th>\n",
       "      <th>name</th>\n",
       "      <th>uniprot_acc</th>\n",
       "      <th>species</th>\n",
       "      <th>references</th>\n",
       "      <th>module</th>\n",
       "      <th>start_aa</th>\n",
       "      <th>end_aa</th>\n",
       "      <th>dataset</th>\n",
       "      <th>id_cre</th>\n",
       "    </tr>\n",
       "  </thead>\n",
       "  <tbody>\n",
       "    <tr>\n",
       "      <th>0</th>\n",
       "      <td>DNMT1</td>\n",
       "      <td>P13864</td>\n",
       "      <td>M. musculus</td>\n",
       "      <td>(Song et al., 2011; Trudeau et al., 2013)</td>\n",
       "      <td>d</td>\n",
       "      <td>699</td>\n",
       "      <td>733</td>\n",
       "      <td>train</td>\n",
       "      <td>1</td>\n",
       "    </tr>\n",
       "    <tr>\n",
       "      <th>1</th>\n",
       "      <td>TBP</td>\n",
       "      <td>P20226</td>\n",
       "      <td>H. sapiens</td>\n",
       "      <td>(Kuddus and Schmidt, 1993; Trudeau et al., 2013)</td>\n",
       "      <td>d</td>\n",
       "      <td>1</td>\n",
       "      <td>55</td>\n",
       "      <td>train</td>\n",
       "      <td>2</td>\n",
       "    </tr>\n",
       "    <tr>\n",
       "      <th>2</th>\n",
       "      <td>TAK1</td>\n",
       "      <td>Q62073</td>\n",
       "      <td>M. musculus</td>\n",
       "      <td>(Yamaguchi et al., 1995)</td>\n",
       "      <td>d</td>\n",
       "      <td>1</td>\n",
       "      <td>22</td>\n",
       "      <td>train</td>\n",
       "      <td>3</td>\n",
       "    </tr>\n",
       "    <tr>\n",
       "      <th>3</th>\n",
       "      <td>SNF1</td>\n",
       "      <td>P06782</td>\n",
       "      <td>S. crevisiae</td>\n",
       "      <td>(Jiang and Carlson, 1997; Trudeau et al., 2013)</td>\n",
       "      <td>d</td>\n",
       "      <td>392</td>\n",
       "      <td>495</td>\n",
       "      <td>train</td>\n",
       "      <td>4</td>\n",
       "    </tr>\n",
       "    <tr>\n",
       "      <th>4</th>\n",
       "      <td>TSE1</td>\n",
       "      <td>P10644</td>\n",
       "      <td>H. sapiens</td>\n",
       "      <td>(Francis et al., 2002)</td>\n",
       "      <td>d</td>\n",
       "      <td>1</td>\n",
       "      <td>98</td>\n",
       "      <td>train</td>\n",
       "      <td>5</td>\n",
       "    </tr>\n",
       "    <tr>\n",
       "      <th>...</th>\n",
       "      <td>...</td>\n",
       "      <td>...</td>\n",
       "      <td>...</td>\n",
       "      <td>...</td>\n",
       "      <td>...</td>\n",
       "      <td>...</td>\n",
       "      <td>...</td>\n",
       "      <td>...</td>\n",
       "      <td>...</td>\n",
       "    </tr>\n",
       "    <tr>\n",
       "      <th>146</th>\n",
       "      <td>p65</td>\n",
       "      <td>Q04206</td>\n",
       "      <td>H. sapiens</td>\n",
       "      <td>(Trudeau et al., 2013)</td>\n",
       "      <td>d</td>\n",
       "      <td>313</td>\n",
       "      <td>550</td>\n",
       "      <td>test</td>\n",
       "      <td>147</td>\n",
       "    </tr>\n",
       "    <tr>\n",
       "      <th>147</th>\n",
       "      <td>Zyxin</td>\n",
       "      <td>Q15942</td>\n",
       "      <td>H. sapiens</td>\n",
       "      <td>(Hansen and Kwiatkowski, 2013)</td>\n",
       "      <td>d</td>\n",
       "      <td>1</td>\n",
       "      <td>130</td>\n",
       "      <td>test</td>\n",
       "      <td>148</td>\n",
       "    </tr>\n",
       "    <tr>\n",
       "      <th>148</th>\n",
       "      <td>PLCβ3</td>\n",
       "      <td>Q01970</td>\n",
       "      <td>H. sapiens</td>\n",
       "      <td>(Lyon et al., 2014)</td>\n",
       "      <td>d</td>\n",
       "      <td>471</td>\n",
       "      <td>575</td>\n",
       "      <td>test</td>\n",
       "      <td>149</td>\n",
       "    </tr>\n",
       "    <tr>\n",
       "      <th>149</th>\n",
       "      <td>RAD26 homolog</td>\n",
       "      <td>Q9UR24</td>\n",
       "      <td>S. pombe</td>\n",
       "      <td>(Wang et al., 2014)</td>\n",
       "      <td>d</td>\n",
       "      <td>825</td>\n",
       "      <td>973</td>\n",
       "      <td>test</td>\n",
       "      <td>150</td>\n",
       "    </tr>\n",
       "    <tr>\n",
       "      <th>150</th>\n",
       "      <td>PLK-4</td>\n",
       "      <td>O97143</td>\n",
       "      <td>D. melanogaster</td>\n",
       "      <td>(Klebba et al., 2015)</td>\n",
       "      <td>d</td>\n",
       "      <td>318</td>\n",
       "      <td>380</td>\n",
       "      <td>test</td>\n",
       "      <td>151</td>\n",
       "    </tr>\n",
       "  </tbody>\n",
       "</table>\n",
       "<p>94 rows × 9 columns</p>\n",
       "</div>"
      ],
      "text/plain": [
       "              name uniprot_acc          species  \\\n",
       "0            DNMT1      P13864      M. musculus   \n",
       "1              TBP      P20226       H. sapiens   \n",
       "2             TAK1      Q62073      M. musculus   \n",
       "3             SNF1      P06782     S. crevisiae   \n",
       "4             TSE1      P10644       H. sapiens   \n",
       "..             ...         ...              ...   \n",
       "146            p65      Q04206       H. sapiens   \n",
       "147          Zyxin      Q15942       H. sapiens   \n",
       "148          PLCβ3      Q01970       H. sapiens   \n",
       "149  RAD26 homolog      Q9UR24         S. pombe   \n",
       "150          PLK-4      O97143  D. melanogaster   \n",
       "\n",
       "                                           references module  start_aa  \\\n",
       "0           (Song et al., 2011; Trudeau et al., 2013)      d       699   \n",
       "1    (Kuddus and Schmidt, 1993; Trudeau et al., 2013)      d         1   \n",
       "2                            (Yamaguchi et al., 1995)      d         1   \n",
       "3     (Jiang and Carlson, 1997; Trudeau et al., 2013)      d       392   \n",
       "4                              (Francis et al., 2002)      d         1   \n",
       "..                                                ...    ...       ...   \n",
       "146                            (Trudeau et al., 2013)      d       313   \n",
       "147                    (Hansen and Kwiatkowski, 2013)      d         1   \n",
       "148                               (Lyon et al., 2014)      d       471   \n",
       "149                               (Wang et al., 2014)      d       825   \n",
       "150                             (Klebba et al., 2015)      d       318   \n",
       "\n",
       "     end_aa dataset  id_cre  \n",
       "0       733   train       1  \n",
       "1        55   train       2  \n",
       "2        22   train       3  \n",
       "3       495   train       4  \n",
       "4        98   train       5  \n",
       "..      ...     ...     ...  \n",
       "146     550    test     147  \n",
       "147     130    test     148  \n",
       "148     575    test     149  \n",
       "149     973    test     150  \n",
       "150     380    test     151  \n",
       "\n",
       "[94 rows x 9 columns]"
      ]
     },
     "execution_count": 19,
     "metadata": {},
     "output_type": "execute_result"
    }
   ],
   "source": [
    "# check a disoredered example\n",
    "cre_dataset[cre_dataset.module == 'd']"
   ]
  },
  {
   "cell_type": "code",
   "execution_count": 18,
   "metadata": {},
   "outputs": [
    {
     "data": {
      "text/html": [
       "<div>\n",
       "<style scoped>\n",
       "    .dataframe tbody tr th:only-of-type {\n",
       "        vertical-align: middle;\n",
       "    }\n",
       "\n",
       "    .dataframe tbody tr th {\n",
       "        vertical-align: top;\n",
       "    }\n",
       "\n",
       "    .dataframe thead th {\n",
       "        text-align: right;\n",
       "    }\n",
       "</style>\n",
       "<table border=\"1\" class=\"dataframe\">\n",
       "  <thead>\n",
       "    <tr style=\"text-align: right;\">\n",
       "      <th></th>\n",
       "      <th>uniprot_acc</th>\n",
       "      <th>pdb</th>\n",
       "      <th>chain</th>\n",
       "      <th>start</th>\n",
       "      <th>end</th>\n",
       "    </tr>\n",
       "  </thead>\n",
       "  <tbody>\n",
       "    <tr>\n",
       "      <th>6413</th>\n",
       "      <td>Q04206</td>\n",
       "      <td>7let</td>\n",
       "      <td>C</td>\n",
       "      <td>299</td>\n",
       "      <td>304</td>\n",
       "    </tr>\n",
       "    <tr>\n",
       "      <th>12449</th>\n",
       "      <td>Q04206</td>\n",
       "      <td>6yp3</td>\n",
       "      <td>P</td>\n",
       "      <td>43</td>\n",
       "      <td>51</td>\n",
       "    </tr>\n",
       "    <tr>\n",
       "      <th>15528</th>\n",
       "      <td>Q04206</td>\n",
       "      <td>7nmh</td>\n",
       "      <td>P</td>\n",
       "      <td>43</td>\n",
       "      <td>51</td>\n",
       "    </tr>\n",
       "    <tr>\n",
       "      <th>30679</th>\n",
       "      <td>Q04206</td>\n",
       "      <td>6yp2</td>\n",
       "      <td>P</td>\n",
       "      <td>43</td>\n",
       "      <td>51</td>\n",
       "    </tr>\n",
       "    <tr>\n",
       "      <th>56484</th>\n",
       "      <td>Q04206</td>\n",
       "      <td>3rc0</td>\n",
       "      <td>P</td>\n",
       "      <td>307</td>\n",
       "      <td>312</td>\n",
       "    </tr>\n",
       "    <tr>\n",
       "      <th>...</th>\n",
       "      <td>...</td>\n",
       "      <td>...</td>\n",
       "      <td>...</td>\n",
       "      <td>...</td>\n",
       "      <td>...</td>\n",
       "    </tr>\n",
       "    <tr>\n",
       "      <th>908780</th>\n",
       "      <td>Q04206</td>\n",
       "      <td>7njb</td>\n",
       "      <td>P</td>\n",
       "      <td>43</td>\n",
       "      <td>51</td>\n",
       "    </tr>\n",
       "    <tr>\n",
       "      <th>919076</th>\n",
       "      <td>Q04206</td>\n",
       "      <td>7nxw</td>\n",
       "      <td>P</td>\n",
       "      <td>43</td>\n",
       "      <td>51</td>\n",
       "    </tr>\n",
       "    <tr>\n",
       "      <th>924405</th>\n",
       "      <td>Q04206</td>\n",
       "      <td>7biw</td>\n",
       "      <td>P</td>\n",
       "      <td>43</td>\n",
       "      <td>51</td>\n",
       "    </tr>\n",
       "    <tr>\n",
       "      <th>938048</th>\n",
       "      <td>Q04206</td>\n",
       "      <td>7bkh</td>\n",
       "      <td>P</td>\n",
       "      <td>43</td>\n",
       "      <td>51</td>\n",
       "    </tr>\n",
       "    <tr>\n",
       "      <th>938511</th>\n",
       "      <td>Q04206</td>\n",
       "      <td>7o6k</td>\n",
       "      <td>P</td>\n",
       "      <td>43</td>\n",
       "      <td>51</td>\n",
       "    </tr>\n",
       "  </tbody>\n",
       "</table>\n",
       "<p>95 rows × 5 columns</p>\n",
       "</div>"
      ],
      "text/plain": [
       "       uniprot_acc   pdb chain  start  end\n",
       "6413        Q04206  7let     C    299  304\n",
       "12449       Q04206  6yp3     P     43   51\n",
       "15528       Q04206  7nmh     P     43   51\n",
       "30679       Q04206  6yp2     P     43   51\n",
       "56484       Q04206  3rc0     P    307  312\n",
       "...            ...   ...   ...    ...  ...\n",
       "908780      Q04206  7njb     P     43   51\n",
       "919076      Q04206  7nxw     P     43   51\n",
       "924405      Q04206  7biw     P     43   51\n",
       "938048      Q04206  7bkh     P     43   51\n",
       "938511      Q04206  7o6k     P     43   51\n",
       "\n",
       "[95 rows x 5 columns]"
      ]
     },
     "execution_count": 18,
     "metadata": {},
     "output_type": "execute_result"
    }
   ],
   "source": [
    "# A disordered example: Q04206\n",
    "x = pdb_segments.loc[(pdb_segments.uniprot_acc == 'Q04206') & (pdb_segments.end <= 384)]\n",
    "x"
   ]
  },
  {
   "cell_type": "markdown",
   "metadata": {},
   "source": [
    "### Subset only for disordered CREs"
   ]
  },
  {
   "cell_type": "code",
   "execution_count": 39,
   "metadata": {},
   "outputs": [],
   "source": [
    "ids = cre_dataset[cre_dataset.module == 'd'].id_cre.to_list()"
   ]
  },
  {
   "cell_type": "code",
   "execution_count": 41,
   "metadata": {},
   "outputs": [
    {
     "data": {
      "text/plain": [
       "(94, 5)"
      ]
     },
     "execution_count": 41,
     "metadata": {},
     "output_type": "execute_result"
    }
   ],
   "source": [
    "overlap_disorder = overlap_df[overlap_df.id_cre.isin(ids)]\n",
    "overlap_disorder.shape"
   ]
  },
  {
   "cell_type": "code",
   "execution_count": 46,
   "metadata": {},
   "outputs": [
    {
     "data": {
      "text/plain": [
       "<AxesSubplot:>"
      ]
     },
     "execution_count": 46,
     "metadata": {},
     "output_type": "execute_result"
    },
    {
     "data": {
      "image/png": "[encoded data removed]",
      "text/plain": [
       "<Figure size 432x288 with 1 Axes>"
      ]
     },
     "metadata": {
      "needs_background": "light"
     },
     "output_type": "display_data"
    }
   ],
   "source": [
    "overlap_disorder[['overlap_count']].boxplot()"
   ]
  },
  {
   "cell_type": "code",
   "execution_count": 52,
   "metadata": {},
   "outputs": [],
   "source": [
    "overlap_df.columns = overlap_df.columns.str.lower()\n",
    "overlap_df.rename(columns= {'chromosome': 'uniprot_acc', 'overlap_count': 'no_pdbs'}, inplace= True)"
   ]
  },
  {
   "cell_type": "code",
   "execution_count": 53,
   "metadata": {},
   "outputs": [],
   "source": [
    "#overlap_df.to_csv('../datasets/cre_pdb_count.tsv', sep='\\t', index = False)"
   ]
  },
  {
   "cell_type": "markdown",
   "metadata": {},
   "source": [
    "---"
   ]
  },
  {
   "cell_type": "markdown",
   "metadata": {},
   "source": [
    "### Subset only for our proteins"
   ]
  },
  {
   "cell_type": "code",
   "execution_count": 20,
   "metadata": {},
   "outputs": [
    {
     "data": {
      "text/plain": [
       "(2486, 2)"
      ]
     },
     "execution_count": 20,
     "metadata": {},
     "output_type": "execute_result"
    }
   ],
   "source": [
    "uniprot_pdb = uniprot_pdb[uniprot_pdb.SP_PRIMARY.isin(cre_dataset.uniprot_acc)]\n",
    "# Splits PDBs by the \";\" and then explode\n",
    "uniprot_pdb.PDB = uniprot_pdb.PDB.str.split(';')\n",
    "uniprot_pdb = uniprot_pdb.explode(\"PDB\")\n",
    "uniprot_pdb.rename(columns= {'SP_PRIMARY': 'uniprot_acc', 'PDB': 'pdb'}, inplace= True)\n",
    "uniprot_pdb.shape"
   ]
  },
  {
   "cell_type": "code",
   "execution_count": 21,
   "metadata": {},
   "outputs": [
    {
     "data": {
      "text/plain": [
       "(4425, 9)"
      ]
     },
     "execution_count": 21,
     "metadata": {},
     "output_type": "execute_result"
    }
   ],
   "source": [
    "pdb_chain_uniprot = pdb_chain_uniprot[pdb_chain_uniprot.SP_PRIMARY.isin(cre_dataset.uniprot_acc)]\n",
    "pdb_chain_uniprot.shape"
   ]
  },
  {
   "cell_type": "code",
   "execution_count": 22,
   "metadata": {},
   "outputs": [
    {
     "data": {
      "text/html": [
       "<div>\n",
       "<style scoped>\n",
       "    .dataframe tbody tr th:only-of-type {\n",
       "        vertical-align: middle;\n",
       "    }\n",
       "\n",
       "    .dataframe tbody tr th {\n",
       "        vertical-align: top;\n",
       "    }\n",
       "\n",
       "    .dataframe thead th {\n",
       "        text-align: right;\n",
       "    }\n",
       "</style>\n",
       "<table border=\"1\" class=\"dataframe\">\n",
       "  <thead>\n",
       "    <tr style=\"text-align: right;\">\n",
       "      <th></th>\n",
       "      <th>uniprot_acc</th>\n",
       "      <th>pdb</th>\n",
       "    </tr>\n",
       "  </thead>\n",
       "  <tbody>\n",
       "    <tr>\n",
       "      <th>15592</th>\n",
       "      <td>O08722</td>\n",
       "      <td>3g5b</td>\n",
       "    </tr>\n",
       "    <tr>\n",
       "      <th>15602</th>\n",
       "      <td>O08808</td>\n",
       "      <td>4uwx</td>\n",
       "    </tr>\n",
       "    <tr>\n",
       "      <th>15602</th>\n",
       "      <td>O08808</td>\n",
       "      <td>1z2c</td>\n",
       "    </tr>\n",
       "    <tr>\n",
       "      <th>15602</th>\n",
       "      <td>O08808</td>\n",
       "      <td>3eg5</td>\n",
       "    </tr>\n",
       "    <tr>\n",
       "      <th>15602</th>\n",
       "      <td>O08808</td>\n",
       "      <td>2bnx</td>\n",
       "    </tr>\n",
       "    <tr>\n",
       "      <th>...</th>\n",
       "      <td>...</td>\n",
       "      <td>...</td>\n",
       "    </tr>\n",
       "    <tr>\n",
       "      <th>57635</th>\n",
       "      <td>Q9Y613</td>\n",
       "      <td>6xf1</td>\n",
       "    </tr>\n",
       "    <tr>\n",
       "      <th>57635</th>\n",
       "      <td>Q9Y613</td>\n",
       "      <td>3dad</td>\n",
       "    </tr>\n",
       "    <tr>\n",
       "      <th>57635</th>\n",
       "      <td>Q9Y613</td>\n",
       "      <td>6xf2</td>\n",
       "    </tr>\n",
       "    <tr>\n",
       "      <th>57843</th>\n",
       "      <td>Q9Z0R4</td>\n",
       "      <td>3jv3</td>\n",
       "    </tr>\n",
       "    <tr>\n",
       "      <th>57843</th>\n",
       "      <td>Q9Z0R4</td>\n",
       "      <td>3hs8</td>\n",
       "    </tr>\n",
       "  </tbody>\n",
       "</table>\n",
       "<p>2486 rows × 2 columns</p>\n",
       "</div>"
      ],
      "text/plain": [
       "      uniprot_acc   pdb\n",
       "15592      O08722  3g5b\n",
       "15602      O08808  4uwx\n",
       "15602      O08808  1z2c\n",
       "15602      O08808  3eg5\n",
       "15602      O08808  2bnx\n",
       "...           ...   ...\n",
       "57635      Q9Y613  6xf1\n",
       "57635      Q9Y613  3dad\n",
       "57635      Q9Y613  6xf2\n",
       "57843      Q9Z0R4  3jv3\n",
       "57843      Q9Z0R4  3hs8\n",
       "\n",
       "[2486 rows x 2 columns]"
      ]
     },
     "execution_count": 22,
     "metadata": {},
     "output_type": "execute_result"
    }
   ],
   "source": [
    "uniprot_pdb"
   ]
  },
  {
   "cell_type": "code",
   "execution_count": 23,
   "metadata": {},
   "outputs": [
    {
     "data": {
      "text/plain": [
       "Index(['pdb', 'chain', 'sp_primary', 'res_beg', 'res_end', 'pdb_beg',\n",
       "       'pdb_end', 'sp_beg', 'sp_end'],\n",
       "      dtype='object')"
      ]
     },
     "execution_count": 23,
     "metadata": {},
     "output_type": "execute_result"
    }
   ],
   "source": [
    "pdb_chain_uniprot.columns.str.lower()"
   ]
  },
  {
   "cell_type": "markdown",
   "metadata": {},
   "source": [
    "### Add proteins info"
   ]
  },
  {
   "cell_type": "code",
   "execution_count": 61,
   "metadata": {},
   "outputs": [],
   "source": [
    "data = cre_dataset[['uniprot_acc', 'name', 'module']].drop_duplicates()"
   ]
  },
  {
   "cell_type": "code",
   "execution_count": 62,
   "metadata": {},
   "outputs": [
    {
     "data": {
      "text/html": [
       "<div>\n",
       "<style scoped>\n",
       "    .dataframe tbody tr th:only-of-type {\n",
       "        vertical-align: middle;\n",
       "    }\n",
       "\n",
       "    .dataframe tbody tr th {\n",
       "        vertical-align: top;\n",
       "    }\n",
       "\n",
       "    .dataframe thead th {\n",
       "        text-align: right;\n",
       "    }\n",
       "</style>\n",
       "<table border=\"1\" class=\"dataframe\">\n",
       "  <thead>\n",
       "    <tr style=\"text-align: right;\">\n",
       "      <th></th>\n",
       "      <th>uniprot_acc</th>\n",
       "      <th>name</th>\n",
       "      <th>module</th>\n",
       "    </tr>\n",
       "  </thead>\n",
       "  <tbody>\n",
       "    <tr>\n",
       "      <th>0</th>\n",
       "      <td>P13864</td>\n",
       "      <td>DNMT1</td>\n",
       "      <td>d</td>\n",
       "    </tr>\n",
       "    <tr>\n",
       "      <th>1</th>\n",
       "      <td>P20226</td>\n",
       "      <td>TBP</td>\n",
       "      <td>d</td>\n",
       "    </tr>\n",
       "    <tr>\n",
       "      <th>2</th>\n",
       "      <td>Q62073</td>\n",
       "      <td>TAK1</td>\n",
       "      <td>d</td>\n",
       "    </tr>\n",
       "    <tr>\n",
       "      <th>3</th>\n",
       "      <td>P06782</td>\n",
       "      <td>SNF1</td>\n",
       "      <td>d</td>\n",
       "    </tr>\n",
       "    <tr>\n",
       "      <th>4</th>\n",
       "      <td>P10644</td>\n",
       "      <td>TSE1</td>\n",
       "      <td>d</td>\n",
       "    </tr>\n",
       "    <tr>\n",
       "      <th>...</th>\n",
       "      <td>...</td>\n",
       "      <td>...</td>\n",
       "      <td>...</td>\n",
       "    </tr>\n",
       "    <tr>\n",
       "      <th>163</th>\n",
       "      <td>Q3UP24</td>\n",
       "      <td>NLRC4</td>\n",
       "      <td>s</td>\n",
       "    </tr>\n",
       "    <tr>\n",
       "      <th>164</th>\n",
       "      <td>Q9JK66</td>\n",
       "      <td>Park2</td>\n",
       "      <td>s</td>\n",
       "    </tr>\n",
       "    <tr>\n",
       "      <th>165</th>\n",
       "      <td>Q15691</td>\n",
       "      <td>EB1</td>\n",
       "      <td>s</td>\n",
       "    </tr>\n",
       "    <tr>\n",
       "      <th>166</th>\n",
       "      <td>P04521</td>\n",
       "      <td>gp47</td>\n",
       "      <td>s</td>\n",
       "    </tr>\n",
       "    <tr>\n",
       "      <th>167</th>\n",
       "      <td>P41743</td>\n",
       "      <td>nPKC-iota</td>\n",
       "      <td>s</td>\n",
       "    </tr>\n",
       "  </tbody>\n",
       "</table>\n",
       "<p>151 rows × 3 columns</p>\n",
       "</div>"
      ],
      "text/plain": [
       "    uniprot_acc       name module\n",
       "0        P13864      DNMT1      d\n",
       "1        P20226        TBP      d\n",
       "2        Q62073       TAK1      d\n",
       "3        P06782       SNF1      d\n",
       "4        P10644       TSE1      d\n",
       "..          ...        ...    ...\n",
       "163      Q3UP24      NLRC4      s\n",
       "164      Q9JK66      Park2      s\n",
       "165      Q15691        EB1      s\n",
       "166      P04521       gp47      s\n",
       "167      P41743  nPKC-iota      s\n",
       "\n",
       "[151 rows x 3 columns]"
      ]
     },
     "execution_count": 62,
     "metadata": {},
     "output_type": "execute_result"
    }
   ],
   "source": [
    "data"
   ]
  },
  {
   "cell_type": "code",
   "execution_count": 63,
   "metadata": {},
   "outputs": [],
   "source": [
    "uniprot_pdb = uniprot_pdb.merge(data, how= 'left')\n",
    "uniprot_pdb.sort_values('uniprot_acc', inplace= True)"
   ]
  },
  {
   "cell_type": "markdown",
   "metadata": {},
   "source": [
    "### How many proteins have a PDB acc?"
   ]
  },
  {
   "cell_type": "code",
   "execution_count": 64,
   "metadata": {},
   "outputs": [
    {
     "data": {
      "text/plain": [
       "123"
      ]
     },
     "execution_count": 64,
     "metadata": {},
     "output_type": "execute_result"
    }
   ],
   "source": [
    "uniprot_pdb.uniprot_acc.nunique()"
   ]
  },
  {
   "cell_type": "code",
   "execution_count": 28,
   "metadata": {},
   "outputs": [],
   "source": [
    "# overlap_df[overlap_df.overlap_count > 0].Chromosome.nunique()\n",
    "# 91, esta ok. No tienen que ser iguales, alguna proteina podria tener pdbs que no solapan con el cre."
   ]
  },
  {
   "cell_type": "code",
   "execution_count": 65,
   "metadata": {},
   "outputs": [],
   "source": [
    "# How many of the 81 positive proteins have structures?\n",
    "positive_prot = cre_dataset[cre_dataset.module == 'd'].uniprot_acc\n",
    "positive_prot = uniprot_pdb[uniprot_pdb.uniprot_acc.isin(positive_prot)]"
   ]
  },
  {
   "cell_type": "code",
   "execution_count": 66,
   "metadata": {},
   "outputs": [
    {
     "data": {
      "text/plain": [
       "61"
      ]
     },
     "execution_count": 66,
     "metadata": {},
     "output_type": "execute_result"
    }
   ],
   "source": [
    "positive_prot.uniprot_acc.nunique()"
   ]
  },
  {
   "cell_type": "code",
   "execution_count": 31,
   "metadata": {},
   "outputs": [
    {
     "data": {
      "image/png": "[encoded data removed]",
      "text/plain": [
       "<Figure size 576x864 with 1 Axes>"
      ]
     },
     "metadata": {
      "needs_background": "light"
     },
     "output_type": "display_data"
    }
   ],
   "source": [
    "plt.figure(figsize= (8,12))\n",
    "positive_prot.groupby('name').size().sort_values(ascending= False).plot(kind='barh')\n",
    "plt.title(\"No. of PDBs in positive CRE proteins\")\n",
    "plt.show()"
   ]
  },
  {
   "cell_type": "code",
   "execution_count": 67,
   "metadata": {},
   "outputs": [
    {
     "data": {
      "text/html": [
       "<div>\n",
       "<style scoped>\n",
       "    .dataframe tbody tr th:only-of-type {\n",
       "        vertical-align: middle;\n",
       "    }\n",
       "\n",
       "    .dataframe tbody tr th {\n",
       "        vertical-align: top;\n",
       "    }\n",
       "\n",
       "    .dataframe thead th {\n",
       "        text-align: right;\n",
       "    }\n",
       "</style>\n",
       "<table border=\"1\" class=\"dataframe\">\n",
       "  <thead>\n",
       "    <tr style=\"text-align: right;\">\n",
       "      <th></th>\n",
       "      <th>uniprot_acc</th>\n",
       "      <th>pdb</th>\n",
       "      <th>name</th>\n",
       "      <th>module</th>\n",
       "    </tr>\n",
       "  </thead>\n",
       "  <tbody>\n",
       "    <tr>\n",
       "      <th>0</th>\n",
       "      <td>O08722</td>\n",
       "      <td>3g5b</td>\n",
       "      <td>UNC5b</td>\n",
       "      <td>s</td>\n",
       "    </tr>\n",
       "    <tr>\n",
       "      <th>1</th>\n",
       "      <td>O08808</td>\n",
       "      <td>4uwx</td>\n",
       "      <td>mDIA1</td>\n",
       "      <td>d</td>\n",
       "    </tr>\n",
       "    <tr>\n",
       "      <th>2</th>\n",
       "      <td>O08808</td>\n",
       "      <td>1z2c</td>\n",
       "      <td>mDIA1</td>\n",
       "      <td>d</td>\n",
       "    </tr>\n",
       "    <tr>\n",
       "      <th>3</th>\n",
       "      <td>O08808</td>\n",
       "      <td>3eg5</td>\n",
       "      <td>mDIA1</td>\n",
       "      <td>d</td>\n",
       "    </tr>\n",
       "    <tr>\n",
       "      <th>4</th>\n",
       "      <td>O08808</td>\n",
       "      <td>2bnx</td>\n",
       "      <td>mDIA1</td>\n",
       "      <td>d</td>\n",
       "    </tr>\n",
       "    <tr>\n",
       "      <th>...</th>\n",
       "      <td>...</td>\n",
       "      <td>...</td>\n",
       "      <td>...</td>\n",
       "      <td>...</td>\n",
       "    </tr>\n",
       "    <tr>\n",
       "      <th>2481</th>\n",
       "      <td>Q9Y613</td>\n",
       "      <td>6xf1</td>\n",
       "      <td>FHOD1</td>\n",
       "      <td>d</td>\n",
       "    </tr>\n",
       "    <tr>\n",
       "      <th>2482</th>\n",
       "      <td>Q9Y613</td>\n",
       "      <td>3dad</td>\n",
       "      <td>FHOD1</td>\n",
       "      <td>d</td>\n",
       "    </tr>\n",
       "    <tr>\n",
       "      <th>2483</th>\n",
       "      <td>Q9Y613</td>\n",
       "      <td>6xf2</td>\n",
       "      <td>FHOD1</td>\n",
       "      <td>d</td>\n",
       "    </tr>\n",
       "    <tr>\n",
       "      <th>2484</th>\n",
       "      <td>Q9Z0R4</td>\n",
       "      <td>3jv3</td>\n",
       "      <td>Intersectin-1L</td>\n",
       "      <td>s</td>\n",
       "    </tr>\n",
       "    <tr>\n",
       "      <th>2485</th>\n",
       "      <td>Q9Z0R4</td>\n",
       "      <td>3hs8</td>\n",
       "      <td>Intersectin-1L</td>\n",
       "      <td>s</td>\n",
       "    </tr>\n",
       "  </tbody>\n",
       "</table>\n",
       "<p>2486 rows × 4 columns</p>\n",
       "</div>"
      ],
      "text/plain": [
       "     uniprot_acc   pdb            name module\n",
       "0         O08722  3g5b           UNC5b      s\n",
       "1         O08808  4uwx           mDIA1      d\n",
       "2         O08808  1z2c           mDIA1      d\n",
       "3         O08808  3eg5           mDIA1      d\n",
       "4         O08808  2bnx           mDIA1      d\n",
       "...          ...   ...             ...    ...\n",
       "2481      Q9Y613  6xf1           FHOD1      d\n",
       "2482      Q9Y613  3dad           FHOD1      d\n",
       "2483      Q9Y613  6xf2           FHOD1      d\n",
       "2484      Q9Z0R4  3jv3  Intersectin-1L      s\n",
       "2485      Q9Z0R4  3hs8  Intersectin-1L      s\n",
       "\n",
       "[2486 rows x 4 columns]"
      ]
     },
     "execution_count": 67,
     "metadata": {},
     "output_type": "execute_result"
    }
   ],
   "source": [
    "uniprot_pdb"
   ]
  },
  {
   "cell_type": "code",
   "execution_count": 33,
   "metadata": {},
   "outputs": [],
   "source": [
    "#uniprot_pdb.to_csv('../datasets/uniprot_pdb.tsv', sep= '\\t', header= True, index= False)"
   ]
  },
  {
   "cell_type": "code",
   "execution_count": null,
   "metadata": {},
   "outputs": [],
   "source": []
  }
 ],
 "metadata": {
  "kernelspec": {
   "display_name": "Python 3.7.9 64-bit",
   "language": "python",
   "name": "python3"
  },
  "language_info": {
   "codemirror_mode": {
    "name": "ipython",
    "version": 3
   },
   "file_extension": ".py",
   "mimetype": "text/x-python",
   "name": "python",
   "nbconvert_exporter": "python",
   "pygments_lexer": "ipython3",
   "version": "3.7.9"
  },
  "orig_nbformat": 4,
  "vscode": {
   "interpreter": {
    "hash": "82d4c6f819cf47785f735f902f00da8643513d08dab4f4c7470bccf934b8d2d6"
   }
  }
 },
 "nbformat": 4,
 "nbformat_minor": 2
}
